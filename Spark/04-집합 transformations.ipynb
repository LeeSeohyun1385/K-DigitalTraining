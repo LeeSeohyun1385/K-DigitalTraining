{
 "cells": [
  {
   "cell_type": "code",
   "execution_count": 1,
   "id": "e8005101",
   "metadata": {},
   "outputs": [
    {
     "name": "stderr",
     "output_type": "stream",
     "text": [
      "WARNING: An illegal reflective access operation has occurred\n",
      "WARNING: Illegal reflective access by org.apache.spark.unsafe.Platform (file:/home/ubuntu/spark-3.2.4/jars/spark-unsafe_2.12-3.2.4.jar) to constructor java.nio.DirectByteBuffer(long,int)\n",
      "WARNING: Please consider reporting this to the maintainers of org.apache.spark.unsafe.Platform\n",
      "WARNING: Use --illegal-access=warn to enable warnings of further illegal reflective access operations\n",
      "WARNING: All illegal access operations will be denied in a future release\n",
      "Using Spark's default log4j profile: org/apache/spark/log4j-defaults.properties\n",
      "Setting default log level to \"WARN\".\n",
      "To adjust logging level use sc.setLogLevel(newLevel). For SparkR, use setLogLevel(newLevel).\n",
      "23/06/05 00:07:03 WARN NativeCodeLoader: Unable to load native-hadoop library for your platform... using builtin-java classes where applicable\n"
     ]
    }
   ],
   "source": [
    "# spark context 만들기\n",
    "from pyspark import SparkConf, SparkContext\n",
    "\n",
    "conf = SparkConf().setMaster(\"local\").setAppName(\"set_transformations\")\n",
    "sc = SparkContext(conf = conf)"
   ]
  },
  {
   "cell_type": "code",
   "execution_count": 2,
   "id": "a0b2aab6",
   "metadata": {},
   "outputs": [],
   "source": [
    "# RDD 생성\n",
    "num1 = sc.parallelize([1,2,3,4,5])\n",
    "num2 = sc.parallelize([4,5,6,7,8,9,10])"
   ]
  },
  {
   "cell_type": "code",
   "execution_count": 3,
   "id": "ed91e135",
   "metadata": {},
   "outputs": [
    {
     "data": {
      "text/plain": [
       "PythonRDD[9] at RDD at PythonRDD.scala:53"
      ]
     },
     "execution_count": 3,
     "metadata": {},
     "output_type": "execute_result"
    }
   ],
   "source": [
    "# 교집합 : intersection\n",
    "intersection_rdd = num1.intersection(num2)\n",
    "intersection_rdd"
   ]
  },
  {
   "cell_type": "code",
   "execution_count": 4,
   "id": "ade05586",
   "metadata": {},
   "outputs": [],
   "source": [
    "# shuppling이 생길 수 있음 -> 최소한으로 일어날 수 있게"
   ]
  },
  {
   "cell_type": "code",
   "execution_count": 5,
   "id": "85eeb8ce",
   "metadata": {},
   "outputs": [
    {
     "name": "stderr",
     "output_type": "stream",
     "text": [
      "                                                                                \r"
     ]
    },
    {
     "data": {
      "text/plain": [
       "[4, 5]"
      ]
     },
     "execution_count": 5,
     "metadata": {},
     "output_type": "execute_result"
    }
   ],
   "source": [
    "intersection_rdd.collect()"
   ]
  },
  {
   "cell_type": "code",
   "execution_count": 6,
   "id": "fe1c9d53",
   "metadata": {},
   "outputs": [
    {
     "data": {
      "text/plain": [
       "[1, 2, 3, 4, 5, 4, 5, 6, 7, 8, 9, 10]"
      ]
     },
     "execution_count": 6,
     "metadata": {},
     "output_type": "execute_result"
    }
   ],
   "source": [
    "# 합집합 : union\n",
    "union_rdd = num1.union(num2)\n",
    "union_rdd.collect()\n",
    "# rdd 기본적 원소는 set 이 아님. 중복된 원소 들어있음"
   ]
  },
  {
   "cell_type": "code",
   "execution_count": 7,
   "id": "6e9397e4",
   "metadata": {},
   "outputs": [
    {
     "data": {
      "text/plain": [
       "[2, 1, 3]"
      ]
     },
     "execution_count": 7,
     "metadata": {},
     "output_type": "execute_result"
    }
   ],
   "source": [
    "# 차집합 : subtract\n",
    "subtract_rdd = num1.subtract(num2)\n",
    "subtract_rdd.collect()"
   ]
  },
  {
   "cell_type": "markdown",
   "id": "eb0e0923",
   "metadata": {},
   "source": [
    "데이터 랜덤 추출 - sample(withReplacement, fraction, seed=None)\n",
    "\n",
    "withReplacement = True: 복원추출 False:비복원추출\n",
    "\n",
    "fraction = 0.5 이면 데이터 반반, 1이면 모두, 각각의 원소가 뽑힐 확률 (전체의 0.5개가 뽑히는게 아님)"
   ]
  },
  {
   "cell_type": "code",
   "execution_count": 8,
   "id": "1deacf4a",
   "metadata": {},
   "outputs": [],
   "source": [
    "num3 = sc.parallelize([1,2,3,4,5,6,7,8,9,10])"
   ]
  },
  {
   "cell_type": "code",
   "execution_count": 9,
   "id": "b8faa269",
   "metadata": {},
   "outputs": [
    {
     "data": {
      "text/plain": [
       "[2, 4, 6, 7, 8, 9]"
      ]
     },
     "execution_count": 9,
     "metadata": {},
     "output_type": "execute_result"
    }
   ],
   "source": [
    "num3.sample(withReplacement = False, fraction=0.5).collect()"
   ]
  },
  {
   "cell_type": "code",
   "execution_count": 10,
   "id": "7e2c7b7f",
   "metadata": {},
   "outputs": [
    {
     "data": {
      "text/plain": [
       "[1, 1, 3, 5, 6, 6, 7, 8, 9, 10]"
      ]
     },
     "execution_count": 10,
     "metadata": {},
     "output_type": "execute_result"
    }
   ],
   "source": [
    "num3.sample(withReplacement = True, fraction=0.7).collect()"
   ]
  },
  {
   "cell_type": "code",
   "execution_count": 11,
   "id": "799558af",
   "metadata": {},
   "outputs": [
    {
     "data": {
      "text/plain": [
       "[3, 5, 7, 9, 9]"
      ]
     },
     "execution_count": 11,
     "metadata": {},
     "output_type": "execute_result"
    }
   ],
   "source": [
    "# seed : 랜덤 시드\n",
    "num3.sample(withReplacement = True, fraction=0.7, seed=42).collect()"
   ]
  },
  {
   "cell_type": "code",
   "execution_count": 12,
   "id": "dc7c2e45",
   "metadata": {},
   "outputs": [],
   "source": [
    "sc.stop()"
   ]
  }
 ],
 "metadata": {
  "kernelspec": {
   "display_name": "Python 3 (ipykernel)",
   "language": "python",
   "name": "python3"
  },
  "language_info": {
   "codemirror_mode": {
    "name": "ipython",
    "version": 3
   },
   "file_extension": ".py",
   "mimetype": "text/x-python",
   "name": "python",
   "nbconvert_exporter": "python",
   "pygments_lexer": "ipython3",
   "version": "3.8.16"
  }
 },
 "nbformat": 4,
 "nbformat_minor": 5
}
