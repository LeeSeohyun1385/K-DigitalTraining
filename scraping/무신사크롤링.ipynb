{
 "cells": [
  {
   "cell_type": "code",
   "execution_count": 1,
   "id": "89c2a7a3",
   "metadata": {},
   "outputs": [],
   "source": [
    "from selenium import webdriver\n",
    "from selenium.webdriver.chrome.service import Service\n",
    "from webdriver_manager.chrome import ChromeDriverManager\n",
    "from selenium.webdriver.common.by import By\n",
    "import threading\n",
    "from bs4 import BeautifulSoup\n",
    "from fake_useragent import UserAgent \n",
    "import requests\n",
    "import pandas as pd"
   ]
  },
  {
   "cell_type": "code",
   "execution_count": 38,
   "id": "8043e96b",
   "metadata": {},
   "outputs": [
    {
     "name": "stdout",
     "output_type": "stream",
     "text": [
      "[['블랭크03', 'classic half trench coat (olive ...', '2023S/S', '298,000원', None, '6', '여', None, [['https://image.msscdn.net/images/goods_img/20230324/3176866/3176866_16796229794032_60.jpg'], ['https://image.msscdn.net/images/goods_img/20230321/3165161/3165161_16793723394694_60.jpg'], ['https://image.msscdn.net/images/prd_img/20230321/3165161/detail_3165161_16793723474866_60.jpg']]], ['올젠', '프리즘 맥코트_ZAD1CG1901', '2023S/S', '298,000원', None, '2', '남', None, [['https://image.msscdn.net/images/goods_img/20230324/3176866/3176866_16796229794032_60.jpg'], ['https://image.msscdn.net/images/goods_img/20230321/3165161/3165161_16793723394694_60.jpg'], ['https://image.msscdn.net/images/prd_img/20230321/3165161/detail_3165161_16793723474866_60.jpg']]]]\n"
     ]
    }
   ],
   "source": [
    "# 상세 페이지 \n",
    "\n",
    "MUSINSA_COAT_LIST_URL =\"https://www.musinsa.com/categories/item/002008\"\n",
    "response =requests.get(MUSINSA_COAT_LIST_URL)\n",
    "\n",
    "\n",
    "def get_chrome_driver_useragent():\n",
    "    agent = UserAgent().chrome\n",
    "    chrome_options = webdriver.ChromeOptions()\n",
    "    \n",
    "    chrome_options.add_argument('user-agent={}'.format(UserAgent().chrome)) # 크롬을 이용하지만 user을 속일수있음\n",
    "    \n",
    "    driver = webdriver.Chrome(\n",
    "        service=Service(ChromeDriverManager().install()),\n",
    "        options=chrome_options\n",
    "    )\n",
    "    \n",
    "    return driver\n",
    "\n",
    "picture_url_list=[]\n",
    "\n",
    "coat_info=[]\n",
    "for i in range(11,13):\n",
    "    \n",
    "    driver = get_chrome_driver_useragent()\n",
    "    driver.get(MUSINSA_COAT_LIST_URL)\n",
    "\n",
    "    page = driver.page_source\n",
    "    soup = BeautifulSoup(page, 'html.parser')\n",
    "\n",
    "    coat_title =soup.select_one(f'#searchList > li:nth-child({i}) > div.li_inner > div.article_info > p.item_title').text\n",
    "    coat_name = soup.select_one(f'#searchList > li:nth-child({i}) > div.li_inner > div.article_info > p.list_info > a').text.replace('\\n','').strip()\n",
    "    coat_price1 = soup.select_one(f'#searchList > li:nth-child({i}) > div.li_inner > div.article_info > p.price > del')\n",
    "    coat_price2 = soup.select_one(f'#searchList > li:nth-child({i}) > div.li_inner > div.article_info > p.price' )\n",
    "    try:\n",
    "        coat_price = coat_price2.text.replace(coat_price1.text,'').replace('\\n','').strip()\n",
    "    except:\n",
    "        coat_price = soup.select_one(f'#searchList > li:nth-child({i}) > div.li_inner > div.article_info > p.price' ).text.replace('\\n','').strip()\n",
    "    try:\n",
    "        coat_star = soup.select_one(f'#searchList > li:nth-child({i}) > div.li_inner > div.article_info > p.point > span.count').text\n",
    "    except:\n",
    "        coat_star=None\n",
    "    try:\n",
    "        coat_heart = soup.select_one(f'#searchList > li:nth-child({i}) > div.li_inner > div.article_info > p.txt_cnt_like').text.strip()\n",
    "    except:\n",
    "        coat_heart=None\n",
    "    \n",
    "    coat_detail_URL = soup.select_one(f'#searchList > li:nth-child({i}) > div.li_inner > div.list_img > a')['href']\n",
    "    \n",
    "    coat_detail_URL='https:'+ coat_detail_URL\n",
    "    driver.get(coat_detail_URL)\n",
    "    #response =requests.get(coat_detail_URL)\n",
    "\n",
    "\n",
    "    page = driver.page_source\n",
    "    soup = BeautifulSoup(page, 'html.parser')\n",
    "\n",
    "    coat_season =soup.select_one('#product_order_info > div.explan_product.product_info_section > ul > li:nth-child(2) > p.product_article_contents > strong').text.replace(' ','').strip()\n",
    "    coat_gender=soup.select_one('#product_order_info > div.explan_product.product_info_section > ul > li:nth-child(2) > p.product_article_contents > span.txt_gender > span').text\n",
    "    try:\n",
    "        coat_like =soup.select_one('#product_order_info > div.explan_product.product_info_section > ul > li:nth-child(6) > p.product_article_contents > a > span.prd-score__rating').text\n",
    "    except:\n",
    "        coat_like=None\n",
    "    j=0\n",
    "    while True:\n",
    "        picture=[]\n",
    "        try:\n",
    "            coat_picture_url=\"https:\"+soup.select('#detail_thumb > ul > li > img')[j]['src']\n",
    "            picture.append(coat_picture_url)\n",
    "            j+=1\n",
    "        except:\n",
    "            break\n",
    "        picture_url_list.append(picture)\n",
    "        \n",
    "    coat_info.append([coat_title,coat_name,coat_season,coat_price,coat_star,coat_heart,coat_gender,coat_like,picture_url_list])\n",
    "    driver.quit()\n",
    "    \n",
    "\n",
    "print(coat_info)\n"
   ]
  },
  {
   "cell_type": "code",
   "execution_count": 37,
   "id": "d6becbc4",
   "metadata": {},
   "outputs": [
    {
     "data": {
      "text/html": [
       "<div>\n",
       "<style scoped>\n",
       "    .dataframe tbody tr th:only-of-type {\n",
       "        vertical-align: middle;\n",
       "    }\n",
       "\n",
       "    .dataframe tbody tr th {\n",
       "        vertical-align: top;\n",
       "    }\n",
       "\n",
       "    .dataframe thead th {\n",
       "        text-align: right;\n",
       "    }\n",
       "</style>\n",
       "<table border=\"1\" class=\"dataframe\">\n",
       "  <thead>\n",
       "    <tr style=\"text-align: right;\">\n",
       "      <th></th>\n",
       "      <th>0</th>\n",
       "      <th>1</th>\n",
       "      <th>2</th>\n",
       "      <th>3</th>\n",
       "    </tr>\n",
       "  </thead>\n",
       "  <tbody>\n",
       "    <tr>\n",
       "      <th>11</th>\n",
       "      <td>2023S/S</td>\n",
       "      <td>여</td>\n",
       "      <td>None</td>\n",
       "      <td>[[https://image.msscdn.net/images/goods_img/20...</td>\n",
       "    </tr>\n",
       "    <tr>\n",
       "      <th>12</th>\n",
       "      <td>2023S/S</td>\n",
       "      <td>남</td>\n",
       "      <td>None</td>\n",
       "      <td>[[https://image.msscdn.net/images/goods_img/20...</td>\n",
       "    </tr>\n",
       "  </tbody>\n",
       "</table>\n",
       "</div>"
      ],
      "text/plain": [
       "          0  1     2                                                  3\n",
       "11  2023S/S  여  None  [[https://image.msscdn.net/images/goods_img/20...\n",
       "12  2023S/S  남  None  [[https://image.msscdn.net/images/goods_img/20..."
      ]
     },
     "execution_count": 37,
     "metadata": {},
     "output_type": "execute_result"
    }
   ],
   "source": [
    "df=pd.DataFrame(coat_info,index=['11','12'])\n",
    "df\n",
    "\n"
   ]
  }
 ],
 "metadata": {
  "kernelspec": {
   "display_name": "Python 3 (ipykernel)",
   "language": "python",
   "name": "python3"
  },
  "language_info": {
   "codemirror_mode": {
    "name": "ipython",
    "version": 3
   },
   "file_extension": ".py",
   "mimetype": "text/x-python",
   "name": "python",
   "nbconvert_exporter": "python",
   "pygments_lexer": "ipython3",
   "version": "3.10.9"
  }
 },
 "nbformat": 4,
 "nbformat_minor": 5
}
