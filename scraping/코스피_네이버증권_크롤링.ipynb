{
  "cells": [
    {
      "cell_type": "markdown",
      "metadata": {
        "id": "BpOUElwuogrq"
      },
      "source": [
        "class명 __알수없는 문자 \n",
        "\n",
        "프론트엔드 프레임워크 -> 비동기통신\n",
        "\n",
        "fetch : 비동기통신"
      ]
    },
    {
      "cell_type": "markdown",
      "metadata": {
        "id": "72SeFNHowmTL"
      },
      "source": [
        "parameter가 존재하면  payload 생김\n",
        "\n",
        "key:value parameter를 쿼리스트링으로 넘거야되는 부분 <-확인"
      ]
    },
    {
      "cell_type": "code",
      "execution_count": 1,
      "metadata": {
        "id": "Uh5KXyKpm6sl"
      },
      "outputs": [],
      "source": [
        "import requests\n",
        "from bs4 import BeautifulSoup"
      ]
    },
    {
      "cell_type": "code",
      "execution_count": 2,
      "metadata": {
        "id": "rsrCVGzRm_8Z"
      },
      "outputs": [],
      "source": [
        "URL = \"https://m.stock.naver.com/domestic/index/KOSPI/total\""
      ]
    },
    {
      "cell_type": "code",
      "execution_count": 3,
      "metadata": {
        "id": "1xbS2h-jm_qI"
      },
      "outputs": [],
      "source": [
        "res = requests.get(URL)"
      ]
    },
    {
      "cell_type": "code",
      "execution_count": 4,
      "metadata": {
        "id": "OstHgwENm_g6"
      },
      "outputs": [],
      "source": [
        "soup = BeautifulSoup(res.content, 'html.parser')"
      ]
    },
    {
      "cell_type": "code",
      "execution_count": null,
      "metadata": {
        "id": "D_9QY7YRm_Wi"
      },
      "outputs": [],
      "source": [
        "soup.select(\"\") #안된다."
      ]
    },
    {
      "cell_type": "markdown",
      "metadata": {
        "id": "EaZae7l0y9mk"
      },
      "source": [
        "실시간 코스피 지수 가져오기"
      ]
    },
    {
      "cell_type": "code",
      "execution_count": 6,
      "metadata": {
        "id": "nG08x5_5xWMt"
      },
      "outputs": [
        {
          "data": {
            "text/plain": [
              "200"
            ]
          },
          "execution_count": 6,
          "metadata": {},
          "output_type": "execute_result"
        }
      ],
      "source": [
        "REALTIME_KOSPI_API = \"https://polling.finance.naver.com/api/realtime/domestic/index/KOSPI\"\n",
        "response = requests.get(REALTIME_KOSPI_API)\n",
        "response.status_code"
      ]
    },
    {
      "cell_type": "code",
      "execution_count": 7,
      "metadata": {
        "id": "DjT_l-00x1s1"
      },
      "outputs": [],
      "source": [
        "#응답을 어떻게 받았을까? -  content-type 확인하기\n",
        "data = response.json()\n",
        "#페이지에서 response Headers - content-type 에서 확인 가능"
      ]
    },
    {
      "cell_type": "code",
      "execution_count": 8,
      "metadata": {
        "id": "6rbUh1wwx1lw"
      },
      "outputs": [
        {
          "data": {
            "text/plain": [
              "'2,490.41'"
            ]
          },
          "execution_count": 8,
          "metadata": {},
          "output_type": "execute_result"
        }
      ],
      "source": [
        "#현재 코스피 가격\n",
        "data['datas'][0]['closePrice']"
      ]
    },
    {
      "cell_type": "markdown",
      "metadata": {
        "id": "sExDAImVzco6"
      },
      "source": [
        "200일치 코스피 종가를 데이터 프레임으로 정리"
      ]
    },
    {
      "cell_type": "code",
      "execution_count": 9,
      "metadata": {
        "id": "51ZtV5fXzdMa"
      },
      "outputs": [],
      "source": [
        "KOSPI_API = \"https://api.stock.naver.com/chart/domestic/index/KOSPI?periodType=dayCandle\""
      ]
    },
    {
      "cell_type": "code",
      "execution_count": 10,
      "metadata": {
        "id": "Rts2iB0Vzx2D"
      },
      "outputs": [
        {
          "data": {
            "text/plain": [
              "200"
            ]
          },
          "execution_count": 10,
          "metadata": {},
          "output_type": "execute_result"
        }
      ],
      "source": [
        "response = requests.get(KOSPI_API)\n",
        "response.status_code"
      ]
    },
    {
      "cell_type": "code",
      "execution_count": 11,
      "metadata": {
        "id": "TgFTTOa2zxzc"
      },
      "outputs": [
        {
          "data": {
            "text/plain": [
              "[{'localDate': '20221101',\n",
              "  'closePrice': 2335.22,\n",
              "  'openPrice': 2301.58,\n",
              "  'highPrice': 2335.57,\n",
              "  'lowPrice': 2297.57,\n",
              "  'accumulatedTradingVolume': 597205,\n",
              "  'foreignRetentionRate': 0.0},\n",
              " {'localDate': '20221102',\n",
              "  'closePrice': 2336.87,\n",
              "  'openPrice': 2326.05,\n",
              "  'highPrice': 2346.32,\n",
              "  'lowPrice': 2323.37,\n",
              "  'accumulatedTradingVolume': 450634,\n",
              "  'foreignRetentionRate': 0.0}]"
            ]
          },
          "execution_count": 11,
          "metadata": {},
          "output_type": "execute_result"
        }
      ],
      "source": [
        "datas = response.json()\n",
        "price_info_datas = datas['priceInfos']\n",
        "price_info_datas[:2]"
      ]
    },
    {
      "cell_type": "code",
      "execution_count": 12,
      "metadata": {
        "id": "4JyvcBVizxrW"
      },
      "outputs": [
        {
          "data": {
            "text/html": [
              "<div>\n",
              "<style scoped>\n",
              "    .dataframe tbody tr th:only-of-type {\n",
              "        vertical-align: middle;\n",
              "    }\n",
              "\n",
              "    .dataframe tbody tr th {\n",
              "        vertical-align: top;\n",
              "    }\n",
              "\n",
              "    .dataframe thead th {\n",
              "        text-align: right;\n",
              "    }\n",
              "</style>\n",
              "<table border=\"1\" class=\"dataframe\">\n",
              "  <thead>\n",
              "    <tr style=\"text-align: right;\">\n",
              "      <th></th>\n",
              "      <th>localDate</th>\n",
              "      <th>closePrice</th>\n",
              "      <th>openPrice</th>\n",
              "      <th>highPrice</th>\n",
              "      <th>lowPrice</th>\n",
              "      <th>accumulatedTradingVolume</th>\n",
              "      <th>foreignRetentionRate</th>\n",
              "    </tr>\n",
              "  </thead>\n",
              "  <tbody>\n",
              "    <tr>\n",
              "      <th>105</th>\n",
              "      <td>20230403</td>\n",
              "      <td>2472.34</td>\n",
              "      <td>2485.81</td>\n",
              "      <td>2485.81</td>\n",
              "      <td>2467.59</td>\n",
              "      <td>811724</td>\n",
              "      <td>0.0</td>\n",
              "    </tr>\n",
              "    <tr>\n",
              "      <th>106</th>\n",
              "      <td>20230404</td>\n",
              "      <td>2480.51</td>\n",
              "      <td>2475.87</td>\n",
              "      <td>2489.71</td>\n",
              "      <td>2472.79</td>\n",
              "      <td>832555</td>\n",
              "      <td>0.0</td>\n",
              "    </tr>\n",
              "    <tr>\n",
              "      <th>107</th>\n",
              "      <td>20230405</td>\n",
              "      <td>2495.21</td>\n",
              "      <td>2482.61</td>\n",
              "      <td>2497.61</td>\n",
              "      <td>2478.67</td>\n",
              "      <td>632720</td>\n",
              "      <td>0.0</td>\n",
              "    </tr>\n",
              "    <tr>\n",
              "      <th>108</th>\n",
              "      <td>20230406</td>\n",
              "      <td>2459.23</td>\n",
              "      <td>2488.00</td>\n",
              "      <td>2488.00</td>\n",
              "      <td>2458.50</td>\n",
              "      <td>751378</td>\n",
              "      <td>0.0</td>\n",
              "    </tr>\n",
              "    <tr>\n",
              "      <th>109</th>\n",
              "      <td>20230407</td>\n",
              "      <td>2490.41</td>\n",
              "      <td>2478.64</td>\n",
              "      <td>2493.06</td>\n",
              "      <td>2473.89</td>\n",
              "      <td>586993</td>\n",
              "      <td>0.0</td>\n",
              "    </tr>\n",
              "  </tbody>\n",
              "</table>\n",
              "</div>"
            ],
            "text/plain": [
              "    localDate  closePrice  openPrice  highPrice  lowPrice  \\\n",
              "105  20230403     2472.34    2485.81    2485.81   2467.59   \n",
              "106  20230404     2480.51    2475.87    2489.71   2472.79   \n",
              "107  20230405     2495.21    2482.61    2497.61   2478.67   \n",
              "108  20230406     2459.23    2488.00    2488.00   2458.50   \n",
              "109  20230407     2490.41    2478.64    2493.06   2473.89   \n",
              "\n",
              "     accumulatedTradingVolume  foreignRetentionRate  \n",
              "105                    811724                   0.0  \n",
              "106                    832555                   0.0  \n",
              "107                    632720                   0.0  \n",
              "108                    751378                   0.0  \n",
              "109                    586993                   0.0  "
            ]
          },
          "execution_count": 12,
          "metadata": {},
          "output_type": "execute_result"
        }
      ],
      "source": [
        "#json array 로 만들기\n",
        "import pandas as pd\n",
        "\n",
        "kospi_df = pd.DataFrame(price_info_datas)\n",
        "kospi_df.tail()"
      ]
    },
    {
      "attachments": {},
      "cell_type": "markdown",
      "metadata": {
        "id": "NRqayFb-2cP_"
      },
      "source": [
        "# 개인 project\n",
        "시각화\n",
        "\n",
        "코스닥, 해외-시장지표-주요-달러환율(USD)\n",
        "\n",
        "2023.1.1 부터 오늘 까지 코스피, 코스닥, 달러환율을 시각화 -> 하나의 캔버스에 "
      ]
    },
    {
      "cell_type": "markdown",
      "metadata": {
        "id": "3li3cd9x6K6P"
      },
      "source": [
        "코스피"
      ]
    },
    {
      "cell_type": "code",
      "execution_count": 13,
      "metadata": {
        "id": "G2M4jh6fruKI"
      },
      "outputs": [],
      "source": [
        "import pandas as pd"
      ]
    },
    {
      "cell_type": "code",
      "execution_count": 14,
      "metadata": {
        "id": "bmORulHv6M3B"
      },
      "outputs": [],
      "source": [
        "KOSPI_API = \"https://api.stock.naver.com/chart/domestic/index/KOSPI?periodType=dayCandle\"\n",
        "response_k = requests.get(KOSPI_API)\n",
        "data_k = response_k.json()\n",
        "kospi_df = pd.DataFrame(data_k['priceInfos'])"
      ]
    },
    {
      "cell_type": "code",
      "execution_count": 15,
      "metadata": {
        "id": "Xiwa7nxL6NYj"
      },
      "outputs": [
        {
          "name": "stdout",
          "output_type": "stream",
          "text": [
            "<class 'pandas.core.frame.DataFrame'>\n",
            "RangeIndex: 110 entries, 0 to 109\n",
            "Data columns (total 7 columns):\n",
            " #   Column                    Non-Null Count  Dtype  \n",
            "---  ------                    --------------  -----  \n",
            " 0   localDate                 110 non-null    object \n",
            " 1   closePrice                110 non-null    float64\n",
            " 2   openPrice                 110 non-null    float64\n",
            " 3   highPrice                 110 non-null    float64\n",
            " 4   lowPrice                  110 non-null    float64\n",
            " 5   accumulatedTradingVolume  110 non-null    int64  \n",
            " 6   foreignRetentionRate      110 non-null    float64\n",
            "dtypes: float64(5), int64(1), object(1)\n",
            "memory usage: 6.1+ KB\n"
          ]
        }
      ],
      "source": [
        "kospi_df.info()"
      ]
    },
    {
      "cell_type": "code",
      "execution_count": 16,
      "metadata": {
        "id": "ip5vbOet6NR0"
      },
      "outputs": [],
      "source": [
        "kospi_df['localDate']= pd.to_datetime(kospi_df['localDate'])"
      ]
    },
    {
      "cell_type": "code",
      "execution_count": 17,
      "metadata": {
        "id": "H1KJNcMk6NKu"
      },
      "outputs": [],
      "source": [
        "kospi_df = kospi_df[kospi_df['localDate'].between('2023-01-01', '2023-03-29')]\n",
        "kospi_price = kospi_df[['localDate','closePrice']]"
      ]
    },
    {
      "cell_type": "code",
      "execution_count": 18,
      "metadata": {
        "id": "WbR6UDXa6_ly"
      },
      "outputs": [
        {
          "data": {
            "text/html": [
              "<div>\n",
              "<style scoped>\n",
              "    .dataframe tbody tr th:only-of-type {\n",
              "        vertical-align: middle;\n",
              "    }\n",
              "\n",
              "    .dataframe tbody tr th {\n",
              "        vertical-align: top;\n",
              "    }\n",
              "\n",
              "    .dataframe thead th {\n",
              "        text-align: right;\n",
              "    }\n",
              "</style>\n",
              "<table border=\"1\" class=\"dataframe\">\n",
              "  <thead>\n",
              "    <tr style=\"text-align: right;\">\n",
              "      <th></th>\n",
              "      <th>localDate</th>\n",
              "      <th>closePrice</th>\n",
              "    </tr>\n",
              "  </thead>\n",
              "  <tbody>\n",
              "    <tr>\n",
              "      <th>43</th>\n",
              "      <td>2023-01-02</td>\n",
              "      <td>2225.67</td>\n",
              "    </tr>\n",
              "    <tr>\n",
              "      <th>44</th>\n",
              "      <td>2023-01-03</td>\n",
              "      <td>2218.68</td>\n",
              "    </tr>\n",
              "    <tr>\n",
              "      <th>45</th>\n",
              "      <td>2023-01-04</td>\n",
              "      <td>2255.98</td>\n",
              "    </tr>\n",
              "    <tr>\n",
              "      <th>46</th>\n",
              "      <td>2023-01-05</td>\n",
              "      <td>2264.65</td>\n",
              "    </tr>\n",
              "    <tr>\n",
              "      <th>47</th>\n",
              "      <td>2023-01-06</td>\n",
              "      <td>2289.97</td>\n",
              "    </tr>\n",
              "    <tr>\n",
              "      <th>48</th>\n",
              "      <td>2023-01-09</td>\n",
              "      <td>2350.19</td>\n",
              "    </tr>\n",
              "    <tr>\n",
              "      <th>49</th>\n",
              "      <td>2023-01-10</td>\n",
              "      <td>2351.31</td>\n",
              "    </tr>\n",
              "    <tr>\n",
              "      <th>50</th>\n",
              "      <td>2023-01-11</td>\n",
              "      <td>2359.53</td>\n",
              "    </tr>\n",
              "    <tr>\n",
              "      <th>51</th>\n",
              "      <td>2023-01-12</td>\n",
              "      <td>2365.10</td>\n",
              "    </tr>\n",
              "    <tr>\n",
              "      <th>52</th>\n",
              "      <td>2023-01-13</td>\n",
              "      <td>2386.09</td>\n",
              "    </tr>\n",
              "    <tr>\n",
              "      <th>53</th>\n",
              "      <td>2023-01-16</td>\n",
              "      <td>2399.86</td>\n",
              "    </tr>\n",
              "    <tr>\n",
              "      <th>54</th>\n",
              "      <td>2023-01-17</td>\n",
              "      <td>2379.39</td>\n",
              "    </tr>\n",
              "    <tr>\n",
              "      <th>55</th>\n",
              "      <td>2023-01-18</td>\n",
              "      <td>2368.32</td>\n",
              "    </tr>\n",
              "    <tr>\n",
              "      <th>56</th>\n",
              "      <td>2023-01-19</td>\n",
              "      <td>2380.34</td>\n",
              "    </tr>\n",
              "    <tr>\n",
              "      <th>57</th>\n",
              "      <td>2023-01-20</td>\n",
              "      <td>2395.26</td>\n",
              "    </tr>\n",
              "    <tr>\n",
              "      <th>58</th>\n",
              "      <td>2023-01-25</td>\n",
              "      <td>2428.57</td>\n",
              "    </tr>\n",
              "    <tr>\n",
              "      <th>59</th>\n",
              "      <td>2023-01-26</td>\n",
              "      <td>2468.65</td>\n",
              "    </tr>\n",
              "    <tr>\n",
              "      <th>60</th>\n",
              "      <td>2023-01-27</td>\n",
              "      <td>2484.02</td>\n",
              "    </tr>\n",
              "    <tr>\n",
              "      <th>61</th>\n",
              "      <td>2023-01-30</td>\n",
              "      <td>2450.47</td>\n",
              "    </tr>\n",
              "    <tr>\n",
              "      <th>62</th>\n",
              "      <td>2023-01-31</td>\n",
              "      <td>2425.08</td>\n",
              "    </tr>\n",
              "    <tr>\n",
              "      <th>63</th>\n",
              "      <td>2023-02-01</td>\n",
              "      <td>2449.80</td>\n",
              "    </tr>\n",
              "    <tr>\n",
              "      <th>64</th>\n",
              "      <td>2023-02-02</td>\n",
              "      <td>2468.88</td>\n",
              "    </tr>\n",
              "    <tr>\n",
              "      <th>65</th>\n",
              "      <td>2023-02-03</td>\n",
              "      <td>2480.40</td>\n",
              "    </tr>\n",
              "    <tr>\n",
              "      <th>66</th>\n",
              "      <td>2023-02-06</td>\n",
              "      <td>2438.19</td>\n",
              "    </tr>\n",
              "    <tr>\n",
              "      <th>67</th>\n",
              "      <td>2023-02-07</td>\n",
              "      <td>2451.71</td>\n",
              "    </tr>\n",
              "    <tr>\n",
              "      <th>68</th>\n",
              "      <td>2023-02-08</td>\n",
              "      <td>2483.64</td>\n",
              "    </tr>\n",
              "    <tr>\n",
              "      <th>69</th>\n",
              "      <td>2023-02-09</td>\n",
              "      <td>2481.52</td>\n",
              "    </tr>\n",
              "    <tr>\n",
              "      <th>70</th>\n",
              "      <td>2023-02-10</td>\n",
              "      <td>2469.73</td>\n",
              "    </tr>\n",
              "    <tr>\n",
              "      <th>71</th>\n",
              "      <td>2023-02-13</td>\n",
              "      <td>2452.70</td>\n",
              "    </tr>\n",
              "    <tr>\n",
              "      <th>72</th>\n",
              "      <td>2023-02-14</td>\n",
              "      <td>2465.64</td>\n",
              "    </tr>\n",
              "    <tr>\n",
              "      <th>73</th>\n",
              "      <td>2023-02-15</td>\n",
              "      <td>2427.90</td>\n",
              "    </tr>\n",
              "    <tr>\n",
              "      <th>74</th>\n",
              "      <td>2023-02-16</td>\n",
              "      <td>2475.48</td>\n",
              "    </tr>\n",
              "    <tr>\n",
              "      <th>75</th>\n",
              "      <td>2023-02-17</td>\n",
              "      <td>2451.21</td>\n",
              "    </tr>\n",
              "    <tr>\n",
              "      <th>76</th>\n",
              "      <td>2023-02-20</td>\n",
              "      <td>2455.12</td>\n",
              "    </tr>\n",
              "    <tr>\n",
              "      <th>77</th>\n",
              "      <td>2023-02-21</td>\n",
              "      <td>2458.96</td>\n",
              "    </tr>\n",
              "    <tr>\n",
              "      <th>78</th>\n",
              "      <td>2023-02-22</td>\n",
              "      <td>2417.68</td>\n",
              "    </tr>\n",
              "    <tr>\n",
              "      <th>79</th>\n",
              "      <td>2023-02-23</td>\n",
              "      <td>2439.09</td>\n",
              "    </tr>\n",
              "    <tr>\n",
              "      <th>80</th>\n",
              "      <td>2023-02-24</td>\n",
              "      <td>2423.61</td>\n",
              "    </tr>\n",
              "    <tr>\n",
              "      <th>81</th>\n",
              "      <td>2023-02-27</td>\n",
              "      <td>2402.64</td>\n",
              "    </tr>\n",
              "    <tr>\n",
              "      <th>82</th>\n",
              "      <td>2023-02-28</td>\n",
              "      <td>2412.85</td>\n",
              "    </tr>\n",
              "    <tr>\n",
              "      <th>83</th>\n",
              "      <td>2023-03-02</td>\n",
              "      <td>2427.85</td>\n",
              "    </tr>\n",
              "    <tr>\n",
              "      <th>84</th>\n",
              "      <td>2023-03-03</td>\n",
              "      <td>2432.07</td>\n",
              "    </tr>\n",
              "    <tr>\n",
              "      <th>85</th>\n",
              "      <td>2023-03-06</td>\n",
              "      <td>2462.62</td>\n",
              "    </tr>\n",
              "    <tr>\n",
              "      <th>86</th>\n",
              "      <td>2023-03-07</td>\n",
              "      <td>2463.35</td>\n",
              "    </tr>\n",
              "    <tr>\n",
              "      <th>87</th>\n",
              "      <td>2023-03-08</td>\n",
              "      <td>2431.91</td>\n",
              "    </tr>\n",
              "    <tr>\n",
              "      <th>88</th>\n",
              "      <td>2023-03-09</td>\n",
              "      <td>2419.09</td>\n",
              "    </tr>\n",
              "    <tr>\n",
              "      <th>89</th>\n",
              "      <td>2023-03-10</td>\n",
              "      <td>2394.59</td>\n",
              "    </tr>\n",
              "    <tr>\n",
              "      <th>90</th>\n",
              "      <td>2023-03-13</td>\n",
              "      <td>2410.60</td>\n",
              "    </tr>\n",
              "    <tr>\n",
              "      <th>91</th>\n",
              "      <td>2023-03-14</td>\n",
              "      <td>2348.97</td>\n",
              "    </tr>\n",
              "    <tr>\n",
              "      <th>92</th>\n",
              "      <td>2023-03-15</td>\n",
              "      <td>2379.72</td>\n",
              "    </tr>\n",
              "    <tr>\n",
              "      <th>93</th>\n",
              "      <td>2023-03-16</td>\n",
              "      <td>2377.91</td>\n",
              "    </tr>\n",
              "    <tr>\n",
              "      <th>94</th>\n",
              "      <td>2023-03-17</td>\n",
              "      <td>2395.69</td>\n",
              "    </tr>\n",
              "    <tr>\n",
              "      <th>95</th>\n",
              "      <td>2023-03-20</td>\n",
              "      <td>2379.20</td>\n",
              "    </tr>\n",
              "    <tr>\n",
              "      <th>96</th>\n",
              "      <td>2023-03-21</td>\n",
              "      <td>2388.35</td>\n",
              "    </tr>\n",
              "    <tr>\n",
              "      <th>97</th>\n",
              "      <td>2023-03-22</td>\n",
              "      <td>2416.96</td>\n",
              "    </tr>\n",
              "    <tr>\n",
              "      <th>98</th>\n",
              "      <td>2023-03-23</td>\n",
              "      <td>2424.48</td>\n",
              "    </tr>\n",
              "    <tr>\n",
              "      <th>99</th>\n",
              "      <td>2023-03-24</td>\n",
              "      <td>2414.96</td>\n",
              "    </tr>\n",
              "    <tr>\n",
              "      <th>100</th>\n",
              "      <td>2023-03-27</td>\n",
              "      <td>2409.22</td>\n",
              "    </tr>\n",
              "    <tr>\n",
              "      <th>101</th>\n",
              "      <td>2023-03-28</td>\n",
              "      <td>2434.94</td>\n",
              "    </tr>\n",
              "    <tr>\n",
              "      <th>102</th>\n",
              "      <td>2023-03-29</td>\n",
              "      <td>2443.92</td>\n",
              "    </tr>\n",
              "  </tbody>\n",
              "</table>\n",
              "</div>"
            ],
            "text/plain": [
              "     localDate  closePrice\n",
              "43  2023-01-02     2225.67\n",
              "44  2023-01-03     2218.68\n",
              "45  2023-01-04     2255.98\n",
              "46  2023-01-05     2264.65\n",
              "47  2023-01-06     2289.97\n",
              "48  2023-01-09     2350.19\n",
              "49  2023-01-10     2351.31\n",
              "50  2023-01-11     2359.53\n",
              "51  2023-01-12     2365.10\n",
              "52  2023-01-13     2386.09\n",
              "53  2023-01-16     2399.86\n",
              "54  2023-01-17     2379.39\n",
              "55  2023-01-18     2368.32\n",
              "56  2023-01-19     2380.34\n",
              "57  2023-01-20     2395.26\n",
              "58  2023-01-25     2428.57\n",
              "59  2023-01-26     2468.65\n",
              "60  2023-01-27     2484.02\n",
              "61  2023-01-30     2450.47\n",
              "62  2023-01-31     2425.08\n",
              "63  2023-02-01     2449.80\n",
              "64  2023-02-02     2468.88\n",
              "65  2023-02-03     2480.40\n",
              "66  2023-02-06     2438.19\n",
              "67  2023-02-07     2451.71\n",
              "68  2023-02-08     2483.64\n",
              "69  2023-02-09     2481.52\n",
              "70  2023-02-10     2469.73\n",
              "71  2023-02-13     2452.70\n",
              "72  2023-02-14     2465.64\n",
              "73  2023-02-15     2427.90\n",
              "74  2023-02-16     2475.48\n",
              "75  2023-02-17     2451.21\n",
              "76  2023-02-20     2455.12\n",
              "77  2023-02-21     2458.96\n",
              "78  2023-02-22     2417.68\n",
              "79  2023-02-23     2439.09\n",
              "80  2023-02-24     2423.61\n",
              "81  2023-02-27     2402.64\n",
              "82  2023-02-28     2412.85\n",
              "83  2023-03-02     2427.85\n",
              "84  2023-03-03     2432.07\n",
              "85  2023-03-06     2462.62\n",
              "86  2023-03-07     2463.35\n",
              "87  2023-03-08     2431.91\n",
              "88  2023-03-09     2419.09\n",
              "89  2023-03-10     2394.59\n",
              "90  2023-03-13     2410.60\n",
              "91  2023-03-14     2348.97\n",
              "92  2023-03-15     2379.72\n",
              "93  2023-03-16     2377.91\n",
              "94  2023-03-17     2395.69\n",
              "95  2023-03-20     2379.20\n",
              "96  2023-03-21     2388.35\n",
              "97  2023-03-22     2416.96\n",
              "98  2023-03-23     2424.48\n",
              "99  2023-03-24     2414.96\n",
              "100 2023-03-27     2409.22\n",
              "101 2023-03-28     2434.94\n",
              "102 2023-03-29     2443.92"
            ]
          },
          "execution_count": 18,
          "metadata": {},
          "output_type": "execute_result"
        }
      ],
      "source": [
        "kospi_price"
      ]
    },
    {
      "cell_type": "markdown",
      "metadata": {
        "id": "wwhvADwL3UoR"
      },
      "source": [
        " 코스닥"
      ]
    },
    {
      "cell_type": "code",
      "execution_count": 19,
      "metadata": {
        "id": "jjmUB5_c2ZPE"
      },
      "outputs": [],
      "source": [
        "KOSDAQ_API = \"https://api.stock.naver.com/chart/domestic/index/KOSDAQ?periodType=dayCandle\"\n",
        "response = requests.get(KOSDAQ_API)\n",
        "data = response.json()"
      ]
    },
    {
      "cell_type": "code",
      "execution_count": 20,
      "metadata": {
        "id": "ayiIj2i62hb3"
      },
      "outputs": [],
      "source": [
        "kosdaq_df = pd.DataFrame(data['priceInfos'])"
      ]
    },
    {
      "cell_type": "code",
      "execution_count": 21,
      "metadata": {
        "id": "ug2I6K-N2ZIz"
      },
      "outputs": [],
      "source": [
        " kosdaq_df['localDate']= pd.to_datetime(kosdaq_df['localDate'])"
      ]
    },
    {
      "cell_type": "code",
      "execution_count": 22,
      "metadata": {
        "id": "ojbkY1QC5BJb"
      },
      "outputs": [],
      "source": [
        "kosdaq_df = kosdaq_df[kosdaq_df['localDate'].between('2023-01-01', '2023-03-29')]"
      ]
    },
    {
      "cell_type": "code",
      "execution_count": 23,
      "metadata": {
        "id": "pSeA98wC51sI"
      },
      "outputs": [],
      "source": [
        "kosdaq_price = kosdaq_df[['localDate','closePrice']]"
      ]
    },
    {
      "cell_type": "markdown",
      "metadata": {
        "id": "lN92VXyE6HMz"
      },
      "source": [
        "달러환율"
      ]
    },
    {
      "cell_type": "code",
      "execution_count": 24,
      "metadata": {
        "id": "2b0pfN7U_Ofj"
      },
      "outputs": [],
      "source": [
        "\n",
        "for page in range(1,8):\n",
        "  page_url = f\"https://m.stock.naver.com/front-api/v1/marketIndex/prices?page={page}&category=exchange&reutersCode=FX_USDKRW\"\n",
        "  reaponse = requests.get(page_url)\n",
        "  data = reaponse.json()['result']\n",
        "  df = pd.DataFrame(data)"
      ]
    },
    {
      "cell_type": "code",
      "execution_count": 25,
      "metadata": {
        "id": "7j3LSAQDzbXg"
      },
      "outputs": [],
      "source": [
        "page_url = \"https://m.stock.naver.com/front-api/v1/marketIndex/prices?page=1&category=exchange&reutersCode=FX_USDKRW\"\n",
        "reaponse = requests.get(page_url)\n",
        "data = reaponse.json()['result']\n",
        "df = pd.DataFrame(data)"
      ]
    },
    {
      "cell_type": "code",
      "execution_count": 26,
      "metadata": {
        "id": "Tx7lk5e1z4JS"
      },
      "outputs": [
        {
          "name": "stdout",
          "output_type": "stream",
          "text": [
            "<class 'pandas.core.frame.DataFrame'>\n",
            "RangeIndex: 10 entries, 0 to 9\n",
            "Data columns (total 9 columns):\n",
            " #   Column             Non-Null Count  Dtype \n",
            "---  ------             --------------  ----- \n",
            " 0   localTradedAt      10 non-null     object\n",
            " 1   closePrice         10 non-null     object\n",
            " 2   fluctuations       10 non-null     object\n",
            " 3   fluctuationsRatio  10 non-null     object\n",
            " 4   fluctuationsType   10 non-null     object\n",
            " 5   cashBuyValue       10 non-null     object\n",
            " 6   cashSellValue      10 non-null     object\n",
            " 7   sendValue          10 non-null     object\n",
            " 8   receiveValue       10 non-null     object\n",
            "dtypes: object(9)\n",
            "memory usage: 848.0+ bytes\n"
          ]
        }
      ],
      "source": [
        "df.info()"
      ]
    },
    {
      "cell_type": "code",
      "execution_count": 27,
      "metadata": {
        "id": "Z8qLKMIC1GJx"
      },
      "outputs": [
        {
          "data": {
            "text/html": [
              "<div>\n",
              "<style scoped>\n",
              "    .dataframe tbody tr th:only-of-type {\n",
              "        vertical-align: middle;\n",
              "    }\n",
              "\n",
              "    .dataframe tbody tr th {\n",
              "        vertical-align: top;\n",
              "    }\n",
              "\n",
              "    .dataframe thead th {\n",
              "        text-align: right;\n",
              "    }\n",
              "</style>\n",
              "<table border=\"1\" class=\"dataframe\">\n",
              "  <thead>\n",
              "    <tr style=\"text-align: right;\">\n",
              "      <th></th>\n",
              "      <th>localTradedAt</th>\n",
              "      <th>closePrice</th>\n",
              "      <th>fluctuations</th>\n",
              "      <th>fluctuationsRatio</th>\n",
              "      <th>fluctuationsType</th>\n",
              "      <th>cashBuyValue</th>\n",
              "      <th>cashSellValue</th>\n",
              "      <th>sendValue</th>\n",
              "      <th>receiveValue</th>\n",
              "    </tr>\n",
              "  </thead>\n",
              "  <tbody>\n",
              "    <tr>\n",
              "      <th>0</th>\n",
              "      <td>2023-04-07</td>\n",
              "      <td>1,319.00</td>\n",
              "      <td>-0.50</td>\n",
              "      <td>-0.04</td>\n",
              "      <td>{'code': '5', 'text': '하락', 'name': 'FALLING'}</td>\n",
              "      <td>1,342.08</td>\n",
              "      <td>1,295.92</td>\n",
              "      <td>1,331.9</td>\n",
              "      <td>1,306.1</td>\n",
              "    </tr>\n",
              "    <tr>\n",
              "      <th>1</th>\n",
              "      <td>2023-04-06</td>\n",
              "      <td>1,319.50</td>\n",
              "      <td>4.50</td>\n",
              "      <td>0.34</td>\n",
              "      <td>{'code': '2', 'text': '상승', 'name': 'RISING'}</td>\n",
              "      <td>1,342.59</td>\n",
              "      <td>1,296.41</td>\n",
              "      <td>1,332.4</td>\n",
              "      <td>1,306.6</td>\n",
              "    </tr>\n",
              "    <tr>\n",
              "      <th>2</th>\n",
              "      <td>2023-04-05</td>\n",
              "      <td>1,315.00</td>\n",
              "      <td>2.50</td>\n",
              "      <td>0.19</td>\n",
              "      <td>{'code': '2', 'text': '상승', 'name': 'RISING'}</td>\n",
              "      <td>1,338.01</td>\n",
              "      <td>1,291.99</td>\n",
              "      <td>1,327.8</td>\n",
              "      <td>1,302.2</td>\n",
              "    </tr>\n",
              "    <tr>\n",
              "      <th>3</th>\n",
              "      <td>2023-04-04</td>\n",
              "      <td>1,312.50</td>\n",
              "      <td>-0.50</td>\n",
              "      <td>-0.04</td>\n",
              "      <td>{'code': '5', 'text': '하락', 'name': 'FALLING'}</td>\n",
              "      <td>1,335.46</td>\n",
              "      <td>1,289.54</td>\n",
              "      <td>1,325.3</td>\n",
              "      <td>1,299.7</td>\n",
              "    </tr>\n",
              "    <tr>\n",
              "      <th>4</th>\n",
              "      <td>2023-04-03</td>\n",
              "      <td>1,313.00</td>\n",
              "      <td>3.00</td>\n",
              "      <td>0.23</td>\n",
              "      <td>{'code': '2', 'text': '상승', 'name': 'RISING'}</td>\n",
              "      <td>1,335.97</td>\n",
              "      <td>1,290.03</td>\n",
              "      <td>1,325.8</td>\n",
              "      <td>1,300.2</td>\n",
              "    </tr>\n",
              "    <tr>\n",
              "      <th>5</th>\n",
              "      <td>2023-03-31</td>\n",
              "      <td>1,310.00</td>\n",
              "      <td>11.50</td>\n",
              "      <td>0.89</td>\n",
              "      <td>{'code': '2', 'text': '상승', 'name': 'RISING'}</td>\n",
              "      <td>1,332.92</td>\n",
              "      <td>1,287.08</td>\n",
              "      <td>1,322.8</td>\n",
              "      <td>1,297.2</td>\n",
              "    </tr>\n",
              "    <tr>\n",
              "      <th>6</th>\n",
              "      <td>2023-03-30</td>\n",
              "      <td>1,298.50</td>\n",
              "      <td>-4.50</td>\n",
              "      <td>-0.35</td>\n",
              "      <td>{'code': '5', 'text': '하락', 'name': 'FALLING'}</td>\n",
              "      <td>1,321.22</td>\n",
              "      <td>1,275.78</td>\n",
              "      <td>1,311.2</td>\n",
              "      <td>1,285.8</td>\n",
              "    </tr>\n",
              "    <tr>\n",
              "      <th>7</th>\n",
              "      <td>2023-03-29</td>\n",
              "      <td>1,303.00</td>\n",
              "      <td>2.50</td>\n",
              "      <td>0.19</td>\n",
              "      <td>{'code': '2', 'text': '상승', 'name': 'RISING'}</td>\n",
              "      <td>1,325.8</td>\n",
              "      <td>1,280.2</td>\n",
              "      <td>1,315.7</td>\n",
              "      <td>1,290.3</td>\n",
              "    </tr>\n",
              "    <tr>\n",
              "      <th>8</th>\n",
              "      <td>2023-03-28</td>\n",
              "      <td>1,300.50</td>\n",
              "      <td>-1.50</td>\n",
              "      <td>-0.12</td>\n",
              "      <td>{'code': '5', 'text': '하락', 'name': 'FALLING'}</td>\n",
              "      <td>1,323.25</td>\n",
              "      <td>1,277.75</td>\n",
              "      <td>1,313.2</td>\n",
              "      <td>1,287.8</td>\n",
              "    </tr>\n",
              "    <tr>\n",
              "      <th>9</th>\n",
              "      <td>2023-03-27</td>\n",
              "      <td>1,302.00</td>\n",
              "      <td>2.00</td>\n",
              "      <td>0.15</td>\n",
              "      <td>{'code': '2', 'text': '상승', 'name': 'RISING'}</td>\n",
              "      <td>1,324.78</td>\n",
              "      <td>1,279.22</td>\n",
              "      <td>1,314.7</td>\n",
              "      <td>1,289.3</td>\n",
              "    </tr>\n",
              "  </tbody>\n",
              "</table>\n",
              "</div>"
            ],
            "text/plain": [
              "  localTradedAt closePrice fluctuations fluctuationsRatio  \\\n",
              "0    2023-04-07   1,319.00        -0.50             -0.04   \n",
              "1    2023-04-06   1,319.50         4.50              0.34   \n",
              "2    2023-04-05   1,315.00         2.50              0.19   \n",
              "3    2023-04-04   1,312.50        -0.50             -0.04   \n",
              "4    2023-04-03   1,313.00         3.00              0.23   \n",
              "5    2023-03-31   1,310.00        11.50              0.89   \n",
              "6    2023-03-30   1,298.50        -4.50             -0.35   \n",
              "7    2023-03-29   1,303.00         2.50              0.19   \n",
              "8    2023-03-28   1,300.50        -1.50             -0.12   \n",
              "9    2023-03-27   1,302.00         2.00              0.15   \n",
              "\n",
              "                                 fluctuationsType cashBuyValue cashSellValue  \\\n",
              "0  {'code': '5', 'text': '하락', 'name': 'FALLING'}     1,342.08      1,295.92   \n",
              "1   {'code': '2', 'text': '상승', 'name': 'RISING'}     1,342.59      1,296.41   \n",
              "2   {'code': '2', 'text': '상승', 'name': 'RISING'}     1,338.01      1,291.99   \n",
              "3  {'code': '5', 'text': '하락', 'name': 'FALLING'}     1,335.46      1,289.54   \n",
              "4   {'code': '2', 'text': '상승', 'name': 'RISING'}     1,335.97      1,290.03   \n",
              "5   {'code': '2', 'text': '상승', 'name': 'RISING'}     1,332.92      1,287.08   \n",
              "6  {'code': '5', 'text': '하락', 'name': 'FALLING'}     1,321.22      1,275.78   \n",
              "7   {'code': '2', 'text': '상승', 'name': 'RISING'}      1,325.8       1,280.2   \n",
              "8  {'code': '5', 'text': '하락', 'name': 'FALLING'}     1,323.25      1,277.75   \n",
              "9   {'code': '2', 'text': '상승', 'name': 'RISING'}     1,324.78      1,279.22   \n",
              "\n",
              "  sendValue receiveValue  \n",
              "0   1,331.9      1,306.1  \n",
              "1   1,332.4      1,306.6  \n",
              "2   1,327.8      1,302.2  \n",
              "3   1,325.3      1,299.7  \n",
              "4   1,325.8      1,300.2  \n",
              "5   1,322.8      1,297.2  \n",
              "6   1,311.2      1,285.8  \n",
              "7   1,315.7      1,290.3  \n",
              "8   1,313.2      1,287.8  \n",
              "9   1,314.7      1,289.3  "
            ]
          },
          "execution_count": 27,
          "metadata": {},
          "output_type": "execute_result"
        }
      ],
      "source": [
        "df"
      ]
    },
    {
      "cell_type": "code",
      "execution_count": 28,
      "metadata": {
        "id": "9DmQ_61czbSK"
      },
      "outputs": [],
      "source": [
        "import datetime\n",
        "df['localTradedAt'] = pd.to_datetime(df['localTradedAt'])\n",
        "df['closePrice'] = df['closePrice'].str.replace(',' , '').astype(float)"
      ]
    },
    {
      "cell_type": "code",
      "execution_count": 29,
      "metadata": {
        "id": "6-vKtrzYzbOI"
      },
      "outputs": [],
      "source": [
        "df = df[df['localTradedAt'].between('2023-01-01', '2023-03-29')]"
      ]
    },
    {
      "cell_type": "code",
      "execution_count": 30,
      "metadata": {
        "id": "Lk5kW9Al-X1P"
      },
      "outputs": [],
      "source": [
        "bin_df = pd.DataFrame()"
      ]
    },
    {
      "cell_type": "code",
      "execution_count": 31,
      "metadata": {
        "id": "quRNRp5T-Z8X"
      },
      "outputs": [
        {
          "data": {
            "text/html": [
              "<div>\n",
              "<style scoped>\n",
              "    .dataframe tbody tr th:only-of-type {\n",
              "        vertical-align: middle;\n",
              "    }\n",
              "\n",
              "    .dataframe tbody tr th {\n",
              "        vertical-align: top;\n",
              "    }\n",
              "\n",
              "    .dataframe thead th {\n",
              "        text-align: right;\n",
              "    }\n",
              "</style>\n",
              "<table border=\"1\" class=\"dataframe\">\n",
              "  <thead>\n",
              "    <tr style=\"text-align: right;\">\n",
              "      <th></th>\n",
              "      <th>localTradedAt</th>\n",
              "      <th>closePrice</th>\n",
              "      <th>fluctuations</th>\n",
              "      <th>fluctuationsRatio</th>\n",
              "      <th>fluctuationsType</th>\n",
              "      <th>cashBuyValue</th>\n",
              "      <th>cashSellValue</th>\n",
              "      <th>sendValue</th>\n",
              "      <th>receiveValue</th>\n",
              "    </tr>\n",
              "  </thead>\n",
              "  <tbody>\n",
              "    <tr>\n",
              "      <th>7</th>\n",
              "      <td>2023-03-29</td>\n",
              "      <td>1303.0</td>\n",
              "      <td>2.50</td>\n",
              "      <td>0.19</td>\n",
              "      <td>{'code': '2', 'text': '상승', 'name': 'RISING'}</td>\n",
              "      <td>1,325.8</td>\n",
              "      <td>1,280.2</td>\n",
              "      <td>1,315.7</td>\n",
              "      <td>1,290.3</td>\n",
              "    </tr>\n",
              "    <tr>\n",
              "      <th>8</th>\n",
              "      <td>2023-03-28</td>\n",
              "      <td>1300.5</td>\n",
              "      <td>-1.50</td>\n",
              "      <td>-0.12</td>\n",
              "      <td>{'code': '5', 'text': '하락', 'name': 'FALLING'}</td>\n",
              "      <td>1,323.25</td>\n",
              "      <td>1,277.75</td>\n",
              "      <td>1,313.2</td>\n",
              "      <td>1,287.8</td>\n",
              "    </tr>\n",
              "    <tr>\n",
              "      <th>9</th>\n",
              "      <td>2023-03-27</td>\n",
              "      <td>1302.0</td>\n",
              "      <td>2.00</td>\n",
              "      <td>0.15</td>\n",
              "      <td>{'code': '2', 'text': '상승', 'name': 'RISING'}</td>\n",
              "      <td>1,324.78</td>\n",
              "      <td>1,279.22</td>\n",
              "      <td>1,314.7</td>\n",
              "      <td>1,289.3</td>\n",
              "    </tr>\n",
              "  </tbody>\n",
              "</table>\n",
              "</div>"
            ],
            "text/plain": [
              "  localTradedAt  closePrice fluctuations fluctuationsRatio  \\\n",
              "7    2023-03-29      1303.0         2.50              0.19   \n",
              "8    2023-03-28      1300.5        -1.50             -0.12   \n",
              "9    2023-03-27      1302.0         2.00              0.15   \n",
              "\n",
              "                                 fluctuationsType cashBuyValue cashSellValue  \\\n",
              "7   {'code': '2', 'text': '상승', 'name': 'RISING'}      1,325.8       1,280.2   \n",
              "8  {'code': '5', 'text': '하락', 'name': 'FALLING'}     1,323.25      1,277.75   \n",
              "9   {'code': '2', 'text': '상승', 'name': 'RISING'}     1,324.78      1,279.22   \n",
              "\n",
              "  sendValue receiveValue  \n",
              "7   1,315.7      1,290.3  \n",
              "8   1,313.2      1,287.8  \n",
              "9   1,314.7      1,289.3  "
            ]
          },
          "execution_count": 31,
          "metadata": {},
          "output_type": "execute_result"
        }
      ],
      "source": [
        "pd.concat([bin_df, df])"
      ]
    },
    {
      "cell_type": "code",
      "execution_count": 32,
      "metadata": {
        "id": "__yRZlwszbIG"
      },
      "outputs": [],
      "source": [
        "import datetime\n",
        "\n",
        "bin_df = pd.DataFrame()\n",
        "\n",
        "for page in range(1,10):\n",
        "  page_url = f\"https://m.stock.naver.com/front-api/v1/marketIndex/prices?page={page}&category=exchange&reutersCode=FX_USDKRW\"\n",
        "\n",
        "  reaponse = requests.get(page_url)\n",
        "  data = reaponse.json()['result']\n",
        "  df = pd.DataFrame(data)\n",
        "  df['localTradedAt'] = pd.to_datetime(df['localTradedAt'])\n",
        "  df['closePrice'] = df['closePrice'].str.replace(',' , '').astype(float)\n",
        "  df = df[df['localTradedAt'].between('2023-01-01', '2023-03-29')]\n",
        "  bin_df = pd.concat([bin_df, df])\n",
        "\n",
        "\n"
      ]
    },
    {
      "cell_type": "code",
      "execution_count": 33,
      "metadata": {
        "id": "Jom9DhfV66yj"
      },
      "outputs": [
        {
          "name": "stdout",
          "output_type": "stream",
          "text": [
            "<class 'pandas.core.frame.DataFrame'>\n",
            "Int64Index: 60 entries, 7 to 6\n",
            "Data columns (total 9 columns):\n",
            " #   Column             Non-Null Count  Dtype         \n",
            "---  ------             --------------  -----         \n",
            " 0   localTradedAt      60 non-null     datetime64[ns]\n",
            " 1   closePrice         60 non-null     float64       \n",
            " 2   fluctuations       60 non-null     object        \n",
            " 3   fluctuationsRatio  60 non-null     object        \n",
            " 4   fluctuationsType   60 non-null     object        \n",
            " 5   cashBuyValue       60 non-null     object        \n",
            " 6   cashSellValue      60 non-null     object        \n",
            " 7   sendValue          60 non-null     object        \n",
            " 8   receiveValue       60 non-null     object        \n",
            "dtypes: datetime64[ns](1), float64(1), object(7)\n",
            "memory usage: 4.7+ KB\n"
          ]
        }
      ],
      "source": [
        "bin_df.info()"
      ]
    },
    {
      "cell_type": "code",
      "execution_count": 34,
      "metadata": {
        "id": "xXsMUw3tIzdY"
      },
      "outputs": [
        {
          "data": {
            "image/png": "[encoded data removed]",
            "text/plain": [
              "<Figure size 3000x800 with 1 Axes>"
            ]
          },
          "metadata": {},
          "output_type": "display_data"
        }
      ],
      "source": [
        "import matplotlib.pyplot as plt\n",
        "import seaborn as sns\n",
        "\n",
        "sns.set()\n",
        "\n",
        "plt.figure(figsize=(30,8))\n",
        "\n",
        "plt.plot(bin_df['localTradedAt'],bin_df['closePrice'],'r*')\n",
        "\n",
        "plt.plot(kosdaq_price['localDate'],kosdaq_price['closePrice'],'bo:')\n",
        "\n",
        "plt.plot(kospi_price['localDate'],kospi_price['closePrice'],'g^--')\n",
        "\n",
        "plt.xticks(kosdaq_price['localDate'], rotation=45, fontsize=7)\n",
        "\n",
        "#plt.xticks(rotation=45, fontsize=7)\n",
        "\n",
        "plt.legend(['dollar','kosdaq','kospi'])\n",
        "plt.show()            "
      ]
    }
  ],
  "metadata": {
    "colab": {
      "private_outputs": true,
      "provenance": []
    },
    "kernelspec": {
      "display_name": "Python 3",
      "name": "python3"
    },
    "language_info": {
      "codemirror_mode": {
        "name": "ipython",
        "version": 3
      },
      "file_extension": ".py",
      "mimetype": "text/x-python",
      "name": "python",
      "nbconvert_exporter": "python",
      "pygments_lexer": "ipython3",
      "version": "3.10.9"
    }
  },
  "nbformat": 4,
  "nbformat_minor": 0
}
