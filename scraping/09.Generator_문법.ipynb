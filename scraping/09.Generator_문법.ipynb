{
  "cells": [
    {
      "cell_type": "code",
      "execution_count": 1,
      "metadata": {
        "id": "WaMz0-lMMDW4"
      },
      "outputs": [],
      "source": [
        "lst = [3,1,2]\n",
        "lst_it = iter(lst)"
      ]
    },
    {
      "cell_type": "code",
      "execution_count": 2,
      "metadata": {
        "id": "0MesBABaMUwj"
      },
      "outputs": [
        {
          "data": {
            "text/plain": [
              "3"
            ]
          },
          "execution_count": 2,
          "metadata": {},
          "output_type": "execute_result"
        }
      ],
      "source": [
        "#iteration 수행\n",
        "next(lst_it)"
      ]
    },
    {
      "cell_type": "markdown",
      "metadata": {
        "id": "E0-iEfMiM7vu"
      },
      "source": [
        "피보나치 수열\n",
        "- 1 1 2 3 5 8 13..."
      ]
    },
    {
      "cell_type": "code",
      "execution_count": 3,
      "metadata": {
        "id": "5ues3QROMVFJ"
      },
      "outputs": [],
      "source": [
        "class Fib:\n",
        "  def __init__(self):\n",
        "    self.prev = 0\n",
        "    self.curr = 1\n",
        "\n",
        "  # next함수를 실행시켰을 때 수행할 내용\n",
        "  #__next__를 오버라이딩 하면 이 클래스의 객체는 iterable한 자료형이 된다.\n",
        "  def __next__(self):\n",
        "    value = self.curr\n",
        "    self.curr += self.prev\n",
        "    self.prev = value\n",
        "\n",
        "    return value\n"
      ]
    },
    {
      "cell_type": "code",
      "execution_count": 4,
      "metadata": {
        "id": "122uC0PnMVI8"
      },
      "outputs": [],
      "source": [
        "fib = Fib()"
      ]
    },
    {
      "cell_type": "code",
      "execution_count": 5,
      "metadata": {
        "id": "g9PCvbFHMVS9"
      },
      "outputs": [
        {
          "data": {
            "text/plain": [
              "1"
            ]
          },
          "execution_count": 5,
          "metadata": {},
          "output_type": "execute_result"
        }
      ],
      "source": [
        "next(fib) #__next__가 호출된다"
      ]
    },
    {
      "cell_type": "markdown",
      "metadata": {
        "id": "Rs7lk5Y1PQpw"
      },
      "source": [
        "Generator\n",
        "- iterator를 간단하게 만든 것\n",
        "- yield 또는 yield from 키워드를 사용해서 Generator를 만든다."
      ]
    },
    {
      "cell_type": "code",
      "execution_count": 6,
      "metadata": {
        "id": "KvauuUoIOY9k"
      },
      "outputs": [],
      "source": [
        "def func_fib():\n",
        "  prev, curr = 0,1\n",
        "\n",
        "  while True:\n",
        "    ####### yield는 여기서 블락된 상태 ->next가 호출되면 뚫려서 값 반환\n",
        "    yield curr # yield : 함수 자체가 generator가  됨\n",
        "    prev, curr = curr, prev + curr\n",
        "\n",
        "# 무한정 값을 줄 수 있는 함수(무한정 yield)\n",
        "# curr :값 반환  \n",
        "# yield(BLock: 막혀있다) : 값 반환 후 코드 진행\n",
        "# return: 값 반환 후 함수 종료"
      ]
    },
    {
      "cell_type": "code",
      "execution_count": 7,
      "metadata": {
        "id": "o6p9iSPgOYsO"
      },
      "outputs": [],
      "source": [
        "f = func_fib()\n",
        "#generator를 만드는 행위"
      ]
    },
    {
      "cell_type": "code",
      "execution_count": 8,
      "metadata": {
        "id": "7GS73gEoOYlq"
      },
      "outputs": [
        {
          "data": {
            "text/plain": [
              "1"
            ]
          },
          "execution_count": 8,
          "metadata": {},
          "output_type": "execute_result"
        }
      ],
      "source": [
        "next(f) #next를 수행하게되면 yield가 작동되면서 current(curr)가 반영됨"
      ]
    },
    {
      "cell_type": "code",
      "execution_count": 9,
      "metadata": {
        "id": "XDXdtCTuQBAX"
      },
      "outputs": [
        {
          "data": {
            "text/plain": [
              "<generator object func_fib at 0x000001E0AE9475A0>"
            ]
          },
          "execution_count": 9,
          "metadata": {},
          "output_type": "execute_result"
        }
      ],
      "source": [
        "f\n",
        "#결과는 generator\n",
        "#next에 의해 실행"
      ]
    },
    {
      "cell_type": "code",
      "execution_count": null,
      "metadata": {
        "id": "_dXDbmncQA2g"
      },
      "outputs": [],
      "source": []
    },
    {
      "cell_type": "code",
      "execution_count": 10,
      "metadata": {
        "id": "llsyG9vyQJzB"
      },
      "outputs": [
        {
          "data": {
            "text/plain": [
              "<generator object test at 0x000001E0AE947A00>"
            ]
          },
          "execution_count": 10,
          "metadata": {},
          "output_type": "execute_result"
        }
      ],
      "source": [
        "def test():\n",
        "  yield 1\n",
        "  yield 2\n",
        "  yield 3\n",
        "\n",
        "t = test()\n",
        "t"
      ]
    },
    {
      "cell_type": "code",
      "execution_count": 11,
      "metadata": {
        "id": "TL3idaqoQJqr"
      },
      "outputs": [
        {
          "data": {
            "text/plain": [
              "1"
            ]
          },
          "execution_count": 11,
          "metadata": {},
          "output_type": "execute_result"
        }
      ],
      "source": [
        "next(t)"
      ]
    },
    {
      "cell_type": "code",
      "execution_count": 12,
      "metadata": {
        "id": "OBgxGT6EQAmy"
      },
      "outputs": [],
      "source": [
        "def test2():\n",
        "  lst = [1,2,3]\n",
        "  yield lst\n",
        "\n",
        "t2 = test2()"
      ]
    },
    {
      "cell_type": "code",
      "execution_count": 13,
      "metadata": {
        "id": "ZcmuEQmbTYXF"
      },
      "outputs": [
        {
          "data": {
            "text/plain": [
              "[1, 2, 3]"
            ]
          },
          "execution_count": 13,
          "metadata": {},
          "output_type": "execute_result"
        }
      ],
      "source": [
        "next(t2)"
      ]
    },
    {
      "cell_type": "code",
      "execution_count": 14,
      "metadata": {
        "id": "n2z8j2GPTYKj"
      },
      "outputs": [],
      "source": [
        "def test3():\n",
        "  lst = [1,2,3]\n",
        "  yield from lst #yield from 하나씩 나옴\n",
        "\n",
        "t3 = test3()"
      ]
    },
    {
      "cell_type": "code",
      "execution_count": 15,
      "metadata": {
        "id": "2SQhhIqiTXxZ"
      },
      "outputs": [
        {
          "data": {
            "text/plain": [
              "1"
            ]
          },
          "execution_count": 15,
          "metadata": {},
          "output_type": "execute_result"
        }
      ],
      "source": [
        "next(t3)"
      ]
    }
  ],
  "metadata": {
    "colab": {
      "private_outputs": true,
      "provenance": []
    },
    "kernelspec": {
      "display_name": "Python 3",
      "name": "python3"
    },
    "language_info": {
      "codemirror_mode": {
        "name": "ipython",
        "version": 3
      },
      "file_extension": ".py",
      "mimetype": "text/x-python",
      "name": "python",
      "nbconvert_exporter": "python",
      "pygments_lexer": "ipython3",
      "version": "3.10.9"
    }
  },
  "nbformat": 4,
  "nbformat_minor": 0
}
