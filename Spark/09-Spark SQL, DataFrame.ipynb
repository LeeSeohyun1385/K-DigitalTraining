{
 "cells": [
  {
   "cell_type": "code",
   "execution_count": 2,
   "id": "58651a1f",
   "metadata": {},
   "outputs": [
    {
     "name": "stderr",
     "output_type": "stream",
     "text": [
      "WARNING: An illegal reflective access operation has occurred\n",
      "WARNING: Illegal reflective access by org.apache.spark.unsafe.Platform (file:/home/ubuntu/spark-3.2.4/jars/spark-unsafe_2.12-3.2.4.jar) to constructor java.nio.DirectByteBuffer(long,int)\n",
      "WARNING: Please consider reporting this to the maintainers of org.apache.spark.unsafe.Platform\n",
      "WARNING: Use --illegal-access=warn to enable warnings of further illegal reflective access operations\n",
      "WARNING: All illegal access operations will be denied in a future release\n",
      "Using Spark's default log4j profile: org/apache/spark/log4j-defaults.properties\n",
      "Setting default log level to \"WARN\".\n",
      "To adjust logging level use sc.setLogLevel(newLevel). For SparkR, use setLogLevel(newLevel).\n",
      "23/06/07 02:08:10 WARN NativeCodeLoader: Unable to load native-hadoop library for your platform... using builtin-java classes where applicable\n"
     ]
    }
   ],
   "source": [
    "from pyspark import SparkConf, SparkContext\n",
    "\n",
    "conf = SparkConf().setMaster('local').setAppName('spark_sql_basic')\n",
    "sc = SparkContext(conf = conf)"
   ]
  },
  {
   "cell_type": "code",
   "execution_count": 3,
   "id": "558d5a28",
   "metadata": {},
   "outputs": [],
   "source": [
    "movies_rdd = sc.parallelize([\n",
    "    (1, (\"어벤져스\", \"마블\")),\n",
    "    (2, (\"슈퍼맨\", \"DC\")),\n",
    "    (3, (\"배트맨\", \"DC\")),\n",
    "    (4, (\"겨울왕국\", \"디즈니\")),\n",
    "    (5, (\"아이언맨\", \"마블\"))\n",
    "])\n",
    "\n",
    "\n",
    "attendances_rdd = sc.parallelize([\n",
    "    (1, (13934592, \"KR\")),\n",
    "    (2, (2182227,\"KR\")),\n",
    "    (3, (4226242, \"KR\")),\n",
    "    (4, (10303058, \"KR\")),\n",
    "    (5, (4300365, \"KR\"))\n",
    "])"
   ]
  },
  {
   "cell_type": "markdown",
   "id": "861c1bf6",
   "metadata": {},
   "source": [
    "마블 영화 중 관객 수가 500만 이상인 영화 가져오기\n",
    "1. Inner Join -> Filter By Movies -> Filter By Attendance\n",
    "2. Filter By Movies, Attendance -> Inner Join"
   ]
  },
  {
   "cell_type": "code",
   "execution_count": 4,
   "id": "eca8a305",
   "metadata": {},
   "outputs": [
    {
     "name": "stderr",
     "output_type": "stream",
     "text": [
      "                                                                                \r"
     ]
    },
    {
     "data": {
      "text/plain": [
       "[(2, (('슈퍼맨', 'DC'), (2182227, 'KR'))),\n",
       " (4, (('겨울왕국', '디즈니'), (10303058, 'KR'))),\n",
       " (1, (('어벤져스', '마블'), (13934592, 'KR'))),\n",
       " (3, (('배트맨', 'DC'), (4226242, 'KR'))),\n",
       " (5, (('아이언맨', '마블'), (4300365, 'KR')))]"
      ]
     },
     "execution_count": 4,
     "metadata": {},
     "output_type": "execute_result"
    }
   ],
   "source": [
    "# Case 1. Join 먼저, filter By 나중에\n",
    "movie_att = movies_rdd.join(attendances_rdd)\n",
    "movie_att.collect()"
   ]
  },
  {
   "cell_type": "code",
   "execution_count": 5,
   "id": "7047c88f",
   "metadata": {},
   "outputs": [
    {
     "data": {
      "text/plain": [
       "[(1, (('어벤져스', '마블'), (13934592, 'KR')))]"
      ]
     },
     "execution_count": 5,
     "metadata": {},
     "output_type": "execute_result"
    }
   ],
   "source": [
    "movie_att.filter(\n",
    "    lambda x : x[1][0][1] == '마블' and x[1][1][0] >= 5000000\n",
    ").collect()"
   ]
  },
  {
   "cell_type": "code",
   "execution_count": 6,
   "id": "7b4e5355",
   "metadata": {},
   "outputs": [],
   "source": [
    "# Case2 . Filter 먼저, Join 나중에"
   ]
  },
  {
   "cell_type": "code",
   "execution_count": 7,
   "id": "132794ff",
   "metadata": {},
   "outputs": [],
   "source": [
    "filtered_movies = movies_rdd.filter(\n",
    "    lambda x : x[1][1] == '마블'\n",
    ")"
   ]
  },
  {
   "cell_type": "code",
   "execution_count": 8,
   "id": "d9efa969",
   "metadata": {},
   "outputs": [],
   "source": [
    "filtered_att = attendances_rdd.filter(\n",
    "        lambda x : x[1][0] >=5000000\n",
    ")"
   ]
  },
  {
   "cell_type": "code",
   "execution_count": 9,
   "id": "f3638886",
   "metadata": {},
   "outputs": [
    {
     "data": {
      "text/plain": [
       "[(1, (('어벤져스', '마블'), (13934592, 'KR')))]"
      ]
     },
     "execution_count": 9,
     "metadata": {},
     "output_type": "execute_result"
    }
   ],
   "source": [
    "filtered_movies.join(filtered_att).collect()"
   ]
  },
  {
   "cell_type": "code",
   "execution_count": 11,
   "id": "299d50a2",
   "metadata": {
    "collapsed": true
   },
   "outputs": [
    {
     "ename": "NameError",
     "evalue": "name 'spark' is not defined",
     "output_type": "error",
     "traceback": [
      "\u001b[0;31m---------------------------------------------------------------------------\u001b[0m",
      "\u001b[0;31mNameError\u001b[0m                                 Traceback (most recent call last)",
      "Cell \u001b[0;32mIn[11], line 1\u001b[0m\n\u001b[0;32m----> 1\u001b[0m \u001b[43mspark\u001b[49m\u001b[38;5;241m.\u001b[39mstop()\n",
      "\u001b[0;31mNameError\u001b[0m: name 'spark' is not defined"
     ]
    }
   ],
   "source": [
    "sc.stop()"
   ]
  },
  {
   "cell_type": "markdown",
   "id": "345aca6c",
   "metadata": {},
   "source": [
    "# spark SQL"
   ]
  },
  {
   "cell_type": "code",
   "execution_count": 13,
   "id": "996a1dac",
   "metadata": {},
   "outputs": [
    {
     "data": {
      "text/html": [
       "\n",
       "            <div>\n",
       "                <p><b>SparkSession - in-memory</b></p>\n",
       "                \n",
       "        <div>\n",
       "            <p><b>SparkContext</b></p>\n",
       "\n",
       "            <p><a href=\"http://ip-172-31-44-191.ap-northeast-3.compute.internal:4040\">Spark UI</a></p>\n",
       "\n",
       "            <dl>\n",
       "              <dt>Version</dt>\n",
       "                <dd><code>v3.2.4</code></dd>\n",
       "              <dt>Master</dt>\n",
       "                <dd><code>local</code></dd>\n",
       "              <dt>AppName</dt>\n",
       "                <dd><code>spark-sql</code></dd>\n",
       "            </dl>\n",
       "        </div>\n",
       "        \n",
       "            </div>\n",
       "        "
      ],
      "text/plain": [
       "<pyspark.sql.session.SparkSession at 0x7f5cdd4109a0>"
      ]
     },
     "execution_count": 13,
     "metadata": {},
     "output_type": "execute_result"
    }
   ],
   "source": [
    "from pyspark.sql import SparkSession\n",
    "spark = SparkSession.builder.master('local').appName('spark-sql').dgetOrCreate()\n",
    "spark\n",
    "# getOrCreate(): 객체를 만듦(기능들을 구현하기 위한 객체) "
   ]
  },
  {
   "cell_type": "markdown",
   "id": "22799265",
   "metadata": {},
   "source": [
    "RDD를 이용해서 데이터프레임 생성하기"
   ]
  },
  {
   "cell_type": "code",
   "execution_count": 14,
   "id": "1a702015",
   "metadata": {},
   "outputs": [],
   "source": [
    "movies = [\n",
    "    (1, \"어벤져스\", \"마블\", 2012, 4, 26),\n",
    "    (2, \"슈퍼맨\", \"DC\", 2013, 6, 13),\n",
    "    (3, \"배트맨\", \"DC\", 2008, 8, 6),\n",
    "    (4, \"겨울왕국\", \"디즈니\", 2014, 1, 16),\n",
    "    (5, \"아이언맨\", \"마블\", 2008, 4, 30)\n",
    "]\n",
    "\n",
    "movie_schema = [\"id\", \"name\", \"company\", \"year\", \"month\", \"day\"]"
   ]
  },
  {
   "cell_type": "markdown",
   "id": "89f0af7f",
   "metadata": {},
   "source": [
    "## 데이터프레임 생성\n",
    "- inferSchema 옵션을 활용하면 타입을 스파크가 자동으로 결정(기본)"
   ]
  },
  {
   "cell_type": "code",
   "execution_count": 15,
   "id": "f1764be8",
   "metadata": {},
   "outputs": [],
   "source": [
    "df = spark.createDataFrame(data=movies, schema=movie_schema) \n",
    "# 스파크 데이터 프레임을 만듦"
   ]
  },
  {
   "cell_type": "code",
   "execution_count": 16,
   "id": "d32ba481",
   "metadata": {},
   "outputs": [
    {
     "data": {
      "text/plain": [
       "[('id', 'bigint'),\n",
       " ('name', 'string'),\n",
       " ('company', 'string'),\n",
       " ('year', 'bigint'),\n",
       " ('month', 'bigint'),\n",
       " ('day', 'bigint')]"
      ]
     },
     "execution_count": 16,
     "metadata": {},
     "output_type": "execute_result"
    }
   ],
   "source": [
    "# 스키마 확인\n",
    "df.dtypes"
   ]
  },
  {
   "cell_type": "code",
   "execution_count": 17,
   "id": "c1253822",
   "metadata": {},
   "outputs": [
    {
     "data": {
      "text/plain": [
       "DataFrame[id: bigint, name: string, company: string, year: bigint, month: bigint, day: bigint]"
      ]
     },
     "execution_count": 17,
     "metadata": {},
     "output_type": "execute_result"
    }
   ],
   "source": [
    "# dataframe은 곧 rdd \n",
    "df"
   ]
  },
  {
   "cell_type": "markdown",
   "id": "bf9beb77",
   "metadata": {},
   "source": [
    "전체 데이터프레임의 내용을 확인\n",
    "- show()"
   ]
  },
  {
   "cell_type": "code",
   "execution_count": 18,
   "id": "a3eb62ea",
   "metadata": {},
   "outputs": [
    {
     "name": "stderr",
     "output_type": "stream",
     "text": [
      "\r",
      "[Stage 0:>                                                          (0 + 1) / 1]\r",
      "\r",
      "                                                                                \r"
     ]
    },
    {
     "name": "stdout",
     "output_type": "stream",
     "text": [
      "+---+--------+-------+----+-----+---+\n",
      "| id|    name|company|year|month|day|\n",
      "+---+--------+-------+----+-----+---+\n",
      "|  1|어벤져스|   마블|2012|    4| 26|\n",
      "|  2|  슈퍼맨|     DC|2013|    6| 13|\n",
      "|  3|  배트맨|     DC|2008|    8|  6|\n",
      "|  4|겨울왕국| 디즈니|2014|    1| 16|\n",
      "|  5|아이언맨|   마블|2008|    4| 30|\n",
      "+---+--------+-------+----+-----+---+\n",
      "\n"
     ]
    }
   ],
   "source": [
    "df.show()"
   ]
  },
  {
   "cell_type": "markdown",
   "id": "82a4c175",
   "metadata": {},
   "source": [
    "## 데이터프레임에 SQL 사용하기\n",
    "- 데이터 프레임을 temporary view에 등록해야 Spark SQL 을 사용 가능"
   ]
  },
  {
   "cell_type": "code",
   "execution_count": 19,
   "id": "9df1d614",
   "metadata": {},
   "outputs": [],
   "source": [
    "df.createOrReplaceTempView(\"movies\") # movies라는 임시 테이블 생성\n",
    "# sql을 활용하기 위한 테이블로 만들어줌 "
   ]
  },
  {
   "cell_type": "markdown",
   "id": "f93fb32f",
   "metadata": {},
   "source": [
    "movies 테이블에서 영화 이름(name)만 가져오기"
   ]
  },
  {
   "cell_type": "code",
   "execution_count": 20,
   "id": "398065a7",
   "metadata": {},
   "outputs": [
    {
     "name": "stdout",
     "output_type": "stream",
     "text": [
      "root\n",
      " |-- id: long (nullable = true)\n",
      " |-- name: string (nullable = true)\n",
      " |-- company: string (nullable = true)\n",
      " |-- year: long (nullable = true)\n",
      " |-- month: long (nullable = true)\n",
      " |-- day: long (nullable = true)\n",
      "\n"
     ]
    }
   ],
   "source": [
    "df.printSchema()"
   ]
  },
  {
   "cell_type": "code",
   "execution_count": 21,
   "id": "ccbd7bb4",
   "metadata": {},
   "outputs": [
    {
     "name": "stdout",
     "output_type": "stream",
     "text": [
      "+--------+\n",
      "|    name|\n",
      "+--------+\n",
      "|어벤져스|\n",
      "|  슈퍼맨|\n",
      "|  배트맨|\n",
      "|겨울왕국|\n",
      "|아이언맨|\n",
      "+--------+\n",
      "\n"
     ]
    }
   ],
   "source": [
    "query = \"\"\"\n",
    "\n",
    "SELECT name\n",
    "FROM movies\n",
    "\n",
    "\"\"\"\n",
    "\n",
    "# 쿼리 실행\n",
    "spark.sql(query).show()"
   ]
  },
  {
   "cell_type": "code",
   "execution_count": 22,
   "id": "ee3a08c8",
   "metadata": {},
   "outputs": [
    {
     "name": "stdout",
     "output_type": "stream",
     "text": [
      "+---+--------+-------+----+-----+---+\n",
      "| id|    name|company|year|month|day|\n",
      "+---+--------+-------+----+-----+---+\n",
      "|  1|어벤져스|   마블|2012|    4| 26|\n",
      "|  2|  슈퍼맨|     DC|2013|    6| 13|\n",
      "|  4|겨울왕국| 디즈니|2014|    1| 16|\n",
      "+---+--------+-------+----+-----+---+\n",
      "\n"
     ]
    }
   ],
   "source": [
    "# 2010년 이후에 개봉한 영화를 조회\n",
    "query = \"\"\"\n",
    "SELECT * \n",
    "FROM movies\n",
    "WHERE year >= 2010\n",
    "\"\"\"\n",
    "\n",
    "spark.sql(query).show()"
   ]
  },
  {
   "cell_type": "code",
   "execution_count": 23,
   "id": "68723d25",
   "metadata": {},
   "outputs": [],
   "source": [
    "# spark.sql(query) : Transformation  /  show() : Action"
   ]
  },
  {
   "cell_type": "code",
   "execution_count": 24,
   "id": "d625bbdc",
   "metadata": {},
   "outputs": [
    {
     "name": "stdout",
     "output_type": "stream",
     "text": [
      "+---+--------+-------+----+-----+---+\n",
      "| id|    name|company|year|month|day|\n",
      "+---+--------+-------+----+-----+---+\n",
      "|  2|  슈퍼맨|     DC|2013|    6| 13|\n",
      "|  3|  배트맨|     DC|2008|    8|  6|\n",
      "|  5|아이언맨|   마블|2008|    4| 30|\n",
      "+---+--------+-------+----+-----+---+\n",
      "\n"
     ]
    }
   ],
   "source": [
    "# 제목이 ~맨으로 끝나는 영화 정보 조회\n",
    "\n",
    "query = \"\"\"\n",
    "SELECT *\n",
    "FROM movies\n",
    "WHERE name Like '%맨'\n",
    "\"\"\"\n",
    "\n",
    "spark.sql(query).show()"
   ]
  },
  {
   "cell_type": "code",
   "execution_count": 25,
   "id": "63030e9a",
   "metadata": {},
   "outputs": [
    {
     "name": "stdout",
     "output_type": "stream",
     "text": [
      "+---+--------+-------+----+-----+---+\n",
      "| id|    name|company|year|month|day|\n",
      "+---+--------+-------+----+-----+---+\n",
      "|  1|어벤져스|   마블|2012|    4| 26|\n",
      "|  2|  슈퍼맨|     DC|2013|    6| 13|\n",
      "|  3|  배트맨|     DC|2008|    8|  6|\n",
      "|  5|아이언맨|   마블|2008|    4| 30|\n",
      "+---+--------+-------+----+-----+---+\n",
      "\n"
     ]
    }
   ],
   "source": [
    "# 개봉월이 4~8월 사이인 영화 정보 조회\n",
    "query = \"\"\"\n",
    "select *\n",
    "from movies\n",
    "where month between 4 and 8\n",
    "\"\"\"\n",
    "\n",
    "spark.sql(query).show()"
   ]
  },
  {
   "cell_type": "code",
   "execution_count": 26,
   "id": "5d583beb",
   "metadata": {},
   "outputs": [
    {
     "name": "stdout",
     "output_type": "stream",
     "text": [
      "+---+--------+-------+----+-----+---+\n",
      "| id|    name|company|year|month|day|\n",
      "+---+--------+-------+----+-----+---+\n",
      "|  1|어벤져스|   마블|2012|    4| 26|\n",
      "|  4|겨울왕국| 디즈니|2014|    1| 16|\n",
      "+---+--------+-------+----+-----+---+\n",
      "\n"
     ]
    }
   ],
   "source": [
    "# 회사 이름이 '마'로 시작하거나 '니'로 끝나는 영화중 2010년 이후로 개봉한 영화\n",
    "query = \"\"\"\n",
    "select *\n",
    "from movies\n",
    "where (company like '마%' or company like '%니') and year >= 2010 \n",
    "\"\"\"\n",
    "\n",
    "spark.sql(query).show()"
   ]
  },
  {
   "cell_type": "code",
   "execution_count": 27,
   "id": "b810cbfd",
   "metadata": {},
   "outputs": [
    {
     "name": "stdout",
     "output_type": "stream",
     "text": [
      "+---+--------+-------+----+-----+---+\n",
      "| id|    name|company|year|month|day|\n",
      "+---+--------+-------+----+-----+---+\n",
      "|  3|  배트맨|     DC|2008|    8|  6|\n",
      "|  5|아이언맨|   마블|2008|    4| 30|\n",
      "|  1|어벤져스|   마블|2012|    4| 26|\n",
      "|  2|  슈퍼맨|     DC|2013|    6| 13|\n",
      "|  4|겨울왕국| 디즈니|2014|    1| 16|\n",
      "+---+--------+-------+----+-----+---+\n",
      "\n"
     ]
    }
   ],
   "source": [
    "# 개봉연도 오름차순 정렬\n",
    "query = \"\"\"\n",
    "select *\n",
    "from movies\n",
    "order by year\n",
    "\"\"\"\n",
    "spark.sql(query).show()"
   ]
  },
  {
   "cell_type": "code",
   "execution_count": 28,
   "id": "71aa0c17",
   "metadata": {},
   "outputs": [
    {
     "name": "stdout",
     "output_type": "stream",
     "text": [
      "+-------+-----------+\n",
      "|company|movie_count|\n",
      "+-------+-----------+\n",
      "| 디즈니|          1|\n",
      "|   마블|          2|\n",
      "|     DC|          2|\n",
      "+-------+-----------+\n",
      "\n"
     ]
    }
   ],
   "source": [
    "# 회사별 몇개의 영화가 있는지 조회\n",
    "query = \"\"\"\n",
    "select company, count(*) as movie_count\n",
    "from movies\n",
    "group by company\n",
    "\"\"\"\n",
    "\n",
    "spark.sql(query).show()"
   ]
  },
  {
   "cell_type": "markdown",
   "id": "1f96db8b",
   "metadata": {},
   "source": [
    "Join"
   ]
  },
  {
   "cell_type": "code",
   "execution_count": 29,
   "id": "f011d83c",
   "metadata": {},
   "outputs": [],
   "source": [
    "attendances = [\n",
    "    (1, 13934592., \"KR\"),\n",
    "    (2, 2182227.,\"KR\"),\n",
    "    (3, 4226242., \"KR\"),\n",
    "    (4, 10303058., \"KR\"),\n",
    "    (5, 4300365., \"KR\")\n",
    "]"
   ]
  },
  {
   "cell_type": "code",
   "execution_count": 30,
   "id": "eae24d96",
   "metadata": {},
   "outputs": [],
   "source": [
    "# 스키마 직접 지정하기\n",
    "from pyspark.sql.types import StringType, FloatType, IntegerType # Data Type\n",
    "\n",
    "# StructField : 각 컬럼을 만들기 위한 집합\n",
    "# StructType : 컬럼 집합\n",
    "from pyspark.sql.types import StructType, StructField # 구조"
   ]
  },
  {
   "cell_type": "code",
   "execution_count": 31,
   "id": "d6da6ffc",
   "metadata": {},
   "outputs": [],
   "source": [
    "att_schema = StructType([\n",
    "    StructField('id', IntegerType(), True), #Null허용여부 : True\n",
    "    StructField('att', FloatType(), True),\n",
    "    StructField('country', StringType(), True)\n",
    "])"
   ]
  },
  {
   "cell_type": "code",
   "execution_count": 32,
   "id": "cc8d263e",
   "metadata": {},
   "outputs": [
    {
     "data": {
      "text/plain": [
       "[('id', 'int'), ('att', 'float'), ('country', 'string')]"
      ]
     },
     "execution_count": 32,
     "metadata": {},
     "output_type": "execute_result"
    }
   ],
   "source": [
    "att_df = spark.createDataFrame(\n",
    "    data = attendances,\n",
    "    schema = att_schema\n",
    ")\n",
    "\n",
    "att_df.dtypes"
   ]
  },
  {
   "cell_type": "code",
   "execution_count": 33,
   "id": "396cd1e4",
   "metadata": {},
   "outputs": [],
   "source": [
    "att_df.createOrReplaceTempView('att')\n",
    "# 테이블을 만들어 스파크 세션에 등록"
   ]
  },
  {
   "cell_type": "code",
   "execution_count": 34,
   "id": "bdc21d61",
   "metadata": {},
   "outputs": [
    {
     "name": "stdout",
     "output_type": "stream",
     "text": [
      "+---+-----------+-------+\n",
      "| id|        att|country|\n",
      "+---+-----------+-------+\n",
      "|  1|1.3934592E7|     KR|\n",
      "|  2|  2182227.0|     KR|\n",
      "|  3|  4226242.0|     KR|\n",
      "|  4|1.0303058E7|     KR|\n",
      "|  5|  4300365.0|     KR|\n",
      "+---+-----------+-------+\n",
      "\n"
     ]
    }
   ],
   "source": [
    "att_df.show()"
   ]
  },
  {
   "cell_type": "code",
   "execution_count": 35,
   "id": "c7315348",
   "metadata": {
    "scrolled": true
   },
   "outputs": [
    {
     "name": "stdout",
     "output_type": "stream",
     "text": [
      "+---+--------+-------+-----------+\n",
      "| id|    name|company|        att|\n",
      "+---+--------+-------+-----------+\n",
      "|  1|어벤져스|   마블|1.3934592E7|\n",
      "|  2|  슈퍼맨|     DC|  2182227.0|\n",
      "|  3|  배트맨|     DC|  4226242.0|\n",
      "|  4|겨울왕국| 디즈니|1.0303058E7|\n",
      "|  5|아이언맨|   마블|  4300365.0|\n",
      "+---+--------+-------+-----------+\n",
      "\n"
     ]
    }
   ],
   "source": [
    "# 영화 아이디, 영화 이름, 회사, 관객수 조회\n",
    "query = '''\n",
    "select movies.id , movies.name, movies.company, att.att\n",
    "from movies \n",
    "join att on movies.id = att.id\n",
    "'''\n",
    "spark.sql(query).show()"
   ]
  },
  {
   "cell_type": "markdown",
   "id": "172fd606",
   "metadata": {},
   "source": [
    "# 데이터프레임 API"
   ]
  },
  {
   "cell_type": "code",
   "execution_count": 36,
   "id": "852bd8db",
   "metadata": {},
   "outputs": [
    {
     "data": {
      "text/plain": [
       "[Row(id=1, name='어벤져스', company='마블', year=2012, month=4, day=26),\n",
       " Row(id=2, name='슈퍼맨', company='DC', year=2013, month=6, day=13),\n",
       " Row(id=3, name='배트맨', company='DC', year=2008, month=8, day=6),\n",
       " Row(id=4, name='겨울왕국', company='디즈니', year=2014, month=1, day=16),\n",
       " Row(id=5, name='아이언맨', company='마블', year=2008, month=4, day=30)]"
      ]
     },
     "execution_count": 36,
     "metadata": {},
     "output_type": "execute_result"
    }
   ],
   "source": [
    "# collect를 사용하면 RDD처럼 등장\n",
    "df.select(\"*\").collect()"
   ]
  },
  {
   "cell_type": "code",
   "execution_count": 37,
   "id": "2b78fa13",
   "metadata": {},
   "outputs": [
    {
     "data": {
      "text/plain": [
       "[Row(name='어벤져스', company='마블'),\n",
       " Row(name='슈퍼맨', company='DC'),\n",
       " Row(name='배트맨', company='DC'),\n",
       " Row(name='겨울왕국', company='디즈니'),\n",
       " Row(name='아이언맨', company='마블')]"
      ]
     },
     "execution_count": 37,
     "metadata": {},
     "output_type": "execute_result"
    }
   ],
   "source": [
    "df.select('name', 'company').collect()"
   ]
  },
  {
   "cell_type": "code",
   "execution_count": 38,
   "id": "c07f4a25",
   "metadata": {},
   "outputs": [
    {
     "name": "stdout",
     "output_type": "stream",
     "text": [
      "+--------+----+\n",
      "|    name|year|\n",
      "+--------+----+\n",
      "|어벤져스|  12|\n",
      "|  슈퍼맨|  13|\n",
      "|  배트맨|   8|\n",
      "|겨울왕국|  14|\n",
      "|아이언맨|   8|\n",
      "+--------+----+\n",
      "\n"
     ]
    }
   ],
   "source": [
    "df.select(df.name,(df.year-2000).alias('year')).show()"
   ]
  },
  {
   "cell_type": "code",
   "execution_count": 39,
   "id": "889335a1",
   "metadata": {},
   "outputs": [
    {
     "data": {
      "text/plain": [
       "[Row(count(id)=5)]"
      ]
     },
     "execution_count": 39,
     "metadata": {},
     "output_type": "execute_result"
    }
   ],
   "source": [
    "# agg : Aggregate의 약자. 그룹핑 후 데이터를 하나로 합쳐주는 역할\n",
    "df.agg({'id':'count'}).collect()"
   ]
  },
  {
   "cell_type": "code",
   "execution_count": 40,
   "id": "618d6ee2",
   "metadata": {},
   "outputs": [
    {
     "data": {
      "text/plain": [
       "[Row(min(year)=2008)]"
      ]
     },
     "execution_count": 40,
     "metadata": {},
     "output_type": "execute_result"
    }
   ],
   "source": [
    "# query에서 사용가능한 함수들을 모아놓은 패키지가 존재\n",
    "from pyspark.sql import functions as F\n",
    "\n",
    "df.agg(F.min(df.year)).collect()"
   ]
  },
  {
   "cell_type": "code",
   "execution_count": 41,
   "id": "009efafb",
   "metadata": {},
   "outputs": [
    {
     "data": {
      "text/plain": [
       "[Row(avg(id)=3.0, avg(year)=2011.0, avg(month)=4.6, avg(day)=18.2)]"
      ]
     },
     "execution_count": 41,
     "metadata": {},
     "output_type": "execute_result"
    }
   ],
   "source": [
    "# groupBy\n",
    "df.groupBy().avg().collect() # 컬럼명이 부여되지 않으면 각 컬럼별로 집계를 수행한다. "
   ]
  },
  {
   "cell_type": "code",
   "execution_count": 42,
   "id": "7c72aa73",
   "metadata": {},
   "outputs": [
    {
     "data": {
      "text/plain": [
       "[Row(company='디즈니', month=1, count=1),\n",
       " Row(company='DC', month=8, count=1),\n",
       " Row(company='DC', month=6, count=1),\n",
       " Row(company='마블', month=4, count=2)]"
      ]
     },
     "execution_count": 42,
     "metadata": {},
     "output_type": "execute_result"
    }
   ],
   "source": [
    "# 회사 별 월 별 영화 개수 정보\n",
    "df.groupBy([df.company, df.month]).count().collect()"
   ]
  },
  {
   "cell_type": "code",
   "execution_count": 43,
   "id": "b86f97d8",
   "metadata": {},
   "outputs": [
    {
     "data": {
      "text/plain": [
       "[Row(company='디즈니', avg(month)=1.0),\n",
       " Row(company='마블', avg(month)=4.0),\n",
       " Row(company='DC', avg(month)=7.0)]"
      ]
     },
     "execution_count": 43,
     "metadata": {},
     "output_type": "execute_result"
    }
   ],
   "source": [
    "# 회사별 개봉월 평균\n",
    "df.groupBy('company').agg({\"month\":\"mean\"}).collect()"
   ]
  },
  {
   "cell_type": "code",
   "execution_count": 44,
   "id": "199e6ec5",
   "metadata": {},
   "outputs": [
    {
     "name": "stdout",
     "output_type": "stream",
     "text": [
      "+--------+-----------+\n",
      "|    name|        att|\n",
      "+--------+-----------+\n",
      "|어벤져스|1.3934592E7|\n",
      "|  슈퍼맨|  2182227.0|\n",
      "|  배트맨|  4226242.0|\n",
      "|겨울왕국|1.0303058E7|\n",
      "|아이언맨|  4300365.0|\n",
      "+--------+-----------+\n",
      "\n"
     ]
    }
   ],
   "source": [
    "# join\n",
    "df.join(att_df, 'id').select(df.name, att_df.att).show()"
   ]
  },
  {
   "cell_type": "code",
   "execution_count": 45,
   "id": "29960302",
   "metadata": {},
   "outputs": [
    {
     "data": {
      "text/plain": [
       "[Row(name='어벤져스', company='마블', year=2012),\n",
       " Row(name='아이언맨', company='마블', year=2008)]"
      ]
     },
     "execution_count": 45,
     "metadata": {},
     "output_type": "execute_result"
    }
   ],
   "source": [
    "# select, where, orederBy 사용\n",
    "df.select('name','company','year').where(\"company == '마블'\").orderBy('id').collect()"
   ]
  },
  {
   "cell_type": "code",
   "execution_count": 46,
   "id": "ecfde100",
   "metadata": {},
   "outputs": [],
   "source": [
    "spark.stop()\n",
    "sc.stop()"
   ]
  }
 ],
 "metadata": {
  "kernelspec": {
   "display_name": "Python 3 (ipykernel)",
   "language": "python",
   "name": "python3"
  },
  "language_info": {
   "codemirror_mode": {
    "name": "ipython",
    "version": 3
   },
   "file_extension": ".py",
   "mimetype": "text/x-python",
   "name": "python",
   "nbconvert_exporter": "python",
   "pygments_lexer": "ipython3",
   "version": "3.8.16"
  }
 },
 "nbformat": 4,
 "nbformat_minor": 5
}
