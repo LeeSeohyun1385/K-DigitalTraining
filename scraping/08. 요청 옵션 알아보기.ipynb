{
 "cells": [
  {
   "cell_type": "markdown",
   "id": "b51dcb39",
   "metadata": {},
   "source": [
    "# User-Agent 부여하기"
   ]
  },
  {
   "cell_type": "code",
   "execution_count": 1,
   "id": "591fdad8",
   "metadata": {},
   "outputs": [
    {
     "data": {
      "text/plain": [
       "<Response [200]>"
      ]
     },
     "execution_count": 1,
     "metadata": {},
     "output_type": "execute_result"
    }
   ],
   "source": [
    "import requests\n",
    "\n",
    "# 무신사 접속해보기\n",
    "MUSINSA_LIST_URL = \"https://www.musinsa.com/categories/item/001002\"\n",
    "response = requests.get(MUSINSA_LIST_URL)\n",
    "response"
   ]
  },
  {
   "cell_type": "code",
   "execution_count": 2,
   "id": "5babbb0b",
   "metadata": {},
   "outputs": [
    {
     "data": {
      "text/plain": [
       "<Response [403]>"
      ]
     },
     "execution_count": 2,
     "metadata": {},
     "output_type": "execute_result"
    }
   ],
   "source": [
    "MUSINSA_DETAIL_URL = \"https://www.musinsa.com/app/goods/994588\"\n",
    "response = requests.get(MUSINSA_DETAIL_URL)\n",
    "response #403 error: 권한 거부 에러"
   ]
  },
  {
   "cell_type": "markdown",
   "id": "3d5075a8",
   "metadata": {},
   "source": [
    "fake_useragent: User Agent를 랜덤으로 만들어준다."
   ]
  },
  {
   "cell_type": "code",
   "execution_count": 3,
   "id": "f2d03449",
   "metadata": {},
   "outputs": [
    {
     "data": {
      "text/plain": [
       "{'User-agent': 'Mozilla/5.0 (Windows; U; Windows NT 5.1; en-US) AppleWebKit/532.0 (KHTML, like Gecko) Chrome/4.0.204.0 Safari/532.0'}"
      ]
     },
     "execution_count": 3,
     "metadata": {},
     "output_type": "execute_result"
    }
   ],
   "source": [
    "from fake_useragent import UserAgent\n",
    "\n",
    "headers = {'User-agent': UserAgent().chrome}\n",
    "headers"
   ]
  },
  {
   "cell_type": "code",
   "execution_count": 4,
   "id": "9bbc6598",
   "metadata": {},
   "outputs": [
    {
     "data": {
      "text/plain": [
       "<Response [200]>"
      ]
     },
     "execution_count": 4,
     "metadata": {},
     "output_type": "execute_result"
    }
   ],
   "source": [
    "response = requests.get(MUSINSA_DETAIL_URL, headers = headers)\n",
    "response"
   ]
  },
  {
   "cell_type": "markdown",
   "id": "eedb5d79",
   "metadata": {},
   "source": [
    "# Selenium 옵션"
   ]
  },
  {
   "cell_type": "code",
   "execution_count": null,
   "id": "ffe32f1d",
   "metadata": {},
   "outputs": [],
   "source": [
    "#크롬브라우저 사용 할 수 있지만 다른 브라우저 처럼 서버 속임\n",
    "#fake_useragent를 셀레니움에서 하는 것"
   ]
  },
  {
   "cell_type": "code",
   "execution_count": 6,
   "id": "16de57b3",
   "metadata": {},
   "outputs": [],
   "source": [
    "from selenium import webdriver\n",
    "from selenium.webdriver.chrome.service import Service\n",
    "from webdriver_manager.chrome import ChromeDriverManager\n",
    "#이것들 해보기\n",
    "\n",
    "# usergent를 임의로 설정할 수 있는 driver 생성 함수\n",
    "def get_chrome_driver_useragent():\n",
    "    chrome_options = webdriver.ChromeOptions()\n",
    "    \n",
    "    chrome_options.add_argument(\"user-agent={}\".format(UserAgent().chrome))\n",
    "    \n",
    "    driver = webdriver.Chrome(\n",
    "        service=Service(ChromeDriverManager().install()),\n",
    "        options=chrome_options\n",
    "    )\n",
    "    \n",
    "    return driver"
   ]
  },
  {
   "cell_type": "code",
   "execution_count": 7,
   "id": "81d3c64f",
   "metadata": {},
   "outputs": [],
   "source": [
    "driver = get_chrome_driver_useragent()"
   ]
  },
  {
   "cell_type": "code",
   "execution_count": 8,
   "id": "f4c292ea",
   "metadata": {},
   "outputs": [
    {
     "data": {
      "text/plain": [
       "'Mozilla/5.0 (Windows; U; Windows NT 6.1; en-US) AppleWebKit/534.16 (KHTML, like Gecko) Chrome/10.0.638.0 Safari/534.16'"
      ]
     },
     "execution_count": 8,
     "metadata": {},
     "output_type": "execute_result"
    }
   ],
   "source": [
    "driver.execute_script(\"return navigator.userAgent\")"
   ]
  },
  {
   "cell_type": "code",
   "execution_count": 9,
   "id": "1de9e14f",
   "metadata": {},
   "outputs": [],
   "source": [
    "driver.quit()"
   ]
  },
  {
   "cell_type": "markdown",
   "id": "6f0d8ba0",
   "metadata": {},
   "source": [
    "Selenium 으로 크롤링을 할 때 중요한 옵션\n",
    "- Headless: 브라우저를 화면에 띄우지 않고 컴퓨터 내부에서만 돌아가도록 하는 옵션\n",
    "- Windows, Mac 같은 GUI(Graphic User Interface)환경 OS에서는 화면이 뜬다.\n",
    "- Linux 같은 경우는 CLI(Command User Interface)환경 OS에서는 명령창만 뜬다.\n",
    "- 크롬 같은 경우는 메모리를 굉장히 많이 잡아먹는 브라우저라서 메모리를 아끼기 위해 headless 옵션을 쓰기도한다."
   ]
  },
  {
   "cell_type": "code",
   "execution_count": 10,
   "id": "2d6f5720",
   "metadata": {},
   "outputs": [],
   "source": [
    "def get_chrome_driver_headless():\n",
    "    chrome_options = webdriver.ChromeOptions()\n",
    "    \n",
    "    chrome_options.add_argument(\"headless\")\n",
    "    \n",
    "    driver = webdriver.Chrome(\n",
    "        service=Service(ChromeDriverManager().install()),\n",
    "        options=chrome_options\n",
    "    )\n",
    "    \n",
    "    return driver"
   ]
  },
  {
   "cell_type": "code",
   "execution_count": 11,
   "id": "4f248abe",
   "metadata": {},
   "outputs": [],
   "source": [
    "driver = get_chrome_driver_headless()"
   ]
  },
  {
   "cell_type": "code",
   "execution_count": 12,
   "id": "c3d53f2a",
   "metadata": {},
   "outputs": [],
   "source": [
    "driver.get(\"https://naver.com\")"
   ]
  },
  {
   "cell_type": "code",
   "execution_count": 13,
   "id": "2ef288e4",
   "metadata": {},
   "outputs": [
    {
     "data": {
      "text/plain": [
       "'NAVER'"
      ]
     },
     "execution_count": 13,
     "metadata": {},
     "output_type": "execute_result"
    }
   ],
   "source": [
    "driver.title"
   ]
  },
  {
   "cell_type": "code",
   "execution_count": 14,
   "id": "be5698d7",
   "metadata": {},
   "outputs": [],
   "source": [
    "driver.quit()"
   ]
  },
  {
   "cell_type": "markdown",
   "id": "015c5f75",
   "metadata": {},
   "source": [
    "셀레니움을 이용한 크롤링은 GUI환경에서 모든 테스트를 마치고 headless 설정을 하여 CLI 환경으로 돌린다."
   ]
  }
 ],
 "metadata": {
  "kernelspec": {
   "display_name": "Python 3 (ipykernel)",
   "language": "python",
   "name": "python3"
  },
  "language_info": {
   "codemirror_mode": {
    "name": "ipython",
    "version": 3
   },
   "file_extension": ".py",
   "mimetype": "text/x-python",
   "name": "python",
   "nbconvert_exporter": "python",
   "pygments_lexer": "ipython3",
   "version": "3.10.9"
  }
 },
 "nbformat": 4,
 "nbformat_minor": 5
}
