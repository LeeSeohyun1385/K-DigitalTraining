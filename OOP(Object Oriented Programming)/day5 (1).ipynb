{
  "nbformat": 4,
  "nbformat_minor": 0,
  "metadata": {
    "colab": {
      "provenance": []
    },
    "kernelspec": {
      "name": "python3",
      "display_name": "Python 3"
    },
    "language_info": {
      "name": "python"
    }
  },
  "cells": [
    {
      "cell_type": "markdown",
      "source": [
        "초깃값 설정<br>\n",
        "1. 최대값, 최소값 기준값 미리설정<br>\n",
        "      -최대값 입력받는 데이터의 범위 중 가장 낮은 값보다 낮은 값<br>\n",
        "      -최소값 입력받는 데이터의 범위 중 가장 높은 값보다 높은 값 <br>\n",
        "2. 첫 입력이 기준"
      ],
      "metadata": {
        "id": "OiODWsJILME6"
      }
    },
    {
      "cell_type": "code",
      "execution_count": null,
      "metadata": {
        "id": "UDWDTbQ5LFJ9"
      },
      "outputs": [],
      "source": [
        "#데이터를 입력 받으면서 확인 \n",
        "#0~100\n",
        "min=101\n",
        "max=-1\n",
        "\n",
        "#첫입력\n",
        "min=5\n",
        "max=5\n",
        "# 데이터를 수집후 확인 \n",
        "l=[1,2,3,4,5]\n"
      ]
    },
    {
      "cell_type": "markdown",
      "source": [
        "list(), [] 차이 "
      ],
      "metadata": {
        "id": "XStB-Q9oLRKx"
      }
    },
    {
      "cell_type": "code",
      "source": [
        "list([1,2,3,4,5])#extend\n",
        "[1]#append"
      ],
      "metadata": {
        "colab": {
          "base_uri": "https://localhost:8080/"
        },
        "id": "CDz4aSZmLKrq",
        "outputId": "687d9467-c055-41d7-aac3-449b9f30c02f"
      },
      "execution_count": 11,
      "outputs": [
        {
          "output_type": "execute_result",
          "data": {
            "text/plain": [
              "[1]"
            ]
          },
          "metadata": {},
          "execution_count": 11
        }
      ]
    },
    {
      "cell_type": "markdown",
      "source": [
        "set"
      ],
      "metadata": {
        "id": "G8-GgqVwSqSI"
      }
    },
    {
      "cell_type": "code",
      "source": [
        "l=[]\n",
        "l.extend({1,2,3,4})\n",
        "l"
      ],
      "metadata": {
        "colab": {
          "base_uri": "https://localhost:8080/"
        },
        "id": "Bz48CjtiSsP_",
        "outputId": "f2868418-73d0-4204-dc14-5bbd69366e82"
      },
      "execution_count": 18,
      "outputs": [
        {
          "output_type": "execute_result",
          "data": {
            "text/plain": [
              "[1, 2, 3, 4]"
            ]
          },
          "metadata": {},
          "execution_count": 18
        }
      ]
    },
    {
      "cell_type": "markdown",
      "source": [
        "딕셔너리"
      ],
      "metadata": {
        "id": "NIbWnNk2WCvn"
      }
    },
    {
      "cell_type": "code",
      "source": [
        "{'key1':1,'key2':1}"
      ],
      "metadata": {
        "colab": {
          "base_uri": "https://localhost:8080/"
        },
        "id": "4X1tvz0wWD-S",
        "outputId": "58d21317-4877-4d3f-ebb5-e56ae27e0f94"
      },
      "execution_count": 19,
      "outputs": [
        {
          "output_type": "execute_result",
          "data": {
            "text/plain": [
              "{'key1': 1, 'key2': 1}"
            ]
          },
          "metadata": {},
          "execution_count": 19
        }
      ]
    },
    {
      "cell_type": "code",
      "source": [
        "dict(key1=10,key2=10)"
      ],
      "metadata": {
        "colab": {
          "base_uri": "https://localhost:8080/"
        },
        "id": "MUlFhZHPWLs3",
        "outputId": "acce7359-415f-4f14-a371-97c5bae18e7b"
      },
      "execution_count": 20,
      "outputs": [
        {
          "output_type": "execute_result",
          "data": {
            "text/plain": [
              "{'key1': 10, 'key2': 10}"
            ]
          },
          "metadata": {},
          "execution_count": 20
        }
      ]
    },
    {
      "cell_type": "code",
      "source": [
        "dict([['key1',10],['key2',10]])"
      ],
      "metadata": {
        "colab": {
          "base_uri": "https://localhost:8080/"
        },
        "id": "QFX8aILCWdgo",
        "outputId": "086accdf-5487-47d8-bcc6-66dbb920d966"
      },
      "execution_count": 22,
      "outputs": [
        {
          "output_type": "execute_result",
          "data": {
            "text/plain": [
              "{'key1': 10, 'key2': 10}"
            ]
          },
          "metadata": {},
          "execution_count": 22
        }
      ]
    },
    {
      "cell_type": "code",
      "source": [
        "dict([('key1',10),('key2',10)])"
      ],
      "metadata": {
        "colab": {
          "base_uri": "https://localhost:8080/"
        },
        "id": "u-VMKYuzW8Uo",
        "outputId": "97b59629-18b1-451a-f6b6-34f7ad3566bc"
      },
      "execution_count": 23,
      "outputs": [
        {
          "output_type": "execute_result",
          "data": {
            "text/plain": [
              "{'key1': 10, 'key2': 10}"
            ]
          },
          "metadata": {},
          "execution_count": 23
        }
      ]
    },
    {
      "cell_type": "code",
      "source": [
        "dict([{'key1',10},{'key2',10}])"
      ],
      "metadata": {
        "colab": {
          "base_uri": "https://localhost:8080/"
        },
        "id": "Okx-9ofhXBO_",
        "outputId": "930b3e25-492c-4206-ecb9-cf6f664de505"
      },
      "execution_count": 25,
      "outputs": [
        {
          "output_type": "execute_result",
          "data": {
            "text/plain": [
              "{10: 'key1', 'key2': 10}"
            ]
          },
          "metadata": {},
          "execution_count": 25
        }
      ]
    },
    {
      "cell_type": "markdown",
      "source": [
        "메소드"
      ],
      "metadata": {
        "id": "38ZxGuuBdu9O"
      }
    },
    {
      "cell_type": "code",
      "source": [
        "d1=dict.fromkeys([1,2,3,4,5,6],[10,1,2,3,4,5])"
      ],
      "metadata": {
        "id": "cSLG9dxreB1V"
      },
      "execution_count": 30,
      "outputs": []
    },
    {
      "cell_type": "code",
      "source": [
        "d={}\n",
        "d2={'k1':10,'k2':11}\n",
        "d.update(d1)\n",
        "d.update(d2)\n",
        "d"
      ],
      "metadata": {
        "colab": {
          "base_uri": "https://localhost:8080/"
        },
        "id": "HKYXkdYddwL1",
        "outputId": "5a488db9-9bc3-41f2-8e1a-e91a035bf44d"
      },
      "execution_count": 35,
      "outputs": [
        {
          "output_type": "execute_result",
          "data": {
            "text/plain": [
              "{1: [10, 1, 2, 3, 4, 5],\n",
              " 2: [10, 1, 2, 3, 4, 5],\n",
              " 3: [10, 1, 2, 3, 4, 5],\n",
              " 4: [10, 1, 2, 3, 4, 5],\n",
              " 5: [10, 1, 2, 3, 4, 5],\n",
              " 6: [10, 1, 2, 3, 4, 5],\n",
              " 'k1': 10,\n",
              " 'k2': 11}"
            ]
          },
          "metadata": {},
          "execution_count": 35
        }
      ]
    },
    {
      "cell_type": "code",
      "source": [
        "d.get('k1')"
      ],
      "metadata": {
        "colab": {
          "base_uri": "https://localhost:8080/"
        },
        "id": "IwsaSOXQe9BW",
        "outputId": "9909de08-00b9-4873-ec6c-fe11d4cf4882"
      },
      "execution_count": 38,
      "outputs": [
        {
          "output_type": "execute_result",
          "data": {
            "text/plain": [
              "10"
            ]
          },
          "metadata": {},
          "execution_count": 38
        }
      ]
    },
    {
      "cell_type": "code",
      "source": [
        "d.keys()"
      ],
      "metadata": {
        "colab": {
          "base_uri": "https://localhost:8080/"
        },
        "id": "CncQCJ-5fKC9",
        "outputId": "ce57e293-683e-4454-bd40-dd4ff318cc8a"
      },
      "execution_count": 39,
      "outputs": [
        {
          "output_type": "execute_result",
          "data": {
            "text/plain": [
              "dict_keys([1, 2, 3, 4, 5, 6, 'k1', 'k2'])"
            ]
          },
          "metadata": {},
          "execution_count": 39
        }
      ]
    },
    {
      "cell_type": "code",
      "source": [
        "d.values()"
      ],
      "metadata": {
        "colab": {
          "base_uri": "https://localhost:8080/"
        },
        "id": "DtqNjxGBfOIN",
        "outputId": "05be578b-8069-4c6e-c8e7-3264c45d7fde"
      },
      "execution_count": 40,
      "outputs": [
        {
          "output_type": "execute_result",
          "data": {
            "text/plain": [
              "dict_values([[10, 1, 2, 3, 4, 5], [10, 1, 2, 3, 4, 5], [10, 1, 2, 3, 4, 5], [10, 1, 2, 3, 4, 5], [10, 1, 2, 3, 4, 5], [10, 1, 2, 3, 4, 5], 10, 11])"
            ]
          },
          "metadata": {},
          "execution_count": 40
        }
      ]
    },
    {
      "cell_type": "code",
      "source": [
        "d.items()"
      ],
      "metadata": {
        "colab": {
          "base_uri": "https://localhost:8080/"
        },
        "id": "_ZBdhxY5fU4e",
        "outputId": "4812df45-7064-4652-a7a7-1f38ef565580"
      },
      "execution_count": 41,
      "outputs": [
        {
          "output_type": "execute_result",
          "data": {
            "text/plain": [
              "dict_items([(1, [10, 1, 2, 3, 4, 5]), (2, [10, 1, 2, 3, 4, 5]), (3, [10, 1, 2, 3, 4, 5]), (4, [10, 1, 2, 3, 4, 5]), (5, [10, 1, 2, 3, 4, 5]), (6, [10, 1, 2, 3, 4, 5]), ('k1', 10), ('k2', 11)])"
            ]
          },
          "metadata": {},
          "execution_count": 41
        }
      ]
    },
    {
      "cell_type": "code",
      "source": [
        "for i in {10:1,2:1,3:1,4:1,5:1,1:10}:\n",
        "  print(i)"
      ],
      "metadata": {
        "colab": {
          "base_uri": "https://localhost:8080/"
        },
        "id": "_JSfph7WfbeV",
        "outputId": "99ad24b3-1a0b-4b0f-97ee-1a737b46dbc3"
      },
      "execution_count": 50,
      "outputs": [
        {
          "output_type": "stream",
          "name": "stdout",
          "text": [
            "10\n",
            "2\n",
            "3\n",
            "4\n",
            "5\n",
            "1\n"
          ]
        }
      ]
    },
    {
      "cell_type": "code",
      "source": [
        "for i in {1:1,2:1,3:1,4:1,5:1}.keys():\n",
        "  print(i)"
      ],
      "metadata": {
        "colab": {
          "base_uri": "https://localhost:8080/"
        },
        "id": "a5tf5I9bf7Z9",
        "outputId": "88010ffc-3df5-4316-c109-c2288740a893"
      },
      "execution_count": 44,
      "outputs": [
        {
          "output_type": "stream",
          "name": "stdout",
          "text": [
            "1\n",
            "2\n",
            "3\n",
            "4\n",
            "5\n"
          ]
        }
      ]
    },
    {
      "cell_type": "code",
      "source": [
        "for i,v in {1:1,2:1,3:1,4:1,5:1}.items():\n",
        "  print(i)\n",
        "  print(v)"
      ],
      "metadata": {
        "colab": {
          "base_uri": "https://localhost:8080/",
          "height": 207
        },
        "id": "kNx6VMuigDwE",
        "outputId": "613382a7-0164-4e1c-9caa-522eaa967abb"
      },
      "execution_count": 48,
      "outputs": [
        {
          "output_type": "error",
          "ename": "ValueError",
          "evalue": "ignored",
          "traceback": [
            "\u001b[0;31m---------------------------------------------------------------------------\u001b[0m",
            "\u001b[0;31mValueError\u001b[0m                                Traceback (most recent call last)",
            "\u001b[0;32m<ipython-input-48-95b7e6d67ebc>\u001b[0m in \u001b[0;36m<module>\u001b[0;34m\u001b[0m\n\u001b[0;32m----> 1\u001b[0;31m \u001b[0;32mfor\u001b[0m \u001b[0mi\u001b[0m\u001b[0;34m,\u001b[0m\u001b[0mv\u001b[0m\u001b[0;34m,\u001b[0m\u001b[0ma\u001b[0m \u001b[0;32min\u001b[0m \u001b[0;34m{\u001b[0m\u001b[0;36m1\u001b[0m\u001b[0;34m:\u001b[0m\u001b[0;36m1\u001b[0m\u001b[0;34m,\u001b[0m\u001b[0;36m2\u001b[0m\u001b[0;34m:\u001b[0m\u001b[0;36m1\u001b[0m\u001b[0;34m,\u001b[0m\u001b[0;36m3\u001b[0m\u001b[0;34m:\u001b[0m\u001b[0;36m1\u001b[0m\u001b[0;34m,\u001b[0m\u001b[0;36m4\u001b[0m\u001b[0;34m:\u001b[0m\u001b[0;36m1\u001b[0m\u001b[0;34m,\u001b[0m\u001b[0;36m5\u001b[0m\u001b[0;34m:\u001b[0m\u001b[0;36m1\u001b[0m\u001b[0;34m}\u001b[0m\u001b[0;34m.\u001b[0m\u001b[0mitems\u001b[0m\u001b[0;34m(\u001b[0m\u001b[0;34m)\u001b[0m\u001b[0;34m:\u001b[0m\u001b[0;34m\u001b[0m\u001b[0;34m\u001b[0m\u001b[0m\n\u001b[0m\u001b[1;32m      2\u001b[0m   \u001b[0mprint\u001b[0m\u001b[0;34m(\u001b[0m\u001b[0mi\u001b[0m\u001b[0;34m)\u001b[0m\u001b[0;34m\u001b[0m\u001b[0;34m\u001b[0m\u001b[0m\n\u001b[1;32m      3\u001b[0m   \u001b[0mprint\u001b[0m\u001b[0;34m(\u001b[0m\u001b[0mv\u001b[0m\u001b[0;34m)\u001b[0m\u001b[0;34m\u001b[0m\u001b[0;34m\u001b[0m\u001b[0m\n",
            "\u001b[0;31mValueError\u001b[0m: not enough values to unpack (expected 3, got 2)"
          ]
        }
      ]
    },
    {
      "cell_type": "code",
      "source": [
        "a,b=1,1"
      ],
      "metadata": {
        "id": "1BzBTz-mgRsW"
      },
      "execution_count": null,
      "outputs": []
    },
    {
      "cell_type": "code",
      "source": [
        "d={1: [10, 1, 2, 3, 4, 5],\n",
        " 2: [10, 1, 2, 3, 4, 5],\n",
        " 3: [10, 1, 2, 3, 4, 5],\n",
        " 4: [10, 1, 2, 3, 4, 5],\n",
        " 5: [10, 1, 2, 3, 4, 5],\n",
        " 6: [10, 1, 2, 3, 4, 5],\n",
        " 'k1': 10,\n",
        " 'k2': 11}\n",
        "d"
      ],
      "metadata": {
        "colab": {
          "base_uri": "https://localhost:8080/"
        },
        "id": "Rn1om2-chMEt",
        "outputId": "d69ed6e3-b077-4cb1-be73-b26c545bb67d"
      },
      "execution_count": 58,
      "outputs": [
        {
          "output_type": "execute_result",
          "data": {
            "text/plain": [
              "{1: [10, 1, 2, 3, 4, 5],\n",
              " 2: [10, 1, 2, 3, 4, 5],\n",
              " 3: [10, 1, 2, 3, 4, 5],\n",
              " 4: [10, 1, 2, 3, 4, 5],\n",
              " 5: [10, 1, 2, 3, 4, 5],\n",
              " 6: [10, 1, 2, 3, 4, 5],\n",
              " 'k1': 10,\n",
              " 'k2': 11}"
            ]
          },
          "metadata": {},
          "execution_count": 58
        }
      ]
    },
    {
      "cell_type": "code",
      "source": [
        "d.get('k1')"
      ],
      "metadata": {
        "colab": {
          "base_uri": "https://localhost:8080/"
        },
        "id": "-WHmGs3ehcx9",
        "outputId": "dac8af2c-5cf6-4722-e413-efe21425d364"
      },
      "execution_count": 59,
      "outputs": [
        {
          "output_type": "execute_result",
          "data": {
            "text/plain": [
              "10"
            ]
          },
          "metadata": {},
          "execution_count": 59
        }
      ]
    },
    {
      "cell_type": "code",
      "source": [
        "d"
      ],
      "metadata": {
        "colab": {
          "base_uri": "https://localhost:8080/"
        },
        "id": "aOVnRZN2hoD9",
        "outputId": "907aca18-19e4-4cfb-db4e-faf351572659"
      },
      "execution_count": 60,
      "outputs": [
        {
          "output_type": "execute_result",
          "data": {
            "text/plain": [
              "{1: [10, 1, 2, 3, 4, 5],\n",
              " 2: [10, 1, 2, 3, 4, 5],\n",
              " 3: [10, 1, 2, 3, 4, 5],\n",
              " 4: [10, 1, 2, 3, 4, 5],\n",
              " 5: [10, 1, 2, 3, 4, 5],\n",
              " 6: [10, 1, 2, 3, 4, 5],\n",
              " 'k1': 10,\n",
              " 'k2': 11}"
            ]
          },
          "metadata": {},
          "execution_count": 60
        }
      ]
    },
    {
      "cell_type": "code",
      "source": [
        "d.pop('k1')"
      ],
      "metadata": {
        "colab": {
          "base_uri": "https://localhost:8080/"
        },
        "id": "fizu2-IYhOfV",
        "outputId": "1809d9c7-88bd-4772-fd24-e630a97112b8"
      },
      "execution_count": 61,
      "outputs": [
        {
          "output_type": "execute_result",
          "data": {
            "text/plain": [
              "10"
            ]
          },
          "metadata": {},
          "execution_count": 61
        }
      ]
    },
    {
      "cell_type": "code",
      "source": [
        "d"
      ],
      "metadata": {
        "colab": {
          "base_uri": "https://localhost:8080/"
        },
        "id": "wlgeBJryhY3G",
        "outputId": "150bd62f-c8b1-4f71-9b3f-49890db7f4af"
      },
      "execution_count": 62,
      "outputs": [
        {
          "output_type": "execute_result",
          "data": {
            "text/plain": [
              "{1: [10, 1, 2, 3, 4, 5],\n",
              " 2: [10, 1, 2, 3, 4, 5],\n",
              " 3: [10, 1, 2, 3, 4, 5],\n",
              " 4: [10, 1, 2, 3, 4, 5],\n",
              " 5: [10, 1, 2, 3, 4, 5],\n",
              " 6: [10, 1, 2, 3, 4, 5],\n",
              " 'k2': 11}"
            ]
          },
          "metadata": {},
          "execution_count": 62
        }
      ]
    },
    {
      "cell_type": "code",
      "source": [
        "d.popitem()"
      ],
      "metadata": {
        "colab": {
          "base_uri": "https://localhost:8080/"
        },
        "id": "m2BRfNCjhs80",
        "outputId": "63ae53c8-4716-4ed0-b440-8bc493116d09"
      },
      "execution_count": 63,
      "outputs": [
        {
          "output_type": "execute_result",
          "data": {
            "text/plain": [
              "('k2', 11)"
            ]
          },
          "metadata": {},
          "execution_count": 63
        }
      ]
    },
    {
      "cell_type": "code",
      "source": [
        "d"
      ],
      "metadata": {
        "colab": {
          "base_uri": "https://localhost:8080/"
        },
        "id": "ax37Zrg9h0Se",
        "outputId": "d114b61f-d890-4d0d-c043-930d4308f9f1"
      },
      "execution_count": 64,
      "outputs": [
        {
          "output_type": "execute_result",
          "data": {
            "text/plain": [
              "{1: [10, 1, 2, 3, 4, 5],\n",
              " 2: [10, 1, 2, 3, 4, 5],\n",
              " 3: [10, 1, 2, 3, 4, 5],\n",
              " 4: [10, 1, 2, 3, 4, 5],\n",
              " 5: [10, 1, 2, 3, 4, 5],\n",
              " 6: [10, 1, 2, 3, 4, 5]}"
            ]
          },
          "metadata": {},
          "execution_count": 64
        }
      ]
    },
    {
      "cell_type": "code",
      "source": [
        "d.clear()\n",
        "d"
      ],
      "metadata": {
        "colab": {
          "base_uri": "https://localhost:8080/"
        },
        "id": "se-jmYOOh3c9",
        "outputId": "e39ba154-b75e-44b4-8a00-07bacecdc979"
      },
      "execution_count": 65,
      "outputs": [
        {
          "output_type": "execute_result",
          "data": {
            "text/plain": [
              "{}"
            ]
          },
          "metadata": {},
          "execution_count": 65
        }
      ]
    },
    {
      "cell_type": "code",
      "source": [
        "d={1:1,2:1,3:1}"
      ],
      "metadata": {
        "id": "SxEpw0DqiTxl"
      },
      "execution_count": 66,
      "outputs": []
    },
    {
      "cell_type": "code",
      "source": [
        "l=[1,2,3]\n",
        "l[2]=10\n",
        "l"
      ],
      "metadata": {
        "colab": {
          "base_uri": "https://localhost:8080/"
        },
        "id": "bnZFv1i0iyPc",
        "outputId": "4a5a16d8-b5d6-4368-c535-bf5d963be0c6"
      },
      "execution_count": 70,
      "outputs": [
        {
          "output_type": "execute_result",
          "data": {
            "text/plain": [
              "[1, 2, 10]"
            ]
          },
          "metadata": {},
          "execution_count": 70
        }
      ]
    },
    {
      "cell_type": "code",
      "source": [
        "d[3]=10\n",
        "d"
      ],
      "metadata": {
        "colab": {
          "base_uri": "https://localhost:8080/"
        },
        "id": "MxZMR7QjiI6F",
        "outputId": "58ab4ac3-b86a-4f86-efff-1c0c0c71a5d9"
      },
      "execution_count": 69,
      "outputs": [
        {
          "output_type": "execute_result",
          "data": {
            "text/plain": [
              "{1: 1, 2: 1, 3: 10}"
            ]
          },
          "metadata": {},
          "execution_count": 69
        }
      ]
    },
    {
      "cell_type": "code",
      "source": [
        "d[4]=10#d라는 딕셔너리 주머니에 10이라는 데이터를 가지고있는 키4캡슐을 넣는다.\n",
        "d"
      ],
      "metadata": {
        "colab": {
          "base_uri": "https://localhost:8080/"
        },
        "id": "JbYLGpPii5tr",
        "outputId": "aadaf7b3-dbfd-41b9-f5fb-c3fff06d5cc4"
      },
      "execution_count": 71,
      "outputs": [
        {
          "output_type": "execute_result",
          "data": {
            "text/plain": [
              "{1: 1, 2: 1, 3: 10, 4: 10}"
            ]
          },
          "metadata": {},
          "execution_count": 71
        }
      ]
    },
    {
      "cell_type": "code",
      "source": [
        "l[3]=10 #할당받은 공간중 3인덱스에 해당하는 장소에 10을 넣겠다."
      ],
      "metadata": {
        "id": "yWKPkwxrjCiN"
      },
      "execution_count": null,
      "outputs": []
    },
    {
      "cell_type": "code",
      "source": [
        "d={}\n",
        "while True:\n",
        "  i=input()[0]\n",
        "  if not('A'<i<'Z'):\n",
        "    break#반복 완전종료(제어블록 1개)(탈출)\n",
        "  if i not in d.keys():\n",
        "    d[i]=1\n",
        "    continue#반복종료(회차)(아래줄 실행 안함)\n",
        "  d[i]+=1\n",
        "for 키,값 in d.items():\n",
        "  print(f'{키}:{값}')"
      ],
      "metadata": {
        "colab": {
          "base_uri": "https://localhost:8080/"
        },
        "id": "glBTHIhWj9jW",
        "outputId": "dcdf26a1-c61f-445d-a7fd-06bdf1d04813"
      },
      "execution_count": 76,
      "outputs": [
        {
          "output_type": "stream",
          "name": "stdout",
          "text": [
            "A:2\n",
            "B:1\n",
            "C:1\n",
            "D:2\n",
            "F:1\n",
            "E:1\n",
            "S:2\n"
          ]
        }
      ]
    },
    {
      "cell_type": "code",
      "source": [
        "def f (x:int,y:list)->list:\n",
        "  print('실행')\n",
        "  return y\n",
        "f(1,1)"
      ],
      "metadata": {
        "colab": {
          "base_uri": "https://localhost:8080/"
        },
        "id": "67O_B7eozpiP",
        "outputId": "cac8c1d8-3226-48b5-b780-f2ba02f917c2"
      },
      "execution_count": 229,
      "outputs": [
        {
          "output_type": "stream",
          "name": "stdout",
          "text": [
            "실행\n"
          ]
        },
        {
          "output_type": "execute_result",
          "data": {
            "text/plain": [
              "1"
            ]
          },
          "metadata": {},
          "execution_count": 229
        }
      ]
    },
    {
      "cell_type": "markdown",
      "source": [
        "함수"
      ],
      "metadata": {
        "id": "h6j-0LigsdDF"
      }
    },
    {
      "cell_type": "markdown",
      "source": [
        "함수의 원형\n",
        "함수가 일치한다는 표현은 반드시 함수의 원형이 같다는 표현이다.<br>\n",
        "함수의 원형중 하나라도 다르면 다르다!!!\n",
        "1. 리턴 자료형 X (무시)\n",
        "2. 이름\n",
        "3. 입력 매개 변수 갯수  ^ X(기본 인자)\n",
        "4. 입력 매개 변수의 자료형 X (무시)<br>\n",
        "파이썬은 이름이 함수에 매우 중요하다.<br>\n",
        "\n",
        "함수 오버로딩 - 같은 이름의 다른 함수<br>\n",
        "함수 오버라이딩 - 같은 이름의 같은 함수\n"
      ],
      "metadata": {
        "id": "Ad7SWC41t55t"
      }
    },
    {
      "cell_type": "code",
      "source": [
        "#함수의 선언\n",
        "#def 함수의_이름(입력매개변수,)\n",
        "def f():\n",
        "  print('0동작')"
      ],
      "metadata": {
        "id": "HyiXF0GZsemS"
      },
      "execution_count": 91,
      "outputs": []
    },
    {
      "cell_type": "code",
      "source": [
        "def f(x=1):\n",
        "  print('1동작')"
      ],
      "metadata": {
        "id": "FsPbg2EvxI66"
      },
      "execution_count": 94,
      "outputs": []
    },
    {
      "cell_type": "code",
      "source": [
        "#함수의 호출 \n",
        "#함수의_이름(임력매개변수의_갯수,)\n",
        "f()#f(1)"
      ],
      "metadata": {
        "colab": {
          "base_uri": "https://localhost:8080/"
        },
        "id": "fY278HliwzNB",
        "outputId": "569cd3ed-2fd6-43a4-b1a1-17067a1f9569"
      },
      "execution_count": 95,
      "outputs": [
        {
          "output_type": "stream",
          "name": "stdout",
          "text": [
            "1동작\n"
          ]
        }
      ]
    },
    {
      "cell_type": "code",
      "source": [
        "def f():\n",
        "  #함수영역 -> 메소드 영역 -> 지역\n",
        "  #함수의 영역은 일반적인 main영역과 다르다.\n",
        "  a=1"
      ],
      "metadata": {
        "id": "E4nr6NrCC9sO"
      },
      "execution_count": 98,
      "outputs": []
    },
    {
      "cell_type": "markdown",
      "source": [
        "1. 파이썬은 모두다 객체다\n",
        "2. 같은 공간에는 같은 존재가 있을수 없다\n",
        "3. 있으면 쓸수있고, 없으면 못쓴다.<br>\n",
        "접근할수 있으면 있는거고, 접근하지 못하면 없는거다.\n",
        "4. 접근시 상대적으로 가까운 대상이 우선된다.\n",
        "5. 없으면 만들고 있으면 갱신한다."
      ],
      "metadata": {
        "id": "tuz1Qn0bGomd"
      }
    },
    {
      "cell_type": "code",
      "source": [
        "a='전역변수'\n",
        "def f():\n",
        "  a='지역변수'\n",
        "  print(a)\n",
        "print(a)\n",
        "f()\n",
        "print(a)"
      ],
      "metadata": {
        "colab": {
          "base_uri": "https://localhost:8080/"
        },
        "id": "01pnyzrbFoaF",
        "outputId": "428ebad7-c040-4fda-a19d-be1375e194f5"
      },
      "execution_count": 101,
      "outputs": [
        {
          "output_type": "stream",
          "name": "stdout",
          "text": [
            "전역변수\n",
            "지역변수\n",
            "전역변수\n"
          ]
        }
      ]
    },
    {
      "cell_type": "code",
      "source": [
        "a='전역변수'\n",
        "def f():\n",
        "  print(a)\n",
        "print(a)\n",
        "f()\n",
        "print(a)"
      ],
      "metadata": {
        "colab": {
          "base_uri": "https://localhost:8080/"
        },
        "id": "C9JbiyBDJJeM",
        "outputId": "45e7f78b-1f78-40e2-d033-1523bfa45394"
      },
      "execution_count": 106,
      "outputs": [
        {
          "output_type": "stream",
          "name": "stdout",
          "text": [
            "전역변수\n",
            "전역변수\n",
            "전역변수\n"
          ]
        }
      ]
    },
    {
      "cell_type": "code",
      "source": [
        "a='전역변수'\n",
        "def f():\n",
        "  global a #전역변수에 접근할수있는 경로 생성\n",
        "  a=a+'1'\n",
        "  print(a)\n",
        "print(a)\n",
        "f()\n",
        "print(a)"
      ],
      "metadata": {
        "colab": {
          "base_uri": "https://localhost:8080/"
        },
        "id": "P4v0lH25IhU9",
        "outputId": "c8080b5f-cac4-4829-eb75-f91c50a4c7df"
      },
      "execution_count": 108,
      "outputs": [
        {
          "output_type": "stream",
          "name": "stdout",
          "text": [
            "전역변수\n",
            "전역변수1\n",
            "전역변수1\n"
          ]
        }
      ]
    },
    {
      "cell_type": "code",
      "source": [
        "a='전역변수'\n",
        "def main():\n",
        "  a='main변수'\n",
        "def f():\n",
        "  a='지역 변수'\n",
        "if __name__=='__main__':\n",
        "  main()"
      ],
      "metadata": {
        "id": "fWvXQd6qF48O"
      },
      "execution_count": null,
      "outputs": []
    },
    {
      "cell_type": "code",
      "source": [
        "def f(매개_변수1,매개_변수2):\n",
        "  지역변수=0\n",
        "  출력=매개_변수1+매개_변수2\n",
        "  \n",
        "  if 출력==1:\n",
        "    return 출력,매개_변수1,매개_변수2\n",
        "  return 1\n",
        "  #return 결과값<리턴값,반환값> 무조건 값을 리턴한다. 종료\n",
        "a=f(1,0)\n",
        "print(a)\n",
        "\n"
      ],
      "metadata": {
        "colab": {
          "base_uri": "https://localhost:8080/"
        },
        "id": "zFyLoEDRF42v",
        "outputId": "89e3f105-84cf-4a6d-c8ce-9abaf02732ec"
      },
      "execution_count": 118,
      "outputs": [
        {
          "output_type": "stream",
          "name": "stdout",
          "text": [
            "(1, 1, 0)\n"
          ]
        }
      ]
    },
    {
      "cell_type": "code",
      "source": [
        "x=10\n",
        "def f(x):\n",
        "  x+=1\n",
        "  print(x)\n",
        "print(x)\n",
        "f(x)\n",
        "print(x)"
      ],
      "metadata": {
        "colab": {
          "base_uri": "https://localhost:8080/"
        },
        "id": "KSfty5a9PCMU",
        "outputId": "40705dcc-7264-4e12-8f6e-662f8acbe0a2"
      },
      "execution_count": 121,
      "outputs": [
        {
          "output_type": "stream",
          "name": "stdout",
          "text": [
            "10\n",
            "11\n",
            "10\n"
          ]
        }
      ]
    },
    {
      "cell_type": "code",
      "source": [
        "x=(1,2,3)\n",
        "def f(x):\n",
        "  x+=(1,)\n",
        "  print(x)\n",
        "print(x)\n",
        "f(x)\n",
        "print(x)"
      ],
      "metadata": {
        "colab": {
          "base_uri": "https://localhost:8080/"
        },
        "id": "OQp-9gmNPi5U",
        "outputId": "9d58d74f-75e3-470a-fac7-a81d401e4b1c"
      },
      "execution_count": 122,
      "outputs": [
        {
          "output_type": "stream",
          "name": "stdout",
          "text": [
            "(1, 2, 3)\n",
            "(1, 2, 3, 1)\n",
            "(1, 2, 3)\n"
          ]
        }
      ]
    },
    {
      "cell_type": "code",
      "source": [
        "x=[1,2,3]\n",
        "def f(x):\n",
        "  x+=[1]\n",
        "  print(x)\n",
        "print(x)\n",
        "f(x)\n",
        "print(x)"
      ],
      "metadata": {
        "colab": {
          "base_uri": "https://localhost:8080/"
        },
        "id": "5moURiMnPqeG",
        "outputId": "986e1a6a-4378-4129-b4e4-f1ca8bcbeb88"
      },
      "execution_count": 123,
      "outputs": [
        {
          "output_type": "stream",
          "name": "stdout",
          "text": [
            "[1, 2, 3]\n",
            "[1, 2, 3, 1]\n",
            "[1, 2, 3, 1]\n"
          ]
        }
      ]
    },
    {
      "cell_type": "code",
      "source": [
        "x=[1,2,3]\n",
        "def f(in_x):\n",
        "  #원본수정 없이 전달\n",
        "  x=in_x[:]\n",
        "  x[0]=10\n",
        "  return x\n",
        "  \"\"\"\n",
        "  #원본 변환\n",
        "  x[0]=10\n",
        "  return \n",
        "  \"\"\"\n",
        "print(x)\n",
        "f(x)\n",
        "print(x)\n"
      ],
      "metadata": {
        "colab": {
          "base_uri": "https://localhost:8080/"
        },
        "id": "fo1ExRFcT8-C",
        "outputId": "f3cc1315-6d58-4c16-c044-e416efec5552"
      },
      "execution_count": 126,
      "outputs": [
        {
          "output_type": "stream",
          "name": "stdout",
          "text": [
            "[1, 2, 3]\n",
            "[1, 2, 3]\n"
          ]
        }
      ]
    },
    {
      "cell_type": "code",
      "source": [
        "def f(a,b,c):\n",
        "  print(f'a:{a},b:{b},c:{c}')\n",
        "#1. 순서를 통한 호출\n",
        "f(1,2,3)\n",
        "#2. 명시적 매개변수를 통한 호출\n",
        "f(c=3,b=2,a=1)\n",
        "#조합 - 순서와 명시적은 조합시 반드시 종단에 명시적이 사용되어야 가능 단. 시작 변수는 조합시 명시적으로 사용 불가\n",
        "f(1,2,c=10)\n",
        "f(1,c=2,b=10)"
      ],
      "metadata": {
        "colab": {
          "base_uri": "https://localhost:8080/"
        },
        "id": "aEDCbr4PVF2L",
        "outputId": "2074b671-29bf-43a7-dd06-f52d09f8c57a"
      },
      "execution_count": 138,
      "outputs": [
        {
          "output_type": "stream",
          "name": "stdout",
          "text": [
            "a:1,b:2,c:3\n",
            "a:1,b:2,c:3\n",
            "a:1,b:2,c:10\n",
            "a:1,b:10,c:2\n"
          ]
        }
      ]
    },
    {
      "cell_type": "code",
      "source": [
        "# 기본매개변수 - 비어있는 매개변수\n",
        "# 기본값인자 -  호출규칙 변환\n",
        "def f(x=10):\n",
        "  print(x)\n",
        "f()#f(10)\n",
        "f(1000)\n",
        "#가변인자 - 튜플화 인자 - 튜플 기본값인자\n",
        "def f(*x):\n",
        "  print(x)\n",
        "f()\n",
        "f(1,2,3,4,5,6,7,8,9,10)\n",
        "#1.기본 매개변수는 반드시 특수 매개변수보다 앞에 있어야 한다.\n",
        "def f(y,*x):\n",
        "  print(x,y)\n",
        "f(10)\n",
        "f(1,2,3,4,5,6,7,8,9,10)\n",
        "#딕셔너리인자 - 딕셔너리화 인자 - 딕셔너리 기본값인자\n",
        "def f(y,**x):\n",
        "  print(x,y)\n",
        "f(1)\n",
        "f(a=1,b=2,c=3,y=10)\n",
        "#총집합\n",
        "print(\"<총집합>\")\n",
        "def f(기본매개변수,기본값매개변수=10,*튜플화매개변수,**딕셔너리화인자):\n",
        "  print(f'기본매개변수:{기본매개변수},\\n기본값매개변수:{기본값매개변수},\\n튜플화매개변수:{튜플화매개변수},\\n딕셔너리화인자:{딕셔너리화인자}')\n",
        "print(1)\n",
        "f(1)\n",
        "print(1,2)\n",
        "f(1,2)\n",
        "print(1,2,3,4,5)\n",
        "f(1,2,3,4,5)\n",
        "print(1,2,3,4,5,'x=6','y=7')\n",
        "f(1,2,3,4,5,x=6,y=7)"
      ],
      "metadata": {
        "colab": {
          "base_uri": "https://localhost:8080/"
        },
        "id": "imY9NZm_Uq26",
        "outputId": "bc61038f-3233-4e23-f51e-1a1ecf1cda44"
      },
      "execution_count": 164,
      "outputs": [
        {
          "output_type": "stream",
          "name": "stdout",
          "text": [
            "10\n",
            "1000\n",
            "()\n",
            "(1, 2, 3, 4, 5, 6, 7, 8, 9, 10)\n",
            "() 10\n",
            "(2, 3, 4, 5, 6, 7, 8, 9, 10) 1\n",
            "{} 1\n",
            "{'a': 1, 'b': 2, 'c': 3} 10\n",
            "<총집합>\n",
            "1\n",
            "기본매개변수:1,\n",
            "기본값매개변수:10,\n",
            "튜플화매개변수:(),\n",
            "딕셔너리화인자:{}\n",
            "1 2\n",
            "기본매개변수:1,\n",
            "기본값매개변수:2,\n",
            "튜플화매개변수:(),\n",
            "딕셔너리화인자:{}\n",
            "1 2 3 4 5\n",
            "기본매개변수:1,\n",
            "기본값매개변수:2,\n",
            "튜플화매개변수:(3, 4, 5),\n",
            "딕셔너리화인자:{}\n",
            "1 2 3 4 5 x=6 y=7\n",
            "기본매개변수:1,\n",
            "기본값매개변수:2,\n",
            "튜플화매개변수:(3, 4, 5),\n",
            "딕셔너리화인자:{'x': 6, 'y': 7}\n"
          ]
        }
      ]
    },
    {
      "cell_type": "code",
      "source": [
        "a=f\n",
        "a(1)"
      ],
      "metadata": {
        "colab": {
          "base_uri": "https://localhost:8080/"
        },
        "id": "RO88xG0rYe70",
        "outputId": "991455c2-dd3b-45e3-a8b3-50e4c2c8cf75"
      },
      "execution_count": 165,
      "outputs": [
        {
          "output_type": "stream",
          "name": "stdout",
          "text": [
            "기본매개변수:1,\n",
            "기본값매개변수:10,\n",
            "튜플화매개변수:(),\n",
            "딕셔너리화인자:{}\n"
          ]
        }
      ]
    },
    {
      "cell_type": "code",
      "source": [
        "def 함수출력():\n",
        "  return x\n",
        "def 함수입력(x):\n",
        "  global 전역변수\n",
        "  전역변수=x\n",
        "def 함수연산(x):\n",
        "  x+=1\n",
        "  return x\n",
        "\n",
        "def 입력():\n",
        "  x= int(input(\"정수 입력:\"))\n",
        "  함수입력(x)\n",
        "def 출력():\n",
        "  print(함수출력())\n",
        "def 연산():\n",
        "  x= int(input(\"정수 입력:\"))\n",
        "  함수입력(함수연산(x))\n",
        "\n",
        "기능 = input('1:입력\\n2:연산\\n3:출력')[0]\n",
        "if 기능=='1':\n",
        "  입력()\n",
        "elif 기능 == '2':\n",
        "  연산()\n",
        "elif 기능 == '3':\n",
        "  출력()\n",
        "\n",
        "기능=[입력,연산,출력]\n",
        "while True:\n",
        "  i=int(input('1:입력\\n2:연산\\n3:출력')[0])\n",
        "  if i in [1,2,3]:\n",
        "    break\n",
        "기능[i-1]()"
      ],
      "metadata": {
        "colab": {
          "base_uri": "https://localhost:8080/"
        },
        "id": "zVX1wNtJa8LQ",
        "outputId": "a6e1d1f4-a375-431c-9299-9cb53eadb763"
      },
      "execution_count": 168,
      "outputs": [
        {
          "name": "stdout",
          "output_type": "stream",
          "text": [
            "1:입력\n",
            "2:연산\n",
            "3:출력1\n",
            "정수 입력:10\n",
            "1:입력\n",
            "2:연산\n",
            "3:출력1\n",
            "정수 입력:10\n"
          ]
        }
      ]
    },
    {
      "cell_type": "markdown",
      "source": [
        "재귀"
      ],
      "metadata": {
        "id": "Q-K7sjJyhI_K"
      }
    },
    {
      "cell_type": "code",
      "source": [
        "def f(N):\n",
        "  if N==1:\n",
        "    return 1\n",
        "  return N*f(N-1)\n",
        "f(4)# 4*3*2*1\n",
        "# f(3) 3*2*1\n",
        "#f(2) 2*1\n",
        "#f(1) 1"
      ],
      "metadata": {
        "colab": {
          "base_uri": "https://localhost:8080/"
        },
        "id": "kfFUd0PSiEU4",
        "outputId": "47325a7f-184f-4436-a39a-8c6d1a8c092f"
      },
      "execution_count": 176,
      "outputs": [
        {
          "output_type": "execute_result",
          "data": {
            "text/plain": [
              "24"
            ]
          },
          "metadata": {},
          "execution_count": 176
        }
      ]
    },
    {
      "cell_type": "code",
      "source": [
        "sum=1\n",
        "for i in range(4,0,-1):\n",
        "  sum*=i\n",
        "print(sum)"
      ],
      "metadata": {
        "colab": {
          "base_uri": "https://localhost:8080/"
        },
        "id": "cxyIHORUiiz5",
        "outputId": "b6a32a35-59e9-46ee-e7b9-a132df767a3a"
      },
      "execution_count": 177,
      "outputs": [
        {
          "output_type": "stream",
          "name": "stdout",
          "text": [
            "24\n"
          ]
        }
      ]
    },
    {
      "cell_type": "markdown",
      "source": [
        "심화"
      ],
      "metadata": {
        "id": "tu2S_2Zgj7zP"
      }
    },
    {
      "cell_type": "code",
      "source": [
        "#열거함수\n",
        "print(list(enumerate([1,2,3,4,5])))\n",
        "print(list(enumerate((1,2,3,4,5))))\n",
        "print(list(enumerate({1,2,3,4,5})))\n",
        "print(list(enumerate({1:1,2:1,3:1,4:1,5:1}.items())))"
      ],
      "metadata": {
        "colab": {
          "base_uri": "https://localhost:8080/"
        },
        "id": "E5IhxAdFj9nG",
        "outputId": "3faa1846-4645-48c0-fcda-8ca66ff2d1fb"
      },
      "execution_count": 183,
      "outputs": [
        {
          "output_type": "stream",
          "name": "stdout",
          "text": [
            "[(0, 1), (1, 2), (2, 3), (3, 4), (4, 5)]\n",
            "[(0, 1), (1, 2), (2, 3), (3, 4), (4, 5)]\n",
            "[(0, 1), (1, 2), (2, 3), (3, 4), (4, 5)]\n",
            "[(0, (1, 1)), (1, (2, 1)), (2, (3, 1)), (3, (4, 1)), (4, (5, 1))]\n"
          ]
        }
      ]
    },
    {
      "cell_type": "code",
      "source": [
        "l=[]\n",
        "for i,v in  enumerate([1,2,5,3,4,6,1,2,3,4]):\n",
        "  if v==2:\n",
        "    l.append(i)\n",
        "print(l) "
      ],
      "metadata": {
        "colab": {
          "base_uri": "https://localhost:8080/"
        },
        "id": "99-gu7gmlIV-",
        "outputId": "f54e1e7f-2d93-4eca-ecd7-f3d45f9e1e05"
      },
      "execution_count": 185,
      "outputs": [
        {
          "output_type": "stream",
          "name": "stdout",
          "text": [
            "[1, 7]\n"
          ]
        }
      ]
    },
    {
      "cell_type": "code",
      "source": [
        "def 중복값확인(in_l,in_v):\n",
        "  out_l=[]\n",
        "  for i,v in  enumerate(in_l):\n",
        "    if v==in_v:\n",
        "      out_l.append(i)\n",
        "  return out_l\n",
        "중복값확인([1,2,5,3,4,6,1,2,3,4],2)"
      ],
      "metadata": {
        "colab": {
          "base_uri": "https://localhost:8080/"
        },
        "id": "Dnirf_MFljyo",
        "outputId": "b2a277c1-857f-4519-f2a9-4e3c984dad88"
      },
      "execution_count": 187,
      "outputs": [
        {
          "output_type": "execute_result",
          "data": {
            "text/plain": [
              "[1, 7]"
            ]
          },
          "metadata": {},
          "execution_count": 187
        }
      ]
    },
    {
      "cell_type": "markdown",
      "source": [
        "람다"
      ],
      "metadata": {
        "id": "HrBM9TcymH36"
      }
    },
    {
      "cell_type": "code",
      "source": [
        "a=lambda x:x#이름이 없는 함수 - 1회성 함수\n",
        "def a(x):\n",
        "  return x"
      ],
      "metadata": {
        "id": "DiYTnH_8mJaq"
      },
      "execution_count": null,
      "outputs": []
    },
    {
      "cell_type": "code",
      "source": [
        "l=[(10,'a','6'),(5,'c','8'),(10000,'d','10')]\n",
        "l"
      ],
      "metadata": {
        "colab": {
          "base_uri": "https://localhost:8080/"
        },
        "id": "BRPs5Jq9mqFu",
        "outputId": "a7790965-3371-4fd8-9833-e6f5c04e3ab8"
      },
      "execution_count": 188,
      "outputs": [
        {
          "output_type": "execute_result",
          "data": {
            "text/plain": [
              "[(10, 'a', '6'), (5, 'c', '8'), (10000, 'd', '10')]"
            ]
          },
          "metadata": {},
          "execution_count": 188
        }
      ]
    },
    {
      "cell_type": "code",
      "source": [
        "sorted(l)"
      ],
      "metadata": {
        "colab": {
          "base_uri": "https://localhost:8080/"
        },
        "id": "1iJDAdIJnDBg",
        "outputId": "dda6bc8e-d6a2-44d0-d9ad-f671e381fb0b"
      },
      "execution_count": 189,
      "outputs": [
        {
          "output_type": "execute_result",
          "data": {
            "text/plain": [
              "[(5, 'c', '8'), (10, 'a', '6'), (10000, 'd', '10')]"
            ]
          },
          "metadata": {},
          "execution_count": 189
        }
      ]
    },
    {
      "cell_type": "code",
      "source": [
        "sorted(l,key=lambda x:x[1])"
      ],
      "metadata": {
        "colab": {
          "base_uri": "https://localhost:8080/"
        },
        "id": "RIru6k-UnJ6f",
        "outputId": "a9f9a338-a366-496a-ac69-d71e91c53bea"
      },
      "execution_count": 192,
      "outputs": [
        {
          "output_type": "execute_result",
          "data": {
            "text/plain": [
              "[(10, 'a', '6'), (5, 'c', '8'), (10000, 'd', '10')]"
            ]
          },
          "metadata": {},
          "execution_count": 192
        }
      ]
    },
    {
      "cell_type": "code",
      "source": [
        "def ck(x):\n",
        "  return x[1]\n",
        "sorted(l,key=ck)\n",
        "del ck # 이름 지우기"
      ],
      "metadata": {
        "colab": {
          "base_uri": "https://localhost:8080/"
        },
        "id": "9V9iBRlGnhKO",
        "outputId": "5767ec12-65da-4c7f-a5fd-a425196116c7"
      },
      "execution_count": 191,
      "outputs": [
        {
          "output_type": "execute_result",
          "data": {
            "text/plain": [
              "[(10, 'a', '6'), (5, 'c', '8'), (10000, 'd', '10')]"
            ]
          },
          "metadata": {},
          "execution_count": 191
        }
      ]
    },
    {
      "cell_type": "markdown",
      "source": [
        "축약리스트<br>\n",
        "코드를 리스트안에 축약한다.\n",
        "[값 for 변수 in 구조]"
      ],
      "metadata": {
        "id": "Af_BDlIhoDqB"
      }
    },
    {
      "cell_type": "code",
      "source": [
        "l=[i%2 for i in range(1,11)]\n",
        "l"
      ],
      "metadata": {
        "colab": {
          "base_uri": "https://localhost:8080/"
        },
        "id": "nUQYQmyWoFO2",
        "outputId": "67f75169-9bec-454d-91a0-875c2983ca85"
      },
      "execution_count": 194,
      "outputs": [
        {
          "output_type": "execute_result",
          "data": {
            "text/plain": [
              "[1, 0, 1, 0, 1, 0, 1, 0, 1, 0]"
            ]
          },
          "metadata": {},
          "execution_count": 194
        }
      ]
    },
    {
      "cell_type": "code",
      "source": [
        "l=[0 for i in range(10)]\n",
        "l"
      ],
      "metadata": {
        "colab": {
          "base_uri": "https://localhost:8080/"
        },
        "id": "CD7-Rx3gpNDG",
        "outputId": "1e443491-6806-453d-ebec-4ae0b7d21797"
      },
      "execution_count": 195,
      "outputs": [
        {
          "output_type": "execute_result",
          "data": {
            "text/plain": [
              "[0, 0, 0, 0, 0, 0, 0, 0, 0, 0]"
            ]
          },
          "metadata": {},
          "execution_count": 195
        }
      ]
    },
    {
      "cell_type": "code",
      "source": [
        "[0]*10"
      ],
      "metadata": {
        "colab": {
          "base_uri": "https://localhost:8080/"
        },
        "id": "Hh-VCKsqpXzN",
        "outputId": "99e5b964-e8cc-4062-fed1-84e85285d229"
      },
      "execution_count": 196,
      "outputs": [
        {
          "output_type": "execute_result",
          "data": {
            "text/plain": [
              "[0, 0, 0, 0, 0, 0, 0, 0, 0, 0]"
            ]
          },
          "metadata": {},
          "execution_count": 196
        }
      ]
    },
    {
      "cell_type": "code",
      "source": [
        "l=[[0 for _ in range(10)] for _ in range(10)]"
      ],
      "metadata": {
        "id": "IVVgWgMupj_p"
      },
      "execution_count": 199,
      "outputs": []
    },
    {
      "cell_type": "code",
      "source": [
        "l2=[[0]*10]*10"
      ],
      "metadata": {
        "id": "JnzHH6oFppY_"
      },
      "execution_count": 200,
      "outputs": []
    },
    {
      "cell_type": "code",
      "source": [
        "l[0][0]=1\n",
        "l"
      ],
      "metadata": {
        "colab": {
          "base_uri": "https://localhost:8080/"
        },
        "id": "IRqrhbRUpzS-",
        "outputId": "71b70a6a-f122-44a2-b73c-6fe475b58f0b"
      },
      "execution_count": 201,
      "outputs": [
        {
          "output_type": "execute_result",
          "data": {
            "text/plain": [
              "[[1, 0, 0, 0, 0, 0, 0, 0, 0, 0],\n",
              " [0, 0, 0, 0, 0, 0, 0, 0, 0, 0],\n",
              " [0, 0, 0, 0, 0, 0, 0, 0, 0, 0],\n",
              " [0, 0, 0, 0, 0, 0, 0, 0, 0, 0],\n",
              " [0, 0, 0, 0, 0, 0, 0, 0, 0, 0],\n",
              " [0, 0, 0, 0, 0, 0, 0, 0, 0, 0],\n",
              " [0, 0, 0, 0, 0, 0, 0, 0, 0, 0],\n",
              " [0, 0, 0, 0, 0, 0, 0, 0, 0, 0],\n",
              " [0, 0, 0, 0, 0, 0, 0, 0, 0, 0],\n",
              " [0, 0, 0, 0, 0, 0, 0, 0, 0, 0]]"
            ]
          },
          "metadata": {},
          "execution_count": 201
        }
      ]
    },
    {
      "cell_type": "code",
      "source": [
        "l2[0][0]=1\n",
        "l2"
      ],
      "metadata": {
        "colab": {
          "base_uri": "https://localhost:8080/"
        },
        "id": "pEg77L4Dp2v1",
        "outputId": "54bea864-da7a-4b35-fdc1-99dc5b289f1a"
      },
      "execution_count": 202,
      "outputs": [
        {
          "output_type": "execute_result",
          "data": {
            "text/plain": [
              "[[1, 0, 0, 0, 0, 0, 0, 0, 0, 0],\n",
              " [1, 0, 0, 0, 0, 0, 0, 0, 0, 0],\n",
              " [1, 0, 0, 0, 0, 0, 0, 0, 0, 0],\n",
              " [1, 0, 0, 0, 0, 0, 0, 0, 0, 0],\n",
              " [1, 0, 0, 0, 0, 0, 0, 0, 0, 0],\n",
              " [1, 0, 0, 0, 0, 0, 0, 0, 0, 0],\n",
              " [1, 0, 0, 0, 0, 0, 0, 0, 0, 0],\n",
              " [1, 0, 0, 0, 0, 0, 0, 0, 0, 0],\n",
              " [1, 0, 0, 0, 0, 0, 0, 0, 0, 0],\n",
              " [1, 0, 0, 0, 0, 0, 0, 0, 0, 0]]"
            ]
          },
          "metadata": {},
          "execution_count": 202
        }
      ]
    },
    {
      "cell_type": "markdown",
      "source": [
        "축약 리스트- 필터링"
      ],
      "metadata": {
        "id": "sOAW-G_jrCf9"
      }
    },
    {
      "cell_type": "code",
      "source": [
        "[i**2 for i in range(10) if i%2]"
      ],
      "metadata": {
        "colab": {
          "base_uri": "https://localhost:8080/"
        },
        "id": "pwgLdfxCrEtG",
        "outputId": "c0164cad-9b2c-4090-951b-d9a8bd860c8b"
      },
      "execution_count": 204,
      "outputs": [
        {
          "output_type": "execute_result",
          "data": {
            "text/plain": [
              "[1, 9, 25, 49, 81]"
            ]
          },
          "metadata": {},
          "execution_count": 204
        }
      ]
    },
    {
      "cell_type": "code",
      "source": [
        "[i for i,v in enumerate([1,2,3,4,5,1,2,3,4,5,1,2,3,4,5]) if v<=2]"
      ],
      "metadata": {
        "colab": {
          "base_uri": "https://localhost:8080/"
        },
        "id": "9qjroHfLuJkX",
        "outputId": "0727ae49-86f0-4308-b308-05dea3d7e347"
      },
      "execution_count": 206,
      "outputs": [
        {
          "output_type": "execute_result",
          "data": {
            "text/plain": [
              "[0, 1, 5, 6, 10, 11]"
            ]
          },
          "metadata": {},
          "execution_count": 206
        }
      ]
    },
    {
      "cell_type": "markdown",
      "source": [
        "축약 리스트-중첩"
      ],
      "metadata": {
        "id": "FlV2A9ntvrdd"
      }
    },
    {
      "cell_type": "code",
      "source": [
        "for i in range(2):\n",
        "  for j in range(5):\n",
        "    print(j)"
      ],
      "metadata": {
        "colab": {
          "base_uri": "https://localhost:8080/"
        },
        "id": "VvIPH4-0vty-",
        "outputId": "7333903b-1386-4384-ff0c-e774a848d041"
      },
      "execution_count": 210,
      "outputs": [
        {
          "output_type": "stream",
          "name": "stdout",
          "text": [
            "0\n",
            "1\n",
            "2\n",
            "3\n",
            "4\n",
            "0\n",
            "1\n",
            "2\n",
            "3\n",
            "4\n"
          ]
        }
      ]
    },
    {
      "cell_type": "code",
      "source": [
        "[print(f'{i}{j}') for i in range(10) for j in range(10)]"
      ],
      "metadata": {
        "id": "NITtT0o9v6SN"
      },
      "execution_count": null,
      "outputs": []
    },
    {
      "cell_type": "markdown",
      "source": [
        "zip()"
      ],
      "metadata": {
        "id": "O1FuxwG1w3S8"
      }
    },
    {
      "cell_type": "code",
      "source": [
        "l=[1,2,3,4,5]\n",
        "l2=[4,5,6,7,8]\n",
        "end_l=[]\n",
        "for i in range(len(l)):\n",
        "  end_l.append((l[i],l2[i]))\n",
        "end_l"
      ],
      "metadata": {
        "colab": {
          "base_uri": "https://localhost:8080/"
        },
        "id": "yqal-0O8w46N",
        "outputId": "4445c21b-588e-4db9-f75e-be39a13059ef"
      },
      "execution_count": 217,
      "outputs": [
        {
          "output_type": "execute_result",
          "data": {
            "text/plain": [
              "[(1, 4), (2, 5), (3, 6), (4, 7), (5, 8)]"
            ]
          },
          "metadata": {},
          "execution_count": 217
        }
      ]
    },
    {
      "cell_type": "code",
      "source": [
        "l=[1,2,3,4,5]\n",
        "l2=[4,5,6,7,8,9,10]\n",
        "l3=[9,8,7,6]\n",
        "list(zip(l,l2,l3))\n",
        "[(i,j,z) for i,j,z in zip(l,l2,l3) if z<9]"
      ],
      "metadata": {
        "colab": {
          "base_uri": "https://localhost:8080/"
        },
        "id": "LRjKmCkVyas9",
        "outputId": "e76223ff-78d1-4009-95b2-775924696ceb"
      },
      "execution_count": 225,
      "outputs": [
        {
          "output_type": "execute_result",
          "data": {
            "text/plain": [
              "[(2, 5, 8), (3, 6, 7), (4, 7, 6)]"
            ]
          },
          "metadata": {},
          "execution_count": 225
        }
      ]
    },
    {
      "cell_type": "code",
      "source": [
        "list(zip(l,l2))"
      ],
      "metadata": {
        "colab": {
          "base_uri": "https://localhost:8080/"
        },
        "id": "wWmNimsbyQjm",
        "outputId": "e6f87eda-fc5c-4d42-89c0-95d77a77fd4e"
      },
      "execution_count": 219,
      "outputs": [
        {
          "output_type": "execute_result",
          "data": {
            "text/plain": [
              "[(1, 4), (2, 5), (3, 6), (4, 7), (5, 8)]"
            ]
          },
          "metadata": {},
          "execution_count": 219
        }
      ]
    },
    {
      "cell_type": "code",
      "source": [
        "id(10),id(11),id(12)"
      ],
      "metadata": {
        "colab": {
          "base_uri": "https://localhost:8080/"
        },
        "id": "lIUw6Dv--Pws",
        "outputId": "387af981-ff47-448a-ab1b-baba87ec5ad2"
      },
      "execution_count": 234,
      "outputs": [
        {
          "output_type": "execute_result",
          "data": {
            "text/plain": [
              "(9793376, 9793408, 9793440)"
            ]
          },
          "metadata": {},
          "execution_count": 234
        }
      ]
    }
  ]
}