{
 "cells": [
  {
   "cell_type": "code",
   "execution_count": 1,
   "id": "e2d5d4c2",
   "metadata": {
    "scrolled": true
   },
   "outputs": [
    {
     "name": "stderr",
     "output_type": "stream",
     "text": [
      "WARNING: An illegal reflective access operation has occurred\n",
      "WARNING: Illegal reflective access by org.apache.spark.unsafe.Platform (file:/home/ubuntu/spark-3.2.4/jars/spark-unsafe_2.12-3.2.4.jar) to constructor java.nio.DirectByteBuffer(long,int)\n",
      "WARNING: Please consider reporting this to the maintainers of org.apache.spark.unsafe.Platform\n",
      "WARNING: Use --illegal-access=warn to enable warnings of further illegal reflective access operations\n",
      "WARNING: All illegal access operations will be denied in a future release\n",
      "Using Spark's default log4j profile: org/apache/spark/log4j-defaults.properties\n",
      "Setting default log level to \"WARN\".\n",
      "To adjust logging level use sc.setLogLevel(newLevel). For SparkR, use setLogLevel(newLevel).\n",
      "23/06/05 02:02:54 WARN NativeCodeLoader: Unable to load native-hadoop library for your platform... using builtin-java classes where applicable\n"
     ]
    }
   ],
   "source": [
    "from pyspark import SparkConf, SparkContext\n",
    "\n",
    "conf = SparkConf().setMaster(\"local\").setAppName(\"reduction-op\")\n",
    "sc = SparkContext(conf = conf)"
   ]
  },
  {
   "cell_type": "markdown",
   "id": "c113c396",
   "metadata": {},
   "source": [
    "# Reduce\n",
    "- 사용자가 지정하는 함수를 받아(task) 여러개의 값을 하나로 줄여준다.\n",
    "- 파티션 별로 작업이 일어난다\n"
   ]
  },
  {
   "cell_type": "code",
   "execution_count": 2,
   "id": "ff200d82",
   "metadata": {},
   "outputs": [],
   "source": [
    "from operator import add # task"
   ]
  },
  {
   "cell_type": "code",
   "execution_count": 3,
   "id": "a5411bb9",
   "metadata": {},
   "outputs": [
    {
     "data": {
      "text/plain": [
       "3"
      ]
     },
     "execution_count": 3,
     "metadata": {},
     "output_type": "execute_result"
    }
   ],
   "source": [
    "add(1,2)"
   ]
  },
  {
   "cell_type": "code",
   "execution_count": 4,
   "id": "9f87267a",
   "metadata": {},
   "outputs": [
    {
     "data": {
      "text/plain": [
       "ParallelCollectionRDD[0] at readRDDFromFile at PythonRDD.scala:274"
      ]
     },
     "execution_count": 4,
     "metadata": {},
     "output_type": "execute_result"
    }
   ],
   "source": [
    "sample_rdd = sc.parallelize([1,2,3,4,5])\n",
    "sample_rdd"
   ]
  },
  {
   "cell_type": "code",
   "execution_count": 5,
   "id": "7b158fb4",
   "metadata": {},
   "outputs": [
    {
     "name": "stderr",
     "output_type": "stream",
     "text": [
      "                                                                                \r"
     ]
    },
    {
     "data": {
      "text/plain": [
       "15"
      ]
     },
     "execution_count": 5,
     "metadata": {},
     "output_type": "execute_result"
    }
   ],
   "source": [
    "sample_rdd.reduce(add)\n",
    "# rdd안의 모든 내용들 합쳐줌"
   ]
  },
  {
   "cell_type": "code",
   "execution_count": 6,
   "id": "2b08365b",
   "metadata": {},
   "outputs": [
    {
     "data": {
      "text/plain": [
       "26"
      ]
     },
     "execution_count": 6,
     "metadata": {},
     "output_type": "execute_result"
    }
   ],
   "source": [
    "# 파티션이 1개인 경우 (입력하지 않으면 기본 1)\n",
    "sample_rdd = sc.parallelize([1,2,3,4], 1) # 뒤1 : 파티션\n",
    "sample_rdd.reduce(lambda x, y : (x * 2) + y)\n",
    "# 병렬처리 일어나지 않음"
   ]
  },
  {
   "cell_type": "code",
   "execution_count": 7,
   "id": "888c9d11",
   "metadata": {},
   "outputs": [
    {
     "data": {
      "text/plain": [
       "[[1, 2, 3, 4]]"
      ]
     },
     "execution_count": 7,
     "metadata": {},
     "output_type": "execute_result"
    }
   ],
   "source": [
    "sample_rdd.glom().collect() #파티션 1개"
   ]
  },
  {
   "cell_type": "code",
   "execution_count": 8,
   "id": "0295cc3f",
   "metadata": {},
   "outputs": [
    {
     "data": {
      "text/plain": [
       "[[1, 2], [3, 4]]"
      ]
     },
     "execution_count": 8,
     "metadata": {},
     "output_type": "execute_result"
    }
   ],
   "source": [
    "# 파티션이 2개인 경우\n",
    "# glom : 파티션 별 데이터를 보여주고 싶을 때 사용\n",
    "# 각 파티션 별로 병렬처리가 가능하게됨\n",
    "\n",
    "sample_rdd_p2 = sc.parallelize([1,2,3,4], 2)\n",
    "sample_rdd_p2.glom().collect()"
   ]
  },
  {
   "cell_type": "code",
   "execution_count": 9,
   "id": "c41164e1",
   "metadata": {},
   "outputs": [
    {
     "data": {
      "text/plain": [
       "18"
      ]
     },
     "execution_count": 9,
     "metadata": {},
     "output_type": "execute_result"
    }
   ],
   "source": [
    "sample_rdd_p2.reduce(lambda x, y : (x * 2) + y)"
   ]
  },
  {
   "cell_type": "code",
   "execution_count": 10,
   "id": "3e30d19a",
   "metadata": {},
   "outputs": [
    {
     "data": {
      "text/plain": [
       "18"
      ]
     },
     "execution_count": 10,
     "metadata": {},
     "output_type": "execute_result"
    }
   ],
   "source": [
    "# 파티션 3개\n",
    "sample_rdd_p3 = sc.parallelize([1,2,3,4], 3)\n",
    "sample_rdd_p3.reduce(lambda x, y : (x * 2) + y)"
   ]
  },
  {
   "cell_type": "code",
   "execution_count": 11,
   "id": "f0157dd8",
   "metadata": {},
   "outputs": [
    {
     "data": {
      "text/plain": [
       "[[1], [2], [3, 4]]"
      ]
     },
     "execution_count": 11,
     "metadata": {},
     "output_type": "execute_result"
    }
   ],
   "source": [
    "sample_rdd_p3.glom().collect()\n",
    "# task 에 맞지 않는 데이터는 그대로 나옴"
   ]
  },
  {
   "cell_type": "code",
   "execution_count": 12,
   "id": "a1c1cf7e",
   "metadata": {},
   "outputs": [
    {
     "data": {
      "text/plain": [
       "[[1], [2], [3], [4]]"
      ]
     },
     "execution_count": 12,
     "metadata": {},
     "output_type": "execute_result"
    }
   ],
   "source": [
    "# 파티션 4개 \n",
    "sample_rdd_p4 = sc.parallelize([1,2,3,4], 4)\n",
    "sample_rdd_p4.glom().collect()"
   ]
  },
  {
   "cell_type": "code",
   "execution_count": 13,
   "id": "4983ebf1",
   "metadata": {},
   "outputs": [
    {
     "data": {
      "text/plain": [
       "26"
      ]
     },
     "execution_count": 13,
     "metadata": {},
     "output_type": "execute_result"
    }
   ],
   "source": [
    "sample_rdd_p4.reduce(lambda x, y : (x * 2) + y)"
   ]
  },
  {
   "cell_type": "markdown",
   "id": "c5e2daee",
   "metadata": {},
   "source": [
    "# Fold\n",
    "- zeroValue : 초기값 지정. 파티션 마다 계산이 일어날 때 하나씩 더해지는 값\n",
    "  "
   ]
  },
  {
   "cell_type": "code",
   "execution_count": 14,
   "id": "d27061bd",
   "metadata": {},
   "outputs": [
    {
     "data": {
      "text/plain": [
       "[[], [2], [3], [4]]"
      ]
     },
     "execution_count": 14,
     "metadata": {},
     "output_type": "execute_result"
    }
   ],
   "source": [
    "sample_rdd = sc.parallelize([2,3,4], 4)\n",
    "sample_rdd.glom().collect()"
   ]
  },
  {
   "cell_type": "code",
   "execution_count": 15,
   "id": "f74a2b59",
   "metadata": {},
   "outputs": [
    {
     "name": "stdout",
     "output_type": "stream",
     "text": [
      "24\n",
      "24\n"
     ]
    }
   ],
   "source": [
    "print(sample_rdd.reduce(lambda x, y : (x * y))) # 2 * 3 -> * 4 = 24\n",
    "print(sample_rdd.fold(1, lambda x, y : (x * y))) # 1 * 1 * (1 * 2) * (1 * 3) * (1 * 4) = 24"
   ]
  },
  {
   "cell_type": "code",
   "execution_count": 16,
   "id": "d6147148",
   "metadata": {},
   "outputs": [
    {
     "name": "stdout",
     "output_type": "stream",
     "text": [
      "768\n"
     ]
    }
   ],
   "source": [
    "print(sample_rdd.fold(2, lambda x, y : (x * y))) # 2 * 2 * (2 * 2) * (2 * 3) * (2 * 4) #괄호를 파티션 하나로 보면 됨"
   ]
  },
  {
   "cell_type": "markdown",
   "id": "8fddb09d",
   "metadata": {},
   "source": [
    "# Group By\n",
    "- `RDD.groupBy(<func>)`\n",
    "- 그룹핑 함수를 받아 reduction"
   ]
  },
  {
   "cell_type": "code",
   "execution_count": 19,
   "id": "5e60b7b5",
   "metadata": {},
   "outputs": [
    {
     "name": "stderr",
     "output_type": "stream",
     "text": [
      "                                                                                \r"
     ]
    },
    {
     "data": {
      "text/plain": [
       "[(1, <pyspark.resultiterable.ResultIterable at 0x7f97c00753a0>),\n",
       " (0, <pyspark.resultiterable.ResultIterable at 0x7f978fef1e80>)]"
      ]
     },
     "execution_count": 19,
     "metadata": {},
     "output_type": "execute_result"
    }
   ],
   "source": [
    "sample_rdd = sc.parallelize([1,1,2,3,5,8])\n",
    "result = sample_rdd.groupBy(lambda x : x % 2).collect()\n",
    "result"
   ]
  },
  {
   "cell_type": "code",
   "execution_count": 20,
   "id": "253013b0",
   "metadata": {},
   "outputs": [
    {
     "data": {
      "text/plain": [
       "[(0, [2, 8]), (1, [1, 1, 3, 5])]"
      ]
     },
     "execution_count": 20,
     "metadata": {},
     "output_type": "execute_result"
    }
   ],
   "source": [
    "sorted([(x, sorted(y)) for (x, y) in result]) #sorted : 내부 iterable 객체를 정렬한 후 리스트로 리턴 "
   ]
  },
  {
   "cell_type": "markdown",
   "id": "b5edfdbe",
   "metadata": {},
   "source": [
    "# Aggregate\n",
    "- `RDd.aggregate(zeroValue, seqOp, combOp)`\n",
    "     - seqOp : 타입변경 함수, 파티션의 결과물 위한 연산 (파티션 내 연산)\n",
    "     - combOp : 결과물을 연산\n",
    "- 결과물 : 파티션 단위 연산 결과를 합쳐줌"
   ]
  },
  {
   "cell_type": "code",
   "execution_count": 21,
   "id": "c43b7a3c",
   "metadata": {},
   "outputs": [
    {
     "data": {
      "text/plain": [
       "[[1, 2], [3, 4]]"
      ]
     },
     "execution_count": 21,
     "metadata": {},
     "output_type": "execute_result"
    }
   ],
   "source": [
    "sample_rdd = sc.parallelize([1,2,3,4], 2)\n",
    "sample_rdd.glom().collect()"
   ]
  },
  {
   "cell_type": "code",
   "execution_count": 22,
   "id": "a293854f",
   "metadata": {},
   "outputs": [],
   "source": [
    "seqOp = lambda x, y : (x[0] + y, x[1] + 1) # 파티션 내 연산\n",
    "combOp = lambda x, y : (x[0] + y[0], x[1] + y[1]) # 파티션의 모든 결과를 최종 연산"
   ]
  },
  {
   "cell_type": "code",
   "execution_count": 23,
   "id": "b43195bf",
   "metadata": {},
   "outputs": [
    {
     "data": {
      "text/plain": [
       "(10, 4)"
      ]
     },
     "execution_count": 23,
     "metadata": {},
     "output_type": "execute_result"
    }
   ],
   "source": [
    "sample_rdd.aggregate((0,0), seqOp, combOp)"
   ]
  },
  {
   "cell_type": "code",
   "execution_count": null,
   "id": "da2c314b",
   "metadata": {},
   "outputs": [],
   "source": [
    "# x[0] = 0 , x[1] = 0 <- 초기값(0,0)"
   ]
  },
  {
   "cell_type": "code",
   "execution_count": null,
   "id": "773a289f",
   "metadata": {},
   "outputs": [],
   "source": []
  }
 ],
 "metadata": {
  "kernelspec": {
   "display_name": "Python 3 (ipykernel)",
   "language": "python",
   "name": "python3"
  },
  "language_info": {
   "codemirror_mode": {
    "name": "ipython",
    "version": 3
   },
   "file_extension": ".py",
   "mimetype": "text/x-python",
   "name": "python",
   "nbconvert_exporter": "python",
   "pygments_lexer": "ipython3",
   "version": "3.8.16"
  }
 },
 "nbformat": 4,
 "nbformat_minor": 5
}
