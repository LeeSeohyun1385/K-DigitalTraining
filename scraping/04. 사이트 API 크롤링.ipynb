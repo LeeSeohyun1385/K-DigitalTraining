{
 "cells": [
  {
   "cell_type": "code",
   "execution_count": 2,
   "id": "d6f19523",
   "metadata": {},
   "outputs": [],
   "source": [
    "from selenium import webdriver"
   ]
  },
  {
   "cell_type": "code",
   "execution_count": null,
   "id": "a1f2845b",
   "metadata": {
    "collapsed": true
   },
   "outputs": [],
   "source": [
    "#!pip install selenium"
   ]
  },
  {
   "cell_type": "code",
   "execution_count": 3,
   "id": "1e908ed7",
   "metadata": {},
   "outputs": [
    {
     "name": "stderr",
     "output_type": "stream",
     "text": [
      "<ipython-input-3-c2e9cad52997>:1: DeprecationWarning: executable_path has been deprecated, please pass in a Service object\n",
      "  driver = webdriver.Chrome('./chromedriver')\n"
     ]
    }
   ],
   "source": [
    "driver = webdriver.Chrome('./chromedriver')"
   ]
  },
  {
   "cell_type": "markdown",
   "id": "6b34a80b",
   "metadata": {},
   "source": [
    " driver  객체를 통해 테스트 브라우저를 컨트롤 할 수 있다."
   ]
  },
  {
   "cell_type": "code",
   "execution_count": 4,
   "id": "a7a3918f",
   "metadata": {},
   "outputs": [],
   "source": [
    "driver.get(\"https://www.naver.com\")"
   ]
  },
  {
   "cell_type": "markdown",
   "id": "c95633ae",
   "metadata": {},
   "source": [
    "driver를 통해 Element 제어"
   ]
  },
  {
   "cell_type": "code",
   "execution_count": 5,
   "id": "4bae71e8",
   "metadata": {},
   "outputs": [],
   "source": [
    "#엘리먼트를 제어하려면 엘리먼트 정보가 필요\n",
    "# - 엘리먼트의 정보 : 태그명, 선택자, 속성 등등\n",
    "from selenium.webdriver.common.by import By\n"
   ]
  },
  {
   "cell_type": "code",
   "execution_count": 7,
   "id": "ee77e309",
   "metadata": {},
   "outputs": [
    {
     "data": {
      "text/plain": [
       "<selenium.webdriver.remote.webelement.WebElement (session=\"567b693bf5c7d7233c740166ba19cca6\", element=\"e92d1bbc-4f90-4219-af88-50afb78cd960\")>"
      ]
     },
     "execution_count": 7,
     "metadata": {},
     "output_type": "execute_result"
    }
   ],
   "source": [
    "query_elem = driver.find_element(\n",
    "    By.CSS_SELECTOR,\n",
    "    \"#query\")\n",
    "query_elem"
   ]
  },
  {
   "cell_type": "code",
   "execution_count": 8,
   "id": "5ab940bb",
   "metadata": {},
   "outputs": [],
   "source": [
    "# 파이썬 코드를 통해 element에 어떤 값을 입력 - send_keys\n",
    "query_elem.send_keys(\"집에 가고 싶다\")"
   ]
  },
  {
   "cell_type": "code",
   "execution_count": 10,
   "id": "07d8172d",
   "metadata": {},
   "outputs": [],
   "source": [
    "#원래 있던 값 삭제 - clear\n",
    "query_elem.clear()\n",
    "\n"
   ]
  },
  {
   "cell_type": "code",
   "execution_count": 11,
   "id": "f2aaec9f",
   "metadata": {},
   "outputs": [],
   "source": [
    "query_elem.send_keys(\"집에 가고 싶다아아아\")"
   ]
  },
  {
   "cell_type": "code",
   "execution_count": 13,
   "id": "d0ad2251",
   "metadata": {},
   "outputs": [
    {
     "data": {
      "text/plain": [
       "<selenium.webdriver.remote.webelement.WebElement (session=\"567b693bf5c7d7233c740166ba19cca6\", element=\"5a13d7ee-e7a0-43f4-bfa3-00f67f36f7f5\")>"
      ]
     },
     "execution_count": 13,
     "metadata": {},
     "output_type": "execute_result"
    }
   ],
   "source": [
    "# 검색 버튼 누르기\n",
    "search_btn_elem = driver.find_element(By.CSS_SELECTOR, \"#search_btn\")\n",
    "search_btn_elem\n"
   ]
  },
  {
   "cell_type": "code",
   "execution_count": 14,
   "id": "6bfb10a3",
   "metadata": {},
   "outputs": [],
   "source": [
    "search_btn_elem.click()"
   ]
  },
  {
   "cell_type": "code",
   "execution_count": 15,
   "id": "78022a4f",
   "metadata": {},
   "outputs": [],
   "source": [
    "#브라우저 창 (window) 크기 조절\n",
    "driver.set_window_size(300,800)"
   ]
  },
  {
   "cell_type": "code",
   "execution_count": 18,
   "id": "6f1e73a4",
   "metadata": {},
   "outputs": [],
   "source": [
    "#스크롤 위치 조절 -javascript 활용\n",
    "#자바스크립트를 문자열로 작성해서 실행\n",
    "driver.execute_script(\"window.scrollTo(60,800)\")\n"
   ]
  },
  {
   "cell_type": "code",
   "execution_count": 19,
   "id": "108a1d4f",
   "metadata": {},
   "outputs": [],
   "source": [
    "#사용이 끝났으면 quit\n",
    "driver.quit()\n"
   ]
  },
  {
   "cell_type": "markdown",
   "id": "367788d8",
   "metadata": {},
   "source": [
    "driver.quit() 으로 종료하지 않으면 테스트 브라우저가 메모리에 상주하는 경우가 종종 있음 . 컴퓨터 느려짐"
   ]
  }
 ],
 "metadata": {
  "kernelspec": {
   "display_name": "Python 3",
   "language": "python",
   "name": "python3"
  },
  "language_info": {
   "codemirror_mode": {
    "name": "ipython",
    "version": 3
   },
   "file_extension": ".py",
   "mimetype": "text/x-python",
   "name": "python",
   "nbconvert_exporter": "python",
   "pygments_lexer": "ipython3",
   "version": "3.8.8"
  }
 },
 "nbformat": 4,
 "nbformat_minor": 5
}
