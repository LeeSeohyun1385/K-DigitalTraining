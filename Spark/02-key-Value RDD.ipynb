{
 "cells": [
  {
   "cell_type": "code",
   "execution_count": 1,
   "id": "1a688089",
   "metadata": {
    "scrolled": true
   },
   "outputs": [
    {
     "name": "stderr",
     "output_type": "stream",
     "text": [
      "WARNING: An illegal reflective access operation has occurred\n",
      "WARNING: Illegal reflective access by org.apache.spark.unsafe.Platform (file:/home/ubuntu/spark-3.2.4/jars/spark-unsafe_2.12-3.2.4.jar) to constructor java.nio.DirectByteBuffer(long,int)\n",
      "WARNING: Please consider reporting this to the maintainers of org.apache.spark.unsafe.Platform\n",
      "WARNING: Use --illegal-access=warn to enable warnings of further illegal reflective access operations\n",
      "WARNING: All illegal access operations will be denied in a future release\n",
      "Using Spark's default log4j profile: org/apache/spark/log4j-defaults.properties\n",
      "Setting default log level to \"WARN\".\n",
      "To adjust logging level use sc.setLogLevel(newLevel). For SparkR, use setLogLevel(newLevel).\n",
      "23/06/02 04:08:41 WARN NativeCodeLoader: Unable to load native-hadoop library for your platform... using builtin-java classes where applicable\n"
     ]
    }
   ],
   "source": [
    "from pyspark import SparkConf, SparkContext\n",
    "\n",
    "conf = SparkConf().setMaster(\"local\").setAppName(\"restaurant-review-average\")\n",
    "sc = SparkContext(conf=conf)"
   ]
  },
  {
   "cell_type": "markdown",
   "id": "be401928",
   "metadata": {},
   "source": [
    "csv 파일을 RDD 로딩"
   ]
  },
  {
   "cell_type": "code",
   "execution_count": 3,
   "id": "0ed6e7b9",
   "metadata": {},
   "outputs": [],
   "source": [
    "filepath = '/home/ubuntu/working/spark-examples/data/restaurant_reviews.csv'"
   ]
  },
  {
   "cell_type": "code",
   "execution_count": 4,
   "id": "6e69192a",
   "metadata": {},
   "outputs": [
    {
     "data": {
      "text/plain": [
       "file:////home/ubuntu/working/spark-examples/data/restaurant_reviews.csv MapPartitionsRDD[1] at textFile at NativeMethodAccessorImpl.java:0"
      ]
     },
     "execution_count": 4,
     "metadata": {},
     "output_type": "execute_result"
    }
   ],
   "source": [
    "lines = sc.textFile(f'file:///{filepath}')\n",
    "lines"
   ]
  },
  {
   "cell_type": "code",
   "execution_count": 5,
   "id": "d8ba02c2",
   "metadata": {},
   "outputs": [
    {
     "data": {
      "text/plain": [
       "['id,item,cateogry,reviews,',\n",
       " '0,짜장면,중식,125,',\n",
       " '1,짬뽕,중식,235,',\n",
       " '2,김밥,분식,32,',\n",
       " '3,떡볶이,분식,534,',\n",
       " '4,라멘,일식,223,',\n",
       " '5,돈가스,일식,52,',\n",
       " '6,우동,일식,12,',\n",
       " '7,쌀국수,아시안,312,',\n",
       " '8,햄버거,패스트푸드,12,',\n",
       " '9,치킨,패스트푸드,23']"
      ]
     },
     "execution_count": 5,
     "metadata": {},
     "output_type": "execute_result"
    }
   ],
   "source": [
    "# collect(): rdd 내의 데이터를 모두 출력\n",
    "lines.collect()"
   ]
  },
  {
   "cell_type": "code",
   "execution_count": 6,
   "id": "5ac90185",
   "metadata": {},
   "outputs": [
    {
     "name": "stderr",
     "output_type": "stream",
     "text": [
      "                                                                                \r"
     ]
    },
    {
     "data": {
      "text/plain": [
       "PythonRDD[3] at RDD at PythonRDD.scala:53"
      ]
     },
     "execution_count": 6,
     "metadata": {},
     "output_type": "execute_result"
    }
   ],
   "source": [
    "# header 제거\n",
    "header = lines.first()\n",
    "\n",
    "datas = lines.filter(lambda row : row != header)\n",
    "datas\n",
    "\n",
    "# 불변성 : 제거, 변경 등이 안됨\n",
    "# 이거 빼고 불러오는식으로 제거를 구현"
   ]
  },
  {
   "cell_type": "code",
   "execution_count": 7,
   "id": "18ba3ffc",
   "metadata": {},
   "outputs": [
    {
     "data": {
      "text/plain": [
       "['0,짜장면,중식,125,',\n",
       " '1,짬뽕,중식,235,',\n",
       " '2,김밥,분식,32,',\n",
       " '3,떡볶이,분식,534,',\n",
       " '4,라멘,일식,223,',\n",
       " '5,돈가스,일식,52,',\n",
       " '6,우동,일식,12,',\n",
       " '7,쌀국수,아시안,312,',\n",
       " '8,햄버거,패스트푸드,12,',\n",
       " '9,치킨,패스트푸드,23']"
      ]
     },
     "execution_count": 7,
     "metadata": {},
     "output_type": "execute_result"
    }
   ],
   "source": [
    "datas.collect()"
   ]
  },
  {
   "cell_type": "code",
   "execution_count": 9,
   "id": "0e19e52b",
   "metadata": {
    "scrolled": true
   },
   "outputs": [
    {
     "data": {
      "text/plain": [
       "'0,짜장면,중식,125,'"
      ]
     },
     "execution_count": 9,
     "metadata": {},
     "output_type": "execute_result"
    }
   ],
   "source": [
    "datas.collect()[0]\n",
    "# 문자열 \n",
    "# 문자열을 내가 원하는 형태로 바꿔주는 행위 : parsing"
   ]
  },
  {
   "cell_type": "markdown",
   "id": "8bb3f3eb",
   "metadata": {},
   "source": [
    "카테고리 별 리뷰 개수 평균 구하기"
   ]
  },
  {
   "cell_type": "code",
   "execution_count": 11,
   "id": "232cd03b",
   "metadata": {},
   "outputs": [],
   "source": [
    "# 2,3 번 필드 가져오기\n",
    "\n",
    "# parsing path 지정\n",
    "def parse_task(row):\n",
    "    # 2번, 3번 필드 반환. 단, 3번 필드는 정수로 리턴\n",
    "    fields = row.split(',')\n",
    "    \n",
    "    category = fields[2]\n",
    "    review_cnt = int(fields[3])\n",
    "    \n",
    "    return category, review_cnt"
   ]
  },
  {
   "cell_type": "code",
   "execution_count": 12,
   "id": "759eac14",
   "metadata": {},
   "outputs": [
    {
     "data": {
      "text/plain": [
       "('중식', 125)"
      ]
     },
     "execution_count": 12,
     "metadata": {},
     "output_type": "execute_result"
    }
   ],
   "source": [
    "parse_task('0,짜장면,중식,125,')"
   ]
  },
  {
   "cell_type": "markdown",
   "id": "825fcd17",
   "metadata": {},
   "source": [
    "RDD 내의 모든 데이터에 대해 `parse_task`함수를 적용 후 추출(map)"
   ]
  },
  {
   "cell_type": "code",
   "execution_count": null,
   "id": "d0c3d39f",
   "metadata": {},
   "outputs": [],
   "source": [
    "# RDD(datas)에 task 적용 시킨 새로운 RDD 만들기 "
   ]
  },
  {
   "cell_type": "code",
   "execution_count": 13,
   "id": "0e43d8cf",
   "metadata": {},
   "outputs": [
    {
     "data": {
      "text/plain": [
       "PythonRDD[4] at RDD at PythonRDD.scala:53"
      ]
     },
     "execution_count": 13,
     "metadata": {},
     "output_type": "execute_result"
    }
   ],
   "source": [
    "category_reviews = datas.map(parse_task)\n",
    "category_reviews"
   ]
  },
  {
   "cell_type": "code",
   "execution_count": 14,
   "id": "d648955a",
   "metadata": {},
   "outputs": [
    {
     "data": {
      "text/plain": [
       "[('중식', 125),\n",
       " ('중식', 235),\n",
       " ('분식', 32),\n",
       " ('분식', 534),\n",
       " ('일식', 223),\n",
       " ('일식', 52),\n",
       " ('일식', 12),\n",
       " ('아시안', 312),\n",
       " ('패스트푸드', 12),\n",
       " ('패스트푸드', 23)]"
      ]
     },
     "execution_count": 14,
     "metadata": {},
     "output_type": "execute_result"
    }
   ],
   "source": [
    "category_reviews.collect() #key-Value RDD"
   ]
  },
  {
   "cell_type": "code",
   "execution_count": 15,
   "id": "a743982b",
   "metadata": {},
   "outputs": [
    {
     "data": {
      "text/plain": [
       "[('중식', (125, 1)),\n",
       " ('중식', (235, 1)),\n",
       " ('분식', (32, 1)),\n",
       " ('분식', (534, 1)),\n",
       " ('일식', (223, 1)),\n",
       " ('일식', (52, 1)),\n",
       " ('일식', (12, 1)),\n",
       " ('아시안', (312, 1)),\n",
       " ('패스트푸드', (12, 1)),\n",
       " ('패스트푸드', (23, 1))]"
      ]
     },
     "execution_count": 15,
     "metadata": {},
     "output_type": "execute_result"
    }
   ],
   "source": [
    "# 카테고리 별 리뷰 개수 평균\n",
    "\n",
    "# 데이터 개수 구하기\n",
    "# value에 값을 하나 더 (변환(T)가 한번 더)\n",
    "# '중식',(125,1)\n",
    "#  key , value\n",
    "\n",
    "# value에 대한 변환 : mapValues\n",
    "category_review_count = category_reviews.mapValues(lambda x : (x, 1))\n",
    "category_review_count.collect()\n",
    "\n",
    "# 파티션(key) 변경없이 value에서만 변환이 일어남\n",
    "# key_value RDD 에서는 value 만 변경하는 것이 좋음"
   ]
  },
  {
   "cell_type": "markdown",
   "id": "ba3b6ab2",
   "metadata": {},
   "source": [
    "reduceByKey를 이용해 `Key`별 `Value`에 대한 집계를 수행. 집계 Task 정의가 필요하다(함수)"
   ]
  },
  {
   "cell_type": "code",
   "execution_count": 17,
   "id": "c00fb669",
   "metadata": {
    "scrolled": true
   },
   "outputs": [
    {
     "name": "stderr",
     "output_type": "stream",
     "text": [
      "                                                                                \r"
     ]
    },
    {
     "data": {
      "text/plain": [
       "[('중식', (360, 2)),\n",
       " ('분식', (566, 2)),\n",
       " ('일식', (287, 3)),\n",
       " ('아시안', (312, 1)),\n",
       " ('패스트푸드', (35, 2))]"
      ]
     },
     "execution_count": 17,
     "metadata": {},
     "output_type": "execute_result"
    }
   ],
   "source": [
    "reduced = category_review_count.reduceByKey(lambda x, y : (x[0] + y[0], x[1] + y[1]))\n",
    "reduced.collect()"
   ]
  },
  {
   "cell_type": "code",
   "execution_count": null,
   "id": "de38c465",
   "metadata": {},
   "outputs": [],
   "source": [
    "#x : 누적값, y : 새로운 값\n",
    "#첫번째 중식에 대한 Value가 x에 들어감\n",
    "#키 별로 연산함 그래서 reduceByKey"
   ]
  },
  {
   "cell_type": "code",
   "execution_count": 18,
   "id": "f82d576d",
   "metadata": {},
   "outputs": [
    {
     "data": {
      "text/plain": [
       "[('중식', 180.0),\n",
       " ('분식', 283.0),\n",
       " ('일식', 95.66666666666667),\n",
       " ('아시안', 312.0),\n",
       " ('패스트푸드', 17.5)]"
      ]
     },
     "execution_count": 18,
     "metadata": {},
     "output_type": "execute_result"
    }
   ],
   "source": [
    "average = reduced.mapValues(lambda x : x[0] / x[1])\n",
    "average.collect()"
   ]
  },
  {
   "cell_type": "code",
   "execution_count": 19,
   "id": "e70feed8",
   "metadata": {},
   "outputs": [],
   "source": [
    "sc.stop()"
   ]
  },
  {
   "cell_type": "code",
   "execution_count": null,
   "id": "3925405e",
   "metadata": {},
   "outputs": [],
   "source": []
  },
  {
   "cell_type": "code",
   "execution_count": null,
   "id": "cc94e999",
   "metadata": {},
   "outputs": [],
   "source": []
  }
 ],
 "metadata": {
  "kernelspec": {
   "display_name": "Python 3 (ipykernel)",
   "language": "python",
   "name": "python3"
  },
  "language_info": {
   "codemirror_mode": {
    "name": "ipython",
    "version": 3
   },
   "file_extension": ".py",
   "mimetype": "text/x-python",
   "name": "python",
   "nbconvert_exporter": "python",
   "pygments_lexer": "ipython3",
   "version": "3.8.16"
  }
 },
 "nbformat": 4,
 "nbformat_minor": 5
}
