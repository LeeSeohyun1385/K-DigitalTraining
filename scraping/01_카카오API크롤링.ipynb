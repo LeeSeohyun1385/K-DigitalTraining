{
  "cells": [
    {
      "cell_type": "markdown",
      "metadata": {
        "id": "U43ntpIu_L1T"
      },
      "source": [
        "포털사이트에서 수집하기"
      ]
    },
    {
      "cell_type": "code",
      "execution_count": null,
      "metadata": {
        "id": "B-rQNdXezHzW"
      },
      "outputs": [],
      "source": [
        "KAKAO_API_KEY =\"7de6c80b6c37f17988a662ea5e495ace\"\n",
        "KAKAO_WEB_SEARCH_URL = \"https://dapi.kakao.com/v2/search/web?query={}\""
      ]
    },
    {
      "cell_type": "code",
      "execution_count": null,
      "metadata": {
        "id": "EMJ_oVDez-7s"
      },
      "outputs": [],
      "source": [
        "#인가 정보\n",
        "header = {\n",
        "    \"Authorization\": \"KakaoAK {}\".format(KAKAO_API_KEY)\n",
        "}\n",
        "header\n",
        "# $, {} JavsScript언어라 사용안함"
      ]
    },
    {
      "cell_type": "markdown",
      "metadata": {
        "id": "Siosa5rF1a_P"
      },
      "source": [
        "파이썬 프로그램으로 요청\n",
        "  - urlib\n",
        "  - requests"
      ]
    },
    {
      "cell_type": "code",
      "execution_count": null,
      "metadata": {
        "id": "TkdSa8Dd1SNq"
      },
      "outputs": [],
      "source": [
        "import requests\n",
        "#\"GET방식으로 요청해라\"\n",
        "response = requests.get(\n",
        "    KAKAO_WEB_SEARCH_URL.format(\"배틀그라운드\"),\n",
        "    headers = header\n",
        ")\n",
        "\n",
        "response\n",
        "#200 : 성공코드"
      ]
    },
    {
      "cell_type": "code",
      "execution_count": null,
      "metadata": {
        "id": "A34FPkrH28b1"
      },
      "outputs": [],
      "source": [
        "response.status_code"
      ]
    },
    {
      "cell_type": "code",
      "execution_count": null,
      "metadata": {
        "id": "nFEhCMpC85iF"
      },
      "outputs": [],
      "source": [
        "#response.content : html&css&js 같은 페이지 코드를 가져올 때 사용\n",
        "#서버가 보내는 문자열\n",
        "\n",
        "#response.json() : 시리얼라이즈 된 json 데이터를 자동으로 디시얼라이즈 해줌\n",
        "datas = response.json()\n",
        "datas"
      ]
    },
    {
      "cell_type": "code",
      "execution_count": null,
      "metadata": {
        "id": "-3DtIOWP-PF1"
      },
      "outputs": [],
      "source": [
        "datas.keys()"
      ]
    },
    {
      "cell_type": "code",
      "execution_count": null,
      "metadata": {
        "id": "3M24Hnz0-Spp"
      },
      "outputs": [],
      "source": [
        "#JSON 데이터를 여러 개 나열한 JSONArray\n",
        "documents = datas['documents']\n",
        "documents"
      ]
    },
    {
      "cell_type": "code",
      "execution_count": null,
      "metadata": {
        "id": "OTF7FNtK-38I"
      },
      "outputs": [],
      "source": [
        "# JSONArray를 Pandas 데이터 프레임으로 만들기\n",
        "import pandas as pd\n",
        "\n",
        "pd.DataFrame(documents)"
      ]
    }
  ],
  "metadata": {
    "colab": {
      "private_outputs": true,
      "provenance": []
    },
    "kernelspec": {
      "display_name": "Python 3",
      "name": "python3"
    },
    "language_info": {
      "name": "python"
    }
  },
  "nbformat": 4,
  "nbformat_minor": 0
}
