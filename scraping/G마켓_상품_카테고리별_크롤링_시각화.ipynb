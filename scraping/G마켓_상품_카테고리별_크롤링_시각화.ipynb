{
  "cells": [
    {
      "cell_type": "code",
      "execution_count": 1,
      "metadata": {
        "id": "5MWj4AviMu9r"
      },
      "outputs": [],
      "source": [
        "import requests\n",
        "from bs4 import BeautifulSoup"
      ]
    },
    {
      "cell_type": "code",
      "execution_count": 2,
      "metadata": {
        "id": "bwOZIwZUOWy5"
      },
      "outputs": [],
      "source": [
        "GMARKET_BEST_PRODUCT_URL = \"https://corners.gmarket.co.kr/BestSellers\""
      ]
    },
    {
      "cell_type": "code",
      "execution_count": 3,
      "metadata": {
        "id": "Km2NwFUrOWuv"
      },
      "outputs": [],
      "source": [
        "res = requests.get(GMARKET_BEST_PRODUCT_URL)"
      ]
    },
    {
      "cell_type": "code",
      "execution_count": null,
      "metadata": {
        "id": "WvvU9N3oOWpR"
      },
      "outputs": [],
      "source": [
        "soup = BeautifulSoup(res.content, 'html.parser')\n",
        "soup"
      ]
    },
    {
      "cell_type": "code",
      "execution_count": 5,
      "metadata": {
        "id": "a5LrStUjOWbE"
      },
      "outputs": [
        {
          "data": {
            "text/plain": [
              "67"
            ]
          },
          "execution_count": 5,
          "metadata": {},
          "output_type": "execute_result"
        }
      ],
      "source": [
        "#패션의류 상세페이지 카테고리 url\n",
        "categori_url = \"https://corners.gmarket.co.kr/\" + soup.select_one(\"#categoryTabG > li:nth-child(2) > a\")['href']\n",
        "\n",
        "len(categori_url)"
      ]
    },
    {
      "cell_type": "code",
      "execution_count": null,
      "metadata": {
        "id": "bXHcbrj-Rsuc"
      },
      "outputs": [],
      "source": [
        "c_res = requests.get(categori_url)\n",
        "c_soup = BeautifulSoup(c_res.content, 'html.parser')\n",
        "c_soup"
      ]
    },
    {
      "cell_type": "code",
      "execution_count": 7,
      "metadata": {
        "id": "hkRAjCTLQkvj"
      },
      "outputs": [
        {
          "data": {
            "text/plain": [
              "'16500'"
            ]
          },
          "execution_count": 7,
          "metadata": {},
          "output_type": "execute_result"
        }
      ],
      "source": [
        "#가격\n",
        "import re\n",
        "price = c_soup.select_one(\"div.best-list > ul > li > div.item_price > div.s-price > strong > span\").text\n",
        "price = re.sub(r'[^0-9]', '', price)\n",
        "price"
      ]
    },
    {
      "cell_type": "code",
      "execution_count": 8,
      "metadata": {
        "id": "GhDYRmDV4JL1"
      },
      "outputs": [
        {
          "name": "stdout",
          "output_type": "stream",
          "text": [
            "[['16500', '39000', '14900', '26000', '19900', '14800', '13950', '11900', '7800', '12500', '18900', '9900', '10000', '11900', '30000', '14900', '16900', '6900', '15900', '39900', '14900', '14900', '22000', '12900', '20900', '29900', '12800', '15900', '27000', '16500', '17800', '19750', '19900', '29000', '14900', '29900', '12900', '39900', '14900', '11900', '12900', '59000', '39000', '13900', '12900', '24900', '24900', '19900', '29900', '10000', '15900', '39000', '12900', '22900', '17900', '8900', '15500', '14900', '14900', '7900', '15900', '7900', '35000', '8900', '19800', '19100', '79000', '11900', '18500', '16900', '18600', '15920', '39000', '29900', '17900', '27000', '15900', '111300', '9900', '29900', '111300', '12900', '12800', '13900', '12900', '21900', '11900', '18000', '23500', '29900', '11900', '15900', '15800', '199500', '29000', '14900', '15900', '12900', '63200', '11900'], ['16900', '19650', '12900', '9500', '10000', '19650', '11700', '19650', '19200', '19650', '9800', '17900', '7900', '8900', '14900', '19650', '28800', '8220', '17820', '13920', '11900', '54120', '34300', '10950', '39780', '13400', '7470', '41650', '16910', '39000', '10000', '92880', '119000', '19650', '48300', '11800', '15800', '17400', '12900', '19800', '43900', '9900', '21900', '7700', '8900', '8910', '8500', '8490', '14800', '19650', '10910', '10900', '15800', '6900', '42300', '9900', '12800', '49910', '65000', '39000', '24800', '6900', '12900', '29910', '56620', '74000', '9900', '25800', '6900', '26900', '19650', '12900', '11900', '29900', '32000', '34300', '11800', '16900', '13800', '8100', '94800', '13800', '9800', '11400', '17520', '365000', '34500', '25910', '25800', '6900', '14900', '17900', '71100', '11900', '19650', '27800', '49000', '16800', '8900', '48300'], ['17900', '26900', '38690', '15000', '41270', '15700', '18400', '25800', '16900', '26400', '16900', '39600', '26800', '24640', '9900', '26500', '26500', '35900', '9900', '38000', '26800', '23800', '34900', '18600', '21900', '22900', '29800', '39060', '25000', '32000', '15900', '25200', '15000', '21900', '31000', '6900', '10200', '12600', '24500', '27500', '64000', '33600', '32200', '16800', '31400', '50800', '69000', '19800', '29000', '11900', '129480', '36900', '22800', '21900', '43900', '19900', '25280', '18600', '22400', '20900', '148520', '10900', '9900', '25500', '26800', '15000', '39800', '15800', '54000', '38250', '22900', '18400', '41900', '17900', '15800', '22800', '22800', '58290', '28000', '9900', '24800', '30400', '10900', '20600', '9900', '89000', '19900', '28900', '17900', '38800', '35900', '19900', '31900', '22900', '19900', '18600', '19900', '34900', '42900', '20900'], ['12400', '34200', '31230', '23400', '9900', '14900', '15000', '15000', '114400', '24900', '47600', '7900', '96400', '30000', '73300', '24120', '140900', '59600', '28720', '23400', '29400', '29320', '32900', '98900', '10900', '13000', '12900', '21000', '18700', '15200', '16900', '13900', '7900', '24900', '11900', '29160', '30940', '127900', '10410', '25900', '24900', '20900', '11900', '18840', '37630', '10900', '33200', '9900', '25200', '19900', '16600', '28900', '10900', '13900', '15900', '9900', '13900', '81800', '24900', '29900', '73300', '73300', '37800', '33720', '11900', '22280', '9000', '15900', '17600', '87600', '42800', '67900', '7900', '37350', '47700', '45000', '35000', '47700', '47700', '53900', '43900', '12900', '31230', '12900', '30500', '20890', '82330', '8900', '46150', '15900', '7900', '61900', '26900', '37400', '19600', '67900', '11900', '13200', '53900', '53900'], ['29900', '18600', '19440', '14900', '19900', '17900', '26500', '137730', '28000', '23900', '17300', '21500', '33210', '67630', '42830', '44910', '38470', '22000', '16900', '30500', '33210', '17000', '24200', '14900', '26900', '22700', '40900', '27900', '17500', '39900', '25500', '32310', '41500', '22000', '23700', '30900', '27810', '26500', '14100', '30300', '24900', '78000', '28900', '15000', '44600', '27650', '44000', '22900', '20500', '16900', '24000', '26700', '87290', '26900', '20000', '12500', '23500', '29800', '18000', '14900', '18800', '33900', '14900', '23400', '35900', '21840', '40410', '89500', '24900', '26900', '24210', '36900', '32900', '15000', '59900', '38500', '39300', '29000', '25920', '24900', '59900', '22900', '13500', '122400', '16900', '17400', '18900', '26900', '20750', '47900', '35300', '31900', '85000', '29900', '24500', '32570', '57500', '47900', '5840', '25800'], ['34200', '17900', '31230', '50600', '15900', '23400', '43300', '30900', '34300', '24500', '30900', '31500', '35200', '35900', '53500', '28900', '21900', '38500', '15900', '14000', '28720', '10580', '23400', '37900', '47610', '45900', '16000', '25200', '37900', '29400', '18200', '9900', '35010', '15100', '33700', '18700', '15200', '16900', '14700', '44000', '34000', '35010', '27000', '23500', '6900', '40900', '59800', '15900', '18000', '15200', '25900', '29900', '33470', '11500', '11900', '26890', '23900', '37630', '47610', '11500', '19500', '29900', '33200', '12900', '31310', '16900', '25200', '11900', '21800', '46670', '42600', '15500', '49140', '56300', '48600', '26890', '43800', '13900', '19860', '60000', '33810', '35900', '14900', '26900', '22000', '33720', '12800', '28900', '26800', '17900', '49500', '17400', '29900', '47610', '51600', '43400', '12900', '38610', '12900', '38700'], ['12900', '25900', '9900', '9900', '14800', '15900', '10900', '80000', '6900', '34900', '12900', '39900', '12900', '18900', '17900', '23900', '21900', '19900', '9900', '19900', '29900', '37800', '16540', '14900', '25900', '29900', '99000', '28600', '16900', '26900', '16900', '69400', '29900', '94500', '18900', '12500', '12900', '19900', '25800', '39800', '39800', '22900', '30900', '16900', '23900', '7900', '34900', '19500', '17900', '24900', '39900', '20900', '32900', '55900', '39900', '6900', '11900', '19900', '35000', '67350', '25900', '59900', '53360', '69500', '14800', '28900', '14800', '216000', '17900', '24900', '15500', '556070', '26900', '21950', '179510', '47300', '19900', '39500', '15900', '15900', '65800', '17900', '49800', '69500', '79300', '22710', '91700', '16900', '18900', '25900', '18900', '28000', '18900', '8900', '13400', '51900', '13900', '126650', '36900', '35900'], ['10500', '29330', '47650', '39570', '15000', '37760', '9900', '29900', '22900', '20900', '8900', '41370', '20000', '17800', '47700', '27300', '23870', '49000', '12820', '29000', '85980', '21900', '39000', '55200', '22350', '58330', '44950', '16900', '14900', '39700', '36410', '100220', '12900', '54830', '15900', '72980', '39500', '17000', '10900', '31860', '60000', '19000', '58650', '21900', '32000', '39700', '36050', '42420', '29900', '34900', '28000', '31830', '35900', '38940', '310000', '49000', '56880', '31730', '27900', '41650', '9900', '52510', '39570', '23200', '116070', '19000', '29250', '19800', '21250', '30900', '39570', '48000', '58800', '9800', '104800', '41650', '35700', '47900', '18900', '78500', '13990', '27200', '39900', '31900', '42840', '76300', '52510', '79000', '108400', '39500', '49900', '34900', '16800', '35600', '39600', '42420', '37900', '22900', '49000', '50150'], ['26600', '18950', '982800', '243880', '156900', '219000', '67200', '119900', '17900', '111840', '49200', '68250', '32900', '739800', '97590', '454000', '43620', '39800', '789000', '33940', '35000', '144150', '159000', '58500', '262990', '69900', '749000', '20900', '49180', '141850', '19900', '38690', '1859000', '68250', '1555000', '89900', '29800', '208390', '879000', '1019000', '144690', '337420', '238210', '75000', '49900', '6900', '244140', '188400', '11900', '46500', '199000', '189150', '599000', '1324990', '25000', '200000', '33300', '119000', '49900', '101520', '156500', '775970', '34900', '79890', '35000', '299000', '8900', '30900', '20800', '39900', '49000', '20990', '67000', '1065990', '9900', '33800', '90330', '57220', '29800', '419900', '158480', '1349000', '31900', '285000', '489500', '65550', '36900', '39950', '1072580', '144000', '19800', '200000', '197000', '29900', '29900', '19900', '140250', '59900', '86390', '22900'], ['24880', '26120', '38640', '64480', '14110', '27000', '85500', '48800', '16000', '30000', '21000', '27000', '178500', '92400', '197120', '81000', '198000', '50000', '19840', '12600', '60000', '55000', '185800', '35000', '23400', '91000', '65000', '13850', '9450', '26000', '50400', '147900', '37500', '54000', '23100', '328000', '30000', '247120', '25200', '51000', '59110', '75600', '249000', '44100', '81450', '86500', '135600', '58000', '16000', '46550', '7410', '11850', '79900', '200560', '23510', '19900', '26250', '82800', '9900', '149000', '149000', '181800', '378560', '59720', '25200', '71240', '16920', '299000', '70800', '120000', '12500', '155000', '72800', '51000', '14400', '9900', '3900', '43480', '90650', '90750', '348000', '41050', '173500', '26000', '13000', '39900', '99000', '12000', '357000', '14850', '66840', '210600', '32000', '72000', '125580', '255700', '49000', '184000', '16800', '180000'], ['13860', '219000', '169000', '40850', '243640', '40260', '429000', '36480', '32500', '26790', '22080', '24840', '32300', '21150', '329900', '150400', '1890000', '276560', '38950', '213080', '15510', '24160', '21500', '263680', '30370', '22800', '420250', '93000', '255380', '145700', '72200', '387930', '181620', '88000', '285830', '33000', '20490', '75120', '399000', '532530', '151260', '86330', '109000', '115920', '76720', '21150', '23100', '62420', '9500', '146380', '42780', '20000', '89300', '93120', '56400', '51700', '84480', '111680', '96030', '269080', '513130', '749000', '291000', '54900', '155200', '678030', '22220', '21000', '22710', '12880', '108000', '58200', '31500', '290030', '120580', '74180', '69840', '16200', '13900', '122200', '78020', '155100', '51700', '549900', '103780', '85360', '24900', '40000', '16900', '76540', '59150', '111780', '202730', '28000', '13400', '140650', '73000', '55000', '35890', '38400'], ['46800', '46800', '47000', '46800', '95000', '28200', '8000', '96800', '47500', '46800', '190000', '28200', '47000', '46250', '47500', '47250', '28500', '9400', '9500', '950', '98000', '49000', '28200', '28500', '45000', '142500', '28200', '50000', '98000', '18800', '14250', '4750', '46500', '29400', '47000', '30000', '27000', '47000', '9500', '94000', '46500', '47000', '26100', '9000', '98000', '10000', '4750', '2850', '29100', '47100', '19200', '9700', '9400', '35150', '50000', '120000', '9600', '2850', '8700', '97260', '100000', '99500', '48500', '29250', '30000', '50000', '30000', '29100', '24750', '9500', '50000', '8700', '9700', '47000', '29100', '9500', '99500', '28800', '28200', '92500', '9700', '23620', '50000', '97260', '18900', '28500', '9500', '20790', '46000', '48000', '19400', '20000', '97500', '30000', '98000', '4850', '50000', '13500', '44000', '97700']]\n"
          ]
        }
      ],
      "source": [
        "import requests\n",
        "from bs4 import BeautifulSoup\n",
        "import re\n",
        "\n",
        "\n",
        "GMARKET_BEST_PRODUCT_URL = \"https://corners.gmarket.co.kr/BestSellers\"\n",
        "price_list = []\n",
        "\n",
        "for i in range(2, 14):\n",
        "\n",
        "  res = requests.get(GMARKET_BEST_PRODUCT_URL)\n",
        "  soup = BeautifulSoup(res.content, 'html.parser')\n",
        "\n",
        "  categori_url = \"https://corners.gmarket.co.kr\" + soup.select_one(f\"#categoryTabG > li:nth-child({i}) > a\")['href']\n",
        "\n",
        "  c_res = requests.get(categori_url)\n",
        "  c_soup = BeautifulSoup(c_res.content, 'html.parser')\n",
        "\n",
        "  ca_price_list = []\n",
        "\n",
        "  for j in range(1,101):\n",
        "    price = c_soup.select_one(f\"div.best-list > ul> li:nth-child({j}) > div.item_price > div.s-price > strong > span\").text\n",
        "    price = re.sub(r'[^0-9]', '', price)\n",
        "    ca_price_list.append(price)\n",
        "  price_list.append(ca_price_list)\n",
        "\n",
        "print(price_list)\n"
      ]
    },
    {
      "cell_type": "code",
      "execution_count": 9,
      "metadata": {
        "id": "TqivWtoo4JIR"
      },
      "outputs": [],
      "source": [
        "import pandas as pd \n",
        "catregori_price_df = pd.DataFrame(price_list).transpose()"
      ]
    },
    {
      "cell_type": "code",
      "execution_count": 10,
      "metadata": {
        "id": "F3AfLT7z4JBP"
      },
      "outputs": [],
      "source": [
        "catregori_price_df.columns = ['패션의류','신발/잡화','화장품/헤어','유아동/출산','식품','생활/주방/건강','가구/침구','스포츠/자동차','컴퓨터/전자','도서/음반','여행','e쿠폰']"
      ]
    },
    {
      "cell_type": "code",
      "execution_count": 11,
      "metadata": {
        "id": "oRxpEPsB4I7L"
      },
      "outputs": [
        {
          "data": {
            "text/html": [
              "<div>\n",
              "<style scoped>\n",
              "    .dataframe tbody tr th:only-of-type {\n",
              "        vertical-align: middle;\n",
              "    }\n",
              "\n",
              "    .dataframe tbody tr th {\n",
              "        vertical-align: top;\n",
              "    }\n",
              "\n",
              "    .dataframe thead th {\n",
              "        text-align: right;\n",
              "    }\n",
              "</style>\n",
              "<table border=\"1\" class=\"dataframe\">\n",
              "  <thead>\n",
              "    <tr style=\"text-align: right;\">\n",
              "      <th></th>\n",
              "      <th>패션의류</th>\n",
              "      <th>신발/잡화</th>\n",
              "      <th>화장품/헤어</th>\n",
              "      <th>유아동/출산</th>\n",
              "      <th>식품</th>\n",
              "      <th>생활/주방/건강</th>\n",
              "      <th>가구/침구</th>\n",
              "      <th>스포츠/자동차</th>\n",
              "      <th>컴퓨터/전자</th>\n",
              "      <th>도서/음반</th>\n",
              "      <th>여행</th>\n",
              "      <th>e쿠폰</th>\n",
              "    </tr>\n",
              "  </thead>\n",
              "  <tbody>\n",
              "    <tr>\n",
              "      <th>0</th>\n",
              "      <td>16500</td>\n",
              "      <td>16900</td>\n",
              "      <td>17900</td>\n",
              "      <td>12400</td>\n",
              "      <td>29900</td>\n",
              "      <td>34200</td>\n",
              "      <td>12900</td>\n",
              "      <td>10500</td>\n",
              "      <td>26600</td>\n",
              "      <td>24880</td>\n",
              "      <td>13860</td>\n",
              "      <td>46800</td>\n",
              "    </tr>\n",
              "    <tr>\n",
              "      <th>1</th>\n",
              "      <td>39000</td>\n",
              "      <td>19650</td>\n",
              "      <td>26900</td>\n",
              "      <td>34200</td>\n",
              "      <td>18600</td>\n",
              "      <td>17900</td>\n",
              "      <td>25900</td>\n",
              "      <td>29330</td>\n",
              "      <td>18950</td>\n",
              "      <td>26120</td>\n",
              "      <td>219000</td>\n",
              "      <td>46800</td>\n",
              "    </tr>\n",
              "    <tr>\n",
              "      <th>2</th>\n",
              "      <td>14900</td>\n",
              "      <td>12900</td>\n",
              "      <td>38690</td>\n",
              "      <td>31230</td>\n",
              "      <td>19440</td>\n",
              "      <td>31230</td>\n",
              "      <td>9900</td>\n",
              "      <td>47650</td>\n",
              "      <td>982800</td>\n",
              "      <td>38640</td>\n",
              "      <td>169000</td>\n",
              "      <td>47000</td>\n",
              "    </tr>\n",
              "    <tr>\n",
              "      <th>3</th>\n",
              "      <td>26000</td>\n",
              "      <td>9500</td>\n",
              "      <td>15000</td>\n",
              "      <td>23400</td>\n",
              "      <td>14900</td>\n",
              "      <td>50600</td>\n",
              "      <td>9900</td>\n",
              "      <td>39570</td>\n",
              "      <td>243880</td>\n",
              "      <td>64480</td>\n",
              "      <td>40850</td>\n",
              "      <td>46800</td>\n",
              "    </tr>\n",
              "    <tr>\n",
              "      <th>4</th>\n",
              "      <td>19900</td>\n",
              "      <td>10000</td>\n",
              "      <td>41270</td>\n",
              "      <td>9900</td>\n",
              "      <td>19900</td>\n",
              "      <td>15900</td>\n",
              "      <td>14800</td>\n",
              "      <td>15000</td>\n",
              "      <td>156900</td>\n",
              "      <td>14110</td>\n",
              "      <td>243640</td>\n",
              "      <td>95000</td>\n",
              "    </tr>\n",
              "    <tr>\n",
              "      <th>...</th>\n",
              "      <td>...</td>\n",
              "      <td>...</td>\n",
              "      <td>...</td>\n",
              "      <td>...</td>\n",
              "      <td>...</td>\n",
              "      <td>...</td>\n",
              "      <td>...</td>\n",
              "      <td>...</td>\n",
              "      <td>...</td>\n",
              "      <td>...</td>\n",
              "      <td>...</td>\n",
              "      <td>...</td>\n",
              "    </tr>\n",
              "    <tr>\n",
              "      <th>95</th>\n",
              "      <td>14900</td>\n",
              "      <td>27800</td>\n",
              "      <td>18600</td>\n",
              "      <td>67900</td>\n",
              "      <td>32570</td>\n",
              "      <td>43400</td>\n",
              "      <td>51900</td>\n",
              "      <td>42420</td>\n",
              "      <td>19900</td>\n",
              "      <td>255700</td>\n",
              "      <td>140650</td>\n",
              "      <td>4850</td>\n",
              "    </tr>\n",
              "    <tr>\n",
              "      <th>96</th>\n",
              "      <td>15900</td>\n",
              "      <td>49000</td>\n",
              "      <td>19900</td>\n",
              "      <td>11900</td>\n",
              "      <td>57500</td>\n",
              "      <td>12900</td>\n",
              "      <td>13900</td>\n",
              "      <td>37900</td>\n",
              "      <td>140250</td>\n",
              "      <td>49000</td>\n",
              "      <td>73000</td>\n",
              "      <td>50000</td>\n",
              "    </tr>\n",
              "    <tr>\n",
              "      <th>97</th>\n",
              "      <td>12900</td>\n",
              "      <td>16800</td>\n",
              "      <td>34900</td>\n",
              "      <td>13200</td>\n",
              "      <td>47900</td>\n",
              "      <td>38610</td>\n",
              "      <td>126650</td>\n",
              "      <td>22900</td>\n",
              "      <td>59900</td>\n",
              "      <td>184000</td>\n",
              "      <td>55000</td>\n",
              "      <td>13500</td>\n",
              "    </tr>\n",
              "    <tr>\n",
              "      <th>98</th>\n",
              "      <td>63200</td>\n",
              "      <td>8900</td>\n",
              "      <td>42900</td>\n",
              "      <td>53900</td>\n",
              "      <td>5840</td>\n",
              "      <td>12900</td>\n",
              "      <td>36900</td>\n",
              "      <td>49000</td>\n",
              "      <td>86390</td>\n",
              "      <td>16800</td>\n",
              "      <td>35890</td>\n",
              "      <td>44000</td>\n",
              "    </tr>\n",
              "    <tr>\n",
              "      <th>99</th>\n",
              "      <td>11900</td>\n",
              "      <td>48300</td>\n",
              "      <td>20900</td>\n",
              "      <td>53900</td>\n",
              "      <td>25800</td>\n",
              "      <td>38700</td>\n",
              "      <td>35900</td>\n",
              "      <td>50150</td>\n",
              "      <td>22900</td>\n",
              "      <td>180000</td>\n",
              "      <td>38400</td>\n",
              "      <td>97700</td>\n",
              "    </tr>\n",
              "  </tbody>\n",
              "</table>\n",
              "<p>100 rows × 12 columns</p>\n",
              "</div>"
            ],
            "text/plain": [
              "     패션의류  신발/잡화 화장품/헤어 유아동/출산     식품 생활/주방/건강   가구/침구 스포츠/자동차  컴퓨터/전자  \\\n",
              "0   16500  16900  17900  12400  29900    34200   12900   10500   26600   \n",
              "1   39000  19650  26900  34200  18600    17900   25900   29330   18950   \n",
              "2   14900  12900  38690  31230  19440    31230    9900   47650  982800   \n",
              "3   26000   9500  15000  23400  14900    50600    9900   39570  243880   \n",
              "4   19900  10000  41270   9900  19900    15900   14800   15000  156900   \n",
              "..    ...    ...    ...    ...    ...      ...     ...     ...     ...   \n",
              "95  14900  27800  18600  67900  32570    43400   51900   42420   19900   \n",
              "96  15900  49000  19900  11900  57500    12900   13900   37900  140250   \n",
              "97  12900  16800  34900  13200  47900    38610  126650   22900   59900   \n",
              "98  63200   8900  42900  53900   5840    12900   36900   49000   86390   \n",
              "99  11900  48300  20900  53900  25800    38700   35900   50150   22900   \n",
              "\n",
              "     도서/음반      여행    e쿠폰  \n",
              "0    24880   13860  46800  \n",
              "1    26120  219000  46800  \n",
              "2    38640  169000  47000  \n",
              "3    64480   40850  46800  \n",
              "4    14110  243640  95000  \n",
              "..     ...     ...    ...  \n",
              "95  255700  140650   4850  \n",
              "96   49000   73000  50000  \n",
              "97  184000   55000  13500  \n",
              "98   16800   35890  44000  \n",
              "99  180000   38400  97700  \n",
              "\n",
              "[100 rows x 12 columns]"
            ]
          },
          "execution_count": 11,
          "metadata": {},
          "output_type": "execute_result"
        }
      ],
      "source": [
        "catregori_price_df"
      ]
    },
    {
      "cell_type": "code",
      "execution_count": 12,
      "metadata": {
        "id": "WHYwZKDh-9bS"
      },
      "outputs": [
        {
          "name": "stdout",
          "output_type": "stream",
          "text": [
            "<class 'pandas.core.frame.DataFrame'>\n",
            "RangeIndex: 100 entries, 0 to 99\n",
            "Data columns (total 12 columns):\n",
            " #   Column    Non-Null Count  Dtype \n",
            "---  ------    --------------  ----- \n",
            " 0   패션의류      100 non-null    object\n",
            " 1   신발/잡화     100 non-null    object\n",
            " 2   화장품/헤어    100 non-null    object\n",
            " 3   유아동/출산    100 non-null    object\n",
            " 4   식품        100 non-null    object\n",
            " 5   생활/주방/건강  100 non-null    object\n",
            " 6   가구/침구     100 non-null    object\n",
            " 7   스포츠/자동차   100 non-null    object\n",
            " 8   컴퓨터/전자    100 non-null    object\n",
            " 9   도서/음반     100 non-null    object\n",
            " 10  여행        100 non-null    object\n",
            " 11  e쿠폰       100 non-null    object\n",
            "dtypes: object(12)\n",
            "memory usage: 9.5+ KB\n"
          ]
        }
      ],
      "source": [
        "catregori_price_df.info()"
      ]
    },
    {
      "cell_type": "code",
      "execution_count": 13,
      "metadata": {
        "id": "H3VvHuV0-_61"
      },
      "outputs": [],
      "source": [
        "catregori_price_df = catregori_price_df.astype(int)"
      ]
    },
    {
      "cell_type": "code",
      "execution_count": 14,
      "metadata": {
        "id": "LVL4KVO44I1C"
      },
      "outputs": [
        {
          "data": {
            "text/plain": [
              "패션의류         23771.2\n",
              "신발/잡화        27172.5\n",
              "화장품/헤어       28855.8\n",
              "유아동/출산       33446.2\n",
              "식품           32193.3\n",
              "생활/주방/건강     28948.8\n",
              "가구/침구        39330.4\n",
              "스포츠/자동차      40950.1\n",
              "컴퓨터/전자      237588.8\n",
              "도서/음반        85081.4\n",
              "여행          146999.6\n",
              "e쿠폰          42629.3\n",
              "dtype: float64"
            ]
          },
          "execution_count": 14,
          "metadata": {},
          "output_type": "execute_result"
        }
      ],
      "source": [
        "# 평균\n",
        "catregori_price_df.mean()"
      ]
    },
    {
      "cell_type": "code",
      "execution_count": 15,
      "metadata": {
        "id": "C4pjV3Sw-j6j"
      },
      "outputs": [],
      "source": [
        "#평균 시각화"
      ]
    },
    {
      "cell_type": "code",
      "execution_count": 16,
      "metadata": {
        "id": "T35eRj6t-juL"
      },
      "outputs": [],
      "source": [
        "#!sudo apt-get install -y fonts-nanum\n",
        "#!sudo fc-cache -fv\n",
        "#!rm ~/.cache/matplotlib -rf"
      ]
    },
    {
      "cell_type": "code",
      "execution_count": 17,
      "metadata": {
        "id": "dEMtWePTBYV4"
      },
      "outputs": [],
      "source": [
        "import matplotlib.pyplot as plt\n",
        "plt.rc('font', family = \"NanumBarunGothic\")"
      ]
    },
    {
      "cell_type": "code",
      "execution_count": 29,
      "metadata": {},
      "outputs": [],
      "source": [
        "plt.rc(\"font\", family=\"Malgun Gothic\")"
      ]
    },
    {
      "cell_type": "code",
      "execution_count": 30,
      "metadata": {
        "id": "0dEhCMJu_sA8"
      },
      "outputs": [
        {
          "data": {
            "image/png": "[encoded data removed]",
            "text/plain": [
              "<Figure size 1500x500 with 1 Axes>"
            ]
          },
          "metadata": {},
          "output_type": "display_data"
        }
      ],
      "source": [
        "plt.figure(figsize=(15, 5)) \n",
        "plt.bar(catregori_price_df.columns,catregori_price_df.mean())\n",
        "plt.ylabel(\"가격평균\")\n",
        "plt.title(\"카테고리\")\n",
        "plt.show()"
      ]
    },
    {
      "cell_type": "code",
      "execution_count": 19,
      "metadata": {
        "id": "h3RoRKKeXUHS"
      },
      "outputs": [],
      "source": [
        "# 상위50 하위50"
      ]
    },
    {
      "cell_type": "code",
      "execution_count": 20,
      "metadata": {
        "id": "jFF4W0PW_r57"
      },
      "outputs": [],
      "source": [
        "upper_price = catregori_price_df.head(int(len(catregori_price_df)*0.5))\n",
        "lower_price = catregori_price_df.tail(int(len(catregori_price_df)*0.5))"
      ]
    },
    {
      "cell_type": "code",
      "execution_count": 21,
      "metadata": {
        "id": "iXC3CW_s_r0v"
      },
      "outputs": [
        {
          "data": {
            "text/plain": [
              "패션의류         19966.0\n",
              "신발/잡화        21925.4\n",
              "화장품/헤어       26431.2\n",
              "유아동/출산       32451.4\n",
              "식품           30702.0\n",
              "생활/주방/건강     28253.2\n",
              "가구/침구        26526.8\n",
              "스포츠/자동차      34148.0\n",
              "컴퓨터/전자      262270.6\n",
              "도서/음반        73272.4\n",
              "여행          168409.8\n",
              "e쿠폰          44405.0\n",
              "dtype: float64"
            ]
          },
          "execution_count": 21,
          "metadata": {},
          "output_type": "execute_result"
        }
      ],
      "source": [
        "upper_price.mean()"
      ]
    },
    {
      "cell_type": "code",
      "execution_count": 22,
      "metadata": {
        "id": "gwMJOWPB_ruR"
      },
      "outputs": [
        {
          "data": {
            "text/plain": [
              "패션의류         27576.4\n",
              "신발/잡화        32419.6\n",
              "화장품/헤어       31280.4\n",
              "유아동/출산       34441.0\n",
              "식품           33684.6\n",
              "생활/주방/건강     29644.4\n",
              "가구/침구        52134.0\n",
              "스포츠/자동차      47752.2\n",
              "컴퓨터/전자      212907.0\n",
              "도서/음반        96890.4\n",
              "여행          125589.4\n",
              "e쿠폰          40853.6\n",
              "dtype: float64"
            ]
          },
          "execution_count": 22,
          "metadata": {},
          "output_type": "execute_result"
        }
      ],
      "source": [
        "lower_price.mean()"
      ]
    },
    {
      "cell_type": "code",
      "execution_count": 27,
      "metadata": {},
      "outputs": [],
      "source": [
        "plt.rc(\"font\", family=\"Malgun Gothic\")"
      ]
    },
    {
      "cell_type": "code",
      "execution_count": 28,
      "metadata": {
        "id": "S-m8lDc0YQej"
      },
      "outputs": [
        {
          "data": {
            "image/png": "[encoded data removed]",
            "text/plain": [
              "<Figure size 1500x500 with 1 Axes>"
            ]
          },
          "metadata": {},
          "output_type": "display_data"
        }
      ],
      "source": [
        "import numpy as np\n",
        "width = 0.35\n",
        "nrow = upper_price.mean().shape[0]\n",
        "idx = np.arange(nrow)\n",
        "\n",
        "\n",
        "fig, axes = plt.subplots(figsize=(15, 5))\n",
        "\n",
        "axes.bar(idx - width ,upper_price.mean(), width)\n",
        "axes.bar(idx ,lower_price.mean(), width)\n",
        "\n",
        "plt.xticks(idx, catregori_price_df.columns , rotation = 30)\n",
        "\n",
        "plt.ylabel(\"평균\")\n",
        "plt.xlabel(\"카테고리\")\n",
        "plt.legend([\"상위\",\"하위\"])\n",
        "plt.show()"
      ]
    }
  ],
  "metadata": {
    "colab": {
      "private_outputs": true,
      "provenance": []
    },
    "kernelspec": {
      "display_name": "Python 3",
      "name": "python3"
    },
    "language_info": {
      "codemirror_mode": {
        "name": "ipython",
        "version": 3
      },
      "file_extension": ".py",
      "mimetype": "text/x-python",
      "name": "python",
      "nbconvert_exporter": "python",
      "pygments_lexer": "ipython3",
      "version": "3.10.9"
    }
  },
  "nbformat": 4,
  "nbformat_minor": 0
}
