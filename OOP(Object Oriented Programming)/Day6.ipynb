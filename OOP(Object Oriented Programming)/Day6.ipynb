{
  "nbformat": 4,
  "nbformat_minor": 0,
  "metadata": {
    "colab": {
      "provenance": []
    },
    "kernelspec": {
      "name": "python3",
      "display_name": "Python 3"
    },
    "language_info": {
      "name": "python"
    }
  },
  "cells": [
    {
      "cell_type": "code",
      "execution_count": null,
      "metadata": {
        "id": "bJcPpT7oWskc"
      },
      "outputs": [],
      "source": [
        "[1,2,3,4].pop(0)\n",
        "[2,3,4].pop(0)\n",
        "[3,4].pop(0)\n",
        "[4].pop(0)\n",
        "[]\n",
        "l=[1,2,3,4]\n",
        "while l:\n",
        "  l.pop()\n",
        "  if len(l)==0:\n",
        "    break\n",
        "else:\n",
        "  print('종료')"
      ]
    },
    {
      "cell_type": "code",
      "source": [
        "n=input()[0]\n",
        "ord(n)-ord('A') "
      ],
      "metadata": {
        "id": "7pJi7enlY8iv"
      },
      "execution_count": null,
      "outputs": []
    },
    {
      "cell_type": "code",
      "source": [
        "l=[1,2,3]\n",
        "def f(in_x):\n",
        "  #원본 주정 없이 전달\n",
        "  x=in_x[:]#새로 만들기\n",
        "  x+=[10]\n",
        "  return x\n",
        "  '''\n",
        "  원본수정\n",
        "  x[0]=10\n",
        "  '''\n",
        "print(l)\n",
        "print(f(l))\n",
        "print(l)"
      ],
      "metadata": {
        "colab": {
          "base_uri": "https://localhost:8080/"
        },
        "id": "2_y6snMrbRS2",
        "outputId": "3462ba35-fb0e-4f3e-8aef-8677e6949dd4"
      },
      "execution_count": null,
      "outputs": [
        {
          "output_type": "stream",
          "name": "stdout",
          "text": [
            "(1, 2, 3)\n",
            "None\n",
            "(1, 2, 3)\n"
          ]
        }
      ]
    },
    {
      "cell_type": "code",
      "source": [
        "#한줄주석\n",
        "\"\"\"\n",
        "범위주석\n",
        "\"\"\""
      ],
      "metadata": {
        "id": "rijiLqExcmZE"
      },
      "execution_count": null,
      "outputs": []
    },
    {
      "cell_type": "markdown",
      "source": [
        "Q1"
      ],
      "metadata": {
        "id": "Od0rOgKhhNMi"
      }
    },
    {
      "cell_type": "code",
      "source": [
        "def Q1(n):\n",
        "  for i in range(n):\n",
        "    print(\"~!@#$^&*()_+|\")\n",
        "n=int(input(\"입력:\"))\n",
        "Q1(n)"
      ],
      "metadata": {
        "id": "c939M6TbhNFg"
      },
      "execution_count": null,
      "outputs": []
    },
    {
      "cell_type": "markdown",
      "source": [
        "Q2"
      ],
      "metadata": {
        "id": "rEf6o9jahM9M"
      }
    },
    {
      "cell_type": "code",
      "source": [
        "def Q2(a,b):\n",
        "    if(a==b):\n",
        "        print(\"두수의 값이 같습니다.\")\n",
        "        return\n",
        "    print(f\"두수중 큰수는{a if a>b else b} 작은수는 {b if a>b else a}\")\n",
        "    print(f\"큰수의 결과는{a//10 if a>b else b//10} 작은수의 결과는{b*10 if a>b else a*10}\")\n",
        "a,b=map(int,input(\"두 정수를 입력하시요:\").split())\n",
        "Q2(a,b)"
      ],
      "metadata": {
        "id": "0SMiEWONhMzI"
      },
      "execution_count": null,
      "outputs": []
    },
    {
      "cell_type": "markdown",
      "source": [
        "Q3"
      ],
      "metadata": {
        "id": "VALJVJ-XhHOg"
      }
    },
    {
      "cell_type": "code",
      "source": [
        "def Q3(n):\n",
        "  iSum = 0\n",
        "  for i in range(n+1):\n",
        "    iSum += i\n",
        "  print(iSum)\n",
        "while True:\n",
        "  a=int(input(\"입력:\"))\n",
        "  if 1 <= a <= 1000:\n",
        "    break\n",
        "  print('1~1000까지의 정수만 입력가능합니다')\n",
        "Q3(a)"
      ],
      "metadata": {
        "id": "nRB40KeNhHIW"
      },
      "execution_count": null,
      "outputs": []
    },
    {
      "cell_type": "markdown",
      "source": [
        "Q4"
      ],
      "metadata": {
        "id": "WEvhY2H1hHCT"
      }
    },
    {
      "cell_type": "code",
      "source": [
        "def Q4(i):\n",
        "    print(i,end=\" \")\n",
        "    if (i > 1):\n",
        "        Q4(i - 1)\n",
        "    else:\n",
        "      print()\n",
        "while True:\n",
        "  n=int(input(\"입력:\"))\n",
        "  if(n >= 1):\n",
        "    break\n",
        "  print(\"자연수만 입력해야합니다\")\n",
        "Q4(n)"
      ],
      "metadata": {
        "id": "P3IMCzxDhG76"
      },
      "execution_count": null,
      "outputs": []
    },
    {
      "cell_type": "markdown",
      "source": [
        "Q5"
      ],
      "metadata": {
        "id": "-Kis2C3JhG1W"
      }
    },
    {
      "cell_type": "code",
      "source": [
        "def Q5(n):\n",
        "    if (n == 0):\n",
        "        return 0\n",
        "    return (n % 10)**2+Q5(n//10)\n",
        "while True:\n",
        "  n=input(\"입력:\")\n",
        "  if len(n)>9:\n",
        "    print(\"9자리수 이하로 입력 하셔야 합니다.\")\n",
        "    continue\n",
        "  if n >= 1:\n",
        "    break\n",
        "  print(\"자연수만 입력해야합니다\")\n",
        "print(Q5(int(n)))"
      ],
      "metadata": {
        "id": "WOY3qPZUhGuK"
      },
      "execution_count": null,
      "outputs": []
    },
    {
      "cell_type": "markdown",
      "source": [
        "Q6"
      ],
      "metadata": {
        "id": "qHgw9KRohGmu"
      }
    },
    {
      "cell_type": "code",
      "source": [
        "from random import randint\n",
        "def Q6():  \n",
        "    win=0\n",
        "    while True:\n",
        "        Player=int(input(\"가위:1 바위:2 보:3 중 입력 : \"))\n",
        "        if(not(Player >= 1 and Player <= 3)):\n",
        "            continue\n",
        "        else:\n",
        "            Computer = (randint(1,3))\n",
        "        if ((Player == 1 and Computer == 2) or\n",
        "            (Player == 2 and Computer == 3) or\n",
        "            (Player == 3 and Computer == 1)):\n",
        "            print(f\"패배! {win}연승\")\n",
        "            break\n",
        "        elif (Player == Computer):\n",
        "            print(\"무승부\")\n",
        "        else:\n",
        "            win+=1\n",
        "            print(f\"승리! {win}연승\\n\")\n",
        "Q6()"
      ],
      "metadata": {
        "id": "h5aidfc5hGea"
      },
      "execution_count": null,
      "outputs": []
    },
    {
      "cell_type": "markdown",
      "source": [
        "Q7"
      ],
      "metadata": {
        "id": "NaaZfXdxhGVe"
      }
    },
    {
      "cell_type": "code",
      "source": [
        "def Q7(c):\n",
        "    if ord('a')<= c <= ord('z'):\n",
        "      c -= 32\n",
        "    else:\n",
        "      c += 32\n",
        "    return chr(c)\n",
        "in_c=''\n",
        "while True:\n",
        "  if len(in_c)==0:\n",
        "    in_c=input(\"입력:\")\n",
        "    continue\n",
        "  c=ord(in_c[0])\n",
        "  in_c=in_c[1:]\n",
        "  if ord('a') <= c <= ord('z') or ord('A') <= c<=ord('Z'):\n",
        "    print(f\"{Q7(c)}\")\n",
        "  else:\n",
        "    print(\"알파벳이 아닙니다. 종료됩니다.\")\n",
        "    break"
      ],
      "metadata": {
        "id": "W_5aNvBthGCe"
      },
      "execution_count": null,
      "outputs": []
    },
    {
      "cell_type": "markdown",
      "source": [
        "통합"
      ],
      "metadata": {
        "id": "q1-zW_fbi2bq"
      }
    },
    {
      "cell_type": "code",
      "source": [
        "def Q1(n):\n",
        "  for i in range(n):\n",
        "    print(\"~!@#$^&*()_+|\")\n",
        "\n",
        "def Q2(a,b):\n",
        "    if(a==b):\n",
        "        print(\"두수의 값이 같습니다.\")\n",
        "        return\n",
        "    print(f\"두수중 큰수는{a if a>b else b} 작은수는 {b if a>b else a}\")\n",
        "    print(f\"큰수의 결과는{a//10 if a>b else b//10} 작은수의 결과는{b*10 if a>b else a*10}\")\n",
        "\n",
        "def Q3(n):\n",
        "    iSum = 0\n",
        "    for i in range(n+1):\n",
        "        iSum += i\n",
        "    print(iSum)\n",
        "\n",
        "def Q4(i):\n",
        "    print(i,end=\" \")\n",
        "    if (i > 1):\n",
        "        Q4(i - 1)\n",
        "    else:\n",
        "      print()\n",
        "    \n",
        "def Q5(n):\n",
        "    if (n == 0):\n",
        "        return 0\n",
        "    return (n % 10)**2+Q5(n//10)\n",
        "    \n",
        "from random import randint\n",
        "def Q6():  \n",
        "    win=0\n",
        "    while True:\n",
        "        Player=int(input(\"가위:1 바위:2 보:3 중 입력 : \"))\n",
        "        if(not(Player >= 1 and Player <= 3)):\n",
        "            continue\n",
        "        else:\n",
        "            Computer = (randint(1,3))\n",
        "        if ((Player == 1 and Computer == 2) or\n",
        "            (Player == 2 and Computer == 3) or\n",
        "            (Player == 3 and Computer == 1)):\n",
        "            print(f\"패배! {win}연승\")\n",
        "            break\n",
        "        elif (Player == Computer):\n",
        "            print(\"무승부\")\n",
        "        else:\n",
        "            win+=1\n",
        "            print(f\"승리! {win}연승\\n\")\n",
        "def Q7(c):\n",
        "    if ord('a')<= c <= ord('z'):\n",
        "      c -= 32\n",
        "    else:\n",
        "      c += 32\n",
        "    return chr(c)\n",
        "\n",
        "\n",
        "def main():\n",
        "  print('Q1')\n",
        "  n=int(input(\"입력:\"))\n",
        "  Q1(n)\n",
        "  print('Q2')\n",
        "  a,b=map(int,input(\"두 정수를 입력하시요:\").split())\n",
        "  Q2(a,b)\n",
        "  print('Q3')\n",
        "  while True:\n",
        "    a=int(input(\"입력:\"))\n",
        "    if 1 <= a <= 1000:\n",
        "        break\n",
        "    print('1~1000까지의 정수만 입력가능합니다')\n",
        "  Q3(a)\n",
        "  print('Q4')\n",
        "  while True:\n",
        "    n=int(input(\"입력:\"))\n",
        "    if(n >= 1):\n",
        "        break\n",
        "    print(\"자연수만 입력해야합니다\")\n",
        "  Q4(n)\n",
        "  print('Q5')\n",
        "  while True:\n",
        "    n=input(\"입력:\")\n",
        "    if len(n)>9:\n",
        "      print(\"9자리수 이하로 입력 하셔야 합니다.\")\n",
        "      continue\n",
        "    if n >= 1:\n",
        "        break\n",
        "    print(\"자연수만 입력해야합니다\")\n",
        "\n",
        "  print(Q5(int(n)))\n",
        "  print('Q6')\n",
        "  Q6()\n",
        "  print('Q7')\n",
        "  in_c=''\n",
        "  while True:\n",
        "    if len(in_c)==0:\n",
        "      in_c=input(\"입력:\")\n",
        "      continue\n",
        "    c=ord(in_c[0])\n",
        "    in_c=in_c[1:]\n",
        "    if ord('a') <= c <= ord('z') or ord('A') <= c<=ord('Z'):\n",
        "        print(f\"{Q7(c)}\")\n",
        "    else:\n",
        "        print(\"알파벳이 아닙니다. 종료됩니다.\")\n",
        "        break\n",
        "\n",
        "\n",
        "\n",
        "if __name__=='__main__':\n",
        "  main()"
      ],
      "metadata": {
        "id": "Nz5KgVaoi37q"
      },
      "execution_count": null,
      "outputs": []
    },
    {
      "cell_type": "markdown",
      "source": [
        "Q7"
      ],
      "metadata": {
        "id": "gR4_0Ts20c-_"
      }
    },
    {
      "cell_type": "code",
      "source": [
        "print('ADSassASDD'.swapcase())"
      ],
      "metadata": {
        "colab": {
          "base_uri": "https://localhost:8080/"
        },
        "id": "0gEYx4BI0ek2",
        "outputId": "30978881-45f3-4652-c3af-47dc9dd53e30"
      },
      "execution_count": null,
      "outputs": [
        {
          "output_type": "stream",
          "name": "stdout",
          "text": [
            "adsASSasdd\n"
          ]
        }
      ]
    },
    {
      "cell_type": "markdown",
      "source": [
        "클래스"
      ],
      "metadata": {
        "id": "XxIa03VSgm0L"
      }
    },
    {
      "cell_type": "code",
      "source": [
        "#class A:\n",
        "  #pass"
      ],
      "metadata": {
        "id": "hJSXI7slgobN"
      },
      "execution_count": null,
      "outputs": []
    },
    {
      "cell_type": "code",
      "source": [
        "#"
      ],
      "metadata": {
        "id": "MiSirOhShR6t"
      },
      "execution_count": null,
      "outputs": []
    },
    {
      "cell_type": "code",
      "source": [
        "class Test:\n",
        "  name=''\n",
        "  number=0\n",
        "\n",
        "t1=Test()\n",
        "t2=Test()\n"
      ],
      "metadata": {
        "id": "x0WK3udAg4UU"
      },
      "execution_count": null,
      "outputs": []
    },
    {
      "cell_type": "code",
      "source": [
        "class Test:\n",
        "  name=''\n",
        "  number=0\n",
        "\n",
        "t1=Test()\n",
        "t2=Test()"
      ],
      "metadata": {
        "id": "JSS1hLQmlUii"
      },
      "execution_count": null,
      "outputs": []
    },
    {
      "cell_type": "code",
      "source": [
        "t1.name=\"소방차\"\n",
        "t1.number=1234\n",
        "t2.name=\"구급차\"\n",
        "t2.number=1004"
      ],
      "metadata": {
        "id": "JhmILL3GhKlc"
      },
      "execution_count": null,
      "outputs": []
    },
    {
      "cell_type": "code",
      "source": [
        "t1.name,t1.number"
      ],
      "metadata": {
        "colab": {
          "base_uri": "https://localhost:8080/"
        },
        "id": "vBdNmQoyj-IC",
        "outputId": "733f994e-e9b1-40e8-9d7e-ea20b0210fee"
      },
      "execution_count": null,
      "outputs": [
        {
          "output_type": "execute_result",
          "data": {
            "text/plain": [
              "('소방차', 1234)"
            ]
          },
          "metadata": {},
          "execution_count": 85
        }
      ]
    },
    {
      "cell_type": "code",
      "source": [
        "t2.name,t2.number"
      ],
      "metadata": {
        "colab": {
          "base_uri": "https://localhost:8080/"
        },
        "id": "RuWGYYukkKWy",
        "outputId": "29653ed6-5356-429c-c750-1337aff93a5d"
      },
      "execution_count": null,
      "outputs": [
        {
          "output_type": "execute_result",
          "data": {
            "text/plain": [
              "('구급차', 1004)"
            ]
          },
          "metadata": {},
          "execution_count": 86
        }
      ]
    },
    {
      "cell_type": "code",
      "source": [
        "class A:\n",
        "  pass\n",
        "t1=A()#생성자 호출\n",
        "#class A:\n",
        "#  def __init__(self):\n",
        "#    pass"
      ],
      "metadata": {
        "id": "Fhvqk77YpqMh"
      },
      "execution_count": null,
      "outputs": []
    },
    {
      "cell_type": "code",
      "source": [
        "class A:\n",
        "  def __init__(self):\n",
        "    print(\"A생성자 동작\")\n",
        "t1=A()"
      ],
      "metadata": {
        "colab": {
          "base_uri": "https://localhost:8080/"
        },
        "id": "QSOhUzi6ruTh",
        "outputId": "ad152639-fb86-454a-b950-110f7cc180cb"
      },
      "execution_count": null,
      "outputs": [
        {
          "output_type": "stream",
          "name": "stdout",
          "text": [
            "A생성자 동작\n"
          ]
        }
      ]
    },
    {
      "cell_type": "code",
      "source": [
        "#기본생성자-(입력이 없는 생성자)\n"
      ],
      "metadata": {
        "id": "T1jYD4uJsryp"
      },
      "execution_count": null,
      "outputs": []
    },
    {
      "cell_type": "code",
      "source": [
        "class 메소드:\n",
        "  def 메소드1(self):\n",
        "    print(\"메소드1호출\")\n",
        "  def 메소드2(self,x):\n",
        "    print(x,\"를 입력받은 메소드2호출\")\n",
        "  def 메소드3(self):\n",
        "    return \"메소드3호출\"\n",
        "  def 메소드4(self,x,y):\n",
        "    print(x,y,\"를 입력받은 메소드4호출\")\n",
        "  def 메소드5(self,x):\n",
        "    return f\"{x}를 입력받은 메소드5호출\"\n",
        "m=메소드()\n",
        "m.메소드1()\n",
        "m.메소드2(10)\n",
        "print(m.메소드3())\n",
        "m.메소드4(1,2)\n",
        "print(m.메소드5(10))\n",
        "메소드.메소드1()"
      ],
      "metadata": {
        "colab": {
          "base_uri": "https://localhost:8080/",
          "height": 297
        },
        "id": "aBASiBU8ujub",
        "outputId": "ba2cc37c-5a8b-4986-ccf2-d0cb4ff2b4dc"
      },
      "execution_count": null,
      "outputs": [
        {
          "output_type": "stream",
          "name": "stdout",
          "text": [
            "메소드1호출\n",
            "10 를 입력받은 메소드2호출\n",
            "메소드3호출\n",
            "1 2 를 입력받은 메소드4호출\n",
            "10를 입력받은 메소드5호출\n"
          ]
        },
        {
          "output_type": "error",
          "ename": "TypeError",
          "evalue": "ignored",
          "traceback": [
            "\u001b[0;31m---------------------------------------------------------------------------\u001b[0m",
            "\u001b[0;31mTypeError\u001b[0m                                 Traceback (most recent call last)",
            "\u001b[0;32m<ipython-input-105-ef71f393b88c>\u001b[0m in \u001b[0;36m<module>\u001b[0;34m\u001b[0m\n\u001b[1;32m     16\u001b[0m \u001b[0mm\u001b[0m\u001b[0;34m.\u001b[0m\u001b[0m메소드4\u001b[0m\u001b[0;34m(\u001b[0m\u001b[0;36m1\u001b[0m\u001b[0;34m,\u001b[0m\u001b[0;36m2\u001b[0m\u001b[0;34m)\u001b[0m\u001b[0;34m\u001b[0m\u001b[0;34m\u001b[0m\u001b[0m\n\u001b[1;32m     17\u001b[0m \u001b[0mprint\u001b[0m\u001b[0;34m(\u001b[0m\u001b[0mm\u001b[0m\u001b[0;34m.\u001b[0m\u001b[0m메소드5\u001b[0m\u001b[0;34m(\u001b[0m\u001b[0;36m10\u001b[0m\u001b[0;34m)\u001b[0m\u001b[0;34m)\u001b[0m\u001b[0;34m\u001b[0m\u001b[0;34m\u001b[0m\u001b[0m\n\u001b[0;32m---> 18\u001b[0;31m \u001b[0m메소드\u001b[0m\u001b[0;34m.\u001b[0m\u001b[0m메소드1\u001b[0m\u001b[0;34m(\u001b[0m\u001b[0;34m)\u001b[0m\u001b[0;34m\u001b[0m\u001b[0;34m\u001b[0m\u001b[0m\n\u001b[0m",
            "\u001b[0;31mTypeError\u001b[0m: 메소드1() missing 1 required positional argument: 'self'"
          ]
        }
      ]
    },
    {
      "cell_type": "code",
      "source": [
        "class A:\n",
        "  def __init__(self,x=10):\n",
        "    print(f'{x}를 입력받는 A생성자 동작')\n",
        "a=A()#A(10)"
      ],
      "metadata": {
        "colab": {
          "base_uri": "https://localhost:8080/"
        },
        "id": "XpesigHuyMtv",
        "outputId": "155484da-c3aa-4877-a842-65515d49c48d"
      },
      "execution_count": null,
      "outputs": [
        {
          "output_type": "stream",
          "name": "stdout",
          "text": [
            "10를 입력받는 A생성자 동작\n"
          ]
        }
      ]
    },
    {
      "cell_type": "markdown",
      "source": [
        "있으면 쓸수있다. 없으면 못쓴다.<br>\n",
        "접근할수있으면 있다. 접근할수 없으면 없다."
      ],
      "metadata": {
        "id": "YjplTMiNzlQ_"
      }
    },
    {
      "cell_type": "code",
      "source": [
        "a=10\n",
        "b=[1,2,3,4,5]\n",
        "a"
      ],
      "metadata": {
        "id": "uROWQT-50adR"
      },
      "execution_count": null,
      "outputs": []
    },
    {
      "cell_type": "code",
      "source": [
        "class Test:\n",
        "  #클래스필드\n",
        "  name=''\n",
        "  number=0"
      ],
      "metadata": {
        "id": "tw8Ufojm2p4m"
      },
      "execution_count": null,
      "outputs": []
    },
    {
      "cell_type": "code",
      "source": [
        "a=Test()\n",
        "a.name,a.number"
      ],
      "metadata": {
        "colab": {
          "base_uri": "https://localhost:8080/"
        },
        "id": "sfMHVI3T2Kne",
        "outputId": "f0cfed65-22da-4ab3-d455-9a6f52fdd22a"
      },
      "execution_count": null,
      "outputs": [
        {
          "output_type": "execute_result",
          "data": {
            "text/plain": [
              "('', 0)"
            ]
          },
          "metadata": {},
          "execution_count": 108
        }
      ]
    },
    {
      "cell_type": "code",
      "source": [
        "Test.number,Test.name"
      ],
      "metadata": {
        "colab": {
          "base_uri": "https://localhost:8080/"
        },
        "id": "l3c_hrkt2amu",
        "outputId": "378df90c-b8ae-43c4-cbcd-d15573e111a5"
      },
      "execution_count": null,
      "outputs": [
        {
          "output_type": "execute_result",
          "data": {
            "text/plain": [
              "(0, '')"
            ]
          },
          "metadata": {},
          "execution_count": 109
        }
      ]
    },
    {
      "cell_type": "markdown",
      "source": [
        "맴버\n"
      ],
      "metadata": {
        "id": "_FEeo_vC52zW"
      }
    },
    {
      "cell_type": "code",
      "source": [
        "class A:\n",
        "  def __init__(self):\n",
        "    self.인스턴스필드=\"인스턴스데이터\"\n",
        "  def 인스턴스메소드(self):\n",
        "    print(\"인스턴스메소드 호출\")\n",
        "    \n",
        "인스턴스=A()\n",
        "인스턴스.인스턴스필드\n"
      ],
      "metadata": {
        "id": "phmZNMEl53wV"
      },
      "execution_count": null,
      "outputs": []
    },
    {
      "cell_type": "markdown",
      "source": [
        "없으면 만들고,있으면 갱신한다.\n",
        "호출시 가까운대상이 우선이다."
      ],
      "metadata": {
        "id": "Zrlv5t9L7e6c"
      }
    },
    {
      "cell_type": "code",
      "source": [
        "class A:\n",
        "  #클래스필드\n",
        "  x=0\n",
        "print(A.x)\n",
        "a1=A()\n",
        "a2=A()\n",
        "print(a1.x,a2.x,A.x)\n",
        "a1.x=10\n",
        "print(a1.x,a2.x,A.x)\n",
        "A.x=100\n",
        "print(a1.x,a2.x,A.x)\n"
      ],
      "metadata": {
        "colab": {
          "base_uri": "https://localhost:8080/"
        },
        "id": "bkWHh4o77GRH",
        "outputId": "a18f4ad1-0a1b-409f-fddc-55d2f54809ba"
      },
      "execution_count": null,
      "outputs": [
        {
          "output_type": "stream",
          "name": "stdout",
          "text": [
            "0\n",
            "0 0 0\n",
            "10 0 0\n",
            "10 100 100\n"
          ]
        }
      ]
    },
    {
      "cell_type": "code",
      "source": [
        "class A:\n",
        "  def __init__(self):\n",
        "    self.x=0\n",
        "#print(A.x)\n",
        "a1=A()\n",
        "a2=A()\n",
        "print(a1.x,a2.x,A.x)"
      ],
      "metadata": {
        "colab": {
          "base_uri": "https://localhost:8080/"
        },
        "id": "d77-tPHb-ltE",
        "outputId": "5be4e1f2-3e80-4618-8c9e-10c24338845f"
      },
      "execution_count": null,
      "outputs": [
        {
          "output_type": "stream",
          "name": "stdout",
          "text": [
            "0 0\n"
          ]
        }
      ]
    },
    {
      "cell_type": "code",
      "source": [
        "class A:\n",
        "  #인스턴스 메소드\n",
        "  def i_f(self):\n",
        "    print(\"인스턴스메소드\")\n",
        "  #class메소드\n",
        "  @classmethod#문서 서식\n",
        "  def c_f(cls):\n",
        "    print(\"클래스메소드\")\n",
        "#A.i_f()\n",
        "A.c_f()\n",
        "a1=A()\n",
        "a2=A()\n",
        "a1.i_f()\n",
        "a1.c_f()\n",
        "a2.i_f()\n",
        "a2.c_f()\n",
        "A.c_f()"
      ],
      "metadata": {
        "colab": {
          "base_uri": "https://localhost:8080/"
        },
        "id": "c2TxIa1rBD02",
        "outputId": "64a4ab03-ec09-4814-ec2e-771469c3875c"
      },
      "execution_count": null,
      "outputs": [
        {
          "output_type": "stream",
          "name": "stdout",
          "text": [
            "클래스메소드\n",
            "인스턴스메소드\n",
            "클래스메소드\n",
            "인스턴스메소드\n",
            "클래스메소드\n",
            "클래스메소드\n"
          ]
        }
      ]
    },
    {
      "cell_type": "markdown",
      "source": [
        "인스턴스맴버와 클래스맴버 정리 (보관권장)"
      ],
      "metadata": {
        "id": "Jte_WxLNHx-E"
      }
    },
    {
      "cell_type": "code",
      "source": [
        "class 클래스:\n",
        "  클래스필드='클래스필드내용'\n",
        "  def __init__(self):#self->자가참조표인터->인스턴스\n",
        "    self.인스턴스필드='인스턴스필드내용'\n",
        "    print(\"인스턴스생성\\n\")\n",
        "  #클래스메소드\n",
        "  @classmethod\n",
        "  def 클래스메소드_클래스필드(cls):#cls->자가참조표인터->클래스\n",
        "    print(\"클래스메소드 호출\")\n",
        "    print(f'클래스필드 호출:{cls.클래스필드}')\n",
        "  @classmethod\n",
        "  def 클래스메소드_인스턴스필드(cls):#cls->자가참조표인터->클래스\n",
        "    print(\"클래스메소드 호출\")\n",
        "    print(f'인스턴스필드 호출 (불가): 접근불가')\n",
        "\n",
        "  #인스턴스메소드\n",
        "  def 인스턴스메소드_클래스필드(self):\n",
        "    print(\"인스턴스메소드 호출\")\n",
        "    print(f'클래스필드 호출:{self.클래스필드}')\n",
        "  def 인스턴스메소드_인스턴스필드(self):\n",
        "    print(\"인스턴스메소드 호출\")\n",
        "    print(f'인스턴스필드 호출:{self.인스턴스필드}')\n",
        "print('<클래스>')\n",
        "#클래스-O->클래스메소드-O->클래스필드\n",
        "print('클래스-O->클래스메소드-O->클래스필드')\n",
        "클래스.클래스메소드_클래스필드() \n",
        "print()\n",
        "#클래스-O->클래스메소드-X->인스턴스필드 \n",
        "print('클래스-O->클래스메소드-X->인스턴스필드')\n",
        "클래스.클래스메소드_인스턴스필드() \n",
        "print()\n",
        "#클래스-X->인스턴스메소드-O->클래스필드 \n",
        "print('클래스-X->인스턴스메소드-O->클래스필드')\n",
        "print(\"클래스에서는 인스턴스 접근 불가!\")\n",
        "print()\n",
        "#클래스-X->인스턴스메소드-O->인스턴스필드 \n",
        "print('클래스-X->인스턴스메소드-O->인스턴스필드')\n",
        "print(\"클래스에서는 인스턴스 접근 불가!\")\n",
        "print()\n",
        "print('-'*30)\n",
        "print('<인스턴스>')\n",
        "인스턴스=클래스()#인스턴스생성\n",
        "#인스턴스-O->클래스메소드-O->클래스필드\n",
        "print('인스턴스-O->클래스메소드-O->클래스필드')\n",
        "인스턴스.클래스메소드_클래스필드() \n",
        "print()\n",
        "#인스턴스-O->클래스메소드-X->인스턴스필드\n",
        "print('인스턴스-O->클래스메소드-X->인스턴스필드')\n",
        "인스턴스.클래스메소드_인스턴스필드() \n",
        "print()\n",
        "#인스턴스-O->인스턴스메소드-O->클래스필드\n",
        "print('인스턴스-O->인스턴스메소드-O->클래스필드')\n",
        "인스턴스.인스턴스메소드_클래스필드()\n",
        "print()\n",
        "#인스턴스-O->인스턴스메소드-O->인스턴스필드\n",
        "print('인스턴스-O->인스턴스메소드-O->인스턴스필드')\n",
        "인스턴스.인스턴스메소드_인스턴스필드()\n",
        "print()\n",
        "  "
      ],
      "metadata": {
        "colab": {
          "base_uri": "https://localhost:8080/"
        },
        "id": "tlROknNjHwZC",
        "outputId": "98332dee-b1c3-4ec9-e8da-034013a7418b"
      },
      "execution_count": null,
      "outputs": [
        {
          "output_type": "stream",
          "name": "stdout",
          "text": [
            "<클래스>\n",
            "클래스-O->클래스메소드-O->클래스필드\n",
            "클래스메소드 호출\n",
            "클래스필드 호출:클래스필드내용\n",
            "\n",
            "클래스-O->클래스메소드-X->인스턴스필드\n",
            "클래스메소드 호출\n",
            "인스턴스필드 호출 (불가): 접근불가\n",
            "\n",
            "클래스-X->인스턴스메소드-O->클래스필드\n",
            "클래스에서는 인스턴스 접근 불가!\n",
            "\n",
            "클래스-X->인스턴스메소드-O->인스턴스필드\n",
            "클래스에서는 인스턴스 접근 불가!\n",
            "\n",
            "------------------------------\n",
            "<인스턴스>\n",
            "인스턴스생성\n",
            "\n",
            "인스턴스-O->클래스메소드-O->클래스필드\n",
            "클래스메소드 호출\n",
            "클래스필드 호출:클래스필드내용\n",
            "\n",
            "인스턴스-O->클래스메소드-X->인스턴스필드\n",
            "클래스메소드 호출\n",
            "인스턴스필드 호출 (불가): 접근불가\n",
            "\n",
            "인스턴스-O->인스턴스메소드-O->클래스필드\n",
            "인스턴스메소드 호출\n",
            "클래스필드 호출:클래스필드내용\n",
            "\n",
            "인스턴스-O->인스턴스메소드-O->인스턴스필드\n",
            "인스턴스메소드 호출\n",
            "인스턴스필드 호출:인스턴스필드내용\n",
            "\n"
          ]
        }
      ]
    },
    {
      "cell_type": "markdown",
      "source": [
        "필드오버라이딩"
      ],
      "metadata": {
        "id": "u6nyTTx3N7nh"
      }
    },
    {
      "cell_type": "code",
      "source": [
        "class A:\n",
        "  x=0\n",
        "a1=A()\n",
        "a2=A()\n",
        "print(a1.x,a2.x,A.x)\n",
        "a2.x=100\n",
        "print(a1.x,a2.x,A.x)\n",
        "A.x=1000\n",
        "print(a1.x,a2.x,A.x)\n",
        "a1.x=10\n",
        "print(a1.x,a2.x,A.x)\n",
        "A.x=0\n",
        "print(a1.x,a2.x,A.x)"
      ],
      "metadata": {
        "colab": {
          "base_uri": "https://localhost:8080/"
        },
        "id": "EnMnpc76NKi9",
        "outputId": "7b1c73a7-bab3-487b-fdf6-1e8bee8b8b15"
      },
      "execution_count": null,
      "outputs": [
        {
          "output_type": "stream",
          "name": "stdout",
          "text": [
            "0 0 0\n",
            "0 100 0\n",
            "1000 100 1000\n",
            "10 100 1000\n",
            "10 100 0\n"
          ]
        }
      ]
    }
  ]
}