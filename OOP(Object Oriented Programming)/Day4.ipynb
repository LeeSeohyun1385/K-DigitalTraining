{
  "cells": [
    {
      "attachments": {},
      "cell_type": "markdown",
      "metadata": {
        "id": "Y9y-lRGKmbVU"
      },
      "source": [
        "\n",
        "# DAY4\n",
        "## python 조건반복 문제\n",
        " Q1"
      ]
    },
    {
      "cell_type": "code",
      "execution_count": null,
      "metadata": {
        "id": "CG4eUXNFmI3b"
      },
      "outputs": [],
      "source": [
        "c=input(\"신호입력:\")[0]\n",
        "if c=='R':\n",
        "    out_c=\"정지\"\n",
        "elif c=='Y':\n",
        "    out_c=\"경고\"\n",
        "elif c=='G':\n",
        "    out_c=\"진행\"\n",
        "else:\n",
        "    out_c=\"잘못입력\"\n",
        "print(out_c)"
      ]
    },
    {
      "attachments": {},
      "cell_type": "markdown",
      "metadata": {
        "id": "U-4-PCfdmcu8"
      },
      "source": [
        " Q2"
      ]
    },
    {
      "cell_type": "code",
      "execution_count": null,
      "metadata": {
        "id": "RxWybVAumd6c"
      },
      "outputs": [],
      "source": [
        "x=input(\"문자입력\")[0]\n",
        "if '0'<=x<='9':\n",
        "    print('숫자')\n",
        "elif 'A'<=x<='Z':\n",
        "    print(\"대문자\")\n",
        "elif 'a'<=x<='z':\n",
        "    print(\"소문자\")\n",
        "else:\n",
        "    print(\"특수문자\")\n"
      ]
    },
    {
      "cell_type": "markdown",
      "metadata": {
        "id": "lh7trIjqmg9T"
      },
      "source": [
        "Q3"
      ]
    },
    {
      "cell_type": "code",
      "execution_count": null,
      "metadata": {
        "id": "W1Ms5wv9mhtj"
      },
      "outputs": [],
      "source": [
        "n1,n2,n3=input(\"3개의 정수입력:(구분자는 ',')\").split(',')\n",
        "end=n1 if n1<n3 else n3 if n1<n2 else n2 if n2<n3 else n3\n",
        "print(f\"{n1},{n2},{n3} 중 최소값은\",end)"
      ]
    },
    {
      "cell_type": "markdown",
      "metadata": {
        "id": "aTwrs2WQmjrT"
      },
      "source": [
        "Q4"
      ]
    },
    {
      "cell_type": "code",
      "execution_count": null,
      "metadata": {
        "id": "CXH_MFWZmlBT"
      },
      "outputs": [],
      "source": [
        "x = int(input(\"수입력:\"))\n",
        "for i in range(x+1):\n",
        "    print(i,end=\"\\t\")\n",
        "    if i%4==0:\n",
        "        print()\n"
      ]
    },
    {
      "cell_type": "markdown",
      "metadata": {
        "id": "Q9KQmx8omjmj"
      },
      "source": [
        "Q5"
      ]
    },
    {
      "cell_type": "code",
      "execution_count": null,
      "metadata": {
        "id": "edNF-NtDmmhb"
      },
      "outputs": [],
      "source": [
        "n=int(input(\"정수입력:\"))\n",
        "#1\n",
        "print(\"1\")\n",
        "for i in range(1,n+1):\n",
        "    print(\"*\"*i)\n",
        "#2\n",
        "print(\"2\")\n",
        "for i in range(n,0,-1):\n",
        "    print(\"*\"*i)\n",
        "#3\n",
        "print(\"3\")\n",
        "for i in range(1,n+1):\n",
        "    print(\" \"*(n-i)+\"*\"*i)\n",
        "#4\n",
        "print(\"4\")\n",
        "for i in range(n,0,-1):\n",
        "    print(\" \"*(n-i)+\"*\"*i)\n",
        "#5\n",
        "print(\"5\")\n",
        "for i in range(1,n+1):\n",
        "    print(\"*\" * i+\"  \" * (n - i) + \"*\" * i)"
      ]
    },
    {
      "cell_type": "markdown",
      "metadata": {
        "id": "LVrgcPXQmrYL"
      },
      "source": [
        "Q7"
      ]
    },
    {
      "cell_type": "code",
      "execution_count": null,
      "metadata": {
        "id": "sAqgxxl_mpjb"
      },
      "outputs": [],
      "source": [
        "n = int(input(\"과목수를 입력하시오:\"))\n",
        "total=max_v=average=0\n",
        "min_v=101\n",
        "for i in range(1,n+1):\n",
        "    num=int(input(\"점수입력:\"))\n",
        "    if num<0:\n",
        "        i-=1\n",
        "        break\n",
        "    total+=num\n",
        "    max_v = max_v if max_v > num else num\n",
        "    min_v = min_v if min_v < num else num\n",
        "\n",
        "average=total//i\n",
        "print(\"최고점수 :\",max_v)\n",
        "print(\"최저점수 :\",min_v)\n",
        "print(\"평균 :\",average)"
      ]
    },
    {
      "cell_type": "code",
      "execution_count": null,
      "metadata": {
        "id": "Ckzb0FsOmwDb"
      },
      "outputs": [],
      "source": [
        "n = int(input(\"과목수를 입력하시오:\"))\n",
        "c=total=max_v=average=0\n",
        "min_v=101\n",
        "ck=False\n",
        "for i in range(1,n+1):\n",
        "    in_data=input(\"점수입력:\").split()\n",
        "    if len(in_data)>1:\n",
        "        num_l=map(int,in_data)\n",
        "        for num in num_l:\n",
        "            if num < 0:\n",
        "                ck=True\n",
        "                break\n",
        "            total += num\n",
        "            max_v = max_v if max_v > num else num\n",
        "            min_v = min_v if min_v < num else num\n",
        "            c+=1\n",
        "            if c==n:\n",
        "                break\n",
        "    else:\n",
        "        num=int(in_data[0])\n",
        "        if num<0:\n",
        "            break\n",
        "        total+=num\n",
        "        max_v = max_v if max_v > num else num\n",
        "        min_v = min_v if min_v < num else num\n",
        "        c+=1\n",
        "    if c==n:\n",
        "        break\n",
        "    if ck:\n",
        "        break\n",
        "\n",
        "average=total//c\n",
        "print(\"최고점수 :\",max_v)\n",
        "print(\"최저점수 :\",min_v)\n",
        "print(\"평균 :\",average)"
      ]
    },
    {
      "cell_type": "code",
      "execution_count": null,
      "metadata": {
        "id": "MvPzmTqfmxZb"
      },
      "outputs": [],
      "source": [
        "n = int(input(\"과목수를 입력하시오:\"))\n",
        "x=[]\n",
        "total = 0\n",
        "average = 0\n",
        "for i in range(0,n) :\n",
        "    a=int(input(\"점수:\"))\n",
        "    if a < 0:\n",
        "        break\n",
        "    x.append(a)\n",
        "    total +=x[-1]\n",
        "average = total / len(x)\n",
        "\n",
        "print(f\"최고 점수 : {max(x)}\")\n",
        "print(f\"최저 점수 : {min(x)}\")\n",
        "print(f\"평균 : {average:.2f}\")"
      ]
    },
    {
      "cell_type": "code",
      "execution_count": null,
      "metadata": {
        "id": "Jao2D0nxmzAr"
      },
      "outputs": [],
      "source": [
        "n = int(input(\"과목수를 입력하시오:\"))#과목수입력\n",
        "c=total=max_v=average=0\n",
        "min_v=101\n",
        "for i in range(1,n+1):\n",
        "    in_data=list(map(int,input(\"점수입력:(구분자 ' ')\").split()))\n",
        "    if len(in_data)>n:\n",
        "        print(f\"입력점수는 과목수{n}를 넘지 못합니다.\")\n",
        "        in_data=in_data[:n]#??\n",
        "        print(f\"data가 수정되어 {in_data}로 동작합니다.\")\n",
        "        for num in in_data:\n",
        "            if num<0:\n",
        "                break\n",
        "            total+=num\n",
        "            max_v = max_v if max_v > num else num\n",
        "            min_v = min_v if min_v < num else num\n",
        "            c += 1\n",
        "            if c==n:\n",
        "                print(\"입력 과목수 달성으로 종료합니다.\")\n",
        "                break\n",
        "        break\n",
        "    elif len(in_data)>1:\n",
        "        print(\"다중 입력 동작\")\n",
        "        for num in in_data:\n",
        "            if num < 0:\n",
        "                break\n",
        "            total += num\n",
        "            max_v = max_v if max_v > num else num\n",
        "            min_v = min_v if min_v < num else num\n",
        "            c += 1\n",
        "            if c == n:\n",
        "                break\n",
        "    else:\n",
        "        print(\"단일 입력 동작\")\n",
        "        num=in_data[0]\n",
        "        if num < 0:\n",
        "            break\n",
        "        total += num\n",
        "        max_v = max_v if max_v > num else num\n",
        "        min_v = min_v if min_v < num else num\n",
        "        c += 1\n",
        "    if c == n:\n",
        "        print(\"입력 과목수 달성으로 종료합니다.\")\n",
        "        break\n",
        "average=total//c\n",
        "print(\"최고점수 :\",max_v)\n",
        "print(\"최저점수 :\",min_v)\n",
        "print(\"평균 :\",average)\n",
        "print(c)"
      ]
    },
    {
      "cell_type": "markdown",
      "metadata": {
        "id": "3BC0RInYmvKD"
      },
      "source": [
        "Q8"
      ]
    },
    {
      "cell_type": "code",
      "execution_count": null,
      "metadata": {
        "id": "U8DWE2Pwm1uu"
      },
      "outputs": [],
      "source": [
        "n,m=map(int,input(\"정수 2개 입력(구분자 ' '):\").split())\n",
        "#n = int(input(\"행을 입력하시오:\"))\n",
        "#m = int(input(\"열을 입력하시오:\"))\n",
        "for i in range(1, n + 1):\n",
        "    for j in range(1, m+1):\n",
        "        print(i*j, end=\" \")\n",
        "    print()"
      ]
    },
    {
      "cell_type": "markdown",
      "metadata": {
        "id": "iO6BCi3Am4rD"
      },
      "source": [
        "Q9"
      ]
    },
    {
      "cell_type": "code",
      "execution_count": null,
      "metadata": {
        "id": "gaEYHEH5m5eb"
      },
      "outputs": [],
      "source": [
        "n=int(input(\"정수입력:\"))\n",
        "sum_v=0\n",
        "for i in range(1,n+1):\n",
        "    sum_v+=i\n",
        "print(sum_v)"
      ]
    },
    {
      "cell_type": "markdown",
      "metadata": {
        "id": "EqMY8WRom7Vz"
      },
      "source": [
        "Q10"
      ]
    },
    {
      "cell_type": "code",
      "execution_count": null,
      "metadata": {
        "id": "R1vmK3jvm8Oz"
      },
      "outputs": [],
      "source": [
        "x = int(input(\"값을 입력하시오:\"))\n",
        "for i in range(0,x+1,1) :\n",
        "    if i==x:\n",
        "        print(i)\n",
        "    else:\n",
        "        print(i,end=\",\")\n"
      ]
    },
    {
      "cell_type": "markdown",
      "metadata": {
        "id": "BJugCUc7m9aD"
      },
      "source": [
        "Q11"
      ]
    },
    {
      "cell_type": "code",
      "execution_count": null,
      "metadata": {
        "id": "qbkNv6qAm-i7"
      },
      "outputs": [],
      "source": [
        "x = int(input(\"값을 입력하시오:\"))\n",
        "for i in range(1,101,1) :\n",
        "    if i<x :\n",
        "        print(i,end=\",\")\n",
        "    else :\n",
        "        print(\"사용자의 요청에의해 종료\")\n",
        "        break"
      ]
    },
    {
      "cell_type": "markdown",
      "metadata": {
        "id": "NN5xwJqcm_7U"
      },
      "source": [
        "Q12"
      ]
    },
    {
      "cell_type": "code",
      "execution_count": null,
      "metadata": {
        "id": "7v_NeAGanAn7"
      },
      "outputs": [],
      "source": [
        "x = int(input(\"값을 입력하시오:\"))\n",
        "for i in range(101) :\n",
        "    if i%x == 0 :\n",
        "        continue\n",
        "    else :\n",
        "        if i==1:\n",
        "            print(\"1\",end=\"\")\n",
        "        else:\n",
        "            print(\",\",i,sep=\"\",end=\"\")\n"
      ]
    },
    {
      "cell_type": "markdown",
      "metadata": {
        "id": "9xTRo0yCnFH7"
      },
      "source": [
        "Q13"
      ]
    },
    {
      "cell_type": "code",
      "execution_count": null,
      "metadata": {
        "id": "b7E0wV7HnF67"
      },
      "outputs": [],
      "source": [
        "n1,n2=map(int,input(\"2개의 정수입력(구분자 ','):\").split(','))\n",
        "for i in range(0,n1,n2):\n",
        "    print(i,end=',')\n",
        "print(\"\\b\")\n"
      ]
    },
    {
      "cell_type": "markdown",
      "metadata": {
        "id": "K58wPmolnJpj"
      },
      "source": [
        "Q14"
      ]
    },
    {
      "cell_type": "code",
      "execution_count": null,
      "metadata": {
        "id": "h1wSXrlGnHcb"
      },
      "outputs": [],
      "source": [
        "c1 = c2 = 0\n",
        "while True:\n",
        "    in_n = input(\"10개의 정수를 입력하시오:\").split()\n",
        "    #in_n = list(map(int,input(\"10개의 정수를 입력하시오:\").split()))\n",
        "    if len(in_n) == 10:\n",
        "        break\n",
        "    print(\"10개의 정수 입력시 동작합니다.\")\n",
        "for i in in_n:\n",
        "    i = int(i)\n",
        "    if i % 2 == 0:\n",
        "        c1 += 1\n",
        "    else:\n",
        "        c2 += 1\n",
        "print(f\"홀수:{c2}\\n짝수:{c1}\")\n",
        "\n",
        "\n",
        "\n"
      ]
    },
    {
      "attachments": {},
      "cell_type": "markdown",
      "metadata": {
        "id": "5REGQjUZAWik"
      },
      "source": [
        "## 리스트"
      ]
    },
    {
      "cell_type": "code",
      "execution_count": 1,
      "metadata": {
        "colab": {
          "base_uri": "https://localhost:8080/"
        },
        "id": "lW4ft5qSAYD0",
        "outputId": "ac0c20d8-91e8-42c7-d49e-8fabf8b66152"
      },
      "outputs": [
        {
          "data": {
            "text/plain": [
              "3"
            ]
          },
          "execution_count": 1,
          "metadata": {},
          "output_type": "execute_result"
        }
      ],
      "source": [
        "l=[1,2,3,4,5]\n",
        "l[2]#차원 내리기"
      ]
    },
    {
      "cell_type": "code",
      "execution_count": 3,
      "metadata": {
        "colab": {
          "base_uri": "https://localhost:8080/"
        },
        "id": "PIi9ns32J8Z-",
        "outputId": "3c369d68-48c8-4d82-9d91-e4988291bd2b"
      },
      "outputs": [
        {
          "data": {
            "text/plain": [
              "1"
            ]
          },
          "execution_count": 3,
          "metadata": {},
          "output_type": "execute_result"
        }
      ],
      "source": [
        "l=[[1,2,3,4,5],1,2,3,4,5]\n",
        "len(l)"
      ]
    },
    {
      "cell_type": "code",
      "execution_count": 4,
      "metadata": {
        "colab": {
          "base_uri": "https://localhost:8080/"
        },
        "id": "fpslPFiDK-rF",
        "outputId": "7e7bc4ee-1841-42b3-9cdf-6964ff8a2e49"
      },
      "outputs": [
        {
          "data": {
            "text/plain": [
              "3"
            ]
          },
          "execution_count": 4,
          "metadata": {},
          "output_type": "execute_result"
        }
      ],
      "source": [
        "l[0][2]"
      ]
    },
    {
      "cell_type": "code",
      "execution_count": null,
      "metadata": {
        "id": "kiJOjjTeOqjF"
      },
      "outputs": [],
      "source": [
        "data1=[1,2,3,4,5]\n",
        "data1[0]\n",
        "data2=[data1,data1,data1,data1]\n",
        "data2[0]==data1\n",
        "data2[0][0]"
      ]
    },
    {
      "cell_type": "code",
      "execution_count": null,
      "metadata": {
        "id": "oSDsczlQPRXW"
      },
      "outputs": [],
      "source": [
        "d=[[1,2,3,4,5],1,2,3,4,5]"
      ]
    },
    {
      "cell_type": "markdown",
      "metadata": {
        "id": "1iU8aAoaPn5U"
      },
      "source": [
        "주소:데이터가 작성되기 시작한 시작지점<br>\n",
        "인덱스: 상대주소 , 걸음수(보폭은 반드시 일정)<br>\n",
        "이름:객체의 주소"
      ]
    },
    {
      "cell_type": "code",
      "execution_count": 5,
      "metadata": {
        "colab": {
          "base_uri": "https://localhost:8080/"
        },
        "id": "Pf4lRovOQf92",
        "outputId": "9aa64df2-93a1-4dfc-d8b4-019e99eb233d"
      },
      "outputs": [
        {
          "name": "stdout",
          "output_type": "stream",
          "text": [
            "3 3\n"
          ]
        }
      ],
      "source": [
        "l=[1,2,3,4,5]\n",
        "print(l[2],l[-3])"
      ]
    },
    {
      "cell_type": "code",
      "execution_count": 7,
      "metadata": {
        "colab": {
          "base_uri": "https://localhost:8080/"
        },
        "id": "5zQdoxRZPng9",
        "outputId": "3eb0112d-6724-496b-d6d4-1ffb4a211016"
      },
      "outputs": [
        {
          "data": {
            "text/plain": [
              "int"
            ]
          },
          "execution_count": 7,
          "metadata": {},
          "output_type": "execute_result"
        }
      ],
      "source": [
        "type(l[2])"
      ]
    },
    {
      "cell_type": "code",
      "execution_count": 11,
      "metadata": {
        "colab": {
          "base_uri": "https://localhost:8080/"
        },
        "id": "MkF7K9sYStMF",
        "outputId": "575cf60a-5d64-4854-a27c-09f87bb171e9"
      },
      "outputs": [
        {
          "name": "stdout",
          "output_type": "stream",
          "text": [
            "False\n"
          ]
        }
      ],
      "source": [
        "l=[1,2,3,4,5,6,7,8,9,10]\n",
        "print(l[:] is l)"
      ]
    },
    {
      "cell_type": "code",
      "execution_count": 17,
      "metadata": {
        "colab": {
          "base_uri": "https://localhost:8080/"
        },
        "id": "tX_uCa34T9X2",
        "outputId": "85967d73-bd37-4bf0-c653-bdcad943f879"
      },
      "outputs": [
        {
          "name": "stdout",
          "output_type": "stream",
          "text": [
            "True\n",
            "True\n",
            "[1, 2, 3, 4, 5, 6, 7, 8, 9, 10]\n",
            "[1, 2, 3, 4, 5, 6, 7, 8, 9, 10]\n",
            "[10, 2, 3, 4, 5, 6, 7, 8, 9, 10]\n",
            "[10, 2, 3, 4, 5, 6, 7, 8, 9, 10]\n"
          ]
        }
      ],
      "source": [
        "l=[1,2,3,4,5,6,7,8,9,10]\n",
        "#얕은\n",
        "l2=l\n",
        "print(l2 == l)\n",
        "print(l2 is l)\n",
        "print(l,l2,sep='\\n')\n",
        "l2[0]=10\n",
        "print(l,l2,sep='\\n')"
      ]
    },
    {
      "cell_type": "code",
      "execution_count": 18,
      "metadata": {
        "colab": {
          "base_uri": "https://localhost:8080/"
        },
        "id": "v9etu578UGNs",
        "outputId": "4de17773-4fa5-4bfd-b35c-69e5ac5ddf6c"
      },
      "outputs": [
        {
          "name": "stdout",
          "output_type": "stream",
          "text": [
            "True\n",
            "False\n",
            "[1, 2, 3, 4, 5, 6, 7, 8, 9, 10]\n",
            "[1, 2, 3, 4, 5, 6, 7, 8, 9, 10]\n",
            "[1, 2, 3, 4, 5, 6, 7, 8, 9, 10]\n",
            "[10, 2, 3, 4, 5, 6, 7, 8, 9, 10]\n"
          ]
        }
      ],
      "source": [
        "l=[1,2,3,4,5,6,7,8,9,10]\n",
        "#깊은\n",
        "l3=l[:]\n",
        "print(l3 == l)\n",
        "print(l3 is l)\n",
        "print(l,l3,sep='\\n')\n",
        "l3[0]=10\n",
        "print(l,l3,sep='\\n')"
      ]
    },
    {
      "cell_type": "markdown",
      "metadata": {
        "id": "v7fBO6NamSOW"
      },
      "source": [
        "슬라이싱<br>\n",
        "리스트[시작인덱스:종료인덱스:(간격,읽는 방법)]<br>\n",
        "슬라이싱은 방향성이 있다.<br>\n",
        "방향성(음/양)에 따라 인덱스의 위치는 변화한다."
      ]
    },
    {
      "cell_type": "code",
      "execution_count": 20,
      "metadata": {
        "colab": {
          "base_uri": "https://localhost:8080/"
        },
        "id": "SY9AyUkgmmVO",
        "outputId": "3be844b6-c334-44b1-cf4c-94189a0a58f5"
      },
      "outputs": [
        {
          "data": {
            "text/plain": [
              "[1, 2, 3, 4, 5]"
            ]
          },
          "execution_count": 20,
          "metadata": {},
          "output_type": "execute_result"
        }
      ],
      "source": [
        "l=[1,2,3,4,5]\n",
        "l[::+1]#[좌측끝 데이터:우측끝 데이터:양의 방향으로 1의 간격]\n",
        "l[::-1]#[우측끝 데이터:좌측끝 데이터:음의 방향으로 1의 간격]"
      ]
    },
    {
      "cell_type": "markdown",
      "metadata": {
        "id": "dT-2AEQupW79"
      },
      "source": [
        "양의 방향"
      ]
    },
    {
      "cell_type": "code",
      "execution_count": 30,
      "metadata": {
        "colab": {
          "base_uri": "https://localhost:8080/"
        },
        "id": "JQgL-jtypYFd",
        "outputId": "36a15f20-42be-4bf3-a107-a5222ebb5020"
      },
      "outputs": [
        {
          "name": "stdout",
          "output_type": "stream",
          "text": [
            "[1, 2, 3, 4, 5]\n",
            "[1, 2, 3, 4, 5]\n"
          ]
        }
      ],
      "source": [
        "print(l)\n",
        "print(l[::+1])#좌->우"
      ]
    },
    {
      "cell_type": "markdown",
      "metadata": {
        "id": "nb9ldYF-pjnv"
      },
      "source": [
        "음의 뱡향"
      ]
    },
    {
      "cell_type": "code",
      "execution_count": 31,
      "metadata": {
        "colab": {
          "base_uri": "https://localhost:8080/"
        },
        "id": "dHG7iBXXplW2",
        "outputId": "80a583ce-43a6-4944-b201-ed8893645d1d"
      },
      "outputs": [
        {
          "name": "stdout",
          "output_type": "stream",
          "text": [
            "[1, 2, 3, 4, 5]\n",
            "[5, 4, 3, 2, 1]\n"
          ]
        }
      ],
      "source": [
        "print(l)\n",
        "print(l[::-1])#좌<-우"
      ]
    },
    {
      "cell_type": "code",
      "execution_count": 37,
      "metadata": {
        "colab": {
          "base_uri": "https://localhost:8080/"
        },
        "id": "M793-0wFnGpF",
        "outputId": "253fe866-02bb-4b8a-b4f4-0501ffe421ae"
      },
      "outputs": [
        {
          "data": {
            "text/plain": [
              "[5]"
            ]
          },
          "execution_count": 37,
          "metadata": {},
          "output_type": "execute_result"
        }
      ],
      "source": [
        "l[-1::1]"
      ]
    },
    {
      "cell_type": "code",
      "execution_count": 41,
      "metadata": {
        "colab": {
          "base_uri": "https://localhost:8080/"
        },
        "id": "D8Dbz48Uq5_I",
        "outputId": "45fd504e-6772-4a78-9fca-b19cc2c3d2f5"
      },
      "outputs": [
        {
          "name": "stdout",
          "output_type": "stream",
          "text": [
            "1 2 3 4\n",
            "1 2 3 4\n",
            "1 2 3 4\n",
            "1 2 3 4\n"
          ]
        }
      ],
      "source": [
        "a,s,d,f=[1,2,3,4]\n",
        "print(a,s,d,f)\n",
        "a,s,d,f=(1,2,3,4)\n",
        "print(a,s,d,f)\n",
        "a,s,d,f={1,2,3,4}\n",
        "print(a,s,d,f)\n",
        "a,s,d,f={1:5,2:5,3:5,4:5}\n",
        "print(a,s,d,f)"
      ]
    },
    {
      "cell_type": "markdown",
      "metadata": {
        "id": "AY2rNRNDx_XP"
      },
      "source": [
        "리스트 메소드"
      ]
    },
    {
      "cell_type": "code",
      "execution_count": null,
      "metadata": {
        "colab": {
          "base_uri": "https://localhost:8080/",
          "height": 727
        },
        "id": "teyL0j_TyAv2",
        "outputId": "601047bd-2301-496d-f1be-6cfc36dcc0a4"
      },
      "outputs": [],
      "source": [
        "#append 값추가\n",
        "l=[]\n",
        "print(l,len(l))\n",
        "l.append(10)\n",
        "print(l,len(l))\n",
        "l.append([101,2,3,4])\n",
        "print(l,len(l))\n",
        "l.append('문자열')\n",
        "print(l,len(l))\n",
        "#extend 구조에서 각각 값추가 단일값은 넣을 수 없다.\n",
        "l=[]\n",
        "print(l,len(l))\n",
        "l.extend([10])\n",
        "print(l,len(l))\n",
        "l.extend([10,[1,2,3]])\n",
        "print(l,len(l))\n",
        "l.extend({10,1})\n",
        "print(l,len(l))\n",
        "l.extend('101')\n",
        "print(l,len(l))\n",
        "#insert\n",
        "l=[1]\n",
        "l[0]=10\n",
        "print(l,len(l))\n",
        "l.insert(0,10)\n",
        "print(l,len(l))\n",
        "l.insert(-100000,100)\n",
        "print(l,len(l))\n",
        "#pop\n",
        "print(l.pop(0))\n",
        "print(l,len(l))\n",
        "#remove\n",
        "l=[10,5,10]\n",
        "print(l.remove(10))\n",
        "print(l,len(l))\n",
        "#clear\n",
        "print(l.clear())\n",
        "print(l)\n",
        "#count\n",
        "print(l.count(0))\n",
        "l=[1,2,3,1,2,3,1,2,3]\n",
        "print(l.count(1))\n",
        "#index\n",
        "print(l.index(2))\n",
        "print(l)\n",
        "값_1의_index_기록=[]\n",
        "while l.count(1)!=0:\n",
        "  값_1의_index_기록.append(l.index(1))\n",
        "  l.remove(1)\n",
        "print(값_1의_index_기록)\n",
        "#reverse\n",
        "l=[7,4,8,2,4,6,1,2,0]\n",
        "print(l)\n",
        "l.reverse()\n",
        "print(l)\n",
        "#sort\n",
        "l.sort()\n",
        "print(l)\n",
        "l.sort(reverse=True)\n",
        "print(l)\n",
        "l=[7,4,8,2,4,6,1,2,0]\n",
        "print(sorted(l))\n",
        "print(l)"
      ]
    },
    {
      "cell_type": "code",
      "execution_count": null,
      "metadata": {
        "colab": {
          "base_uri": "https://localhost:8080/",
          "height": 261
        },
        "id": "CcoOe9vw_a4X",
        "outputId": "880cb1a0-90dc-4a3f-aadb-3000cbc0eaf6"
      },
      "outputs": [],
      "source": [
        "print('문자열'+'문자열')\n",
        "print([1,2,3]+[4,5,6])\n",
        "print((1,2,3)+(4,5,6))"
      ]
    },
    {
      "cell_type": "code",
      "execution_count": 109,
      "metadata": {
        "colab": {
          "base_uri": "https://localhost:8080/"
        },
        "id": "lCrYk-dBAFbn",
        "outputId": "c7b59fae-cc9e-49bf-f74d-4fe5559b0936"
      },
      "outputs": [
        {
          "name": "stdout",
          "output_type": "stream",
          "text": [
            "<class 'list'>\n",
            "<class 'tuple'>\n",
            "<class 'dict'>\n"
          ]
        }
      ],
      "source": [
        "print(type([]))\n",
        "print(type((1,)))\n",
        "print(type({}))"
      ]
    },
    {
      "cell_type": "code",
      "execution_count": 111,
      "metadata": {
        "colab": {
          "base_uri": "https://localhost:8080/"
        },
        "id": "ch0bNqh5BI_X",
        "outputId": "c04fdf51-7fa6-4d89-90a0-8b8437a49736"
      },
      "outputs": [
        {
          "data": {
            "text/plain": [
              "tuple"
            ]
          },
          "execution_count": 111,
          "metadata": {},
          "output_type": "execute_result"
        }
      ],
      "source": [
        "a=1,2,3\n",
        "type(a)"
      ]
    },
    {
      "attachments": {},
      "cell_type": "markdown",
      "metadata": {
        "id": "t1qPISvOJksf"
      },
      "source": [
        "## 리스트 문제 "
      ]
    },
    {
      "cell_type": "markdown",
      "metadata": {
        "id": "mot5521-Jnqv"
      },
      "source": [
        "Q1"
      ]
    },
    {
      "cell_type": "code",
      "execution_count": 113,
      "metadata": {
        "colab": {
          "base_uri": "https://localhost:8080/"
        },
        "id": "wd_yo3d6JnVH",
        "outputId": "f3422173-ed43-40ea-98e6-9fa3208c56d6"
      },
      "outputs": [
        {
          "name": "stdout",
          "output_type": "stream",
          "text": [
            "입력(구분자 ' ')123 4 5 6 7 8\n",
            "입력(구분자 ' ')5\n",
            "입력(구분자 ' ')1 2 3 0\n",
            "3 2 1 5 8 7 6 5 4 123 \n"
          ]
        }
      ],
      "source": [
        "l=[]\n",
        "Num=[]\n",
        "for i in range(100):\n",
        "    if len(Num) == 0:\n",
        "        Num = list(map(int, input(\"입력(구분자 ' ')\").split()))\n",
        "    x = Num.pop(0)\n",
        "    if x==0:\n",
        "        break\n",
        "    l.append(x)\n",
        "for i in l[::-1]: \n",
        "  print(i,end=' ')\n",
        "print()"
      ]
    },
    {
      "cell_type": "markdown",
      "metadata": {
        "id": "io1jYGK6KDU3"
      },
      "source": [
        "Q2"
      ]
    },
    {
      "cell_type": "code",
      "execution_count": 115,
      "metadata": {
        "colab": {
          "base_uri": "https://localhost:8080/"
        },
        "id": "OIu6wr6tKEJf",
        "outputId": "35d56c59-3747-4761-ea18-62f6c3a71553"
      },
      "outputs": [
        {
          "name": "stdout",
          "output_type": "stream",
          "text": [
            "입력(구분자 ' ')1 50 60 32 0 5 0 3 6 9 8 7 4 5 6 1 2\n",
            "0~50 숫자 : 1 50 32 0 5 0 3 6 9 \n",
            "51~100 숫자 : 60 \n",
            "101~ 숫자 : \n"
          ]
        }
      ],
      "source": [
        "ar1=[]\n",
        "ar2=[]\n",
        "ar3=[]\n",
        "Num=[]\n",
        "c=0\n",
        "while c!=10:\n",
        "    if len(Num)==0:\n",
        "        Num = list(map(int,input(\"입력(구분자 ' ')\").split()))\n",
        "    n=Num.pop(0)\n",
        "    if 0<= n <=50:\n",
        "        ar1.append(n)\n",
        "    elif 51<= n <=100:\n",
        "        ar2.append(n)\n",
        "    elif 101<=n:\n",
        "        ar3.append(n)\n",
        "    c+=1\n",
        "print(f\"0~50 숫자 : \",end='')\n",
        "for i in ar1:\n",
        "  print(i,end=' ')\n",
        "print()\n",
        "print(f\"51~100 숫자 : \",end='')\n",
        "for i in ar2:\n",
        "  print(i,end=' ')\n",
        "print()\n",
        "print(f\"101~ 숫자 : \",end='')\n",
        "for i in ar3:\n",
        "  print(i,end=' ')\n",
        "print()"
      ]
    },
    {
      "cell_type": "markdown",
      "metadata": {
        "id": "KQr4q3KCLMcv"
      },
      "source": [
        "Q3"
      ]
    },
    {
      "cell_type": "code",
      "execution_count": 141,
      "metadata": {
        "colab": {
          "base_uri": "https://localhost:8080/"
        },
        "id": "xgi8Yy6ULNwf",
        "outputId": "1c921fe5-9a6d-4e22-cb6b-4090aa31fd8e"
      },
      "outputs": [
        {
          "name": "stdout",
          "output_type": "stream",
          "text": [
            "입력(구분자 ' ')A S D F 2 F\n",
            "A:1\n",
            "D:1\n",
            "F:1\n",
            "S:1\n"
          ]
        }
      ],
      "source": [
        "l=[0 for i in range(26)]\n",
        "Num=[]\n",
        "while True:\n",
        "  if len(Num)==0:\n",
        "    Num = input(\"입력(구분자 ' ')\").split()\n",
        "  x = Num.pop(0)\n",
        "  if not('A'<=x and x<='Z'):\n",
        "      break\n",
        "  l[ord(x)-ord('A')]+=1\n",
        "for i in range(len(l)):\n",
        "  if l[i] !=0:\n",
        "    print(f\"{chr(i+ord('A'))}:{l[i]}\")"
      ]
    },
    {
      "cell_type": "markdown",
      "metadata": {
        "id": "cjB3NifNRjFX"
      },
      "source": [
        "Q4"
      ]
    },
    {
      "cell_type": "code",
      "execution_count": 137,
      "metadata": {
        "colab": {
          "base_uri": "https://localhost:8080/"
        },
        "id": "ohPilnkpRgIX",
        "outputId": "4bfd5ac0-9e13-4edb-b91a-d2d8a6af529b"
      },
      "outputs": [
        {
          "name": "stdout",
          "output_type": "stream",
          "text": [
            "1 2 3 4 5 6 7 8 9\n",
            "9 8 7 6 5 4 3 2 1 "
          ]
        }
      ],
      "source": [
        "l=list(map(int,input(\"입력(구분자 ' ')\").split()))\n",
        "for i in l[::-1]:\n",
        "    print(i,end=\" \")"
      ]
    },
    {
      "cell_type": "markdown",
      "metadata": {
        "id": "8jbLGhCdRkuI"
      },
      "source": [
        "Q5"
      ]
    },
    {
      "cell_type": "code",
      "execution_count": 140,
      "metadata": {
        "colab": {
          "base_uri": "https://localhost:8080/"
        },
        "id": "vzi0MQqnRhW_",
        "outputId": "b10132ff-fcae-4a2a-e3d6-34064e5f058b"
      },
      "outputs": [
        {
          "name": "stdout",
          "output_type": "stream",
          "text": [
            "정수입력:5\n",
            "1\t2\t3\t4\t5\t\n",
            "16\t17\t18\t19\t6\t\n",
            "15\t24\t25\t20\t7\t\n",
            "14\t23\t22\t21\t8\t\n",
            "13\t12\t11\t10\t9\t\n"
          ]
        }
      ],
      "source": [
        "dx=[1,0,-1,0]\n",
        "dy=[0,1,0,-1]\n",
        "d=0\n",
        "x=y=0\n",
        "n=int(input(\"정수입력:\"))\n",
        "a=[[0 for _ in range(n)]for _ in range(n)]\n",
        "for i in range(1,n*n+1):\n",
        "    a[y][x]=i\n",
        "    yy = y +dy[d]\n",
        "    xx = x +dx[d]\n",
        "    if (yy>=0 and yy<n) and (xx>=0 and xx<n):\n",
        "        if a[yy][xx] ==0:\n",
        "            x=xx\n",
        "            y=yy\n",
        "        else:\n",
        "            d = (d+1)%4\n",
        "            x+=dx[d]\n",
        "            y+=dy[d]\n",
        "    else:\n",
        "        d = (d + 1) % 4\n",
        "        x += dx[d]\n",
        "        y += dy[d]\n",
        "\n",
        "for i in a:\n",
        "    for j in i:\n",
        "        print(j,end=\"\\t\")\n",
        "    print()\n",
        "\n",
        "\n"
      ]
    },
    {
      "cell_type": "code",
      "execution_count": 156,
      "metadata": {
        "colab": {
          "base_uri": "https://localhost:8080/"
        },
        "id": "0d62f3A_YItX",
        "outputId": "e3a53564-e9d2-4355-f413-b5d856b46980"
      },
      "outputs": [
        {
          "name": "stdout",
          "output_type": "stream",
          "text": [
            "1 2 3 4\n"
          ]
        },
        {
          "data": {
            "text/plain": [
              "[1, 2, 3, 4]"
            ]
          },
          "execution_count": 156,
          "metadata": {},
          "output_type": "execute_result"
        }
      ],
      "source": [
        "list(map(int,input().split()))"
      ]
    },
    {
      "cell_type": "code",
      "execution_count": 154,
      "metadata": {
        "colab": {
          "base_uri": "https://localhost:8080/"
        },
        "id": "b7o3TqD9eT9J",
        "outputId": "54a4c126-ea31-4dd4-be99-d4bfcd9fd7b7"
      },
      "outputs": [
        {
          "name": "stdout",
          "output_type": "stream",
          "text": [
            "1 2 3 4\n"
          ]
        },
        {
          "data": {
            "text/plain": [
              "[1, 2, 3, 4]"
            ]
          },
          "execution_count": 154,
          "metadata": {},
          "output_type": "execute_result"
        }
      ],
      "source": [
        "l=[]\n",
        "for i in input().split():\n",
        "  l.append(int(i))\n",
        "l"
      ]
    },
    {
      "cell_type": "code",
      "execution_count": 155,
      "metadata": {
        "colab": {
          "base_uri": "https://localhost:8080/"
        },
        "id": "dEeUVvO5elFI",
        "outputId": "eabef2b3-9ac6-467f-e2a3-0e9918b92c5b"
      },
      "outputs": [
        {
          "name": "stdout",
          "output_type": "stream",
          "text": [
            "1 2 3 4\n"
          ]
        },
        {
          "data": {
            "text/plain": [
              "[1, 2, 3, 4]"
            ]
          },
          "execution_count": 155,
          "metadata": {},
          "output_type": "execute_result"
        }
      ],
      "source": [
        "[int(i) for i in input().split()]"
      ]
    },
    {
      "cell_type": "code",
      "execution_count": 159,
      "metadata": {
        "colab": {
          "base_uri": "https://localhost:8080/"
        },
        "id": "vCIdmN8MfsD6",
        "outputId": "29194ada-3c5d-4e88-ce1e-2dd0642faac4"
      },
      "outputs": [
        {
          "name": "stdout",
          "output_type": "stream",
          "text": [
            "1\n",
            "2\n",
            "3\n",
            "4\n",
            "5\n",
            "6\n"
          ]
        }
      ],
      "source": [
        "ck=[]\n",
        "for i in [1,2,3,4,5,6,1,2]:\n",
        "  if i not in ck:\n",
        "    print(i)\n",
        "  ck.append(i)"
      ]
    }
  ],
  "metadata": {
    "colab": {
      "provenance": []
    },
    "kernelspec": {
      "display_name": "Python 3",
      "name": "python3"
    },
    "language_info": {
      "name": "python"
    }
  },
  "nbformat": 4,
  "nbformat_minor": 0
}
