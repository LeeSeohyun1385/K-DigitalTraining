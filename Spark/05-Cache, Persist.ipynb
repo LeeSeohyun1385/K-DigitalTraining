{
 "cells": [
  {
   "cell_type": "code",
   "execution_count": 1,
   "id": "c1c6eb4d",
   "metadata": {},
   "outputs": [
    {
     "name": "stderr",
     "output_type": "stream",
     "text": [
      "WARNING: An illegal reflective access operation has occurred\n",
      "WARNING: Illegal reflective access by org.apache.spark.unsafe.Platform (file:/home/ubuntu/spark-3.2.4/jars/spark-unsafe_2.12-3.2.4.jar) to constructor java.nio.DirectByteBuffer(long,int)\n",
      "WARNING: Please consider reporting this to the maintainers of org.apache.spark.unsafe.Platform\n",
      "WARNING: Use --illegal-access=warn to enable warnings of further illegal reflective access operations\n",
      "WARNING: All illegal access operations will be denied in a future release\n",
      "Using Spark's default log4j profile: org/apache/spark/log4j-defaults.properties\n",
      "Setting default log level to \"WARN\".\n",
      "To adjust logging level use sc.setLogLevel(newLevel). For SparkR, use setLogLevel(newLevel).\n",
      "23/06/05 00:24:07 WARN NativeCodeLoader: Unable to load native-hadoop library for your platform... using builtin-java classes where applicable\n"
     ]
    }
   ],
   "source": [
    "from pyspark import SparkConf, SparkContext\n",
    "\n",
    "conf = SparkConf().setMaster(\"local\").setAppName(\"restaurant-review-average\")\n",
    "sc = SparkContext(conf=conf)"
   ]
  },
  {
   "cell_type": "code",
   "execution_count": 2,
   "id": "b3722bb5",
   "metadata": {},
   "outputs": [
    {
     "data": {
      "text/plain": [
       "['id,item,cateogry,reviews,',\n",
       " '0,짜장면,중식,125,',\n",
       " '1,짬뽕,중식,235,',\n",
       " '2,김밥,분식,32,',\n",
       " '3,떡볶이,분식,534,',\n",
       " '4,라멘,일식,223,',\n",
       " '5,돈가스,일식,52,',\n",
       " '6,우동,일식,12,',\n",
       " '7,쌀국수,아시안,312,',\n",
       " '8,햄버거,패스트푸드,12,',\n",
       " '9,치킨,패스트푸드,23']"
      ]
     },
     "execution_count": 2,
     "metadata": {},
     "output_type": "execute_result"
    }
   ],
   "source": [
    "filepath = '/home/ubuntu/working/spark-examples/data/restaurant_reviews.csv'\n",
    "lines = sc.textFile(f'file:///{filepath}')\n",
    "lines.collect()\n",
    "# restaurant rdd 가 잘 생성됨"
   ]
  },
  {
   "cell_type": "code",
   "execution_count": 3,
   "id": "5b372314",
   "metadata": {},
   "outputs": [
    {
     "name": "stderr",
     "output_type": "stream",
     "text": [
      "                                                                                \r"
     ]
    },
    {
     "data": {
      "text/plain": [
       "['0,짜장면,중식,125,',\n",
       " '1,짬뽕,중식,235,',\n",
       " '2,김밥,분식,32,',\n",
       " '3,떡볶이,분식,534,',\n",
       " '4,라멘,일식,223,',\n",
       " '5,돈가스,일식,52,',\n",
       " '6,우동,일식,12,',\n",
       " '7,쌀국수,아시안,312,',\n",
       " '8,햄버거,패스트푸드,12,',\n",
       " '9,치킨,패스트푸드,23']"
      ]
     },
     "execution_count": 3,
     "metadata": {},
     "output_type": "execute_result"
    }
   ],
   "source": [
    "header = lines.first()\n",
    "filtered_lines = lines.filter(lambda row : row != header)\n",
    "filtered_lines.collect()"
   ]
  },
  {
   "cell_type": "code",
   "execution_count": 4,
   "id": "c300c558",
   "metadata": {},
   "outputs": [],
   "source": [
    "def parse(row):\n",
    "    fields = row.split(\",\")\n",
    "    category = fields[2]\n",
    "    reviews = int(fields[3])\n",
    "    \n",
    "    return category, reviews"
   ]
  },
  {
   "cell_type": "code",
   "execution_count": 6,
   "id": "7237fe7b",
   "metadata": {},
   "outputs": [],
   "source": [
    "# 두개의 category, reviews 를 만들어 각각 take, mapValues를 처리함\n",
    "# 단순한 조회 , 원본 데이터의 변형이 일어나지 않는 작업에 Cache, Persist를 사용함"
   ]
  },
  {
   "cell_type": "markdown",
   "id": "f4e498dd",
   "metadata": {},
   "source": [
    "persist를 사용하지 않는 경우"
   ]
  },
  {
   "cell_type": "code",
   "execution_count": 7,
   "id": "4b1be9d4",
   "metadata": {},
   "outputs": [
    {
     "data": {
      "text/plain": [
       "[('중식', 125),\n",
       " ('중식', 235),\n",
       " ('분식', 32),\n",
       " ('분식', 534),\n",
       " ('일식', 223),\n",
       " ('일식', 52),\n",
       " ('일식', 12),\n",
       " ('아시안', 312),\n",
       " ('패스트푸드', 12),\n",
       " ('패스트푸드', 23)]"
      ]
     },
     "execution_count": 7,
     "metadata": {},
     "output_type": "execute_result"
    }
   ],
   "source": [
    "categoryReviews = filtered_lines.map(parse)\n",
    "categoryReviews.collect()"
   ]
  },
  {
   "cell_type": "code",
   "execution_count": 8,
   "id": "dc3487d9",
   "metadata": {},
   "outputs": [],
   "source": [
    "result1 = categoryReviews.take(10) # Action\n",
    "result2 = categoryReviews.mapValues(lambda x : (x,1)).collect() #transformation(mapValues)에 Action 걸어놓음"
   ]
  },
  {
   "cell_type": "code",
   "execution_count": null,
   "id": "2486d45d",
   "metadata": {},
   "outputs": [],
   "source": [
    "# Action도 Rdd를 만든다.\n",
    "# categoryReviews가 두번 만들어진다."
   ]
  },
  {
   "cell_type": "code",
   "execution_count": 9,
   "id": "9e3d1460",
   "metadata": {},
   "outputs": [
    {
     "data": {
      "text/plain": [
       "([('중식', 125),\n",
       "  ('중식', 235),\n",
       "  ('분식', 32),\n",
       "  ('분식', 534),\n",
       "  ('일식', 223),\n",
       "  ('일식', 52),\n",
       "  ('일식', 12),\n",
       "  ('아시안', 312),\n",
       "  ('패스트푸드', 12),\n",
       "  ('패스트푸드', 23)],\n",
       " [('중식', (125, 1)),\n",
       "  ('중식', (235, 1)),\n",
       "  ('분식', (32, 1)),\n",
       "  ('분식', (534, 1)),\n",
       "  ('일식', (223, 1)),\n",
       "  ('일식', (52, 1)),\n",
       "  ('일식', (12, 1)),\n",
       "  ('아시안', (312, 1)),\n",
       "  ('패스트푸드', (12, 1)),\n",
       "  ('패스트푸드', (23, 1))])"
      ]
     },
     "execution_count": 9,
     "metadata": {},
     "output_type": "execute_result"
    }
   ],
   "source": [
    "result1, result2"
   ]
  },
  {
   "cell_type": "markdown",
   "id": "23beb3cb",
   "metadata": {},
   "source": [
    "`categoryReviews`는 `result1`, `result2` 를 만들면서 2번 만들어짐.\n",
    "\n",
    "`categoryReviews`에서 데이터를 꺼내오기만 하면 되지 변경은 일어나지 않기 때문에 \n",
    "`persist`를 이용해서 `categoryReviews`를 메모리에 넣어 놓는 것이 더 좋아 보임"
   ]
  },
  {
   "cell_type": "code",
   "execution_count": 10,
   "id": "0528dd2b",
   "metadata": {},
   "outputs": [
    {
     "data": {
      "text/plain": [
       "[('중식', 125),\n",
       " ('중식', 235),\n",
       " ('분식', 32),\n",
       " ('분식', 534),\n",
       " ('일식', 223),\n",
       " ('일식', 52),\n",
       " ('일식', 12),\n",
       " ('아시안', 312),\n",
       " ('패스트푸드', 12),\n",
       " ('패스트푸드', 23)]"
      ]
     },
     "execution_count": 10,
     "metadata": {},
     "output_type": "execute_result"
    }
   ],
   "source": [
    "categoryReviews = filtered_lines.map(parse).persist() # categoryReviews RDD는 메모리에 상주하는 RDD가 됨\n",
    "# 디스크에 기록하지 않는 RDD\n",
    "categoryReviews.collect()"
   ]
  },
  {
   "cell_type": "code",
   "execution_count": 11,
   "id": "cd33b7bc",
   "metadata": {},
   "outputs": [],
   "source": [
    "result1 = categoryReviews.take(10)\n",
    "result2 = categoryReviews.mapValues(lambda x : (x, 1)).collect()"
   ]
  },
  {
   "cell_type": "code",
   "execution_count": 12,
   "id": "4e7329fd",
   "metadata": {},
   "outputs": [],
   "source": [
    "sc.stop()"
   ]
  },
  {
   "cell_type": "markdown",
   "id": "a53498f2",
   "metadata": {},
   "source": [
    "결론 : 하나의 RDD를 기반으로 여러 연산(Transformation, Action 모두) 일어날 때는 persist()를 사용하면 좋음\n",
    "- 대표적으로 머신러닝 훈련데이터"
   ]
  },
  {
   "cell_type": "code",
   "execution_count": null,
   "id": "65baaf98",
   "metadata": {},
   "outputs": [],
   "source": []
  }
 ],
 "metadata": {
  "kernelspec": {
   "display_name": "Python 3 (ipykernel)",
   "language": "python",
   "name": "python3"
  },
  "language_info": {
   "codemirror_mode": {
    "name": "ipython",
    "version": 3
   },
   "file_extension": ".py",
   "mimetype": "text/x-python",
   "name": "python",
   "nbconvert_exporter": "python",
   "pygments_lexer": "ipython3",
   "version": "3.8.16"
  }
 },
 "nbformat": 4,
 "nbformat_minor": 5
}
