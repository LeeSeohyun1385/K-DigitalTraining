{
 "cells": [
  {
   "cell_type": "code",
   "execution_count": 1,
   "id": "58592f3b",
   "metadata": {},
   "outputs": [
    {
     "name": "stderr",
     "output_type": "stream",
     "text": [
      "WARNING: An illegal reflective access operation has occurred\n",
      "WARNING: Illegal reflective access by org.apache.spark.unsafe.Platform (file:/home/ubuntu/spark-3.2.4/jars/spark-unsafe_2.12-3.2.4.jar) to constructor java.nio.DirectByteBuffer(long,int)\n",
      "WARNING: Please consider reporting this to the maintainers of org.apache.spark.unsafe.Platform\n",
      "WARNING: Use --illegal-access=warn to enable warnings of further illegal reflective access operations\n",
      "WARNING: All illegal access operations will be denied in a future release\n",
      "Using Spark's default log4j profile: org/apache/spark/log4j-defaults.properties\n",
      "Setting default log level to \"WARN\".\n",
      "To adjust logging level use sc.setLogLevel(newLevel). For SparkR, use setLogLevel(newLevel).\n",
      "23/06/02 06:33:45 WARN NativeCodeLoader: Unable to load native-hadoop library for your platform... using builtin-java classes where applicable\n"
     ]
    }
   ],
   "source": [
    "from pyspark import SparkConf, SparkContext\n",
    "\n",
    "conf = SparkConf().setMaster('local').setAppName('transformations_actions')\n",
    "sc = SparkContext(conf=conf)"
   ]
  },
  {
   "cell_type": "code",
   "execution_count": 2,
   "id": "f65a5831",
   "metadata": {},
   "outputs": [
    {
     "data": {
      "text/plain": [
       "[('spark.master', 'local'),\n",
       " ('spark.app.id', 'local-1685687626684'),\n",
       " ('spark.driver.host', 'ip-172-31-44-191.ap-northeast-3.compute.internal'),\n",
       " ('spark.driver.port', '44927'),\n",
       " ('spark.rdd.compress', 'True'),\n",
       " ('spark.serializer.objectStreamReset', '100'),\n",
       " ('spark.submit.pyFiles', ''),\n",
       " ('spark.executor.id', 'driver'),\n",
       " ('spark.app.name', 'transformations_actions'),\n",
       " ('spark.submit.deployMode', 'client'),\n",
       " ('spark.ui.showConsoleProgress', 'true'),\n",
       " ('spark.app.startTime', '1685687624930')]"
      ]
     },
     "execution_count": 2,
     "metadata": {},
     "output_type": "execute_result"
    }
   ],
   "source": [
    "# 스파크 설정 환경 확인\n",
    "sc.getConf().getAll()"
   ]
  },
  {
   "cell_type": "markdown",
   "id": "a40d7c0c",
   "metadata": {},
   "source": [
    "Python 리스트를 RDD로 만들기"
   ]
  },
  {
   "cell_type": "code",
   "execution_count": 3,
   "id": "94e7172c",
   "metadata": {},
   "outputs": [
    {
     "data": {
      "text/plain": [
       "ParallelCollectionRDD[0] at readRDDFromFile at PythonRDD.scala:274"
      ]
     },
     "execution_count": 3,
     "metadata": {},
     "output_type": "execute_result"
    }
   ],
   "source": [
    "foods = sc.parallelize([\n",
    "    \"짜장면\", \"마라탕\", \"짬뽕\", \"떡볶이\", \"쌀국수\", \"짬뽕\", \"짜장면\", \"짜장면\", \"짜장면\", \"라면\", \"우동\", \"라면\"\n",
    "])\n",
    "foods"
   ]
  },
  {
   "cell_type": "markdown",
   "id": "cd260fdf",
   "metadata": {},
   "source": [
    "1. RDD 내의 모든 데이터 가져오기\n",
    "- collect()"
   ]
  },
  {
   "cell_type": "code",
   "execution_count": 4,
   "id": "e9e97e57",
   "metadata": {},
   "outputs": [
    {
     "data": {
      "text/plain": [
       "['짜장면', '마라탕', '짬뽕', '떡볶이', '쌀국수', '짬뽕', '짜장면', '짜장면', '짜장면', '라면', '우동', '라면']"
      ]
     },
     "execution_count": 4,
     "metadata": {},
     "output_type": "execute_result"
    }
   ],
   "source": [
    "foods.collect()"
   ]
  },
  {
   "cell_type": "markdown",
   "id": "f9cc7b75",
   "metadata": {},
   "source": [
    "2. 각 데이터 별 개수 세기\n",
    "- countByValue()"
   ]
  },
  {
   "cell_type": "code",
   "execution_count": 5,
   "id": "d6945519",
   "metadata": {},
   "outputs": [
    {
     "name": "stderr",
     "output_type": "stream",
     "text": [
      "\r",
      "[Stage 1:>                                                          (0 + 1) / 1]\r",
      "\r",
      "                                                                                \r"
     ]
    },
    {
     "data": {
      "text/plain": [
       "defaultdict(int,\n",
       "            {'짜장면': 4,\n",
       "             '마라탕': 1,\n",
       "             '짬뽕': 2,\n",
       "             '떡볶이': 1,\n",
       "             '쌀국수': 1,\n",
       "             '라면': 2,\n",
       "             '우동': 1})"
      ]
     },
     "execution_count": 5,
     "metadata": {},
     "output_type": "execute_result"
    }
   ],
   "source": [
    "foods.countByValue()"
   ]
  },
  {
   "cell_type": "markdown",
   "id": "87ad9449",
   "metadata": {},
   "source": [
    "3. 상위 n 개의 데이터 가져오기\n",
    "- take(n)"
   ]
  },
  {
   "cell_type": "code",
   "execution_count": 6,
   "id": "00a1e9f2",
   "metadata": {},
   "outputs": [
    {
     "data": {
      "text/plain": [
       "['짜장면', '마라탕', '짬뽕']"
      ]
     },
     "execution_count": 6,
     "metadata": {},
     "output_type": "execute_result"
    }
   ],
   "source": [
    "foods.take(3)"
   ]
  },
  {
   "cell_type": "markdown",
   "id": "5387a9f2",
   "metadata": {},
   "source": [
    "4. 처음 1개의 데이터만 가져오기\n",
    "- first()\n"
   ]
  },
  {
   "cell_type": "code",
   "execution_count": 7,
   "id": "d7154659",
   "metadata": {},
   "outputs": [
    {
     "data": {
      "text/plain": [
       "'짜장면'"
      ]
     },
     "execution_count": 7,
     "metadata": {},
     "output_type": "execute_result"
    }
   ],
   "source": [
    "foods.first()"
   ]
  },
  {
   "cell_type": "markdown",
   "id": "a25d15ff",
   "metadata": {},
   "source": [
    "5. RDD내의 데이터 개수 세기"
   ]
  },
  {
   "cell_type": "code",
   "execution_count": 8,
   "id": "ee43cdea",
   "metadata": {},
   "outputs": [
    {
     "data": {
      "text/plain": [
       "12"
      ]
     },
     "execution_count": 8,
     "metadata": {},
     "output_type": "execute_result"
    }
   ],
   "source": [
    "foods.count()"
   ]
  },
  {
   "cell_type": "markdown",
   "id": "c12ac640",
   "metadata": {},
   "source": [
    "6. 중복데이터 제거 (Transformarions)\n",
    "- distinct"
   ]
  },
  {
   "cell_type": "code",
   "execution_count": 9,
   "id": "0d94e25a",
   "metadata": {},
   "outputs": [
    {
     "data": {
      "text/plain": [
       "PythonRDD[9] at RDD at PythonRDD.scala:53"
      ]
     },
     "execution_count": 9,
     "metadata": {},
     "output_type": "execute_result"
    }
   ],
   "source": [
    "fd = foods.distinct()\n",
    "fd"
   ]
  },
  {
   "cell_type": "code",
   "execution_count": 10,
   "id": "4c4dcc0e",
   "metadata": {},
   "outputs": [
    {
     "data": {
      "text/plain": [
       "['짜장면', '마라탕', '짬뽕', '떡볶이', '쌀국수', '라면', '우동']"
      ]
     },
     "execution_count": 10,
     "metadata": {},
     "output_type": "execute_result"
    }
   ],
   "source": [
    "fd.collect() #Action"
   ]
  },
  {
   "cell_type": "code",
   "execution_count": 11,
   "id": "101a842f",
   "metadata": {},
   "outputs": [
    {
     "data": {
      "text/plain": [
       "7"
      ]
     },
     "execution_count": 11,
     "metadata": {},
     "output_type": "execute_result"
    }
   ],
   "source": [
    "# 중복을 제외한 개수는 distinct 후 count\n",
    "foods.distinct().count()"
   ]
  },
  {
   "cell_type": "markdown",
   "id": "548e6453",
   "metadata": {},
   "source": [
    "* 중요한 기능은 아님\n",
    "- 요소를 하나씩 꺼내서 함수에 저장할 때 사용\n",
    "- foreach\n",
    "    worker에게만 일을 시켜 master에게 리턴이 되지 않음\n",
    "    연산의 결과 등을 로그화 시킬 때 사용"
   ]
  },
  {
   "cell_type": "code",
   "execution_count": 16,
   "id": "bee0d14b",
   "metadata": {},
   "outputs": [
    {
     "name": "stderr",
     "output_type": "stream",
     "text": [
      "짜장면냠냠\n",
      "마라탕냠냠\n",
      "짬뽕냠냠\n",
      "떡볶이냠냠\n",
      "쌀국수냠냠\n",
      "짬뽕냠냠\n",
      "짜장면냠냠\n",
      "짜장면냠냠\n",
      "짜장면냠냠\n",
      "라면냠냠\n",
      "우동냠냠\n",
      "라면냠냠\n"
     ]
    }
   ],
   "source": [
    "foods.foreach(lambda x : print(x+'냠냠')) #master에서 강제로 띄워주려 print"
   ]
  },
  {
   "cell_type": "code",
   "execution_count": 15,
   "id": "9b1fb473",
   "metadata": {},
   "outputs": [],
   "source": [
    "foods.foreach(lambda x : x) # 워커에서만 태스크가 일어남"
   ]
  },
  {
   "cell_type": "markdown",
   "id": "c9d0d1a7",
   "metadata": {},
   "source": [
    "Narrow Transformation\n",
    "- 1:1 변환을 의미\n",
    "- 하나의 열을 조작하기 위해 다른 열 및 파티션의 데이터를 사용하지 않는다.\n",
    "\n",
    "filter() map() flatMap() sample() union()"
   ]
  },
  {
   "cell_type": "code",
   "execution_count": 18,
   "id": "bdfabc78",
   "metadata": {},
   "outputs": [
    {
     "data": {
      "text/plain": [
       "ParallelCollectionRDD[20] at readRDDFromFile at PythonRDD.scala:274"
      ]
     },
     "execution_count": 18,
     "metadata": {},
     "output_type": "execute_result"
    }
   ],
   "source": [
    "sample_rdd = sc.parallelize([1,2,3])\n",
    "sample_rdd"
   ]
  },
  {
   "cell_type": "code",
   "execution_count": 19,
   "id": "180f153d",
   "metadata": {},
   "outputs": [],
   "source": [
    "sample_rdd2 = sample_rdd.map(lambda x : x+2)"
   ]
  },
  {
   "cell_type": "code",
   "execution_count": 20,
   "id": "eed119d2",
   "metadata": {},
   "outputs": [
    {
     "data": {
      "text/plain": [
       "[3, 4, 5]"
      ]
     },
     "execution_count": 20,
     "metadata": {},
     "output_type": "execute_result"
    }
   ],
   "source": [
    "sample_rdd2.collect()"
   ]
  },
  {
   "cell_type": "code",
   "execution_count": null,
   "id": "aa713855",
   "metadata": {},
   "outputs": [],
   "source": [
    "flatMap(<func>)\n",
    "- map"
   ]
  },
  {
   "cell_type": "code",
   "execution_count": 21,
   "id": "2c5f1f3d",
   "metadata": {},
   "outputs": [],
   "source": [
    "movies = [\n",
    "    \"그린 북\",\n",
    "    \"매트릭스\",\n",
    "    \"토이 스토리\",\n",
    "    \"캐스트 어웨이\",\n",
    "    \"포드 V 페라리\",\n",
    "    \"보헤미안 랩소디\",\n",
    "    \"빽 투 더 퓨처\",\n",
    "    \"반지의 제왕\",\n",
    "    \"죽은 시인의 사회\"\n",
    "]"
   ]
  },
  {
   "cell_type": "code",
   "execution_count": 22,
   "id": "4037c315",
   "metadata": {},
   "outputs": [
    {
     "data": {
      "text/plain": [
       "ParallelCollectionRDD[22] at readRDDFromFile at PythonRDD.scala:274"
      ]
     },
     "execution_count": 22,
     "metadata": {},
     "output_type": "execute_result"
    }
   ],
   "source": [
    "moviesRDD = sc.parallelize(movies)\n",
    "moviesRDD"
   ]
  },
  {
   "cell_type": "code",
   "execution_count": 23,
   "id": "f44f1899",
   "metadata": {},
   "outputs": [],
   "source": [
    "mapMovies = moviesRDD.map(lambda x : x.split())"
   ]
  },
  {
   "cell_type": "code",
   "execution_count": 24,
   "id": "b2f5fb12",
   "metadata": {},
   "outputs": [
    {
     "data": {
      "text/plain": [
       "[['그린', '북'],\n",
       " ['매트릭스'],\n",
       " ['토이', '스토리'],\n",
       " ['캐스트', '어웨이'],\n",
       " ['포드', 'V', '페라리'],\n",
       " ['보헤미안', '랩소디'],\n",
       " ['빽', '투', '더', '퓨처'],\n",
       " ['반지의', '제왕'],\n",
       " ['죽은', '시인의', '사회']]"
      ]
     },
     "execution_count": 24,
     "metadata": {},
     "output_type": "execute_result"
    }
   ],
   "source": [
    "mapMovies.collect()"
   ]
  },
  {
   "cell_type": "code",
   "execution_count": 25,
   "id": "e7ded51b",
   "metadata": {},
   "outputs": [
    {
     "data": {
      "text/plain": [
       "['그린',\n",
       " '북',\n",
       " '매트릭스',\n",
       " '토이',\n",
       " '스토리',\n",
       " '캐스트',\n",
       " '어웨이',\n",
       " '포드',\n",
       " 'V',\n",
       " '페라리',\n",
       " '보헤미안',\n",
       " '랩소디',\n",
       " '빽',\n",
       " '투',\n",
       " '더',\n",
       " '퓨처',\n",
       " '반지의',\n",
       " '제왕',\n",
       " '죽은',\n",
       " '시인의',\n",
       " '사회']"
      ]
     },
     "execution_count": 25,
     "metadata": {},
     "output_type": "execute_result"
    }
   ],
   "source": [
    "flatMovies = moviesRDD.flatMap(lambda x : x.split())\n",
    "flatMovies.collect()"
   ]
  },
  {
   "cell_type": "markdown",
   "id": "4ce8587a",
   "metadata": {},
   "source": [
    "Wide Transformation"
   ]
  },
  {
   "cell_type": "code",
   "execution_count": 26,
   "id": "0b7e34ba",
   "metadata": {},
   "outputs": [
    {
     "data": {
      "text/plain": [
       "ParallelCollectionRDD[25] at readRDDFromFile at PythonRDD.scala:274"
      ]
     },
     "execution_count": 26,
     "metadata": {},
     "output_type": "execute_result"
    }
   ],
   "source": [
    "foods = sc.parallelize([\n",
    "    \"짜장면\", \"마라탕\", \"짬뽕\", \"떡볶이\", \"쌀국수\", \"짬뽕\", \"짜장면\", \"짜장면\", \"짜장면\", \"라면\", \"우동\", \"라면\"\n",
    "])\n",
    "foods"
   ]
  },
  {
   "cell_type": "markdown",
   "id": "21ea4b3b",
   "metadata": {},
   "source": [
    "- groupBy()\n",
    "\n"
   ]
  },
  {
   "cell_type": "markdown",
   "id": "5437a871",
   "metadata": {},
   "source": [
    "`groupBy(<func>)`\n",
    "- `<func>`: 기준을 마련하는 함수"
   ]
  },
  {
   "cell_type": "code",
   "execution_count": 28,
   "id": "fc16bc3d",
   "metadata": {},
   "outputs": [
    {
     "data": {
      "text/plain": [
       "[('짜', <pyspark.resultiterable.ResultIterable at 0x7f2688d4ba60>),\n",
       " ('마', <pyspark.resultiterable.ResultIterable at 0x7f2688cf44c0>),\n",
       " ('짬', <pyspark.resultiterable.ResultIterable at 0x7f2688ba9040>),\n",
       " ('떡', <pyspark.resultiterable.ResultIterable at 0x7f2688ba9250>),\n",
       " ('쌀', <pyspark.resultiterable.ResultIterable at 0x7f2688ba90d0>),\n",
       " ('라', <pyspark.resultiterable.ResultIterable at 0x7f2688ba91c0>),\n",
       " ('우', <pyspark.resultiterable.ResultIterable at 0x7f2688ba9670>)]"
      ]
     },
     "execution_count": 28,
     "metadata": {},
     "output_type": "execute_result"
    }
   ],
   "source": [
    "foodsGroup = foods.groupBy(lambda x : x[0]) # 기준을 마련해줌\n",
    "foodsGroup.collect() #key Value RDD 가 나옴 \n",
    "\n",
    "#ResultIterable 여러개의 결과를 가지고 있음"
   ]
  },
  {
   "cell_type": "code",
   "execution_count": 29,
   "id": "f3aff2be",
   "metadata": {},
   "outputs": [
    {
     "data": {
      "text/plain": [
       "[('짜', <pyspark.resultiterable.ResultIterable at 0x7f2688a9dd90>),\n",
       " ('마', <pyspark.resultiterable.ResultIterable at 0x7f2688a9dfd0>),\n",
       " ('짬', <pyspark.resultiterable.ResultIterable at 0x7f2688d51eb0>),\n",
       " ('떡', <pyspark.resultiterable.ResultIterable at 0x7f2688cab070>),\n",
       " ('쌀', <pyspark.resultiterable.ResultIterable at 0x7f2688de0af0>),\n",
       " ('라', <pyspark.resultiterable.ResultIterable at 0x7f26a0041ee0>),\n",
       " ('우', <pyspark.resultiterable.ResultIterable at 0x7f26a0041730>)]"
      ]
     },
     "execution_count": 29,
     "metadata": {},
     "output_type": "execute_result"
    }
   ],
   "source": [
    "res = foodsGroup.collect()\n",
    "res"
   ]
  },
  {
   "cell_type": "code",
   "execution_count": 30,
   "id": "daa2a7d9",
   "metadata": {},
   "outputs": [
    {
     "name": "stdout",
     "output_type": "stream",
     "text": [
      "짜 ['짜장면', '짜장면', '짜장면', '짜장면']\n",
      "마 ['마라탕']\n",
      "짬 ['짬뽕', '짬뽕']\n",
      "떡 ['떡볶이']\n",
      "쌀 ['쌀국수']\n",
      "라 ['라면', '라면']\n",
      "우 ['우동']\n"
     ]
    }
   ],
   "source": [
    "for (k,v) in res:\n",
    "    print(k, list(v))"
   ]
  },
  {
   "cell_type": "code",
   "execution_count": 31,
   "id": "729d2a7d",
   "metadata": {},
   "outputs": [],
   "source": [
    "sc.stop()"
   ]
  },
  {
   "cell_type": "code",
   "execution_count": null,
   "id": "f5674f6b",
   "metadata": {},
   "outputs": [],
   "source": [
    "# spark context를 다시 실행하려면 stop을 하고 새로 만들어야함 \n"
   ]
  }
 ],
 "metadata": {
  "kernelspec": {
   "display_name": "Python 3 (ipykernel)",
   "language": "python",
   "name": "python3"
  },
  "language_info": {
   "codemirror_mode": {
    "name": "ipython",
    "version": 3
   },
   "file_extension": ".py",
   "mimetype": "text/x-python",
   "name": "python",
   "nbconvert_exporter": "python",
   "pygments_lexer": "ipython3",
   "version": "3.8.16"
  }
 },
 "nbformat": 4,
 "nbformat_minor": 5
}
