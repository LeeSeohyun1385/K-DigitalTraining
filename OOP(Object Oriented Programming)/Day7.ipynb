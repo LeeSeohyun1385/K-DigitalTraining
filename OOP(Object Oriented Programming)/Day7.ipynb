{
  "nbformat": 4,
  "nbformat_minor": 0,
  "metadata": {
    "colab": {
      "provenance": []
    },
    "kernelspec": {
      "name": "python3",
      "display_name": "Python 3"
    },
    "language_info": {
      "name": "python"
    }
  },
  "cells": [
    {
      "cell_type": "markdown",
      "source": [
        "없으면 만들고 있으면 갱신- 오바라이딩"
      ],
      "metadata": {
        "id": "Y_EYkruVsGBH"
      }
    },
    {
      "cell_type": "markdown",
      "source": [
        "캡술성"
      ],
      "metadata": {
        "id": "56GFVUIqxLOm"
      }
    },
    {
      "cell_type": "code",
      "execution_count": null,
      "metadata": {
        "colab": {
          "base_uri": "https://localhost:8080/"
        },
        "id": "S6adYJdgpFvK",
        "outputId": "7018a165-e9bd-4213-c059-ded4acf4b26a"
      },
      "outputs": [
        {
          "output_type": "stream",
          "name": "stdout",
          "text": [
            "객체의 초기화\n",
            "100 (1, 2, 3, 4)\n",
            "객체의 초기화\n",
            "10 (1, 2, 3, 4)\n",
            "객체의 초기화\n",
            "0 ()\n"
          ]
        }
      ],
      "source": [
        "class A:#캡슐 , 상속, 다형\n",
        "  def __init__(self,x=0,*l_x):\n",
        "    print('객체의 초기화')\n",
        "    self.x=x\n",
        "    self.l_x=l_x\n",
        "  def f(self):#첫호출시 y는 없다.\n",
        "    self.y=10\n",
        "  def f(self,x):\n",
        "    print(x)#지역변수\n",
        "    print(self.x)#인스턴스 필드->전역\n",
        "a=A(100,1,2,3,4)\n",
        "print(a.x,a.l_x)#1\n",
        "#a.f(100)\n",
        "#print(a.y)#2\n",
        "#a.d=10\n",
        "#print(a.d)#3\n",
        "b=A(10,1,2,3,4)\n",
        "print(b.x,b.l_x)#1\n",
        "c=A()#A(0,())\n",
        "print(c.x,c.l_x)"
      ]
    },
    {
      "cell_type": "markdown",
      "source": [
        "접근 할 수 있으면 있고, 접근하지 못하면 없다."
      ],
      "metadata": {
        "id": "5_JzeF3E5nMR"
      }
    },
    {
      "cell_type": "code",
      "source": [
        "class A:\n",
        "  def __init__(self):\n",
        "    self.__x=10#암묵적으로 은닉이라고 사용하기도함 \n",
        "  #내부의 이름과 외부의 이름이 다르다\n",
        "  #그래서 내부에서 호출시 선언된 이름으로 호출이 가능하지만\n",
        "  #외부에서는 이름이 변경되어버려 호출이 불가능하다.\n",
        "  @classmethod\n",
        "  def f(cls):\n",
        "    print(cls.__x)\n",
        "  def set_x(self,x):\n",
        "    self.__x=x\n",
        "  def get_x(self):\n",
        "    return self.__x\n",
        "\n",
        "#print(A.____x)\n",
        "#A.f()\n",
        "def f():\n",
        "  return 100\n",
        "a=A()\n",
        "a.__x=999\n",
        "print(a.__x)\n",
        "a.set_x(f())\n",
        "print(a.get_x())"
      ],
      "metadata": {
        "colab": {
          "base_uri": "https://localhost:8080/"
        },
        "id": "vN81KOfKxKOP",
        "outputId": "219ea4a5-b9fc-4849-9d6f-0fb78cb67852"
      },
      "execution_count": null,
      "outputs": [
        {
          "output_type": "stream",
          "name": "stdout",
          "text": [
            "999\n",
            "100\n"
          ]
        }
      ]
    },
    {
      "cell_type": "markdown",
      "source": [
        "상속"
      ],
      "metadata": {
        "id": "GJYvF57L_y7p"
      }
    },
    {
      "cell_type": "code",
      "source": [
        "#캡슐,상속,다형\n",
        "class A:\n",
        "  def __init__(self):\n",
        "    pass\n",
        "  def __str__(self):\n",
        "    return \"A클래스의 문자열\"\n",
        "print(A)\n",
        "print(A())"
      ],
      "metadata": {
        "colab": {
          "base_uri": "https://localhost:8080/"
        },
        "id": "9xv645fg5g0P",
        "outputId": "394cb268-5984-4774-963b-51653ba59a99"
      },
      "execution_count": null,
      "outputs": [
        {
          "output_type": "stream",
          "name": "stdout",
          "text": [
            "<class '__main__.A'>\n",
            "A클래스의 문자열\n"
          ]
        }
      ]
    },
    {
      "cell_type": "markdown",
      "source": [
        "부모없는 자식은 없다"
      ],
      "metadata": {
        "id": "TPH1ia5dgfBe"
      }
    },
    {
      "cell_type": "code",
      "source": [
        "class A:\n",
        "  def __init__(self,x):\n",
        "    print(\"A의 생성자\")\n",
        "    self.x=x\n",
        "  def f(self):\n",
        "    print(\"A의 메소드\")\n",
        "class B (A):\n",
        "  def __init__(self,x):\n",
        "    super().__init__(x)\n",
        "    print(\"B의 생성자 동작\")\n",
        "#A()\n",
        "b=B(10)# 자식클래스의 호출은 부모객체 생성후 자식객체가 만들어진다.\n",
        "#호출은 생성자호출 자식->부모 ,생성은 부모->자식 이름은 자식객체를 참조한다.\n",
        "b.f()\n",
        "print(b.x)"
      ],
      "metadata": {
        "colab": {
          "base_uri": "https://localhost:8080/"
        },
        "id": "M9o2PfbrJ2S6",
        "outputId": "c513ee2e-7668-443d-b152-6c7d1ff141f3"
      },
      "execution_count": null,
      "outputs": [
        {
          "output_type": "stream",
          "name": "stdout",
          "text": [
            "A의 생성자\n",
            "B의 생성자 동작\n",
            "A의 메소드\n",
            "10\n"
          ]
        }
      ]
    },
    {
      "cell_type": "code",
      "source": [
        "class A:\n",
        "  x='A의 필드'\n",
        "  def __init__(self):\n",
        "    super().__init__()#object의 생성자 호출\n",
        "    print(\"A의 생성자\")\n",
        "  def f(self):\n",
        "    print(\"A의 메소드\")\n",
        "class B:\n",
        "  def __init__(self,x):\n",
        "    super().__init__()#A의 생성자 호출\n",
        "    print(\"B의 생성자\")\n",
        "  y=\"B의 필드\"\n",
        "  def f(self):\n",
        "    print(\"B의 메소드\")\n",
        "class C(B,A):#다중상속은 이름과가까우면 가까운 부모 멀면 상위 부모\n",
        "  def __init__(self):\n",
        "    super().__init__(10)#B의 생성자 호출\n",
        "a=C()\n",
        "a.f()\n",
        "print(a.x,a.y)"
      ],
      "metadata": {
        "colab": {
          "base_uri": "https://localhost:8080/"
        },
        "id": "_ovEcJ_Yi0xw",
        "outputId": "8aeabe54-5663-4628-e360-553617f5109c"
      },
      "execution_count": null,
      "outputs": [
        {
          "output_type": "stream",
          "name": "stdout",
          "text": [
            "B의 생성자\n",
            "A의 생성자\n",
            "B의 메소드\n",
            "A의 필드 B의 필드\n"
          ]
        }
      ]
    },
    {
      "cell_type": "code",
      "source": [
        "class A:\n",
        "  def __init__(self):\n",
        "    super().__init__()\n",
        "    print(\"A의 생성자\")\n",
        "class B(A):\n",
        "  def __init__(self):\n",
        "    super().__init__()\n",
        "    print(\"B의 생성자\")\n",
        "class C(A):\n",
        "  def __init__(self):\n",
        "    super().__init__()\n",
        "    print(\"C의 생성자\")\n",
        "class D(B,C):#(B,C,A)\n",
        "  pass\n",
        "D()"
      ],
      "metadata": {
        "colab": {
          "base_uri": "https://localhost:8080/"
        },
        "id": "vXxLfmd6J2M-",
        "outputId": "4e0f1db5-a0d0-43af-baf6-7427e8fa206a"
      },
      "execution_count": null,
      "outputs": [
        {
          "output_type": "stream",
          "name": "stdout",
          "text": [
            "A의 생성자\n",
            "C의 생성자\n",
            "B의 생성자\n"
          ]
        },
        {
          "output_type": "execute_result",
          "data": {
            "text/plain": [
              "<__main__.D at 0x7fa75e083be0>"
            ]
          },
          "metadata": {},
          "execution_count": 95
        }
      ]
    },
    {
      "cell_type": "code",
      "source": [
        "class A:\n",
        "  def __init__(self):\n",
        "    super().__init__()\n",
        "    print(\"A의 생성자\")\n",
        "class E:\n",
        "  def __init__(self):\n",
        "    super().__init__()\n",
        "    print(\"E의 생성자\")\n",
        "class B(A):\n",
        "  def __init__(self):\n",
        "    super().__init__()\n",
        "    print(\"B의 생성자\")\n",
        "class C(A):\n",
        "  def __init__(self):\n",
        "    super().__init__()\n",
        "    print(\"C의 생성자\")\n",
        "class D(C,B,E):#동일 부모를 상속하는 클래스를 이용하여 다중상속을하면 동일부모를 1번만 만든다\n",
        "  pass\n",
        "a=A()\n",
        "d=D()\n",
        "#호출 D -> B -> C ->obj\n",
        "#생성 end <- D <-B <-C <-obj"
      ],
      "metadata": {
        "colab": {
          "base_uri": "https://localhost:8080/"
        },
        "id": "1UqFUsfarddA",
        "outputId": "68e26eb1-0cbc-437f-ffd9-45116b89af8d"
      },
      "execution_count": null,
      "outputs": [
        {
          "output_type": "stream",
          "name": "stdout",
          "text": [
            "A의 생성자\n",
            "E의 생성자\n",
            "A의 생성자\n",
            "B의 생성자\n",
            "C의 생성자\n"
          ]
        }
      ]
    },
    {
      "cell_type": "markdown",
      "source": [
        "다형"
      ],
      "metadata": {
        "id": "iqKOQhOu5JmH"
      }
    },
    {
      "cell_type": "markdown",
      "source": [
        "없으면 만들고, 있으면 갱신<br> \n",
        "같은 공간에는 같은 대상은 있으수 없다."
      ],
      "metadata": {
        "id": "7-iuAcGa5mpW"
      }
    },
    {
      "cell_type": "code",
      "source": [
        "class A:\n",
        "  def f(self):\n",
        "    print(\"처음 선언된 함수\")\n",
        "  def f(self):\n",
        "    print(\"나중에 선언된 함수\")\n",
        "a=A()\n",
        "a.f()"
      ],
      "metadata": {
        "colab": {
          "base_uri": "https://localhost:8080/"
        },
        "id": "tVdxCwGPu3PP",
        "outputId": "1a188ff0-ca01-422b-ec0c-bf0efb925e79"
      },
      "execution_count": null,
      "outputs": [
        {
          "output_type": "stream",
          "name": "stdout",
          "text": [
            "나중에 선언된 함수\n"
          ]
        }
      ]
    },
    {
      "cell_type": "code",
      "source": [
        "def f():\n",
        "  print(\"처음 선언된 함수\")\n",
        "def f():\n",
        "  print(\"나중에 선언된 함수\")\n",
        "f()"
      ],
      "metadata": {
        "colab": {
          "base_uri": "https://localhost:8080/"
        },
        "id": "xDCJPb4U5dMI",
        "outputId": "6c0b4fef-3100-42a5-ed4d-3fdd52ff6410"
      },
      "execution_count": null,
      "outputs": [
        {
          "output_type": "stream",
          "name": "stdout",
          "text": [
            "나중에 선언된 함수\n"
          ]
        }
      ]
    },
    {
      "cell_type": "code",
      "source": [
        "x=1\n",
        "def f():\n",
        "  x=10\n",
        "  print(x)\n",
        "print(x)\n",
        "f()\n",
        "print(x)"
      ],
      "metadata": {
        "colab": {
          "base_uri": "https://localhost:8080/"
        },
        "id": "hvfvDWJm56C-",
        "outputId": "4c61e0fe-b51c-447a-daa1-f81326a6ccfe"
      },
      "execution_count": null,
      "outputs": [
        {
          "output_type": "stream",
          "name": "stdout",
          "text": [
            "1\n",
            "10\n",
            "1\n"
          ]
        }
      ]
    },
    {
      "cell_type": "code",
      "source": [
        "#캡슐 , 다형 , 상속\n",
        "class A:\n",
        "  x=5\n",
        "  def __init__(self):\n",
        "    print(\"A생성자 동작\")\n",
        "    self.y='A'\n",
        "  def a_f(self):\n",
        "    print(self.y)\n",
        "  def d(self):\n",
        "    print(\"A의 메소드\")\n",
        "class B(A):\n",
        "  x=10\n",
        "  def __init__(self):\n",
        "    super().__init__()\n",
        "    self.y='B'\n",
        "  def f(self):\n",
        "    print(super().x)\n",
        "    #print(super().y)\n",
        "  def d(self):\n",
        "    print('B의 메소드')\n",
        "    super().d()\n",
        "a=A()\n",
        "print(a.x)\n",
        "print(a.y)\n",
        "a=B()\n",
        "print(a.x)\n",
        "print(a.y)\n",
        "a.f()\n",
        "a.a_f()\n",
        "a.d()"
      ],
      "metadata": {
        "colab": {
          "base_uri": "https://localhost:8080/"
        },
        "id": "4jde_1d26Wiw",
        "outputId": "bdef718c-2967-4644-f219-c031b8ec44fb"
      },
      "execution_count": null,
      "outputs": [
        {
          "output_type": "stream",
          "name": "stdout",
          "text": [
            "A생성자 동작\n",
            "5\n",
            "A\n",
            "A생성자 동작\n",
            "10\n",
            "B\n",
            "5\n",
            "B\n",
            "B의 메소드\n",
            "A의 메소드\n"
          ]
        }
      ]
    },
    {
      "cell_type": "code",
      "source": [
        "class A:\n",
        "  갯수=0\n",
        "  def __init__(self):#객체의 초기화\n",
        "    A.갯수+=1\n",
        "  def __str__(self):#객체 꾸미기 메소드\n",
        "    return f\"str{self.갯수}개\"\n",
        "  def __repr__(self):#객체의 고유 문자열 출력 메소드\n",
        "    return f\"{self.갯수}개\"\n",
        "  \n",
        "class B:\n",
        "  def __init__(self,x,y):\n",
        "    self.x=x\n",
        "    self.y=y\n",
        "  def __add__(self,t):#연산자 오버로딩\n",
        "    return B((self.x+t.x),(self.y+t.y))\n",
        "  def __str__(self):\n",
        "    return f\"{self.x},{self.y}\"\n",
        "#a=A()\n",
        "#a=1\n",
        "#print(a)\n",
        "#print(1)\n",
        "#l=[a,a,a,a,a,a]\n",
        "#print(l)\n",
        "b=B(1,2)\n",
        "b1=B(10,10)\n",
        "print(b)\n",
        "print(b1)\n",
        "#l=[b,b,b,b,b,b]\n",
        "#print(l)\n",
        "a=A()\n",
        "a1=A()\n",
        "print(a)\n",
        "print(a1)\n",
        "#print(a+a1)\n",
        "print(b+b1)\n",
        "1+1\n",
        "'1'+'1'\n",
        "'1'*10"
      ],
      "metadata": {
        "colab": {
          "base_uri": "https://localhost:8080/",
          "height": 125
        },
        "id": "0NpQJNEV_7yY",
        "outputId": "258e72eb-86dd-4166-e1cf-cdb8e2bcf5bc"
      },
      "execution_count": null,
      "outputs": [
        {
          "output_type": "stream",
          "name": "stdout",
          "text": [
            "1,2\n",
            "10,10\n",
            "str2개\n",
            "str2개\n",
            "11,12\n"
          ]
        },
        {
          "output_type": "execute_result",
          "data": {
            "text/plain": [
              "'11'"
            ],
            "application/vnd.google.colaboratory.intrinsic+json": {
              "type": "string"
            }
          },
          "metadata": {},
          "execution_count": 144
        }
      ]
    },
    {
      "cell_type": "code",
      "source": [
        "from abc import *\n",
        "\n",
        "class 추상클래스(metaclass=ABCMeta):#추상메소드를 가지고있는 클래스\n",
        "  \n",
        "  @abstractmethod\n",
        "  def f(self):\n",
        "    pass\n",
        "class A(추상클래스):#추상 메소드를 가지고있다면 무조건 추상 클래스가 된다\n",
        "  def f(self):\n",
        "    print(\"오버라이딩\")\n",
        "A()"
      ],
      "metadata": {
        "colab": {
          "base_uri": "https://localhost:8080/"
        },
        "id": "JJwWnbTQLuoS",
        "outputId": "577ae5e0-1378-4076-d8a6-13ba02661853"
      },
      "execution_count": null,
      "outputs": [
        {
          "output_type": "execute_result",
          "data": {
            "text/plain": [
              "<__main__.A at 0x7fa75df4a2b0>"
            ]
          },
          "metadata": {},
          "execution_count": 148
        }
      ]
    }
  ]
}