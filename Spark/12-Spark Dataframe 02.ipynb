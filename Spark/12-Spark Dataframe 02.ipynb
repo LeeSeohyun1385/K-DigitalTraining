{
 "cells": [
  {
   "cell_type": "code",
   "execution_count": 1,
   "id": "f56a71c5",
   "metadata": {},
   "outputs": [
    {
     "name": "stderr",
     "output_type": "stream",
     "text": [
      "WARNING: An illegal reflective access operation has occurred\n",
      "WARNING: Illegal reflective access by org.apache.spark.unsafe.Platform (file:/home/ubuntu/spark-3.2.4/jars/spark-unsafe_2.12-3.2.4.jar) to constructor java.nio.DirectByteBuffer(long,int)\n",
      "WARNING: Please consider reporting this to the maintainers of org.apache.spark.unsafe.Platform\n",
      "WARNING: Use --illegal-access=warn to enable warnings of further illegal reflective access operations\n",
      "WARNING: All illegal access operations will be denied in a future release\n",
      "Using Spark's default log4j profile: org/apache/spark/log4j-defaults.properties\n",
      "Setting default log level to \"WARN\".\n",
      "To adjust logging level use sc.setLogLevel(newLevel). For SparkR, use setLogLevel(newLevel).\n",
      "23/06/12 00:07:16 WARN NativeCodeLoader: Unable to load native-hadoop library for your platform... using builtin-java classes where applicable\n"
     ]
    }
   ],
   "source": [
    "from pyspark.sql import SparkSession\n",
    "\n",
    "spark = SparkSession.builder.appName('titanic_train').getOrCreate()"
   ]
  },
  {
   "cell_type": "code",
   "execution_count": 2,
   "id": "f029bbaa",
   "metadata": {},
   "outputs": [
    {
     "name": "stderr",
     "output_type": "stream",
     "text": [
      "\r",
      "[Stage 0:>                                                          (0 + 1) / 1]\r",
      "\r",
      "                                                                                \r"
     ]
    },
    {
     "name": "stdout",
     "output_type": "stream",
     "text": [
      "+-----------+--------+------+--------------------+------+----+-----+-----+----------------+-------+-----+--------+\n",
      "|PassengerId|Survived|Pclass|                Name|   Sex| Age|SibSp|Parch|          Ticket|   Fare|Cabin|Embarked|\n",
      "+-----------+--------+------+--------------------+------+----+-----+-----+----------------+-------+-----+--------+\n",
      "|          1|       0|     3|Braund, Mr. Owen ...|  male|22.0|    1|    0|       A/5 21171|   7.25| null|       S|\n",
      "|          2|       1|     1|Cumings, Mrs. Joh...|female|38.0|    1|    0|        PC 17599|71.2833|  C85|       C|\n",
      "|          3|       1|     3|Heikkinen, Miss. ...|female|26.0|    0|    0|STON/O2. 3101282|  7.925| null|       S|\n",
      "|          4|       1|     1|Futrelle, Mrs. Ja...|female|35.0|    1|    0|          113803|   53.1| C123|       S|\n",
      "|          5|       0|     3|Allen, Mr. Willia...|  male|35.0|    0|    0|          373450|   8.05| null|       S|\n",
      "+-----------+--------+------+--------------------+------+----+-----+-----+----------------+-------+-----+--------+\n",
      "only showing top 5 rows\n",
      "\n"
     ]
    }
   ],
   "source": [
    "filepath = '/home/ubuntu/working/spark-examples/data/titanic_train.csv'\n",
    "titanic_sdf = spark.read.csv(filepath,inferSchema = True, header = True) \n",
    "                \n",
    "titanic_sdf.show(5)   "
   ]
  },
  {
   "cell_type": "code",
   "execution_count": 3,
   "id": "0d6a9b05",
   "metadata": {},
   "outputs": [
    {
     "data": {
      "text/html": [
       "<div>\n",
       "<style scoped>\n",
       "    .dataframe tbody tr th:only-of-type {\n",
       "        vertical-align: middle;\n",
       "    }\n",
       "\n",
       "    .dataframe tbody tr th {\n",
       "        vertical-align: top;\n",
       "    }\n",
       "\n",
       "    .dataframe thead th {\n",
       "        text-align: right;\n",
       "    }\n",
       "</style>\n",
       "<table border=\"1\" class=\"dataframe\">\n",
       "  <thead>\n",
       "    <tr style=\"text-align: right;\">\n",
       "      <th></th>\n",
       "      <th>PassengerId</th>\n",
       "      <th>Survived</th>\n",
       "      <th>Pclass</th>\n",
       "      <th>Name</th>\n",
       "      <th>Sex</th>\n",
       "      <th>Age</th>\n",
       "      <th>SibSp</th>\n",
       "      <th>Parch</th>\n",
       "      <th>Ticket</th>\n",
       "      <th>Fare</th>\n",
       "      <th>Cabin</th>\n",
       "      <th>Embarked</th>\n",
       "    </tr>\n",
       "  </thead>\n",
       "  <tbody>\n",
       "    <tr>\n",
       "      <th>0</th>\n",
       "      <td>1</td>\n",
       "      <td>0</td>\n",
       "      <td>3</td>\n",
       "      <td>Braund, Mr. Owen Harris</td>\n",
       "      <td>male</td>\n",
       "      <td>22.0</td>\n",
       "      <td>1</td>\n",
       "      <td>0</td>\n",
       "      <td>A/5 21171</td>\n",
       "      <td>7.2500</td>\n",
       "      <td>None</td>\n",
       "      <td>S</td>\n",
       "    </tr>\n",
       "    <tr>\n",
       "      <th>1</th>\n",
       "      <td>2</td>\n",
       "      <td>1</td>\n",
       "      <td>1</td>\n",
       "      <td>Cumings, Mrs. John Bradley (Florence Briggs Th...</td>\n",
       "      <td>female</td>\n",
       "      <td>38.0</td>\n",
       "      <td>1</td>\n",
       "      <td>0</td>\n",
       "      <td>PC 17599</td>\n",
       "      <td>71.2833</td>\n",
       "      <td>C85</td>\n",
       "      <td>C</td>\n",
       "    </tr>\n",
       "    <tr>\n",
       "      <th>2</th>\n",
       "      <td>3</td>\n",
       "      <td>1</td>\n",
       "      <td>3</td>\n",
       "      <td>Heikkinen, Miss. Laina</td>\n",
       "      <td>female</td>\n",
       "      <td>26.0</td>\n",
       "      <td>0</td>\n",
       "      <td>0</td>\n",
       "      <td>STON/O2. 3101282</td>\n",
       "      <td>7.9250</td>\n",
       "      <td>None</td>\n",
       "      <td>S</td>\n",
       "    </tr>\n",
       "    <tr>\n",
       "      <th>3</th>\n",
       "      <td>4</td>\n",
       "      <td>1</td>\n",
       "      <td>1</td>\n",
       "      <td>Futrelle, Mrs. Jacques Heath (Lily May Peel)</td>\n",
       "      <td>female</td>\n",
       "      <td>35.0</td>\n",
       "      <td>1</td>\n",
       "      <td>0</td>\n",
       "      <td>113803</td>\n",
       "      <td>53.1000</td>\n",
       "      <td>C123</td>\n",
       "      <td>S</td>\n",
       "    </tr>\n",
       "    <tr>\n",
       "      <th>4</th>\n",
       "      <td>5</td>\n",
       "      <td>0</td>\n",
       "      <td>3</td>\n",
       "      <td>Allen, Mr. William Henry</td>\n",
       "      <td>male</td>\n",
       "      <td>35.0</td>\n",
       "      <td>0</td>\n",
       "      <td>0</td>\n",
       "      <td>373450</td>\n",
       "      <td>8.0500</td>\n",
       "      <td>None</td>\n",
       "      <td>S</td>\n",
       "    </tr>\n",
       "  </tbody>\n",
       "</table>\n",
       "</div>"
      ],
      "text/plain": [
       "   PassengerId  Survived  Pclass   \n",
       "0            1         0       3  \\\n",
       "1            2         1       1   \n",
       "2            3         1       3   \n",
       "3            4         1       1   \n",
       "4            5         0       3   \n",
       "\n",
       "                                                Name     Sex   Age  SibSp   \n",
       "0                            Braund, Mr. Owen Harris    male  22.0      1  \\\n",
       "1  Cumings, Mrs. John Bradley (Florence Briggs Th...  female  38.0      1   \n",
       "2                             Heikkinen, Miss. Laina  female  26.0      0   \n",
       "3       Futrelle, Mrs. Jacques Heath (Lily May Peel)  female  35.0      1   \n",
       "4                           Allen, Mr. William Henry    male  35.0      0   \n",
       "\n",
       "   Parch            Ticket     Fare Cabin Embarked  \n",
       "0      0         A/5 21171   7.2500  None        S  \n",
       "1      0          PC 17599  71.2833   C85        C  \n",
       "2      0  STON/O2. 3101282   7.9250  None        S  \n",
       "3      0            113803  53.1000  C123        S  \n",
       "4      0            373450   8.0500  None        S  "
      ]
     },
     "execution_count": 3,
     "metadata": {},
     "output_type": "execute_result"
    }
   ],
   "source": [
    "# 스파크 데이터프레임에서 판다스 데이터프레임으로 바꾸기\n",
    "titanic_pdf = titanic_sdf.select(\"*\").toPandas()\n",
    "titanic_pdf.head()"
   ]
  },
  {
   "cell_type": "markdown",
   "id": "b6d27d34",
   "metadata": {},
   "source": [
    "# orderBy\n",
    "- 한 개 이상의 컬럼을 기준으로 정렬하는 기능"
   ]
  },
  {
   "cell_type": "code",
   "execution_count": 6,
   "id": "b36f0d9f",
   "metadata": {},
   "outputs": [
    {
     "data": {
      "text/html": [
       "<div>\n",
       "<style scoped>\n",
       "    .dataframe tbody tr th:only-of-type {\n",
       "        vertical-align: middle;\n",
       "    }\n",
       "\n",
       "    .dataframe tbody tr th {\n",
       "        vertical-align: top;\n",
       "    }\n",
       "\n",
       "    .dataframe thead th {\n",
       "        text-align: right;\n",
       "    }\n",
       "</style>\n",
       "<table border=\"1\" class=\"dataframe\">\n",
       "  <thead>\n",
       "    <tr style=\"text-align: right;\">\n",
       "      <th></th>\n",
       "      <th>PassengerId</th>\n",
       "      <th>Survived</th>\n",
       "      <th>Pclass</th>\n",
       "      <th>Name</th>\n",
       "      <th>Sex</th>\n",
       "      <th>Age</th>\n",
       "      <th>SibSp</th>\n",
       "      <th>Parch</th>\n",
       "      <th>Ticket</th>\n",
       "      <th>Fare</th>\n",
       "      <th>Cabin</th>\n",
       "      <th>Embarked</th>\n",
       "    </tr>\n",
       "  </thead>\n",
       "  <tbody>\n",
       "    <tr>\n",
       "      <th>146</th>\n",
       "      <td>147</td>\n",
       "      <td>1</td>\n",
       "      <td>3</td>\n",
       "      <td>\"Andersson, Mr. August Edvard (\"\"Wennerstrom\"\")\"</td>\n",
       "      <td>male</td>\n",
       "      <td>27.0</td>\n",
       "      <td>0</td>\n",
       "      <td>0</td>\n",
       "      <td>350043</td>\n",
       "      <td>7.7958</td>\n",
       "      <td>None</td>\n",
       "      <td>S</td>\n",
       "    </tr>\n",
       "    <tr>\n",
       "      <th>518</th>\n",
       "      <td>519</td>\n",
       "      <td>1</td>\n",
       "      <td>2</td>\n",
       "      <td>\"Angle, Mrs. William A (Florence \"\"Mary\"\" Agne...</td>\n",
       "      <td>female</td>\n",
       "      <td>36.0</td>\n",
       "      <td>1</td>\n",
       "      <td>0</td>\n",
       "      <td>226875</td>\n",
       "      <td>26.0000</td>\n",
       "      <td>None</td>\n",
       "      <td>S</td>\n",
       "    </tr>\n",
       "    <tr>\n",
       "      <th>290</th>\n",
       "      <td>291</td>\n",
       "      <td>1</td>\n",
       "      <td>1</td>\n",
       "      <td>\"Barber, Miss. Ellen \"\"Nellie\"\"\"</td>\n",
       "      <td>female</td>\n",
       "      <td>26.0</td>\n",
       "      <td>0</td>\n",
       "      <td>0</td>\n",
       "      <td>19877</td>\n",
       "      <td>78.8500</td>\n",
       "      <td>None</td>\n",
       "      <td>S</td>\n",
       "    </tr>\n",
       "    <tr>\n",
       "      <th>624</th>\n",
       "      <td>625</td>\n",
       "      <td>0</td>\n",
       "      <td>3</td>\n",
       "      <td>\"Bowen, Mr. David John \"\"Dai\"\"\"</td>\n",
       "      <td>male</td>\n",
       "      <td>21.0</td>\n",
       "      <td>0</td>\n",
       "      <td>0</td>\n",
       "      <td>54636</td>\n",
       "      <td>16.1000</td>\n",
       "      <td>None</td>\n",
       "      <td>S</td>\n",
       "    </tr>\n",
       "    <tr>\n",
       "      <th>507</th>\n",
       "      <td>508</td>\n",
       "      <td>1</td>\n",
       "      <td>1</td>\n",
       "      <td>\"Bradley, Mr. George (\"\"George Arthur Brayton\"\")\"</td>\n",
       "      <td>male</td>\n",
       "      <td>NaN</td>\n",
       "      <td>0</td>\n",
       "      <td>0</td>\n",
       "      <td>111427</td>\n",
       "      <td>26.5500</td>\n",
       "      <td>None</td>\n",
       "      <td>S</td>\n",
       "    </tr>\n",
       "  </tbody>\n",
       "</table>\n",
       "</div>"
      ],
      "text/plain": [
       "     PassengerId  Survived  Pclass   \n",
       "146          147         1       3  \\\n",
       "518          519         1       2   \n",
       "290          291         1       1   \n",
       "624          625         0       3   \n",
       "507          508         1       1   \n",
       "\n",
       "                                                  Name     Sex   Age  SibSp   \n",
       "146   \"Andersson, Mr. August Edvard (\"\"Wennerstrom\"\")\"    male  27.0      0  \\\n",
       "518  \"Angle, Mrs. William A (Florence \"\"Mary\"\" Agne...  female  36.0      1   \n",
       "290                   \"Barber, Miss. Ellen \"\"Nellie\"\"\"  female  26.0      0   \n",
       "624                    \"Bowen, Mr. David John \"\"Dai\"\"\"    male  21.0      0   \n",
       "507  \"Bradley, Mr. George (\"\"George Arthur Brayton\"\")\"    male   NaN      0   \n",
       "\n",
       "     Parch  Ticket     Fare Cabin Embarked  \n",
       "146      0  350043   7.7958  None        S  \n",
       "518      0  226875  26.0000  None        S  \n",
       "290      0   19877  78.8500  None        S  \n",
       "624      0   54636  16.1000  None        S  \n",
       "507      0  111427  26.5500  None        S  "
      ]
     },
     "execution_count": 6,
     "metadata": {},
     "output_type": "execute_result"
    }
   ],
   "source": [
    "# Pandas DataFrame 정렬하기\n",
    "\n",
    "# Name 컬럼 기준 오름차순 정렬\n",
    "titanic_pdf_sorted_1 = titanic_pdf.sort_values(by=['Name'], ascending = True)\n",
    "titanic_pdf_sorted_1.head()"
   ]
  },
  {
   "cell_type": "code",
   "execution_count": 12,
   "id": "dd153e88",
   "metadata": {},
   "outputs": [
    {
     "data": {
      "text/html": [
       "<div>\n",
       "<style scoped>\n",
       "    .dataframe tbody tr th:only-of-type {\n",
       "        vertical-align: middle;\n",
       "    }\n",
       "\n",
       "    .dataframe tbody tr th {\n",
       "        vertical-align: top;\n",
       "    }\n",
       "\n",
       "    .dataframe thead th {\n",
       "        text-align: right;\n",
       "    }\n",
       "</style>\n",
       "<table border=\"1\" class=\"dataframe\">\n",
       "  <thead>\n",
       "    <tr style=\"text-align: right;\">\n",
       "      <th></th>\n",
       "      <th>PassengerId</th>\n",
       "      <th>Survived</th>\n",
       "      <th>Pclass</th>\n",
       "      <th>Name</th>\n",
       "      <th>Sex</th>\n",
       "      <th>Age</th>\n",
       "      <th>SibSp</th>\n",
       "      <th>Parch</th>\n",
       "      <th>Ticket</th>\n",
       "      <th>Fare</th>\n",
       "      <th>Cabin</th>\n",
       "      <th>Embarked</th>\n",
       "    </tr>\n",
       "  </thead>\n",
       "  <tbody>\n",
       "    <tr>\n",
       "      <th>146</th>\n",
       "      <td>147</td>\n",
       "      <td>1</td>\n",
       "      <td>3</td>\n",
       "      <td>\"Andersson, Mr. August Edvard (\"\"Wennerstrom\"\")\"</td>\n",
       "      <td>male</td>\n",
       "      <td>27.0</td>\n",
       "      <td>0</td>\n",
       "      <td>0</td>\n",
       "      <td>350043</td>\n",
       "      <td>7.7958</td>\n",
       "      <td>None</td>\n",
       "      <td>S</td>\n",
       "    </tr>\n",
       "    <tr>\n",
       "      <th>518</th>\n",
       "      <td>519</td>\n",
       "      <td>1</td>\n",
       "      <td>2</td>\n",
       "      <td>\"Angle, Mrs. William A (Florence \"\"Mary\"\" Agne...</td>\n",
       "      <td>female</td>\n",
       "      <td>36.0</td>\n",
       "      <td>1</td>\n",
       "      <td>0</td>\n",
       "      <td>226875</td>\n",
       "      <td>26.0000</td>\n",
       "      <td>None</td>\n",
       "      <td>S</td>\n",
       "    </tr>\n",
       "    <tr>\n",
       "      <th>290</th>\n",
       "      <td>291</td>\n",
       "      <td>1</td>\n",
       "      <td>1</td>\n",
       "      <td>\"Barber, Miss. Ellen \"\"Nellie\"\"\"</td>\n",
       "      <td>female</td>\n",
       "      <td>26.0</td>\n",
       "      <td>0</td>\n",
       "      <td>0</td>\n",
       "      <td>19877</td>\n",
       "      <td>78.8500</td>\n",
       "      <td>None</td>\n",
       "      <td>S</td>\n",
       "    </tr>\n",
       "    <tr>\n",
       "      <th>624</th>\n",
       "      <td>625</td>\n",
       "      <td>0</td>\n",
       "      <td>3</td>\n",
       "      <td>\"Bowen, Mr. David John \"\"Dai\"\"\"</td>\n",
       "      <td>male</td>\n",
       "      <td>21.0</td>\n",
       "      <td>0</td>\n",
       "      <td>0</td>\n",
       "      <td>54636</td>\n",
       "      <td>16.1000</td>\n",
       "      <td>None</td>\n",
       "      <td>S</td>\n",
       "    </tr>\n",
       "    <tr>\n",
       "      <th>507</th>\n",
       "      <td>508</td>\n",
       "      <td>1</td>\n",
       "      <td>1</td>\n",
       "      <td>\"Bradley, Mr. George (\"\"George Arthur Brayton\"\")\"</td>\n",
       "      <td>male</td>\n",
       "      <td>NaN</td>\n",
       "      <td>0</td>\n",
       "      <td>0</td>\n",
       "      <td>111427</td>\n",
       "      <td>26.5500</td>\n",
       "      <td>None</td>\n",
       "      <td>S</td>\n",
       "    </tr>\n",
       "  </tbody>\n",
       "</table>\n",
       "</div>"
      ],
      "text/plain": [
       "     PassengerId  Survived  Pclass   \n",
       "146          147         1       3  \\\n",
       "518          519         1       2   \n",
       "290          291         1       1   \n",
       "624          625         0       3   \n",
       "507          508         1       1   \n",
       "\n",
       "                                                  Name     Sex   Age  SibSp   \n",
       "146   \"Andersson, Mr. August Edvard (\"\"Wennerstrom\"\")\"    male  27.0      0  \\\n",
       "518  \"Angle, Mrs. William A (Florence \"\"Mary\"\" Agne...  female  36.0      1   \n",
       "290                   \"Barber, Miss. Ellen \"\"Nellie\"\"\"  female  26.0      0   \n",
       "624                    \"Bowen, Mr. David John \"\"Dai\"\"\"    male  21.0      0   \n",
       "507  \"Bradley, Mr. George (\"\"George Arthur Brayton\"\")\"    male   NaN      0   \n",
       "\n",
       "     Parch  Ticket     Fare Cabin Embarked  \n",
       "146      0  350043   7.7958  None        S  \n",
       "518      0  226875  26.0000  None        S  \n",
       "290      0   19877  78.8500  None        S  \n",
       "624      0   54636  16.1000  None        S  \n",
       "507      0  111427  26.5500  None        S  "
      ]
     },
     "execution_count": 12,
     "metadata": {},
     "output_type": "execute_result"
    }
   ],
   "source": [
    "# Name 컬럼 오름차순 , Pclass 내림차순\n",
    "titanic_pdf_sorted_2 = titanic_pdf.sort_values(by=['Name','Pclass'], ascending = [True, False])\n",
    "titanic_pdf_sorted_2.head()"
   ]
  },
  {
   "cell_type": "code",
   "execution_count": 14,
   "id": "d2d7a48d",
   "metadata": {},
   "outputs": [
    {
     "name": "stdout",
     "output_type": "stream",
     "text": [
      "+-----------+--------+------+--------------------+------+----+-----+-----+----------------+-------+-----+--------+\n",
      "|PassengerId|Survived|Pclass|                Name|   Sex| Age|SibSp|Parch|          Ticket|   Fare|Cabin|Embarked|\n",
      "+-----------+--------+------+--------------------+------+----+-----+-----+----------------+-------+-----+--------+\n",
      "|          8|       0|     3|Palsson, Master. ...|  male| 2.0|    3|    1|          349909| 21.075| null|       S|\n",
      "|         14|       0|     3|Andersson, Mr. An...|  male|39.0|    1|    5|          347082| 31.275| null|       S|\n",
      "|          9|       1|     3|Johnson, Mrs. Osc...|female|27.0|    0|    2|          347742|11.1333| null|       S|\n",
      "|          3|       1|     3|Heikkinen, Miss. ...|female|26.0|    0|    0|STON/O2. 3101282|  7.925| null|       S|\n",
      "|         13|       0|     3|Saundercock, Mr. ...|  male|20.0|    0|    0|       A/5. 2151|   8.05| null|       S|\n",
      "+-----------+--------+------+--------------------+------+----+-----+-----+----------------+-------+-----+--------+\n",
      "only showing top 5 rows\n",
      "\n"
     ]
    }
   ],
   "source": [
    "# 스파크 데이터 프레임 정렬하기\n",
    "from pyspark.sql.functions import col\n",
    "\n",
    "titanic_sdf.orderBy(col(\"Pclass\"), ascending = False).show(5)"
   ]
  },
  {
   "cell_type": "code",
   "execution_count": 16,
   "id": "fced6059",
   "metadata": {},
   "outputs": [
    {
     "name": "stdout",
     "output_type": "stream",
     "text": [
      "+-----------+--------+------+--------------------+------+----+-----+-----+------+------+-----+--------+\n",
      "|PassengerId|Survived|Pclass|                Name|   Sex| Age|SibSp|Parch|Ticket|  Fare|Cabin|Embarked|\n",
      "+-----------+--------+------+--------------------+------+----+-----+-----+------+------+-----+--------+\n",
      "|        852|       0|     3| Svensson, Mr. Johan|  male|74.0|    0|    0|347060| 7.775| null|       S|\n",
      "|        117|       0|     3|Connors, Mr. Patrick|  male|70.5|    0|    0|370369|  7.75| null|       Q|\n",
      "|        281|       0|     3|    Duane, Mr. Frank|  male|65.0|    0|    0|336439|  7.75| null|       Q|\n",
      "|        484|       1|     3|Turkula, Mrs. (He...|female|63.0|    0|    0|  4134|9.5875| null|       S|\n",
      "|        327|       0|     3|Nysveen, Mr. Joha...|  male|61.0|    0|    0|345364|6.2375| null|       S|\n",
      "+-----------+--------+------+--------------------+------+----+-----+-----+------+------+-----+--------+\n",
      "only showing top 5 rows\n",
      "\n"
     ]
    }
   ],
   "source": [
    "# 여러 개의 컬럼을 지정하기\n",
    "# Pclass, Age 내림차순 정렬\n",
    "#titanic_sdf.orderBy(col(\"Pclass\"), col(\"Age\"), ascending=False).show(5)\n",
    "titanic_sdf.orderBy([col(\"Pclass\"), col(\"Age\")], ascending=False).show(5)"
   ]
  },
  {
   "cell_type": "code",
   "execution_count": 17,
   "id": "a1726e15",
   "metadata": {},
   "outputs": [
    {
     "name": "stdout",
     "output_type": "stream",
     "text": [
      "+-----------+--------+------+--------------------+----+----+-----+-----+---------+-------+-----+--------+\n",
      "|PassengerId|Survived|Pclass|                Name| Sex| Age|SibSp|Parch|   Ticket|   Fare|Cabin|Embarked|\n",
      "+-----------+--------+------+--------------------+----+----+-----+-----+---------+-------+-----+--------+\n",
      "|        631|       1|     1|Barkworth, Mr. Al...|male|80.0|    0|    0|    27042|   30.0|  A23|       S|\n",
      "|         97|       0|     1|Goldschmidt, Mr. ...|male|71.0|    0|    0| PC 17754|34.6542|   A5|       C|\n",
      "|        494|       0|     1|Artagaveytia, Mr....|male|71.0|    0|    0| PC 17609|49.5042| null|       C|\n",
      "|        746|       0|     1|Crosby, Capt. Edw...|male|70.0|    1|    1|WE/P 5735|   71.0|  B22|       S|\n",
      "|        457|       0|     1|Millet, Mr. Franc...|male|65.0|    0|    0|    13509|  26.55|  E38|       S|\n",
      "+-----------+--------+------+--------------------+----+----+-----+-----+---------+-------+-----+--------+\n",
      "only showing top 5 rows\n",
      "\n"
     ]
    }
   ],
   "source": [
    "titanic_sdf.orderBy([col(\"Pclass\"), col(\"Age\")], ascending=[True, False]).show(5)"
   ]
  },
  {
   "cell_type": "code",
   "execution_count": 18,
   "id": "cb40da75",
   "metadata": {},
   "outputs": [
    {
     "name": "stdout",
     "output_type": "stream",
     "text": [
      "+-----------+--------+------+--------------------+----+----+-----+-----+---------+-------+-----+--------+\n",
      "|PassengerId|Survived|Pclass|                Name| Sex| Age|SibSp|Parch|   Ticket|   Fare|Cabin|Embarked|\n",
      "+-----------+--------+------+--------------------+----+----+-----+-----+---------+-------+-----+--------+\n",
      "|        631|       1|     1|Barkworth, Mr. Al...|male|80.0|    0|    0|    27042|   30.0|  A23|       S|\n",
      "|         97|       0|     1|Goldschmidt, Mr. ...|male|71.0|    0|    0| PC 17754|34.6542|   A5|       C|\n",
      "|        494|       0|     1|Artagaveytia, Mr....|male|71.0|    0|    0| PC 17609|49.5042| null|       C|\n",
      "|        746|       0|     1|Crosby, Capt. Edw...|male|70.0|    1|    1|WE/P 5735|   71.0|  B22|       S|\n",
      "|        457|       0|     1|Millet, Mr. Franc...|male|65.0|    0|    0|    13509|  26.55|  E38|       S|\n",
      "+-----------+--------+------+--------------------+----+----+-----+-----+---------+-------+-----+--------+\n",
      "only showing top 5 rows\n",
      "\n"
     ]
    }
   ],
   "source": [
    "# orderBy 와 동일한 메소드인 sort 사용하기\n",
    "titanic_sdf.sort(col(\"Pclass\").asc(), col(\"Age\").desc()).show(5)"
   ]
  },
  {
   "cell_type": "code",
   "execution_count": null,
   "id": "53fcac0c",
   "metadata": {},
   "outputs": [],
   "source": [
    "# select Pclass, Name from titanic_sdf order by\n",
    "# 강사님 노트북 보고 아래 두줄과 함께 수정 "
   ]
  },
  {
   "cell_type": "code",
   "execution_count": 28,
   "id": "1e56a793",
   "metadata": {},
   "outputs": [
    {
     "name": "stdout",
     "output_type": "stream",
     "text": [
      "+------+--------------------+\n",
      "|Pclass|                Name|\n",
      "+------+--------------------+\n",
      "|     1|Young, Miss. Mari...|\n",
      "|     1|  Wright, Mr. George|\n",
      "|     1|   Woolner, Mr. Hugh|\n",
      "|     1|Williams-Lambert,...|\n",
      "|     1|Williams, Mr. Cha...|\n",
      "+------+--------------------+\n",
      "only showing top 5 rows\n",
      "\n"
     ]
    }
   ],
   "source": [
    "titanic_sdf.select([col('Pclass'),col('Name')]).orderBy(col('Pclass').asc(), col('Name').desc()).show(5)"
   ]
  },
  {
   "cell_type": "code",
   "execution_count": 25,
   "id": "a1056867",
   "metadata": {},
   "outputs": [
    {
     "name": "stdout",
     "output_type": "stream",
     "text": [
      "+------+--------------------+\n",
      "|Pclass|                Name|\n",
      "+------+--------------------+\n",
      "|     1|Young, Miss. Mari...|\n",
      "|     1|  Wright, Mr. George|\n",
      "|     1|   Woolner, Mr. Hugh|\n",
      "|     1|Williams-Lambert,...|\n",
      "|     1|Williams, Mr. Cha...|\n",
      "+------+--------------------+\n",
      "only showing top 5 rows\n",
      "\n"
     ]
    }
   ],
   "source": [
    "titanic_sdf.orderBy(col('Pclass').asc(), col('Name').desc()).select(col('Pclass'),col('Name')).show(5)"
   ]
  },
  {
   "cell_type": "markdown",
   "id": "11723a95",
   "metadata": {},
   "source": [
    "# Agg\n",
    "- Spark DataFrame은 DataFrame 객체에서 ggregation 메소드가 별로 없다.\n",
    "- Aggregation 메소드 적용 시에는 `pyspark.sql.functions`에 있는 `min`, `max`, `sum` 등의 함수를 사용하자"
   ]
  },
  {
   "cell_type": "code",
   "execution_count": 32,
   "id": "0d2057d7",
   "metadata": {},
   "outputs": [
    {
     "name": "stdout",
     "output_type": "stream",
     "text": [
      "count :  PassengerId    891\n",
      "Survived       891\n",
      "Pclass         891\n",
      "Name           891\n",
      "Sex            891\n",
      "Age            714\n",
      "SibSp          891\n",
      "Parch          891\n",
      "Ticket         891\n",
      "Fare           891\n",
      "Cabin          204\n",
      "Embarked       889\n",
      "dtype: int64\n",
      "type(count) : <class 'pandas.core.series.Series'>\n"
     ]
    }
   ],
   "source": [
    "# 판다스 데이터프레임 Aggregation\n",
    "print('count : ' , titanic_pdf.count())\n",
    "#print('max : ' , titanic_pdf.max()) # 문자열 데이터가 있으면 max 안된다, 숫자형태의 데이터에서만 사용 가능 \n",
    "print('type(count) :' , type(titanic_pdf.count()))"
   ]
  },
  {
   "cell_type": "code",
   "execution_count": 33,
   "id": "d87be1e6",
   "metadata": {},
   "outputs": [
    {
     "data": {
      "text/plain": [
       "Pclass     3.0\n",
       "Age       80.0\n",
       "dtype: float64"
      ]
     },
     "execution_count": 33,
     "metadata": {},
     "output_type": "execute_result"
    }
   ],
   "source": [
    "titanic_pdf[[\"Pclass\",\"Age\"]].max()"
   ]
  },
  {
   "cell_type": "code",
   "execution_count": 34,
   "id": "0a5b91fb",
   "metadata": {},
   "outputs": [
    {
     "data": {
      "text/plain": [
       "891"
      ]
     },
     "execution_count": 34,
     "metadata": {},
     "output_type": "execute_result"
    }
   ],
   "source": [
    "# spark DataFrame에서 count() 사용하기\n",
    "titanic_sdf.count() # spark dataframe의 count() : 데이터 프레임의 행의 개수가 등장"
   ]
  },
  {
   "cell_type": "code",
   "execution_count": null,
   "id": "82b8e590",
   "metadata": {},
   "outputs": [],
   "source": [
    "#itanic_sdf.max() # select max() from titanic_sdf\n",
    "# 쿼리 자체에서도 오류"
   ]
  },
  {
   "cell_type": "code",
   "execution_count": 37,
   "id": "9f94d9a8",
   "metadata": {},
   "outputs": [
    {
     "name": "stdout",
     "output_type": "stream",
     "text": [
      "+--------+\n",
      "|max(Age)|\n",
      "+--------+\n",
      "|    80.0|\n",
      "+--------+\n",
      "\n"
     ]
    }
   ],
   "source": [
    "from pyspark.sql.functions import max, sum, min\n",
    "titanic_sdf_max = titanic_sdf.select(max(\"Age\"))\n",
    "titanic_sdf_max.show()"
   ]
  },
  {
   "cell_type": "markdown",
   "id": "c3f1d7bc",
   "metadata": {},
   "source": [
    "# groupBy\n"
   ]
  },
  {
   "cell_type": "code",
   "execution_count": 38,
   "id": "534eef91",
   "metadata": {},
   "outputs": [
    {
     "data": {
      "text/plain": [
       "<pandas.core.groupby.generic.DataFrameGroupBy object at 0x7f52e31415e0>"
      ]
     },
     "execution_count": 38,
     "metadata": {},
     "output_type": "execute_result"
    }
   ],
   "source": [
    "# pandas DataFrame groupBy\n",
    "titanic_pdf_groupby = titanic_pdf.groupby(by='Pclass')\n",
    "titanic_pdf_groupby"
   ]
  },
  {
   "cell_type": "code",
   "execution_count": 39,
   "id": "e313b800",
   "metadata": {},
   "outputs": [
    {
     "data": {
      "text/html": [
       "<div>\n",
       "<style scoped>\n",
       "    .dataframe tbody tr th:only-of-type {\n",
       "        vertical-align: middle;\n",
       "    }\n",
       "\n",
       "    .dataframe tbody tr th {\n",
       "        vertical-align: top;\n",
       "    }\n",
       "\n",
       "    .dataframe thead th {\n",
       "        text-align: right;\n",
       "    }\n",
       "</style>\n",
       "<table border=\"1\" class=\"dataframe\">\n",
       "  <thead>\n",
       "    <tr style=\"text-align: right;\">\n",
       "      <th></th>\n",
       "      <th>PassengerId</th>\n",
       "      <th>Survived</th>\n",
       "      <th>Name</th>\n",
       "      <th>Sex</th>\n",
       "      <th>Age</th>\n",
       "      <th>SibSp</th>\n",
       "      <th>Parch</th>\n",
       "      <th>Ticket</th>\n",
       "      <th>Fare</th>\n",
       "      <th>Cabin</th>\n",
       "      <th>Embarked</th>\n",
       "    </tr>\n",
       "    <tr>\n",
       "      <th>Pclass</th>\n",
       "      <th></th>\n",
       "      <th></th>\n",
       "      <th></th>\n",
       "      <th></th>\n",
       "      <th></th>\n",
       "      <th></th>\n",
       "      <th></th>\n",
       "      <th></th>\n",
       "      <th></th>\n",
       "      <th></th>\n",
       "      <th></th>\n",
       "    </tr>\n",
       "  </thead>\n",
       "  <tbody>\n",
       "    <tr>\n",
       "      <th>1</th>\n",
       "      <td>216</td>\n",
       "      <td>216</td>\n",
       "      <td>216</td>\n",
       "      <td>216</td>\n",
       "      <td>186</td>\n",
       "      <td>216</td>\n",
       "      <td>216</td>\n",
       "      <td>216</td>\n",
       "      <td>216</td>\n",
       "      <td>176</td>\n",
       "      <td>214</td>\n",
       "    </tr>\n",
       "    <tr>\n",
       "      <th>2</th>\n",
       "      <td>184</td>\n",
       "      <td>184</td>\n",
       "      <td>184</td>\n",
       "      <td>184</td>\n",
       "      <td>173</td>\n",
       "      <td>184</td>\n",
       "      <td>184</td>\n",
       "      <td>184</td>\n",
       "      <td>184</td>\n",
       "      <td>16</td>\n",
       "      <td>184</td>\n",
       "    </tr>\n",
       "    <tr>\n",
       "      <th>3</th>\n",
       "      <td>491</td>\n",
       "      <td>491</td>\n",
       "      <td>491</td>\n",
       "      <td>491</td>\n",
       "      <td>355</td>\n",
       "      <td>491</td>\n",
       "      <td>491</td>\n",
       "      <td>491</td>\n",
       "      <td>491</td>\n",
       "      <td>12</td>\n",
       "      <td>491</td>\n",
       "    </tr>\n",
       "  </tbody>\n",
       "</table>\n",
       "</div>"
      ],
      "text/plain": [
       "        PassengerId  Survived  Name  Sex  Age  SibSp  Parch  Ticket  Fare   \n",
       "Pclass                                                                      \n",
       "1               216       216   216  216  186    216    216     216   216  \\\n",
       "2               184       184   184  184  173    184    184     184   184   \n",
       "3               491       491   491  491  355    491    491     491   491   \n",
       "\n",
       "        Cabin  Embarked  \n",
       "Pclass                   \n",
       "1         176       214  \n",
       "2          16       184  \n",
       "3          12       491  "
      ]
     },
     "execution_count": 39,
     "metadata": {},
     "output_type": "execute_result"
    }
   ],
   "source": [
    "titanic_pdf_groupby.count()"
   ]
  },
  {
   "cell_type": "code",
   "execution_count": 40,
   "id": "039afd37",
   "metadata": {},
   "outputs": [
    {
     "data": {
      "text/plain": [
       "Pclass\n",
       "1    186\n",
       "2    173\n",
       "3    355\n",
       "Name: Age, dtype: int64"
      ]
     },
     "execution_count": 40,
     "metadata": {},
     "output_type": "execute_result"
    }
   ],
   "source": [
    "titanic_pdf_groupby[\"Age\"].count()"
   ]
  },
  {
   "cell_type": "code",
   "execution_count": 41,
   "id": "5b5c2c37",
   "metadata": {},
   "outputs": [
    {
     "data": {
      "text/html": [
       "<div>\n",
       "<style scoped>\n",
       "    .dataframe tbody tr th:only-of-type {\n",
       "        vertical-align: middle;\n",
       "    }\n",
       "\n",
       "    .dataframe tbody tr th {\n",
       "        vertical-align: top;\n",
       "    }\n",
       "\n",
       "    .dataframe thead th {\n",
       "        text-align: right;\n",
       "    }\n",
       "</style>\n",
       "<table border=\"1\" class=\"dataframe\">\n",
       "  <thead>\n",
       "    <tr style=\"text-align: right;\">\n",
       "      <th></th>\n",
       "      <th>Age</th>\n",
       "      <th>SibSp</th>\n",
       "      <th>Fare</th>\n",
       "    </tr>\n",
       "    <tr>\n",
       "      <th>Pclass</th>\n",
       "      <th></th>\n",
       "      <th></th>\n",
       "      <th></th>\n",
       "    </tr>\n",
       "  </thead>\n",
       "  <tbody>\n",
       "    <tr>\n",
       "      <th>1</th>\n",
       "      <td>80.0</td>\n",
       "      <td>90</td>\n",
       "      <td>84.154687</td>\n",
       "    </tr>\n",
       "    <tr>\n",
       "      <th>2</th>\n",
       "      <td>70.0</td>\n",
       "      <td>74</td>\n",
       "      <td>20.662183</td>\n",
       "    </tr>\n",
       "    <tr>\n",
       "      <th>3</th>\n",
       "      <td>74.0</td>\n",
       "      <td>302</td>\n",
       "      <td>13.675550</td>\n",
       "    </tr>\n",
       "  </tbody>\n",
       "</table>\n",
       "</div>"
      ],
      "text/plain": [
       "         Age  SibSp       Fare\n",
       "Pclass                        \n",
       "1       80.0     90  84.154687\n",
       "2       70.0     74  20.662183\n",
       "3       74.0    302  13.675550"
      ]
     },
     "execution_count": 41,
     "metadata": {},
     "output_type": "execute_result"
    }
   ],
   "source": [
    "# 특정 컬럼에 특정 집계 연산 수행하기 agg\n",
    "agg_format = {\n",
    "    'Age' : 'max',\n",
    "    'SibSp' : 'sum',\n",
    "    'Fare' : 'mean'\n",
    "}\n",
    "\n",
    "titanic_pdf_groupby.agg(agg_format)"
   ]
  },
  {
   "cell_type": "code",
   "execution_count": 42,
   "id": "3d61b55a",
   "metadata": {},
   "outputs": [
    {
     "data": {
      "text/plain": [
       "Pclass\n",
       "3    491\n",
       "1    216\n",
       "2    184\n",
       "Name: count, dtype: int64"
      ]
     },
     "execution_count": 42,
     "metadata": {},
     "output_type": "execute_result"
    }
   ],
   "source": [
    "# value_counts()를 시리즈에 적용 시 해당 시리즈 내의 값 별로 건수(count)를 구한다.\n",
    "titanic_pdf[\"Pclass\"].value_counts()"
   ]
  },
  {
   "cell_type": "code",
   "execution_count": 44,
   "id": "97217e30",
   "metadata": {},
   "outputs": [
    {
     "name": "stdout",
     "output_type": "stream",
     "text": [
      "+------+-----+\n",
      "|Pclass|count|\n",
      "+------+-----+\n",
      "|     1|  216|\n",
      "|     3|  491|\n",
      "|     2|  184|\n",
      "+------+-----+\n",
      "\n"
     ]
    }
   ],
   "source": [
    "# 스파크 데이터프레임의 groupBy\n",
    "titanic_sdf.groupBy(\"Pclass\").count().show() #select pclass, count(*) from titanic_sdf group by pclass"
   ]
  },
  {
   "cell_type": "code",
   "execution_count": 45,
   "id": "9484e874",
   "metadata": {},
   "outputs": [
    {
     "data": {
      "text/plain": [
       "pyspark.sql.group.GroupedData"
      ]
     },
     "execution_count": 45,
     "metadata": {},
     "output_type": "execute_result"
    }
   ],
   "source": [
    "type(titanic_sdf.groupBy(\"Pclass\")) # 변환 전 데이터"
   ]
  },
  {
   "cell_type": "code",
   "execution_count": 46,
   "id": "6d8f7e6c",
   "metadata": {},
   "outputs": [
    {
     "name": "stdout",
     "output_type": "stream",
     "text": [
      "+------+-----+\n",
      "|Pclass|count|\n",
      "+------+-----+\n",
      "|     3|  491|\n",
      "|     1|  216|\n",
      "|     2|  184|\n",
      "+------+-----+\n",
      "\n"
     ]
    }
   ],
   "source": [
    "titanic_sdf.groupBy(\"Pclass\").count().orderBy(\"count\", ascending=False).show()"
   ]
  },
  {
   "cell_type": "code",
   "execution_count": 47,
   "id": "3b9d5416",
   "metadata": {},
   "outputs": [
    {
     "name": "stdout",
     "output_type": "stream",
     "text": [
      "+------+----------------+-------------+-----------+--------+----------+----------+---------+\n",
      "|Pclass|max(PassengerId)|max(Survived)|max(Pclass)|max(Age)|max(SibSp)|max(Parch)|max(Fare)|\n",
      "+------+----------------+-------------+-----------+--------+----------+----------+---------+\n",
      "|     1|             890|            1|          1|    80.0|         3|         4| 512.3292|\n",
      "|     3|             891|            1|          3|    74.0|         8|         6|    69.55|\n",
      "|     2|             887|            1|          2|    70.0|         3|         3|     73.5|\n",
      "+------+----------------+-------------+-----------+--------+----------+----------+---------+\n",
      "\n"
     ]
    }
   ],
   "source": [
    "# count()가 아닌 다른 aggregation 메소드를 사용하면 pandas dataframe의 groupby와 유사하게 컬럼 레벨로 전체 집계\n",
    "titanic_sdf.groupBy('Pclass').max().show()"
   ]
  },
  {
   "cell_type": "code",
   "execution_count": 48,
   "id": "411ab450",
   "metadata": {},
   "outputs": [
    {
     "name": "stdout",
     "output_type": "stream",
     "text": [
      "+------+--------+\n",
      "|Pclass|max(Age)|\n",
      "+------+--------+\n",
      "|     1|    80.0|\n",
      "|     3|    74.0|\n",
      "|     2|    70.0|\n",
      "+------+--------+\n",
      "\n"
     ]
    }
   ],
   "source": [
    "# group by를 이용해서 특정 컬럼에 aggregation을 적용. max('컬럼명')과 같이 사용하면 됨\n",
    "titanic_sdf.groupBy('Pclass').max('Age').show()"
   ]
  },
  {
   "cell_type": "code",
   "execution_count": 49,
   "id": "593c0714",
   "metadata": {},
   "outputs": [
    {
     "name": "stdout",
     "output_type": "stream",
     "text": [
      "+------+--------+--------+\n",
      "|Pclass|Embarked|max(Age)|\n",
      "+------+--------+--------+\n",
      "|     3|       C|    45.5|\n",
      "|     2|       C|    36.0|\n",
      "|     1|    null|    62.0|\n",
      "|     1|       Q|    44.0|\n",
      "|     3|       Q|    70.5|\n",
      "|     2|       Q|    57.0|\n",
      "|     1|       C|    71.0|\n",
      "|     1|       S|    80.0|\n",
      "|     3|       S|    74.0|\n",
      "|     2|       S|    70.0|\n",
      "+------+--------+--------+\n",
      "\n"
     ]
    }
   ],
   "source": [
    "titanic_sdf.groupBy(['Pclass', 'Embarked']).max('Age').show()"
   ]
  },
  {
   "cell_type": "code",
   "execution_count": 52,
   "id": "c871127e",
   "metadata": {},
   "outputs": [
    {
     "name": "stdout",
     "output_type": "stream",
     "text": [
      "+------+--------+--------+--------+------------------+\n",
      "|Pclass|max(Age)|min(Age)|sum(Age)|          avg(Age)|\n",
      "+------+--------+--------+--------+------------------+\n",
      "|     1|    80.0|    0.92| 7111.42|38.233440860215055|\n",
      "|     3|    74.0|    0.42| 8924.92| 25.14061971830986|\n",
      "|     2|    70.0|    0.67| 5168.83| 29.87763005780347|\n",
      "+------+--------+--------+--------+------------------+\n",
      "\n"
     ]
    }
   ],
   "source": [
    "from pyspark.sql.functions import max, avg, sum, min\n",
    "# select max(age), min(age), sum(age), avg(age) from titanic_sdf group by pclass\n",
    "titanic_sdf.groupBy('Pclass').agg(\n",
    "    max(\"Age\"),\n",
    "    min('Age'),\n",
    "    sum('Age'),\n",
    "    avg('Age')\n",
    ").show()"
   ]
  },
  {
   "cell_type": "code",
   "execution_count": 53,
   "id": "e52e9a34",
   "metadata": {},
   "outputs": [
    {
     "name": "stdout",
     "output_type": "stream",
     "text": [
      "+------+-------+--------+--------+------------------+\n",
      "|Pclass|age_max|min(Age)|sum(Age)|          avg(Age)|\n",
      "+------+-------+--------+--------+------------------+\n",
      "|     1|   80.0|    0.92| 7111.42|38.233440860215055|\n",
      "|     3|   74.0|    0.42| 8924.92| 25.14061971830986|\n",
      "|     2|   70.0|    0.67| 5168.83| 29.87763005780347|\n",
      "+------+-------+--------+--------+------------------+\n",
      "\n"
     ]
    }
   ],
   "source": [
    "titanic_sdf.groupBy('Pclass').agg(\n",
    "    max(\"Age\").alias('age_max'),\n",
    "    min('Age'),\n",
    "    sum('Age'),\n",
    "    avg('Age')\n",
    ").show()"
   ]
  },
  {
   "cell_type": "code",
   "execution_count": 54,
   "id": "15bc8365",
   "metadata": {},
   "outputs": [
    {
     "name": "stdout",
     "output_type": "stream",
     "text": [
      "+------+--------+--------+--------+------------------+\n",
      "|Pclass|max(Age)|min(Age)|sum(Age)|          avg(Age)|\n",
      "+------+--------+--------+--------+------------------+\n",
      "|     1|    80.0|    0.92| 7111.42|38.233440860215055|\n",
      "|     3|    74.0|    0.42| 8924.92| 25.14061971830986|\n",
      "|     2|    70.0|    0.67| 5168.83| 29.87763005780347|\n",
      "+------+--------+--------+--------+------------------+\n",
      "\n"
     ]
    }
   ],
   "source": [
    "# avg를 쓸 때는 col 사용 가능\n",
    "titanic_sdf.groupBy('Pclass').agg(\n",
    "    max(\"Age\"),\n",
    "    min(col('Age')),\n",
    "    sum('Age'),\n",
    "    avg('Age')\n",
    ").show()"
   ]
  },
  {
   "cell_type": "markdown",
   "id": "3bcf5fe3",
   "metadata": {},
   "source": [
    "```sql\n",
    "select max(age) as max_age,\n",
    "        min(age) as min_age,\n",
    "        sum(age) as sum_age,\n",
    "        avg(age) as avg_age\n",
    "from titanic_sdf\n",
    "group by pclass having max(age) > 70\n",
    "        \n",
    "```\n",
    "또는 \n",
    "\n",
    "```sql \n",
    "select max_age, min_age, sum_age, avg_age\n",
    "from(\n",
    "        select max(age) as max_age,\n",
    "                min(age) as min_age,\n",
    "                sum(age) as sum_age,\n",
    "                avg(age) as avg_age\n",
    "        from titanic_sdf group by pclass)\n",
    "where max_age > 70\n",
    "```"
   ]
  },
  {
   "cell_type": "code",
   "execution_count": 58,
   "id": "b2da4288",
   "metadata": {},
   "outputs": [
    {
     "name": "stdout",
     "output_type": "stream",
     "text": [
      "+------+-------+-------+-------+------------------+\n",
      "|Pclass|max_age|min_age|sum_age|           avg_age|\n",
      "+------+-------+-------+-------+------------------+\n",
      "|     1|   80.0|   0.92|7111.42|38.233440860215055|\n",
      "|     3|   74.0|   0.42|8924.92| 25.14061971830986|\n",
      "+------+-------+-------+-------+------------------+\n",
      "\n"
     ]
    }
   ],
   "source": [
    "titanic_sdf.groupBy('Pclass').agg(\n",
    "    max(col('Age')).alias('max_age'),\n",
    "    min('Age').alias('min_age'),\n",
    "    sum('Age').alias('sum_age'),\n",
    "    avg('Age').alias('avg_age')).filter(col('max_age') > 70).show()\n"
   ]
  },
  {
   "cell_type": "code",
   "execution_count": 59,
   "id": "f22db1b6",
   "metadata": {},
   "outputs": [],
   "source": [
    "spark.stop()"
   ]
  },
  {
   "cell_type": "code",
   "execution_count": null,
   "id": "b7d5db4c",
   "metadata": {},
   "outputs": [],
   "source": []
  }
 ],
 "metadata": {
  "kernelspec": {
   "display_name": "Python 3 (ipykernel)",
   "language": "python",
   "name": "python3"
  },
  "language_info": {
   "codemirror_mode": {
    "name": "ipython",
    "version": 3
   },
   "file_extension": ".py",
   "mimetype": "text/x-python",
   "name": "python",
   "nbconvert_exporter": "python",
   "pygments_lexer": "ipython3",
   "version": "3.8.16"
  }
 },
 "nbformat": 4,
 "nbformat_minor": 5
}
