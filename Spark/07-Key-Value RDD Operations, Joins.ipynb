{
 "cells": [
  {
   "cell_type": "code",
   "execution_count": 1,
   "id": "6287d8dd",
   "metadata": {},
   "outputs": [
    {
     "name": "stderr",
     "output_type": "stream",
     "text": [
      "WARNING: An illegal reflective access operation has occurred\n",
      "WARNING: Illegal reflective access by org.apache.spark.unsafe.Platform (file:/home/ubuntu/spark-3.2.4/jars/spark-unsafe_2.12-3.2.4.jar) to constructor java.nio.DirectByteBuffer(long,int)\n",
      "WARNING: Please consider reporting this to the maintainers of org.apache.spark.unsafe.Platform\n",
      "WARNING: Use --illegal-access=warn to enable warnings of further illegal reflective access operations\n",
      "WARNING: All illegal access operations will be denied in a future release\n",
      "Using Spark's default log4j profile: org/apache/spark/log4j-defaults.properties\n",
      "Setting default log level to \"WARN\".\n",
      "To adjust logging level use sc.setLogLevel(newLevel). For SparkR, use setLogLevel(newLevel).\n",
      "23/06/05 04:07:55 WARN NativeCodeLoader: Unable to load native-hadoop library for your platform... using builtin-java classes where applicable\n"
     ]
    }
   ],
   "source": [
    "from pyspark import SparkConf, SparkContext\n",
    "\n",
    "conf = SparkConf().setMaster(\"local\").setAppName('key-value_rdd_op_joins')\n",
    "sc = SparkContext(conf = conf)"
   ]
  },
  {
   "cell_type": "markdown",
   "id": "1a29dbf3",
   "metadata": {},
   "source": [
    " # Operaions\n",
    " - groupByKey\n",
    "     - KeyValueRDD.groupByKey()\n",
    "     - 그룹핑 후에 특정 Transformations 같은 연산\n",
    "     - key 값이 있는 상태에서 시작\n",
    " - "
   ]
  },
  {
   "cell_type": "code",
   "execution_count": 2,
   "id": "b192e455",
   "metadata": {},
   "outputs": [],
   "source": [
    "rdd = sc.parallelize([\n",
    "                     ('짜장면', 15),\n",
    "                     ('짬뽕',10),\n",
    "                     ('짜장면', 5)\n",
    "                     ])"
   ]
  },
  {
   "cell_type": "code",
   "execution_count": 3,
   "id": "76de2e9f",
   "metadata": {},
   "outputs": [
    {
     "name": "stderr",
     "output_type": "stream",
     "text": [
      "                                                                                \r"
     ]
    },
    {
     "data": {
      "text/plain": [
       "[('짜장면', <pyspark.resultiterable.ResultIterable at 0x7f28d4027610>),\n",
       " ('짬뽕', <pyspark.resultiterable.ResultIterable at 0x7f28d4027d90>)]"
      ]
     },
     "execution_count": 3,
     "metadata": {},
     "output_type": "execute_result"
    }
   ],
   "source": [
    "g_rdd = rdd.groupByKey()\n",
    "g_rdd.collect()"
   ]
  },
  {
   "cell_type": "code",
   "execution_count": 4,
   "id": "8c00e5cd",
   "metadata": {},
   "outputs": [
    {
     "data": {
      "text/plain": [
       "[('짜장면', 2), ('짬뽕', 1)]"
      ]
     },
     "execution_count": 4,
     "metadata": {},
     "output_type": "execute_result"
    }
   ],
   "source": [
    "g_rdd.mapValues(len).collect()"
   ]
  },
  {
   "cell_type": "code",
   "execution_count": 6,
   "id": "315cf12d",
   "metadata": {},
   "outputs": [
    {
     "data": {
      "text/plain": [
       "[('짜장면', [15, 5]), ('짬뽕', [10])]"
      ]
     },
     "execution_count": 6,
     "metadata": {},
     "output_type": "execute_result"
    }
   ],
   "source": [
    "g_rdd.mapValues(list).collect()"
   ]
  },
  {
   "cell_type": "code",
   "execution_count": 11,
   "id": "ade63355",
   "metadata": {},
   "outputs": [],
   "source": [
    "# groupBy 사용하기\n",
    "rdd = sc.parallelize([\n",
    "    'C', 'C++','C#', 'Python', 'Java', \"JavaScript\"\n",
    "])"
   ]
  },
  {
   "cell_type": "code",
   "execution_count": 12,
   "id": "86b56d97",
   "metadata": {},
   "outputs": [
    {
     "data": {
      "text/plain": [
       "[[('C', <pyspark.resultiterable.ResultIterable at 0x7f28bcd87400>),\n",
       "  ('P', <pyspark.resultiterable.ResultIterable at 0x7f28e4610640>),\n",
       "  ('J', <pyspark.resultiterable.ResultIterable at 0x7f28bcd00430>)]]"
      ]
     },
     "execution_count": 12,
     "metadata": {},
     "output_type": "execute_result"
    }
   ],
   "source": [
    "# groupBy는 그룹핑할 키에 대한 정의를 개발자가 직접한다.\n",
    "grouped = rdd.groupBy(lambda x : x[0])\n",
    "grouped.glom().collect()"
   ]
  },
  {
   "cell_type": "code",
   "execution_count": 13,
   "id": "7beb32f1",
   "metadata": {},
   "outputs": [
    {
     "data": {
      "text/plain": [
       "[('C', ['C', 'C++', 'C#']), ('P', ['Python']), ('J', ['Java', 'JavaScript'])]"
      ]
     },
     "execution_count": 13,
     "metadata": {},
     "output_type": "execute_result"
    }
   ],
   "source": [
    "grouped.mapValues(list).collect()"
   ]
  },
  {
   "cell_type": "code",
   "execution_count": 14,
   "id": "b60bcb14",
   "metadata": {},
   "outputs": [
    {
     "data": {
      "text/plain": [
       "1"
      ]
     },
     "execution_count": 14,
     "metadata": {},
     "output_type": "execute_result"
    }
   ],
   "source": [
    "grouped.getNumPartitions()"
   ]
  },
  {
   "cell_type": "code",
   "execution_count": 15,
   "id": "f6843bcd",
   "metadata": {},
   "outputs": [
    {
     "data": {
      "text/plain": [
       "1"
      ]
     },
     "execution_count": 15,
     "metadata": {},
     "output_type": "execute_result"
    }
   ],
   "source": [
    "g_rdd.getNumPartitions()"
   ]
  },
  {
   "cell_type": "code",
   "execution_count": 16,
   "id": "ded78a12",
   "metadata": {},
   "outputs": [],
   "source": [
    "# groupByKey는 K-V RDD를 사용할 때 Key가 알아서 그룹핑의 기준이 된다.\n",
    "\n",
    "x = sc.parallelize([\n",
    "    (\"MATH\", 7), (\"MATH\", 2), (\"ENGLISH\", 7),\n",
    "    (\"SCIENCE\", 7), (\"ENGLISH\", 4), (\"ENGLISH\", 9),\n",
    "    (\"MATH\", 8), (\"MATH\", 3), (\"ENGLISH\", 4),\n",
    "    (\"SCIENCE\", 6), (\"SCIENCE\", 9), (\"SCIENCE\", 5)\n",
    "], 3)\n",
    "\n",
    "y = x.groupByKey()"
   ]
  },
  {
   "cell_type": "code",
   "execution_count": 17,
   "id": "802f32a0",
   "metadata": {},
   "outputs": [
    {
     "data": {
      "text/plain": [
       "[('MATH', <pyspark.resultiterable.ResultIterable at 0x7f28bccefa60>),\n",
       " ('ENGLISH', <pyspark.resultiterable.ResultIterable at 0x7f28bcbc7be0>),\n",
       " ('SCIENCE', <pyspark.resultiterable.ResultIterable at 0x7f28bcbc7d30>)]"
      ]
     },
     "execution_count": 17,
     "metadata": {},
     "output_type": "execute_result"
    }
   ],
   "source": [
    "y.collect()"
   ]
  },
  {
   "cell_type": "code",
   "execution_count": 18,
   "id": "3e517961",
   "metadata": {},
   "outputs": [
    {
     "data": {
      "text/plain": [
       "[[('MATH', <pyspark.resultiterable.ResultIterable at 0x7f28bce0c160>),\n",
       "  ('ENGLISH', <pyspark.resultiterable.ResultIterable at 0x7f28bc9f9fa0>),\n",
       "  ('SCIENCE', <pyspark.resultiterable.ResultIterable at 0x7f28bcd271c0>)],\n",
       " [],\n",
       " []]"
      ]
     },
     "execution_count": 18,
     "metadata": {},
     "output_type": "execute_result"
    }
   ],
   "source": [
    "y.glom().collect()"
   ]
  },
  {
   "cell_type": "markdown",
   "id": "40aff15a",
   "metadata": {},
   "source": [
    "# Joins"
   ]
  },
  {
   "cell_type": "code",
   "execution_count": 19,
   "id": "77dbef89",
   "metadata": {},
   "outputs": [
    {
     "data": {
      "text/plain": [
       "[('foo', (1, 1)), ('goo', (2, 2)), ('goo', (2, 10))]"
      ]
     },
     "execution_count": 19,
     "metadata": {},
     "output_type": "execute_result"
    }
   ],
   "source": [
    "# Inner Join : 서로간에 존재하는 키만 합쳐준다\n",
    "rdd1 = sc.parallelize([\n",
    "    ('foo', 1),\n",
    "    ('goo', 2),\n",
    "    ('hoo', 3)\n",
    "])\n",
    "\n",
    "rdd2 = sc.parallelize([\n",
    "    ('foo', 1),\n",
    "    ('goo', 2),\n",
    "    ('goo', 10),\n",
    "    ('moo', 6)\n",
    "])\n",
    "rdd1.join(rdd2).collect()"
   ]
  },
  {
   "cell_type": "markdown",
   "id": "c7baa7da",
   "metadata": {},
   "source": [
    "Outer Join"
   ]
  },
  {
   "cell_type": "code",
   "execution_count": 20,
   "id": "c4bf9c34",
   "metadata": {},
   "outputs": [
    {
     "data": {
      "text/plain": [
       "[('foo', (1, 1)), ('goo', (2, 2)), ('goo', (2, 10)), ('hoo', (3, None))]"
      ]
     },
     "execution_count": 20,
     "metadata": {},
     "output_type": "execute_result"
    }
   ],
   "source": [
    "rdd1.leftOuterJoin(rdd2).collect()"
   ]
  },
  {
   "cell_type": "code",
   "execution_count": 21,
   "id": "cbf42015",
   "metadata": {},
   "outputs": [
    {
     "data": {
      "text/plain": [
       "[('foo', (1, 1)), ('moo', (None, 6)), ('goo', (2, 2)), ('goo', (2, 10))]"
      ]
     },
     "execution_count": 21,
     "metadata": {},
     "output_type": "execute_result"
    }
   ],
   "source": [
    "rdd1.rightOuterJoin(rdd2).collect()"
   ]
  },
  {
   "cell_type": "code",
   "execution_count": 22,
   "id": "0c8467d9",
   "metadata": {},
   "outputs": [],
   "source": [
    "sc.stop()"
   ]
  }
 ],
 "metadata": {
  "kernelspec": {
   "display_name": "Python 3 (ipykernel)",
   "language": "python",
   "name": "python3"
  },
  "language_info": {
   "codemirror_mode": {
    "name": "ipython",
    "version": 3
   },
   "file_extension": ".py",
   "mimetype": "text/x-python",
   "name": "python",
   "nbconvert_exporter": "python",
   "pygments_lexer": "ipython3",
   "version": "3.8.16"
  }
 },
 "nbformat": 4,
 "nbformat_minor": 5
}
