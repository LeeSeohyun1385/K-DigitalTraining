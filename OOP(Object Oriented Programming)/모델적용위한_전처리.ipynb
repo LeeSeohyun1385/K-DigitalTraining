{
  "cells": [
    {
      "cell_type": "markdown",
      "metadata": {
        "id": "Ff9tDfrplojU"
      },
      "source": [
        "타이타닉 데이터 전처리"
      ]
    },
    {
      "cell_type": "code",
      "execution_count": null,
      "metadata": {
        "id": "MWoaerNm2FIn"
      },
      "outputs": [],
      "source": [
        "import seaborn as sns"
      ]
    },
    {
      "cell_type": "code",
      "execution_count": null,
      "metadata": {
        "id": "LVWuDqbQ2tT-"
      },
      "outputs": [],
      "source": [
        "data = sns.load_dataset('titanic') "
      ]
    },
    {
      "cell_type": "code",
      "execution_count": null,
      "metadata": {
        "id": "1MxdjQQa3A78"
      },
      "outputs": [],
      "source": [
        "q_data = data.drop(['deck','class','who','adult_male','embark_town','alive','alone'],axis=1)\n",
        "q_data.info()"
      ]
    },
    {
      "cell_type": "code",
      "execution_count": null,
      "metadata": {
        "id": "5m_tcXfiNOlv"
      },
      "outputs": [],
      "source": [
        "q_data = q_data.dropna()"
      ]
    },
    {
      "cell_type": "code",
      "execution_count": null,
      "metadata": {
        "id": "z9as2LgpOH66"
      },
      "outputs": [],
      "source": [
        "q_data"
      ]
    },
    {
      "cell_type": "code",
      "execution_count": null,
      "metadata": {
        "id": "hpytLj62eMto"
      },
      "outputs": [],
      "source": [
        "print(list(map(eval,\"1 2 3 4\".split())))"
      ]
    },
    {
      "cell_type": "code",
      "execution_count": null,
      "metadata": {
        "id": "gxktG-sUNYS5"
      },
      "outputs": [],
      "source": [
        "q_data.info()"
      ]
    },
    {
      "cell_type": "code",
      "execution_count": null,
      "metadata": {
        "id": "IcMV1is_NlHp"
      },
      "outputs": [],
      "source": [
        "q_data['sibsp'].unique()"
      ]
    },
    {
      "cell_type": "code",
      "execution_count": null,
      "metadata": {
        "id": "rUXzcAiZN56n"
      },
      "outputs": [],
      "source": [
        "q_data.sibsp = q_data.sibsp.astype(object)"
      ]
    },
    {
      "cell_type": "code",
      "execution_count": null,
      "metadata": {
        "id": "Ev5cnewiN2A7"
      },
      "outputs": [],
      "source": [
        "q_data['pclass'].unique()"
      ]
    },
    {
      "cell_type": "code",
      "execution_count": null,
      "metadata": {
        "id": "ndcNYhryOO_g"
      },
      "outputs": [],
      "source": [
        "q_data.pclass = q_data.pclass.astype(object)"
      ]
    },
    {
      "cell_type": "code",
      "execution_count": null,
      "metadata": {
        "id": "187E329xOSJa"
      },
      "outputs": [],
      "source": [
        "q_data['parch'].unique()"
      ]
    },
    {
      "cell_type": "code",
      "execution_count": null,
      "metadata": {
        "id": "eiOU_fU-OcO3"
      },
      "outputs": [],
      "source": [
        "q_data.parch = q_data.parch.astype(object)"
      ]
    },
    {
      "cell_type": "code",
      "execution_count": null,
      "metadata": {
        "id": "YMguUcHCOcJq"
      },
      "outputs": [],
      "source": [
        "qq_data = pd.get_dummies(q_data)"
      ]
    },
    {
      "cell_type": "code",
      "execution_count": null,
      "metadata": {
        "id": "6tin-WzOOcDA"
      },
      "outputs": [],
      "source": [
        "qq_data"
      ]
    },
    {
      "cell_type": "code",
      "execution_count": null,
      "metadata": {
        "id": "y4xwgiupyNB6"
      },
      "outputs": [],
      "source": [
        "import pandas as pd\n",
        "\n",
        "X = qq_data.drop(['survived'],axis=1)\n",
        "y = qq_data['survived']"
      ]
    },
    {
      "cell_type": "code",
      "execution_count": null,
      "metadata": {
        "id": "96ok-OJ-yiTy"
      },
      "outputs": [],
      "source": [
        "X.shape, y.shape"
      ]
    },
    {
      "cell_type": "code",
      "execution_count": null,
      "metadata": {
        "id": "tKyDo_PoW9u2"
      },
      "outputs": [],
      "source": [
        "from sklearn.preprocessing import MinMaxScaler\n",
        "ss = MinMaxScaler()\n",
        "X = ss.fit_transform(X)"
      ]
    },
    {
      "cell_type": "code",
      "execution_count": null,
      "metadata": {
        "id": "fTPtAe031kJ2"
      },
      "outputs": [],
      "source": [
        "from sklearn.linear_model import LinearRegression\n",
        "m = LinearRegression()"
      ]
    },
    {
      "cell_type": "code",
      "execution_count": null,
      "metadata": {
        "id": "B-TidsvT2HJ5"
      },
      "outputs": [],
      "source": [
        "m.fit(X, y)"
      ]
    },
    {
      "cell_type": "code",
      "execution_count": null,
      "metadata": {
        "id": "gR3BhziA2KOb"
      },
      "outputs": [],
      "source": [
        "m.predict(X[:5])"
      ]
    },
    {
      "cell_type": "code",
      "execution_count": null,
      "metadata": {
        "id": "p6nXF5zX2y7C"
      },
      "outputs": [],
      "source": [
        "y[:5]"
      ]
    },
    {
      "cell_type": "markdown",
      "metadata": {
        "id": "NaQsTeWhAKZL"
      },
      "source": [
        "mpg 데이터 전처리"
      ]
    },
    {
      "cell_type": "code",
      "execution_count": null,
      "metadata": {
        "id": "Tb2kYMezEWlg"
      },
      "outputs": [],
      "source": [
        "data2 = sns.load_dataset('mpg')\n",
        "data2"
      ]
    },
    {
      "cell_type": "code",
      "execution_count": null,
      "metadata": {
        "id": "tV4NR0zqEdWS"
      },
      "outputs": [],
      "source": [
        "data2 = data2.dropna()\n",
        "data2.info()"
      ]
    },
    {
      "cell_type": "code",
      "execution_count": null,
      "metadata": {
        "id": "_lm3LMMoEdSe"
      },
      "outputs": [],
      "source": [
        "data2 = data2.drop(['name'],axis=1)"
      ]
    },
    {
      "cell_type": "code",
      "execution_count": null,
      "metadata": {
        "id": "n48FytsAEdLY"
      },
      "outputs": [],
      "source": [
        "import numpy as np\n",
        "np.unique(data2.cylinders)"
      ]
    },
    {
      "cell_type": "code",
      "execution_count": null,
      "metadata": {
        "id": "QXwOD2xbFkFZ"
      },
      "outputs": [],
      "source": [
        "data2.cylinders = data2.cylinders.astype(object)"
      ]
    },
    {
      "cell_type": "code",
      "execution_count": null,
      "metadata": {
        "id": "EMBBWIh-F3G0"
      },
      "outputs": [],
      "source": [
        "np.unique(data2.model_year)"
      ]
    },
    {
      "cell_type": "code",
      "execution_count": null,
      "metadata": {
        "id": "NSW2IilxF3B6"
      },
      "outputs": [],
      "source": [
        "data2.model_year = data2.model_year.astype(object)"
      ]
    },
    {
      "cell_type": "code",
      "execution_count": null,
      "metadata": {
        "id": "KKLOvmwtF28Z"
      },
      "outputs": [],
      "source": [
        "np.unique(data2.origin, return_counts=True)"
      ]
    },
    {
      "cell_type": "code",
      "execution_count": null,
      "metadata": {
        "id": "PfnbGosGF20z"
      },
      "outputs": [],
      "source": [
        "n_data = pd.get_dummies(data2)"
      ]
    },
    {
      "cell_type": "code",
      "execution_count": null,
      "metadata": {
        "id": "igzdVaKYHli4"
      },
      "outputs": [],
      "source": []
    },
    {
      "cell_type": "code",
      "execution_count": null,
      "metadata": {
        "id": "3a48gBX9F2u3"
      },
      "outputs": [],
      "source": [
        "X = n_data.drop(['mpg'], axis=1)\n",
        "y = n_data['mpg']"
      ]
    },
    {
      "cell_type": "code",
      "execution_count": null,
      "metadata": {
        "id": "_RfrPNnTAdd2"
      },
      "outputs": [],
      "source": [
        "from sklearn.preprocessing import StandardScaler,MinMaxScaler\n"
      ]
    },
    {
      "cell_type": "code",
      "execution_count": null,
      "metadata": {
        "id": "3iIG2T7YHWC7"
      },
      "outputs": [],
      "source": [
        "ss = MinMaxScaler()\n",
        "tr_data = ss.fit_transform(n_data)\n",
        "tr_data"
      ]
    },
    {
      "cell_type": "code",
      "execution_count": null,
      "metadata": {
        "id": "kSinFK24HykK"
      },
      "outputs": [],
      "source": [
        "tr_data[0]"
      ]
    },
    {
      "cell_type": "code",
      "execution_count": null,
      "metadata": {
        "id": "McIBiu-AJB4K"
      },
      "outputs": [],
      "source": [
        "ss = MinMaxScaler()\n",
        "tr_X = ss.fit_transform(X)\n",
        "tr_X"
      ]
    },
    {
      "cell_type": "code",
      "execution_count": null,
      "metadata": {
        "id": "V5s7eahmHyZs"
      },
      "outputs": [],
      "source": [
        "tr_X.shape, y.shape"
      ]
    },
    {
      "cell_type": "code",
      "execution_count": null,
      "metadata": {
        "id": "jcKinw6BKvFY"
      },
      "outputs": [],
      "source": [
        "y = y.to_numpy()"
      ]
    },
    {
      "cell_type": "code",
      "execution_count": null,
      "metadata": {
        "id": "N0i1vStBHySn"
      },
      "outputs": [],
      "source": [
        "m = LinearRegression()\n",
        "m.fit(tr_X, y)"
      ]
    },
    {
      "cell_type": "code",
      "execution_count": null,
      "metadata": {
        "id": "GcEeHJiCKLrO"
      },
      "outputs": [],
      "source": [
        "tr_X[0]"
      ]
    },
    {
      "cell_type": "code",
      "execution_count": null,
      "metadata": {
        "id": "L5v_BjQOK_h1"
      },
      "outputs": [],
      "source": [
        "y[0]#정답"
      ]
    },
    {
      "cell_type": "code",
      "execution_count": null,
      "metadata": {
        "id": "yYmmUKYqLDC4"
      },
      "outputs": [],
      "source": [
        "m.predict(tr_X[:5])"
      ]
    }
  ],
  "metadata": {
    "colab": {
      "private_outputs": true,
      "provenance": []
    },
    "kernelspec": {
      "display_name": "Python 3",
      "name": "python3"
    },
    "language_info": {
      "name": "python"
    }
  },
  "nbformat": 4,
  "nbformat_minor": 0
}
